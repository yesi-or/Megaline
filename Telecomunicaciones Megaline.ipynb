{
 "cells": [
  {
   "cell_type": "markdown",
   "metadata": {
    "id": "3rYiDeEH0q0f"
   },
   "source": [
    "# ¿Cuál es la mejor tarifa?\n",
    "\n",
    "Trabajas como analista para el operador de telecomunicaciones Megaline. La empresa ofrece a sus clientes dos tarifas de prepago, Surf y Ultimate. El departamento comercial quiere saber cuál de las tarifas genera más ingresos para poder ajustar el presupuesto de publicidad.\n",
    "\n",
    "Vas a realizar un análisis preliminar de las tarifas basado en una selección de clientes relativamente pequeña. Tendrás los datos de 500 clientes de Megaline: quiénes son los clientes, de dónde son, qué tarifa usan, así como la cantidad de llamadas que hicieron y los mensajes de texto que enviaron en 2018. Tu trabajo es analizar el comportamiento de los clientes y determinar qué tarifa de prepago genera más ingresos."
   ]
  },
  {
   "cell_type": "markdown",
   "metadata": {
    "id": "VNddPNRQ0q0w"
   },
   "source": [
    "[Te proporcionamos algunos comentarios para orientarte mientras completas este proyecto. Pero debes asegurarte de eliminar todos los comentarios entre corchetes antes de entregar tu proyecto.]\n",
    "\n",
    "[Antes de sumergirte en el análisis de datos, explica por tu propia cuenta el propósito del proyecto y las acciones que planeas realizar.]\n",
    "\n",
    "[Ten en cuenta que estudiar, modificar y analizar datos es un proceso iterativo. Es normal volver a los pasos anteriores y corregirlos/ampliarlos para permitir nuevos pasos.]"
   ]
  },
  {
   "cell_type": "markdown",
   "metadata": {
    "id": "MQi4IPy70q0y"
   },
   "source": [
    "## Inicialización"
   ]
  },
  {
   "cell_type": "code",
   "execution_count": 1,
   "metadata": {
    "id": "MtYIuBxu0q0z"
   },
   "outputs": [],
   "source": [
    "# Cargar todas las librerías\n",
    "import pandas as pd\n",
    "import numpy as np\n",
    "import math\n",
    "from matplotlib import pyplot as plt\n",
    "from scipy import stats as st\n",
    "import seaborn as sns"
   ]
  },
  {
   "cell_type": "markdown",
   "metadata": {
    "id": "4ysWWC5i0q00"
   },
   "source": [
    "## Cargar datos"
   ]
  },
  {
   "cell_type": "code",
   "execution_count": 2,
   "metadata": {
    "id": "CCqPW7rS0q01"
   },
   "outputs": [],
   "source": [
    "# Carga los archivos de datos en diferentes DataFrames\n",
    "df_users = pd.read_csv('/datasets/megaline_users.csv') \n",
    "df_calls = pd.read_csv('/datasets/megaline_calls.csv') \n",
    "df_messages = pd.read_csv('/datasets/megaline_messages.csv') \n",
    "df_internet = pd.read_csv('/datasets/megaline_internet.csv') \n",
    "df_plans = pd.read_csv('/datasets/megaline_plans.csv') "
   ]
  },
  {
   "cell_type": "markdown",
   "metadata": {
    "id": "69qqoJ3r0q01"
   },
   "source": [
    "## Preparar los datos"
   ]
  },
  {
   "cell_type": "markdown",
   "metadata": {
    "id": "vUuZw80S0q01"
   },
   "source": [
    "[Los datos para este proyecto se dividen en varias tablas. Explora cada una para tener una comprensión inicial de los datos. Si es necesario, haz las correcciones requeridas en cada tabla.]"
   ]
  },
  {
   "cell_type": "markdown",
   "metadata": {
    "id": "ohBhimvH0q01"
   },
   "source": [
    "## Tarifas"
   ]
  },
  {
   "cell_type": "code",
   "execution_count": 3,
   "metadata": {
    "id": "GptqP3Q40q02"
   },
   "outputs": [
    {
     "name": "stdout",
     "output_type": "stream",
     "text": [
      "<class 'pandas.core.frame.DataFrame'>\n",
      "RangeIndex: 2 entries, 0 to 1\n",
      "Data columns (total 8 columns):\n",
      " #   Column                 Non-Null Count  Dtype  \n",
      "---  ------                 --------------  -----  \n",
      " 0   messages_included      2 non-null      int64  \n",
      " 1   mb_per_month_included  2 non-null      int64  \n",
      " 2   minutes_included       2 non-null      int64  \n",
      " 3   usd_monthly_pay        2 non-null      int64  \n",
      " 4   usd_per_gb             2 non-null      int64  \n",
      " 5   usd_per_message        2 non-null      float64\n",
      " 6   usd_per_minute         2 non-null      float64\n",
      " 7   plan_name              2 non-null      object \n",
      "dtypes: float64(2), int64(5), object(1)\n",
      "memory usage: 256.0+ bytes\n"
     ]
    },
    {
     "data": {
      "text/html": [
       "<div>\n",
       "<style scoped>\n",
       "    .dataframe tbody tr th:only-of-type {\n",
       "        vertical-align: middle;\n",
       "    }\n",
       "\n",
       "    .dataframe tbody tr th {\n",
       "        vertical-align: top;\n",
       "    }\n",
       "\n",
       "    .dataframe thead th {\n",
       "        text-align: right;\n",
       "    }\n",
       "</style>\n",
       "<table border=\"1\" class=\"dataframe\">\n",
       "  <thead>\n",
       "    <tr style=\"text-align: right;\">\n",
       "      <th></th>\n",
       "      <th>messages_included</th>\n",
       "      <th>mb_per_month_included</th>\n",
       "      <th>minutes_included</th>\n",
       "      <th>usd_monthly_pay</th>\n",
       "      <th>usd_per_gb</th>\n",
       "      <th>usd_per_message</th>\n",
       "      <th>usd_per_minute</th>\n",
       "    </tr>\n",
       "  </thead>\n",
       "  <tbody>\n",
       "    <tr>\n",
       "      <th>count</th>\n",
       "      <td>2.000000</td>\n",
       "      <td>2.000000</td>\n",
       "      <td>2.000000</td>\n",
       "      <td>2.000000</td>\n",
       "      <td>2.00000</td>\n",
       "      <td>2.000000</td>\n",
       "      <td>2.000000</td>\n",
       "    </tr>\n",
       "    <tr>\n",
       "      <th>mean</th>\n",
       "      <td>525.000000</td>\n",
       "      <td>23040.000000</td>\n",
       "      <td>1750.000000</td>\n",
       "      <td>45.000000</td>\n",
       "      <td>8.50000</td>\n",
       "      <td>0.020000</td>\n",
       "      <td>0.020000</td>\n",
       "    </tr>\n",
       "    <tr>\n",
       "      <th>std</th>\n",
       "      <td>671.751442</td>\n",
       "      <td>10861.160159</td>\n",
       "      <td>1767.766953</td>\n",
       "      <td>35.355339</td>\n",
       "      <td>2.12132</td>\n",
       "      <td>0.014142</td>\n",
       "      <td>0.014142</td>\n",
       "    </tr>\n",
       "    <tr>\n",
       "      <th>min</th>\n",
       "      <td>50.000000</td>\n",
       "      <td>15360.000000</td>\n",
       "      <td>500.000000</td>\n",
       "      <td>20.000000</td>\n",
       "      <td>7.00000</td>\n",
       "      <td>0.010000</td>\n",
       "      <td>0.010000</td>\n",
       "    </tr>\n",
       "    <tr>\n",
       "      <th>25%</th>\n",
       "      <td>287.500000</td>\n",
       "      <td>19200.000000</td>\n",
       "      <td>1125.000000</td>\n",
       "      <td>32.500000</td>\n",
       "      <td>7.75000</td>\n",
       "      <td>0.015000</td>\n",
       "      <td>0.015000</td>\n",
       "    </tr>\n",
       "    <tr>\n",
       "      <th>50%</th>\n",
       "      <td>525.000000</td>\n",
       "      <td>23040.000000</td>\n",
       "      <td>1750.000000</td>\n",
       "      <td>45.000000</td>\n",
       "      <td>8.50000</td>\n",
       "      <td>0.020000</td>\n",
       "      <td>0.020000</td>\n",
       "    </tr>\n",
       "    <tr>\n",
       "      <th>75%</th>\n",
       "      <td>762.500000</td>\n",
       "      <td>26880.000000</td>\n",
       "      <td>2375.000000</td>\n",
       "      <td>57.500000</td>\n",
       "      <td>9.25000</td>\n",
       "      <td>0.025000</td>\n",
       "      <td>0.025000</td>\n",
       "    </tr>\n",
       "    <tr>\n",
       "      <th>max</th>\n",
       "      <td>1000.000000</td>\n",
       "      <td>30720.000000</td>\n",
       "      <td>3000.000000</td>\n",
       "      <td>70.000000</td>\n",
       "      <td>10.00000</td>\n",
       "      <td>0.030000</td>\n",
       "      <td>0.030000</td>\n",
       "    </tr>\n",
       "  </tbody>\n",
       "</table>\n",
       "</div>"
      ],
      "text/plain": [
       "       messages_included  mb_per_month_included  minutes_included  \\\n",
       "count           2.000000               2.000000          2.000000   \n",
       "mean          525.000000           23040.000000       1750.000000   \n",
       "std           671.751442           10861.160159       1767.766953   \n",
       "min            50.000000           15360.000000        500.000000   \n",
       "25%           287.500000           19200.000000       1125.000000   \n",
       "50%           525.000000           23040.000000       1750.000000   \n",
       "75%           762.500000           26880.000000       2375.000000   \n",
       "max          1000.000000           30720.000000       3000.000000   \n",
       "\n",
       "       usd_monthly_pay  usd_per_gb  usd_per_message  usd_per_minute  \n",
       "count         2.000000     2.00000         2.000000        2.000000  \n",
       "mean         45.000000     8.50000         0.020000        0.020000  \n",
       "std          35.355339     2.12132         0.014142        0.014142  \n",
       "min          20.000000     7.00000         0.010000        0.010000  \n",
       "25%          32.500000     7.75000         0.015000        0.015000  \n",
       "50%          45.000000     8.50000         0.020000        0.020000  \n",
       "75%          57.500000     9.25000         0.025000        0.025000  \n",
       "max          70.000000    10.00000         0.030000        0.030000  "
      ]
     },
     "execution_count": 3,
     "metadata": {},
     "output_type": "execute_result"
    }
   ],
   "source": [
    "# Imprime la información general/resumida sobre el DataFrame de las tarifas\n",
    "df_plans.info()\n",
    "df_plans.describe()"
   ]
  },
  {
   "cell_type": "code",
   "execution_count": 4,
   "metadata": {
    "id": "64xzjwL70q02",
    "scrolled": true
   },
   "outputs": [
    {
     "data": {
      "text/html": [
       "<div>\n",
       "<style scoped>\n",
       "    .dataframe tbody tr th:only-of-type {\n",
       "        vertical-align: middle;\n",
       "    }\n",
       "\n",
       "    .dataframe tbody tr th {\n",
       "        vertical-align: top;\n",
       "    }\n",
       "\n",
       "    .dataframe thead th {\n",
       "        text-align: right;\n",
       "    }\n",
       "</style>\n",
       "<table border=\"1\" class=\"dataframe\">\n",
       "  <thead>\n",
       "    <tr style=\"text-align: right;\">\n",
       "      <th></th>\n",
       "      <th>messages_included</th>\n",
       "      <th>mb_per_month_included</th>\n",
       "      <th>minutes_included</th>\n",
       "      <th>usd_monthly_pay</th>\n",
       "      <th>usd_per_gb</th>\n",
       "      <th>usd_per_message</th>\n",
       "      <th>usd_per_minute</th>\n",
       "      <th>plan_name</th>\n",
       "    </tr>\n",
       "  </thead>\n",
       "  <tbody>\n",
       "    <tr>\n",
       "      <th>1</th>\n",
       "      <td>1000</td>\n",
       "      <td>30720</td>\n",
       "      <td>3000</td>\n",
       "      <td>70</td>\n",
       "      <td>7</td>\n",
       "      <td>0.01</td>\n",
       "      <td>0.01</td>\n",
       "      <td>ultimate</td>\n",
       "    </tr>\n",
       "    <tr>\n",
       "      <th>0</th>\n",
       "      <td>50</td>\n",
       "      <td>15360</td>\n",
       "      <td>500</td>\n",
       "      <td>20</td>\n",
       "      <td>10</td>\n",
       "      <td>0.03</td>\n",
       "      <td>0.03</td>\n",
       "      <td>surf</td>\n",
       "    </tr>\n",
       "  </tbody>\n",
       "</table>\n",
       "</div>"
      ],
      "text/plain": [
       "   messages_included  mb_per_month_included  minutes_included  \\\n",
       "1               1000                  30720              3000   \n",
       "0                 50                  15360               500   \n",
       "\n",
       "   usd_monthly_pay  usd_per_gb  usd_per_message  usd_per_minute plan_name  \n",
       "1               70           7             0.01            0.01  ultimate  \n",
       "0               20          10             0.03            0.03      surf  "
      ]
     },
     "execution_count": 4,
     "metadata": {},
     "output_type": "execute_result"
    }
   ],
   "source": [
    "# Imprime una muestra de los datos para las tarifas\n",
    "df_plans.sample(2)\n"
   ]
  },
  {
   "cell_type": "markdown",
   "metadata": {
    "id": "mEc_3_hs0q02"
   },
   "source": [
    "[Describe lo que ves y observas en la información general y en la muestra de datos impresa para el precio de datos anterior. ¿Hay algún problema (tipos de datos no adecuados, datos ausentes, etc.) que pudieran necesitar investigación y cambios adicionales? ¿Cómo se puede arreglar?]\n",
    "\n",
    "En forma general no hay valores ausentes y el tipo de datos que muestra si corresponde en cada columna. Segun la la fila mostrada, se observa que todos los datos estan conformes y exactos con la informacion dada al inicio en la Descripcion de los dataframes, pero la columna 'plan_name' deberia cambiarse a tipo de datos categorica, ya que solo hay dos tipos de planes a escoger ahi. Al ser la tabla tarifas deberiamos mostrar a cuanto equivale 1gb, para facilmente crear en un futuro una columna que muestre si cobra o no los 7 dolares en plan ultimate o 10 dolares en plan surf extra. Y posteriormente mostrar el monto total en otra columna."
   ]
  },
  {
   "cell_type": "markdown",
   "metadata": {
    "id": "R3C05i1l0q03"
   },
   "source": [
    "## Corregir datos"
   ]
  },
  {
   "cell_type": "markdown",
   "metadata": {
    "id": "bIi8StZI0q03"
   },
   "source": [
    "[Corrige los problemas obvios con los datos basándote en las observaciones iniciales.]"
   ]
  },
  {
   "cell_type": "code",
   "execution_count": 5,
   "metadata": {
    "id": "Y7SVmjGn0q03"
   },
   "outputs": [
    {
     "data": {
      "text/plain": [
       "array(['surf', 'ultimate'], dtype=object)"
      ]
     },
     "execution_count": 5,
     "metadata": {},
     "output_type": "execute_result"
    }
   ],
   "source": [
    "df_plans.duplicated().sum()\n",
    "df_plans['plan_name'].unique()"
   ]
  },
  {
   "cell_type": "code",
   "execution_count": 6,
   "metadata": {},
   "outputs": [
    {
     "data": {
      "text/plain": [
       "messages_included           int64\n",
       "mb_per_month_included       int64\n",
       "minutes_included            int64\n",
       "usd_monthly_pay             int64\n",
       "usd_per_gb                  int64\n",
       "usd_per_message           float64\n",
       "usd_per_minute            float64\n",
       "plan_name                category\n",
       "dtype: object"
      ]
     },
     "execution_count": 6,
     "metadata": {},
     "output_type": "execute_result"
    }
   ],
   "source": [
    "df_plans['plan_name'] = pd.Categorical(df_plans['plan_name'])\n",
    "df_plans.dtypes"
   ]
  },
  {
   "cell_type": "markdown",
   "metadata": {
    "id": "LJir7bml0q03"
   },
   "source": [
    "## Enriquecer los datos"
   ]
  },
  {
   "cell_type": "markdown",
   "metadata": {
    "id": "eqADpCfg0q04"
   },
   "source": [
    "[Agrega factores adicionales a los datos si crees que pudieran ser útiles.]"
   ]
  },
  {
   "cell_type": "code",
   "execution_count": 7,
   "metadata": {},
   "outputs": [
    {
     "data": {
      "text/html": [
       "<div>\n",
       "<style scoped>\n",
       "    .dataframe tbody tr th:only-of-type {\n",
       "        vertical-align: middle;\n",
       "    }\n",
       "\n",
       "    .dataframe tbody tr th {\n",
       "        vertical-align: top;\n",
       "    }\n",
       "\n",
       "    .dataframe thead th {\n",
       "        text-align: right;\n",
       "    }\n",
       "</style>\n",
       "<table border=\"1\" class=\"dataframe\">\n",
       "  <thead>\n",
       "    <tr style=\"text-align: right;\">\n",
       "      <th></th>\n",
       "      <th>messages_included</th>\n",
       "      <th>mb_per_month_included</th>\n",
       "      <th>minutes_included</th>\n",
       "      <th>usd_monthly_pay</th>\n",
       "      <th>usd_per_gb</th>\n",
       "      <th>usd_per_message</th>\n",
       "      <th>usd_per_minute</th>\n",
       "      <th>plan_name</th>\n",
       "      <th>gb_unit</th>\n",
       "    </tr>\n",
       "  </thead>\n",
       "  <tbody>\n",
       "    <tr>\n",
       "      <th>0</th>\n",
       "      <td>50</td>\n",
       "      <td>15360</td>\n",
       "      <td>500</td>\n",
       "      <td>20</td>\n",
       "      <td>10</td>\n",
       "      <td>0.03</td>\n",
       "      <td>0.03</td>\n",
       "      <td>surf</td>\n",
       "      <td>1024</td>\n",
       "    </tr>\n",
       "    <tr>\n",
       "      <th>1</th>\n",
       "      <td>1000</td>\n",
       "      <td>30720</td>\n",
       "      <td>3000</td>\n",
       "      <td>70</td>\n",
       "      <td>7</td>\n",
       "      <td>0.01</td>\n",
       "      <td>0.01</td>\n",
       "      <td>ultimate</td>\n",
       "      <td>1024</td>\n",
       "    </tr>\n",
       "  </tbody>\n",
       "</table>\n",
       "</div>"
      ],
      "text/plain": [
       "   messages_included  mb_per_month_included  minutes_included  \\\n",
       "0                 50                  15360               500   \n",
       "1               1000                  30720              3000   \n",
       "\n",
       "   usd_monthly_pay  usd_per_gb  usd_per_message  usd_per_minute plan_name  \\\n",
       "0               20          10             0.03            0.03      surf   \n",
       "1               70           7             0.01            0.01  ultimate   \n",
       "\n",
       "   gb_unit  \n",
       "0     1024  \n",
       "1     1024  "
      ]
     },
     "execution_count": 7,
     "metadata": {},
     "output_type": "execute_result"
    }
   ],
   "source": [
    "df_plans['gb_unit'] = 1024\n",
    "df_plans"
   ]
  },
  {
   "cell_type": "markdown",
   "metadata": {
    "id": "1n2X6WXf0q04"
   },
   "source": [
    "## Usuarios/as"
   ]
  },
  {
   "cell_type": "code",
   "execution_count": 8,
   "metadata": {
    "id": "2NgjWFqx0q05"
   },
   "outputs": [
    {
     "name": "stdout",
     "output_type": "stream",
     "text": [
      "<class 'pandas.core.frame.DataFrame'>\n",
      "RangeIndex: 500 entries, 0 to 499\n",
      "Data columns (total 8 columns):\n",
      " #   Column      Non-Null Count  Dtype \n",
      "---  ------      --------------  ----- \n",
      " 0   user_id     500 non-null    int64 \n",
      " 1   first_name  500 non-null    object\n",
      " 2   last_name   500 non-null    object\n",
      " 3   age         500 non-null    int64 \n",
      " 4   city        500 non-null    object\n",
      " 5   reg_date    500 non-null    object\n",
      " 6   plan        500 non-null    object\n",
      " 7   churn_date  34 non-null     object\n",
      "dtypes: int64(2), object(6)\n",
      "memory usage: 31.4+ KB\n"
     ]
    },
    {
     "data": {
      "text/html": [
       "<div>\n",
       "<style scoped>\n",
       "    .dataframe tbody tr th:only-of-type {\n",
       "        vertical-align: middle;\n",
       "    }\n",
       "\n",
       "    .dataframe tbody tr th {\n",
       "        vertical-align: top;\n",
       "    }\n",
       "\n",
       "    .dataframe thead th {\n",
       "        text-align: right;\n",
       "    }\n",
       "</style>\n",
       "<table border=\"1\" class=\"dataframe\">\n",
       "  <thead>\n",
       "    <tr style=\"text-align: right;\">\n",
       "      <th></th>\n",
       "      <th>user_id</th>\n",
       "      <th>age</th>\n",
       "    </tr>\n",
       "  </thead>\n",
       "  <tbody>\n",
       "    <tr>\n",
       "      <th>count</th>\n",
       "      <td>500.000000</td>\n",
       "      <td>500.000000</td>\n",
       "    </tr>\n",
       "    <tr>\n",
       "      <th>mean</th>\n",
       "      <td>1249.500000</td>\n",
       "      <td>45.486000</td>\n",
       "    </tr>\n",
       "    <tr>\n",
       "      <th>std</th>\n",
       "      <td>144.481833</td>\n",
       "      <td>16.972269</td>\n",
       "    </tr>\n",
       "    <tr>\n",
       "      <th>min</th>\n",
       "      <td>1000.000000</td>\n",
       "      <td>18.000000</td>\n",
       "    </tr>\n",
       "    <tr>\n",
       "      <th>25%</th>\n",
       "      <td>1124.750000</td>\n",
       "      <td>30.000000</td>\n",
       "    </tr>\n",
       "    <tr>\n",
       "      <th>50%</th>\n",
       "      <td>1249.500000</td>\n",
       "      <td>46.000000</td>\n",
       "    </tr>\n",
       "    <tr>\n",
       "      <th>75%</th>\n",
       "      <td>1374.250000</td>\n",
       "      <td>61.000000</td>\n",
       "    </tr>\n",
       "    <tr>\n",
       "      <th>max</th>\n",
       "      <td>1499.000000</td>\n",
       "      <td>75.000000</td>\n",
       "    </tr>\n",
       "  </tbody>\n",
       "</table>\n",
       "</div>"
      ],
      "text/plain": [
       "           user_id         age\n",
       "count   500.000000  500.000000\n",
       "mean   1249.500000   45.486000\n",
       "std     144.481833   16.972269\n",
       "min    1000.000000   18.000000\n",
       "25%    1124.750000   30.000000\n",
       "50%    1249.500000   46.000000\n",
       "75%    1374.250000   61.000000\n",
       "max    1499.000000   75.000000"
      ]
     },
     "execution_count": 8,
     "metadata": {},
     "output_type": "execute_result"
    }
   ],
   "source": [
    "# Imprime la información general/resumida sobre el DataFrame de usuarios\n",
    "df_users.info()\n",
    "df_users.describe()"
   ]
  },
  {
   "cell_type": "code",
   "execution_count": 9,
   "metadata": {
    "id": "1IN1L9uh0q05"
   },
   "outputs": [
    {
     "data": {
      "text/html": [
       "<div>\n",
       "<style scoped>\n",
       "    .dataframe tbody tr th:only-of-type {\n",
       "        vertical-align: middle;\n",
       "    }\n",
       "\n",
       "    .dataframe tbody tr th {\n",
       "        vertical-align: top;\n",
       "    }\n",
       "\n",
       "    .dataframe thead th {\n",
       "        text-align: right;\n",
       "    }\n",
       "</style>\n",
       "<table border=\"1\" class=\"dataframe\">\n",
       "  <thead>\n",
       "    <tr style=\"text-align: right;\">\n",
       "      <th></th>\n",
       "      <th>user_id</th>\n",
       "      <th>first_name</th>\n",
       "      <th>last_name</th>\n",
       "      <th>age</th>\n",
       "      <th>city</th>\n",
       "      <th>reg_date</th>\n",
       "      <th>plan</th>\n",
       "      <th>churn_date</th>\n",
       "    </tr>\n",
       "  </thead>\n",
       "  <tbody>\n",
       "    <tr>\n",
       "      <th>460</th>\n",
       "      <td>1460</td>\n",
       "      <td>Winford</td>\n",
       "      <td>Underwood</td>\n",
       "      <td>46</td>\n",
       "      <td>Fresno, CA MSA</td>\n",
       "      <td>2018-05-28</td>\n",
       "      <td>ultimate</td>\n",
       "      <td>NaN</td>\n",
       "    </tr>\n",
       "  </tbody>\n",
       "</table>\n",
       "</div>"
      ],
      "text/plain": [
       "     user_id first_name  last_name  age            city    reg_date      plan  \\\n",
       "460     1460    Winford  Underwood   46  Fresno, CA MSA  2018-05-28  ultimate   \n",
       "\n",
       "    churn_date  \n",
       "460        NaN  "
      ]
     },
     "execution_count": 9,
     "metadata": {},
     "output_type": "execute_result"
    }
   ],
   "source": [
    "# Imprime una muestra de datos para usuarios\n",
    "df_users.sample()"
   ]
  },
  {
   "cell_type": "markdown",
   "metadata": {
    "id": "dCZoUq4f0q06"
   },
   "source": [
    "[Describe lo que ves y observas en la información general y en la muestra de datos impresa para el precio de datos anterior. ¿Hay algún problema (tipos de datos no adecuados, datos ausentes, etc.) que pudieran necesitar investigación y cambios adicionales? ¿Cómo se puede arreglar?]\n",
    "\n",
    "Sobre el tipo de datos que muestra cada columna deberiamos cambiar 'user_id' a object, 'plan' a category y 'reg_date' y 'churn_date' a fecha. En la columna 'churn_date', completar los datos ausentes con 'en uso'. \n",
    "\n",
    "Podemos crear una columna categorica por rango de edades para identificar en que grupo tenemos mas clientes. Otra columna seria 'state' para separar cada cliente por estados y ver en que estado tenemos mas clientes. Tambien seria bueno una columna que indique si el usuario esta activo o no activo, de acuerdo a la columna 'churn_date'."
   ]
  },
  {
   "cell_type": "markdown",
   "metadata": {
    "id": "BX5FQh_I0q06"
   },
   "source": [
    "### Corregir los datos"
   ]
  },
  {
   "cell_type": "markdown",
   "metadata": {
    "id": "8OdKMwJv0q06"
   },
   "source": [
    "[Corrige los problemas obvios con los datos basándote en las observaciones iniciales.]"
   ]
  },
  {
   "cell_type": "code",
   "execution_count": 10,
   "metadata": {
    "id": "yUqX-K0C0q07"
   },
   "outputs": [
    {
     "data": {
      "text/plain": [
       "0"
      ]
     },
     "execution_count": 10,
     "metadata": {},
     "output_type": "execute_result"
    }
   ],
   "source": [
    "df_users['user_id'].duplicated().sum()"
   ]
  },
  {
   "cell_type": "code",
   "execution_count": 11,
   "metadata": {},
   "outputs": [
    {
     "name": "stdout",
     "output_type": "stream",
     "text": [
      "<class 'pandas.core.frame.DataFrame'>\n",
      "RangeIndex: 500 entries, 0 to 499\n",
      "Data columns (total 8 columns):\n",
      " #   Column      Non-Null Count  Dtype         \n",
      "---  ------      --------------  -----         \n",
      " 0   user_id     500 non-null    object        \n",
      " 1   first_name  500 non-null    object        \n",
      " 2   last_name   500 non-null    object        \n",
      " 3   age         500 non-null    int64         \n",
      " 4   city        500 non-null    object        \n",
      " 5   reg_date    500 non-null    datetime64[ns]\n",
      " 6   plan        500 non-null    category      \n",
      " 7   churn_date  34 non-null     datetime64[ns]\n",
      "dtypes: category(1), datetime64[ns](2), int64(1), object(4)\n",
      "memory usage: 28.1+ KB\n"
     ]
    }
   ],
   "source": [
    "df_users['user_id'] = df_users['user_id'].astype(str)\n",
    "df_users['plan'] = pd.Categorical(df_users['plan'])\n",
    "df_users['reg_date'] = pd.to_datetime(df_users['reg_date'])\n",
    "df_users['churn_date'] = pd.to_datetime(df_users['churn_date'])\n",
    "df_users.info()"
   ]
  },
  {
   "cell_type": "markdown",
   "metadata": {
    "id": "ycwuARJp0q07"
   },
   "source": [
    "### Enriquecer los datos"
   ]
  },
  {
   "cell_type": "markdown",
   "metadata": {
    "id": "96NIh4CJ0q08"
   },
   "source": [
    "[Agrega factores adicionales a los datos si crees que pudieran ser útiles.]"
   ]
  },
  {
   "cell_type": "code",
   "execution_count": 12,
   "metadata": {},
   "outputs": [
    {
     "data": {
      "text/plain": [
       "(18, 75)"
      ]
     },
     "execution_count": 12,
     "metadata": {},
     "output_type": "execute_result"
    }
   ],
   "source": [
    "min_max= df_users['age'].min(),df_users['age'].max()\n",
    "min_max"
   ]
  },
  {
   "cell_type": "code",
   "execution_count": 13,
   "metadata": {
    "id": "iq0AaBS90q08"
   },
   "outputs": [
    {
     "data": {
      "text/html": [
       "<div>\n",
       "<style scoped>\n",
       "    .dataframe tbody tr th:only-of-type {\n",
       "        vertical-align: middle;\n",
       "    }\n",
       "\n",
       "    .dataframe tbody tr th {\n",
       "        vertical-align: top;\n",
       "    }\n",
       "\n",
       "    .dataframe thead th {\n",
       "        text-align: right;\n",
       "    }\n",
       "</style>\n",
       "<table border=\"1\" class=\"dataframe\">\n",
       "  <thead>\n",
       "    <tr style=\"text-align: right;\">\n",
       "      <th></th>\n",
       "      <th>user_id</th>\n",
       "      <th>first_name</th>\n",
       "      <th>last_name</th>\n",
       "      <th>age</th>\n",
       "      <th>city</th>\n",
       "      <th>reg_date</th>\n",
       "      <th>plan</th>\n",
       "      <th>churn_date</th>\n",
       "      <th>age_group</th>\n",
       "    </tr>\n",
       "  </thead>\n",
       "  <tbody>\n",
       "    <tr>\n",
       "      <th>0</th>\n",
       "      <td>1000</td>\n",
       "      <td>Anamaria</td>\n",
       "      <td>Bauer</td>\n",
       "      <td>45</td>\n",
       "      <td>Atlanta-Sandy Springs-Roswell, GA MSA</td>\n",
       "      <td>2018-12-24</td>\n",
       "      <td>ultimate</td>\n",
       "      <td>NaT</td>\n",
       "      <td>adulto</td>\n",
       "    </tr>\n",
       "    <tr>\n",
       "      <th>1</th>\n",
       "      <td>1001</td>\n",
       "      <td>Mickey</td>\n",
       "      <td>Wilkerson</td>\n",
       "      <td>28</td>\n",
       "      <td>Seattle-Tacoma-Bellevue, WA MSA</td>\n",
       "      <td>2018-08-13</td>\n",
       "      <td>surf</td>\n",
       "      <td>NaT</td>\n",
       "      <td>joven</td>\n",
       "    </tr>\n",
       "    <tr>\n",
       "      <th>2</th>\n",
       "      <td>1002</td>\n",
       "      <td>Carlee</td>\n",
       "      <td>Hoffman</td>\n",
       "      <td>36</td>\n",
       "      <td>Las Vegas-Henderson-Paradise, NV MSA</td>\n",
       "      <td>2018-10-21</td>\n",
       "      <td>surf</td>\n",
       "      <td>NaT</td>\n",
       "      <td>adulto joven</td>\n",
       "    </tr>\n",
       "    <tr>\n",
       "      <th>3</th>\n",
       "      <td>1003</td>\n",
       "      <td>Reynaldo</td>\n",
       "      <td>Jenkins</td>\n",
       "      <td>52</td>\n",
       "      <td>Tulsa, OK MSA</td>\n",
       "      <td>2018-01-28</td>\n",
       "      <td>surf</td>\n",
       "      <td>NaT</td>\n",
       "      <td>adulto mayor</td>\n",
       "    </tr>\n",
       "    <tr>\n",
       "      <th>4</th>\n",
       "      <td>1004</td>\n",
       "      <td>Leonila</td>\n",
       "      <td>Thompson</td>\n",
       "      <td>40</td>\n",
       "      <td>Seattle-Tacoma-Bellevue, WA MSA</td>\n",
       "      <td>2018-05-23</td>\n",
       "      <td>surf</td>\n",
       "      <td>NaT</td>\n",
       "      <td>adulto</td>\n",
       "    </tr>\n",
       "  </tbody>\n",
       "</table>\n",
       "</div>"
      ],
      "text/plain": [
       "  user_id first_name  last_name  age                                   city  \\\n",
       "0    1000   Anamaria      Bauer   45  Atlanta-Sandy Springs-Roswell, GA MSA   \n",
       "1    1001     Mickey  Wilkerson   28        Seattle-Tacoma-Bellevue, WA MSA   \n",
       "2    1002     Carlee    Hoffman   36   Las Vegas-Henderson-Paradise, NV MSA   \n",
       "3    1003   Reynaldo    Jenkins   52                          Tulsa, OK MSA   \n",
       "4    1004    Leonila   Thompson   40        Seattle-Tacoma-Bellevue, WA MSA   \n",
       "\n",
       "    reg_date      plan churn_date     age_group  \n",
       "0 2018-12-24  ultimate        NaT        adulto  \n",
       "1 2018-08-13      surf        NaT         joven  \n",
       "2 2018-10-21      surf        NaT  adulto joven  \n",
       "3 2018-01-28      surf        NaT  adulto mayor  \n",
       "4 2018-05-23      surf        NaT        adulto  "
      ]
     },
     "execution_count": 13,
     "metadata": {},
     "output_type": "execute_result"
    }
   ],
   "source": [
    "def age_group(age):\n",
    "    if  18 <= age < 30 :\n",
    "        return 'joven'\n",
    "    elif 30 <= age < 40 :\n",
    "        return 'adulto joven'\n",
    "    elif 40 <= age < 50 :\n",
    "        return 'adulto'\n",
    "    else:\n",
    "        return 'adulto mayor'\n",
    "\n",
    "df_users['age_group'] = df_users['age'].apply(age_group)\n",
    "\n",
    "df_users.head()"
   ]
  },
  {
   "cell_type": "code",
   "execution_count": 14,
   "metadata": {},
   "outputs": [
    {
     "data": {
      "text/html": [
       "<div>\n",
       "<style scoped>\n",
       "    .dataframe tbody tr th:only-of-type {\n",
       "        vertical-align: middle;\n",
       "    }\n",
       "\n",
       "    .dataframe tbody tr th {\n",
       "        vertical-align: top;\n",
       "    }\n",
       "\n",
       "    .dataframe thead th {\n",
       "        text-align: right;\n",
       "    }\n",
       "</style>\n",
       "<table border=\"1\" class=\"dataframe\">\n",
       "  <thead>\n",
       "    <tr style=\"text-align: right;\">\n",
       "      <th></th>\n",
       "      <th>user_id</th>\n",
       "      <th>first_name</th>\n",
       "      <th>last_name</th>\n",
       "      <th>age</th>\n",
       "      <th>city</th>\n",
       "      <th>reg_date</th>\n",
       "      <th>plan</th>\n",
       "      <th>churn_date</th>\n",
       "      <th>age_group</th>\n",
       "      <th>state</th>\n",
       "    </tr>\n",
       "  </thead>\n",
       "  <tbody>\n",
       "    <tr>\n",
       "      <th>0</th>\n",
       "      <td>1000</td>\n",
       "      <td>Anamaria</td>\n",
       "      <td>Bauer</td>\n",
       "      <td>45</td>\n",
       "      <td>Atlanta-Sandy Springs-Roswell</td>\n",
       "      <td>2018-12-24</td>\n",
       "      <td>ultimate</td>\n",
       "      <td>NaT</td>\n",
       "      <td>adulto</td>\n",
       "      <td>GA</td>\n",
       "    </tr>\n",
       "    <tr>\n",
       "      <th>1</th>\n",
       "      <td>1001</td>\n",
       "      <td>Mickey</td>\n",
       "      <td>Wilkerson</td>\n",
       "      <td>28</td>\n",
       "      <td>Seattle-Tacoma-Bellevue</td>\n",
       "      <td>2018-08-13</td>\n",
       "      <td>surf</td>\n",
       "      <td>NaT</td>\n",
       "      <td>joven</td>\n",
       "      <td>WA</td>\n",
       "    </tr>\n",
       "    <tr>\n",
       "      <th>2</th>\n",
       "      <td>1002</td>\n",
       "      <td>Carlee</td>\n",
       "      <td>Hoffman</td>\n",
       "      <td>36</td>\n",
       "      <td>Las Vegas-Henderson-Paradise</td>\n",
       "      <td>2018-10-21</td>\n",
       "      <td>surf</td>\n",
       "      <td>NaT</td>\n",
       "      <td>adulto joven</td>\n",
       "      <td>NV</td>\n",
       "    </tr>\n",
       "    <tr>\n",
       "      <th>3</th>\n",
       "      <td>1003</td>\n",
       "      <td>Reynaldo</td>\n",
       "      <td>Jenkins</td>\n",
       "      <td>52</td>\n",
       "      <td>Tulsa</td>\n",
       "      <td>2018-01-28</td>\n",
       "      <td>surf</td>\n",
       "      <td>NaT</td>\n",
       "      <td>adulto mayor</td>\n",
       "      <td>OK</td>\n",
       "    </tr>\n",
       "    <tr>\n",
       "      <th>4</th>\n",
       "      <td>1004</td>\n",
       "      <td>Leonila</td>\n",
       "      <td>Thompson</td>\n",
       "      <td>40</td>\n",
       "      <td>Seattle-Tacoma-Bellevue</td>\n",
       "      <td>2018-05-23</td>\n",
       "      <td>surf</td>\n",
       "      <td>NaT</td>\n",
       "      <td>adulto</td>\n",
       "      <td>WA</td>\n",
       "    </tr>\n",
       "  </tbody>\n",
       "</table>\n",
       "</div>"
      ],
      "text/plain": [
       "  user_id first_name  last_name  age                           city  \\\n",
       "0    1000   Anamaria      Bauer   45  Atlanta-Sandy Springs-Roswell   \n",
       "1    1001     Mickey  Wilkerson   28        Seattle-Tacoma-Bellevue   \n",
       "2    1002     Carlee    Hoffman   36   Las Vegas-Henderson-Paradise   \n",
       "3    1003   Reynaldo    Jenkins   52                          Tulsa   \n",
       "4    1004    Leonila   Thompson   40        Seattle-Tacoma-Bellevue   \n",
       "\n",
       "    reg_date      plan churn_date     age_group state  \n",
       "0 2018-12-24  ultimate        NaT        adulto   GA   \n",
       "1 2018-08-13      surf        NaT         joven   WA   \n",
       "2 2018-10-21      surf        NaT  adulto joven   NV   \n",
       "3 2018-01-28      surf        NaT  adulto mayor   OK   \n",
       "4 2018-05-23      surf        NaT        adulto   WA   "
      ]
     },
     "execution_count": 14,
     "metadata": {},
     "output_type": "execute_result"
    }
   ],
   "source": [
    "df_users[['city', 'state']] = df_users['city'].str.split(',', expand=True)\n",
    "df_users['state'] = df_users['state'].str.replace(r'\\b(MSA)\\b', '', regex=True)\n",
    "\n",
    "df_users.head()"
   ]
  },
  {
   "cell_type": "code",
   "execution_count": 15,
   "metadata": {},
   "outputs": [
    {
     "data": {
      "text/html": [
       "<div>\n",
       "<style scoped>\n",
       "    .dataframe tbody tr th:only-of-type {\n",
       "        vertical-align: middle;\n",
       "    }\n",
       "\n",
       "    .dataframe tbody tr th {\n",
       "        vertical-align: top;\n",
       "    }\n",
       "\n",
       "    .dataframe thead th {\n",
       "        text-align: right;\n",
       "    }\n",
       "</style>\n",
       "<table border=\"1\" class=\"dataframe\">\n",
       "  <thead>\n",
       "    <tr style=\"text-align: right;\">\n",
       "      <th></th>\n",
       "      <th>user_id</th>\n",
       "      <th>first_name</th>\n",
       "      <th>last_name</th>\n",
       "      <th>age</th>\n",
       "      <th>city</th>\n",
       "      <th>reg_date</th>\n",
       "      <th>plan</th>\n",
       "      <th>churn_date</th>\n",
       "      <th>age_group</th>\n",
       "      <th>state</th>\n",
       "      <th>activation</th>\n",
       "    </tr>\n",
       "  </thead>\n",
       "  <tbody>\n",
       "    <tr>\n",
       "      <th>0</th>\n",
       "      <td>1000</td>\n",
       "      <td>Anamaria</td>\n",
       "      <td>Bauer</td>\n",
       "      <td>45</td>\n",
       "      <td>Atlanta-Sandy Springs-Roswell</td>\n",
       "      <td>2018-12-24</td>\n",
       "      <td>ultimate</td>\n",
       "      <td>en uso</td>\n",
       "      <td>adulto</td>\n",
       "      <td>GA</td>\n",
       "      <td>activo</td>\n",
       "    </tr>\n",
       "    <tr>\n",
       "      <th>1</th>\n",
       "      <td>1001</td>\n",
       "      <td>Mickey</td>\n",
       "      <td>Wilkerson</td>\n",
       "      <td>28</td>\n",
       "      <td>Seattle-Tacoma-Bellevue</td>\n",
       "      <td>2018-08-13</td>\n",
       "      <td>surf</td>\n",
       "      <td>en uso</td>\n",
       "      <td>joven</td>\n",
       "      <td>WA</td>\n",
       "      <td>activo</td>\n",
       "    </tr>\n",
       "    <tr>\n",
       "      <th>2</th>\n",
       "      <td>1002</td>\n",
       "      <td>Carlee</td>\n",
       "      <td>Hoffman</td>\n",
       "      <td>36</td>\n",
       "      <td>Las Vegas-Henderson-Paradise</td>\n",
       "      <td>2018-10-21</td>\n",
       "      <td>surf</td>\n",
       "      <td>en uso</td>\n",
       "      <td>adulto joven</td>\n",
       "      <td>NV</td>\n",
       "      <td>activo</td>\n",
       "    </tr>\n",
       "    <tr>\n",
       "      <th>3</th>\n",
       "      <td>1003</td>\n",
       "      <td>Reynaldo</td>\n",
       "      <td>Jenkins</td>\n",
       "      <td>52</td>\n",
       "      <td>Tulsa</td>\n",
       "      <td>2018-01-28</td>\n",
       "      <td>surf</td>\n",
       "      <td>en uso</td>\n",
       "      <td>adulto mayor</td>\n",
       "      <td>OK</td>\n",
       "      <td>activo</td>\n",
       "    </tr>\n",
       "    <tr>\n",
       "      <th>4</th>\n",
       "      <td>1004</td>\n",
       "      <td>Leonila</td>\n",
       "      <td>Thompson</td>\n",
       "      <td>40</td>\n",
       "      <td>Seattle-Tacoma-Bellevue</td>\n",
       "      <td>2018-05-23</td>\n",
       "      <td>surf</td>\n",
       "      <td>en uso</td>\n",
       "      <td>adulto</td>\n",
       "      <td>WA</td>\n",
       "      <td>activo</td>\n",
       "    </tr>\n",
       "  </tbody>\n",
       "</table>\n",
       "</div>"
      ],
      "text/plain": [
       "  user_id first_name  last_name  age                           city  \\\n",
       "0    1000   Anamaria      Bauer   45  Atlanta-Sandy Springs-Roswell   \n",
       "1    1001     Mickey  Wilkerson   28        Seattle-Tacoma-Bellevue   \n",
       "2    1002     Carlee    Hoffman   36   Las Vegas-Henderson-Paradise   \n",
       "3    1003   Reynaldo    Jenkins   52                          Tulsa   \n",
       "4    1004    Leonila   Thompson   40        Seattle-Tacoma-Bellevue   \n",
       "\n",
       "    reg_date      plan churn_date     age_group state activation  \n",
       "0 2018-12-24  ultimate     en uso        adulto   GA      activo  \n",
       "1 2018-08-13      surf     en uso         joven   WA      activo  \n",
       "2 2018-10-21      surf     en uso  adulto joven   NV      activo  \n",
       "3 2018-01-28      surf     en uso  adulto mayor   OK      activo  \n",
       "4 2018-05-23      surf     en uso        adulto   WA      activo  "
      ]
     },
     "execution_count": 15,
     "metadata": {},
     "output_type": "execute_result"
    }
   ],
   "source": [
    "df_users['churn_date'] = df_users['churn_date'].fillna('en uso')\n",
    "\n",
    "def activation(date):\n",
    "    if  date == 'en uso' :\n",
    "        return 'activo'\n",
    "    else:\n",
    "        return 'no activo'\n",
    "\n",
    "df_users['activation'] = df_users['churn_date'].apply(activation)\n",
    "\n",
    "df_users.head()"
   ]
  },
  {
   "cell_type": "markdown",
   "metadata": {
    "id": "o7MeKCid0q08"
   },
   "source": [
    "## Llamadas"
   ]
  },
  {
   "cell_type": "code",
   "execution_count": 16,
   "metadata": {
    "id": "6dDlnoDm0q08"
   },
   "outputs": [
    {
     "name": "stdout",
     "output_type": "stream",
     "text": [
      "<class 'pandas.core.frame.DataFrame'>\n",
      "RangeIndex: 137735 entries, 0 to 137734\n",
      "Data columns (total 4 columns):\n",
      " #   Column     Non-Null Count   Dtype  \n",
      "---  ------     --------------   -----  \n",
      " 0   id         137735 non-null  object \n",
      " 1   user_id    137735 non-null  int64  \n",
      " 2   call_date  137735 non-null  object \n",
      " 3   duration   137735 non-null  float64\n",
      "dtypes: float64(1), int64(1), object(2)\n",
      "memory usage: 4.2+ MB\n"
     ]
    },
    {
     "data": {
      "text/html": [
       "<div>\n",
       "<style scoped>\n",
       "    .dataframe tbody tr th:only-of-type {\n",
       "        vertical-align: middle;\n",
       "    }\n",
       "\n",
       "    .dataframe tbody tr th {\n",
       "        vertical-align: top;\n",
       "    }\n",
       "\n",
       "    .dataframe thead th {\n",
       "        text-align: right;\n",
       "    }\n",
       "</style>\n",
       "<table border=\"1\" class=\"dataframe\">\n",
       "  <thead>\n",
       "    <tr style=\"text-align: right;\">\n",
       "      <th></th>\n",
       "      <th>user_id</th>\n",
       "      <th>duration</th>\n",
       "    </tr>\n",
       "  </thead>\n",
       "  <tbody>\n",
       "    <tr>\n",
       "      <th>count</th>\n",
       "      <td>137735.000000</td>\n",
       "      <td>137735.000000</td>\n",
       "    </tr>\n",
       "    <tr>\n",
       "      <th>mean</th>\n",
       "      <td>1247.658046</td>\n",
       "      <td>6.745927</td>\n",
       "    </tr>\n",
       "    <tr>\n",
       "      <th>std</th>\n",
       "      <td>139.416268</td>\n",
       "      <td>5.839241</td>\n",
       "    </tr>\n",
       "    <tr>\n",
       "      <th>min</th>\n",
       "      <td>1000.000000</td>\n",
       "      <td>0.000000</td>\n",
       "    </tr>\n",
       "    <tr>\n",
       "      <th>25%</th>\n",
       "      <td>1128.000000</td>\n",
       "      <td>1.290000</td>\n",
       "    </tr>\n",
       "    <tr>\n",
       "      <th>50%</th>\n",
       "      <td>1247.000000</td>\n",
       "      <td>5.980000</td>\n",
       "    </tr>\n",
       "    <tr>\n",
       "      <th>75%</th>\n",
       "      <td>1365.000000</td>\n",
       "      <td>10.690000</td>\n",
       "    </tr>\n",
       "    <tr>\n",
       "      <th>max</th>\n",
       "      <td>1499.000000</td>\n",
       "      <td>37.600000</td>\n",
       "    </tr>\n",
       "  </tbody>\n",
       "</table>\n",
       "</div>"
      ],
      "text/plain": [
       "             user_id       duration\n",
       "count  137735.000000  137735.000000\n",
       "mean     1247.658046       6.745927\n",
       "std       139.416268       5.839241\n",
       "min      1000.000000       0.000000\n",
       "25%      1128.000000       1.290000\n",
       "50%      1247.000000       5.980000\n",
       "75%      1365.000000      10.690000\n",
       "max      1499.000000      37.600000"
      ]
     },
     "execution_count": 16,
     "metadata": {},
     "output_type": "execute_result"
    }
   ],
   "source": [
    "# Imprime la información general/resumida sobre el DataFrame de las llamadas\n",
    "df_calls.info()\n",
    "df_calls.describe()"
   ]
  },
  {
   "cell_type": "code",
   "execution_count": 17,
   "metadata": {
    "id": "kuh1vlNB0q09"
   },
   "outputs": [
    {
     "data": {
      "text/html": [
       "<div>\n",
       "<style scoped>\n",
       "    .dataframe tbody tr th:only-of-type {\n",
       "        vertical-align: middle;\n",
       "    }\n",
       "\n",
       "    .dataframe tbody tr th {\n",
       "        vertical-align: top;\n",
       "    }\n",
       "\n",
       "    .dataframe thead th {\n",
       "        text-align: right;\n",
       "    }\n",
       "</style>\n",
       "<table border=\"1\" class=\"dataframe\">\n",
       "  <thead>\n",
       "    <tr style=\"text-align: right;\">\n",
       "      <th></th>\n",
       "      <th>id</th>\n",
       "      <th>user_id</th>\n",
       "      <th>call_date</th>\n",
       "      <th>duration</th>\n",
       "    </tr>\n",
       "  </thead>\n",
       "  <tbody>\n",
       "    <tr>\n",
       "      <th>84322</th>\n",
       "      <td>1311_8</td>\n",
       "      <td>1311</td>\n",
       "      <td>2018-11-15</td>\n",
       "      <td>0.0</td>\n",
       "    </tr>\n",
       "  </tbody>\n",
       "</table>\n",
       "</div>"
      ],
      "text/plain": [
       "           id  user_id   call_date  duration\n",
       "84322  1311_8     1311  2018-11-15       0.0"
      ]
     },
     "execution_count": 17,
     "metadata": {},
     "output_type": "execute_result"
    }
   ],
   "source": [
    "# Imprime una muestra de datos para las llamadas\n",
    "df_calls.sample()"
   ]
  },
  {
   "cell_type": "markdown",
   "metadata": {
    "id": "DOAxYJSx0q09"
   },
   "source": [
    "[Describe lo que ves y observas en la información general y en la muestra de datos impresa para el precio de datos anterior. ¿Hay algún problema (tipos de datos no adecuados, datos ausentes, etc.) que pudieran necesitar investigación y cambios adicionales? ¿Cómo se puede arreglar?]\n",
    "\n",
    "Sobre el tipo de datos que muestra cada columna deberiamos cambiar 'user_id' a object y 'call_date' a fecha. No se observan datos ausentes.\n",
    "Podemos crear un dataframe que este agrupado por el user_id, y asi ver cuantas llamadas hizo y su duracion total en minutos."
   ]
  },
  {
   "cell_type": "markdown",
   "metadata": {
    "id": "S7hzxmbX0q0-"
   },
   "source": [
    "### Corregir los datos"
   ]
  },
  {
   "cell_type": "markdown",
   "metadata": {
    "id": "YxWyAjD20q0-"
   },
   "source": [
    "[Corrige los problemas obvios con los datos basándote en las observaciones iniciales.]"
   ]
  },
  {
   "cell_type": "code",
   "execution_count": 18,
   "metadata": {
    "id": "S2r8xA4f0q0-"
   },
   "outputs": [
    {
     "data": {
      "text/plain": [
       "0"
      ]
     },
     "execution_count": 18,
     "metadata": {},
     "output_type": "execute_result"
    }
   ],
   "source": [
    "df_calls['id'].duplicated().sum()"
   ]
  },
  {
   "cell_type": "code",
   "execution_count": 19,
   "metadata": {},
   "outputs": [
    {
     "name": "stdout",
     "output_type": "stream",
     "text": [
      "<class 'pandas.core.frame.DataFrame'>\n",
      "RangeIndex: 137735 entries, 0 to 137734\n",
      "Data columns (total 4 columns):\n",
      " #   Column     Non-Null Count   Dtype         \n",
      "---  ------     --------------   -----         \n",
      " 0   id         137735 non-null  object        \n",
      " 1   user_id    137735 non-null  object        \n",
      " 2   call_date  137735 non-null  datetime64[ns]\n",
      " 3   duration   137735 non-null  float64       \n",
      "dtypes: datetime64[ns](1), float64(1), object(2)\n",
      "memory usage: 4.2+ MB\n"
     ]
    }
   ],
   "source": [
    "df_calls['user_id'] = df_calls['user_id'].astype(str)\n",
    "df_calls['call_date'] = pd.to_datetime(df_calls['call_date'])\n",
    "df_calls.info()"
   ]
  },
  {
   "cell_type": "markdown",
   "metadata": {
    "id": "KrMgTrlG0q0_"
   },
   "source": [
    "### Enriquecer los datos"
   ]
  },
  {
   "cell_type": "markdown",
   "metadata": {
    "id": "a9MbmEvE0q0_"
   },
   "source": [
    "[Agrega factores adicionales a los datos si crees que pudieran ser útiles.]"
   ]
  },
  {
   "cell_type": "code",
   "execution_count": 20,
   "metadata": {
    "id": "iZ1avpA_0q0_"
   },
   "outputs": [
    {
     "data": {
      "text/html": [
       "<div>\n",
       "<style scoped>\n",
       "    .dataframe tbody tr th:only-of-type {\n",
       "        vertical-align: middle;\n",
       "    }\n",
       "\n",
       "    .dataframe tbody tr th {\n",
       "        vertical-align: top;\n",
       "    }\n",
       "\n",
       "    .dataframe thead th {\n",
       "        text-align: right;\n",
       "    }\n",
       "</style>\n",
       "<table border=\"1\" class=\"dataframe\">\n",
       "  <thead>\n",
       "    <tr style=\"text-align: right;\">\n",
       "      <th></th>\n",
       "      <th>user_id</th>\n",
       "      <th>nro_calls</th>\n",
       "      <th>duration</th>\n",
       "    </tr>\n",
       "  </thead>\n",
       "  <tbody>\n",
       "    <tr>\n",
       "      <th>0</th>\n",
       "      <td>1000</td>\n",
       "      <td>16</td>\n",
       "      <td>116.83</td>\n",
       "    </tr>\n",
       "    <tr>\n",
       "      <th>1</th>\n",
       "      <td>1001</td>\n",
       "      <td>261</td>\n",
       "      <td>1640.46</td>\n",
       "    </tr>\n",
       "    <tr>\n",
       "      <th>2</th>\n",
       "      <td>1002</td>\n",
       "      <td>113</td>\n",
       "      <td>777.13</td>\n",
       "    </tr>\n",
       "    <tr>\n",
       "      <th>3</th>\n",
       "      <td>1003</td>\n",
       "      <td>149</td>\n",
       "      <td>1041.00</td>\n",
       "    </tr>\n",
       "    <tr>\n",
       "      <th>4</th>\n",
       "      <td>1004</td>\n",
       "      <td>370</td>\n",
       "      <td>2618.95</td>\n",
       "    </tr>\n",
       "  </tbody>\n",
       "</table>\n",
       "</div>"
      ],
      "text/plain": [
       "  user_id  nro_calls  duration\n",
       "0    1000         16    116.83\n",
       "1    1001        261   1640.46\n",
       "2    1002        113    777.13\n",
       "3    1003        149   1041.00\n",
       "4    1004        370   2618.95"
      ]
     },
     "execution_count": 20,
     "metadata": {},
     "output_type": "execute_result"
    }
   ],
   "source": [
    "calls_per_user = df_calls.groupby(by='user_id')['id'].count().reset_index()\n",
    "min_per_user = df_calls.groupby(by='user_id')['duration'].sum().reset_index()\n",
    "user_calls_min = calls_per_user.merge(min_per_user,on='user_id').rename(columns={\"id\":\"nro_calls\"})\n",
    "user_calls_min.head()"
   ]
  },
  {
   "cell_type": "markdown",
   "metadata": {
    "id": "mOUZSi180q0_"
   },
   "source": [
    "## Mensajes"
   ]
  },
  {
   "cell_type": "code",
   "execution_count": 21,
   "metadata": {
    "id": "R-bYJpdV0q1A"
   },
   "outputs": [
    {
     "name": "stdout",
     "output_type": "stream",
     "text": [
      "<class 'pandas.core.frame.DataFrame'>\n",
      "RangeIndex: 76051 entries, 0 to 76050\n",
      "Data columns (total 3 columns):\n",
      " #   Column        Non-Null Count  Dtype \n",
      "---  ------        --------------  ----- \n",
      " 0   id            76051 non-null  object\n",
      " 1   user_id       76051 non-null  int64 \n",
      " 2   message_date  76051 non-null  object\n",
      "dtypes: int64(1), object(2)\n",
      "memory usage: 1.7+ MB\n"
     ]
    },
    {
     "data": {
      "text/html": [
       "<div>\n",
       "<style scoped>\n",
       "    .dataframe tbody tr th:only-of-type {\n",
       "        vertical-align: middle;\n",
       "    }\n",
       "\n",
       "    .dataframe tbody tr th {\n",
       "        vertical-align: top;\n",
       "    }\n",
       "\n",
       "    .dataframe thead th {\n",
       "        text-align: right;\n",
       "    }\n",
       "</style>\n",
       "<table border=\"1\" class=\"dataframe\">\n",
       "  <thead>\n",
       "    <tr style=\"text-align: right;\">\n",
       "      <th></th>\n",
       "      <th>user_id</th>\n",
       "    </tr>\n",
       "  </thead>\n",
       "  <tbody>\n",
       "    <tr>\n",
       "      <th>count</th>\n",
       "      <td>76051.000000</td>\n",
       "    </tr>\n",
       "    <tr>\n",
       "      <th>mean</th>\n",
       "      <td>1245.972768</td>\n",
       "    </tr>\n",
       "    <tr>\n",
       "      <th>std</th>\n",
       "      <td>139.843635</td>\n",
       "    </tr>\n",
       "    <tr>\n",
       "      <th>min</th>\n",
       "      <td>1000.000000</td>\n",
       "    </tr>\n",
       "    <tr>\n",
       "      <th>25%</th>\n",
       "      <td>1123.000000</td>\n",
       "    </tr>\n",
       "    <tr>\n",
       "      <th>50%</th>\n",
       "      <td>1251.000000</td>\n",
       "    </tr>\n",
       "    <tr>\n",
       "      <th>75%</th>\n",
       "      <td>1362.000000</td>\n",
       "    </tr>\n",
       "    <tr>\n",
       "      <th>max</th>\n",
       "      <td>1497.000000</td>\n",
       "    </tr>\n",
       "  </tbody>\n",
       "</table>\n",
       "</div>"
      ],
      "text/plain": [
       "            user_id\n",
       "count  76051.000000\n",
       "mean    1245.972768\n",
       "std      139.843635\n",
       "min     1000.000000\n",
       "25%     1123.000000\n",
       "50%     1251.000000\n",
       "75%     1362.000000\n",
       "max     1497.000000"
      ]
     },
     "execution_count": 21,
     "metadata": {},
     "output_type": "execute_result"
    }
   ],
   "source": [
    "# Imprime la información general/resumida sobre el DataFrame de los mensajes\n",
    "df_messages.info()\n",
    "df_messages.describe()"
   ]
  },
  {
   "cell_type": "code",
   "execution_count": 22,
   "metadata": {
    "id": "mCEl2iGE0q1A"
   },
   "outputs": [
    {
     "data": {
      "text/html": [
       "<div>\n",
       "<style scoped>\n",
       "    .dataframe tbody tr th:only-of-type {\n",
       "        vertical-align: middle;\n",
       "    }\n",
       "\n",
       "    .dataframe tbody tr th {\n",
       "        vertical-align: top;\n",
       "    }\n",
       "\n",
       "    .dataframe thead th {\n",
       "        text-align: right;\n",
       "    }\n",
       "</style>\n",
       "<table border=\"1\" class=\"dataframe\">\n",
       "  <thead>\n",
       "    <tr style=\"text-align: right;\">\n",
       "      <th></th>\n",
       "      <th>id</th>\n",
       "      <th>user_id</th>\n",
       "      <th>message_date</th>\n",
       "    </tr>\n",
       "  </thead>\n",
       "  <tbody>\n",
       "    <tr>\n",
       "      <th>27906</th>\n",
       "      <td>1172_363</td>\n",
       "      <td>1172</td>\n",
       "      <td>2018-11-10</td>\n",
       "    </tr>\n",
       "  </tbody>\n",
       "</table>\n",
       "</div>"
      ],
      "text/plain": [
       "             id  user_id message_date\n",
       "27906  1172_363     1172   2018-11-10"
      ]
     },
     "execution_count": 22,
     "metadata": {},
     "output_type": "execute_result"
    }
   ],
   "source": [
    "# Imprime una muestra de datos para los mensajes\n",
    "df_messages.sample()"
   ]
  },
  {
   "cell_type": "markdown",
   "metadata": {
    "id": "04xDj7KH0q1A"
   },
   "source": [
    "[Describe lo que ves y observas en la información general y en la muestra de datos impresa para el precio de datos anterior. ¿Hay algún problema (tipos de datos no adecuados, datos ausentes, etc.) que pudieran necesitar investigación y cambios adicionales? ¿Cómo se puede arreglar?]\n",
    "\n",
    "Sobre el tipo de datos que muestra cada columna deberiamos cambiar 'user_id' a object y 'message_date' a fecha. No se observan datos ausentes.\n",
    "Podemos crear un dataframe que este agrupado por el user_id, y asi ver cuantos mensajes hizo."
   ]
  },
  {
   "cell_type": "markdown",
   "metadata": {
    "id": "Sprfak900q1B"
   },
   "source": [
    "### Corregir los datos"
   ]
  },
  {
   "cell_type": "markdown",
   "metadata": {
    "id": "eGw7d9j10q1B"
   },
   "source": [
    "[Corrige los problemas obvios con los datos basándote en las observaciones iniciales.]"
   ]
  },
  {
   "cell_type": "code",
   "execution_count": 23,
   "metadata": {
    "id": "vsllvkoa0q1B"
   },
   "outputs": [
    {
     "data": {
      "text/plain": [
       "0"
      ]
     },
     "execution_count": 23,
     "metadata": {},
     "output_type": "execute_result"
    }
   ],
   "source": [
    "df_messages['id'].duplicated().sum()"
   ]
  },
  {
   "cell_type": "code",
   "execution_count": 24,
   "metadata": {},
   "outputs": [
    {
     "name": "stdout",
     "output_type": "stream",
     "text": [
      "<class 'pandas.core.frame.DataFrame'>\n",
      "RangeIndex: 76051 entries, 0 to 76050\n",
      "Data columns (total 3 columns):\n",
      " #   Column        Non-Null Count  Dtype         \n",
      "---  ------        --------------  -----         \n",
      " 0   id            76051 non-null  object        \n",
      " 1   user_id       76051 non-null  object        \n",
      " 2   message_date  76051 non-null  datetime64[ns]\n",
      "dtypes: datetime64[ns](1), object(2)\n",
      "memory usage: 1.7+ MB\n"
     ]
    }
   ],
   "source": [
    "df_messages['user_id'] = df_messages['user_id'].astype(str)\n",
    "df_messages['message_date'] = pd.to_datetime(df_messages['message_date'])\n",
    "df_messages.info()"
   ]
  },
  {
   "cell_type": "markdown",
   "metadata": {
    "id": "HvLid7iD0q1B"
   },
   "source": [
    "### Enriquecer los datos"
   ]
  },
  {
   "cell_type": "markdown",
   "metadata": {
    "id": "8nhPFKIe0q1C"
   },
   "source": [
    "[Agrega factores adicionales a los datos si crees que pudieran ser útiles.]"
   ]
  },
  {
   "cell_type": "code",
   "execution_count": 25,
   "metadata": {
    "id": "zYEXZac10q1C"
   },
   "outputs": [
    {
     "data": {
      "text/html": [
       "<div>\n",
       "<style scoped>\n",
       "    .dataframe tbody tr th:only-of-type {\n",
       "        vertical-align: middle;\n",
       "    }\n",
       "\n",
       "    .dataframe tbody tr th {\n",
       "        vertical-align: top;\n",
       "    }\n",
       "\n",
       "    .dataframe thead th {\n",
       "        text-align: right;\n",
       "    }\n",
       "</style>\n",
       "<table border=\"1\" class=\"dataframe\">\n",
       "  <thead>\n",
       "    <tr style=\"text-align: right;\">\n",
       "      <th></th>\n",
       "      <th>user_id</th>\n",
       "      <th>id</th>\n",
       "    </tr>\n",
       "  </thead>\n",
       "  <tbody>\n",
       "    <tr>\n",
       "      <th>0</th>\n",
       "      <td>1000</td>\n",
       "      <td>11</td>\n",
       "    </tr>\n",
       "    <tr>\n",
       "      <th>1</th>\n",
       "      <td>1001</td>\n",
       "      <td>207</td>\n",
       "    </tr>\n",
       "    <tr>\n",
       "      <th>2</th>\n",
       "      <td>1002</td>\n",
       "      <td>88</td>\n",
       "    </tr>\n",
       "    <tr>\n",
       "      <th>3</th>\n",
       "      <td>1003</td>\n",
       "      <td>50</td>\n",
       "    </tr>\n",
       "    <tr>\n",
       "      <th>4</th>\n",
       "      <td>1004</td>\n",
       "      <td>177</td>\n",
       "    </tr>\n",
       "  </tbody>\n",
       "</table>\n",
       "</div>"
      ],
      "text/plain": [
       "  user_id   id\n",
       "0    1000   11\n",
       "1    1001  207\n",
       "2    1002   88\n",
       "3    1003   50\n",
       "4    1004  177"
      ]
     },
     "execution_count": 25,
     "metadata": {},
     "output_type": "execute_result"
    }
   ],
   "source": [
    "messages_per_user = df_messages.groupby(by='user_id')['id'].count().reset_index()\n",
    "messages_per_user.head()"
   ]
  },
  {
   "cell_type": "markdown",
   "metadata": {
    "id": "bStkaxn40q1C"
   },
   "source": [
    "## Internet"
   ]
  },
  {
   "cell_type": "code",
   "execution_count": 26,
   "metadata": {
    "id": "e-Uz5qyn0q1C"
   },
   "outputs": [
    {
     "name": "stdout",
     "output_type": "stream",
     "text": [
      "<class 'pandas.core.frame.DataFrame'>\n",
      "RangeIndex: 104825 entries, 0 to 104824\n",
      "Data columns (total 4 columns):\n",
      " #   Column        Non-Null Count   Dtype  \n",
      "---  ------        --------------   -----  \n",
      " 0   id            104825 non-null  object \n",
      " 1   user_id       104825 non-null  int64  \n",
      " 2   session_date  104825 non-null  object \n",
      " 3   mb_used       104825 non-null  float64\n",
      "dtypes: float64(1), int64(1), object(2)\n",
      "memory usage: 3.2+ MB\n"
     ]
    },
    {
     "data": {
      "text/html": [
       "<div>\n",
       "<style scoped>\n",
       "    .dataframe tbody tr th:only-of-type {\n",
       "        vertical-align: middle;\n",
       "    }\n",
       "\n",
       "    .dataframe tbody tr th {\n",
       "        vertical-align: top;\n",
       "    }\n",
       "\n",
       "    .dataframe thead th {\n",
       "        text-align: right;\n",
       "    }\n",
       "</style>\n",
       "<table border=\"1\" class=\"dataframe\">\n",
       "  <thead>\n",
       "    <tr style=\"text-align: right;\">\n",
       "      <th></th>\n",
       "      <th>user_id</th>\n",
       "      <th>mb_used</th>\n",
       "    </tr>\n",
       "  </thead>\n",
       "  <tbody>\n",
       "    <tr>\n",
       "      <th>count</th>\n",
       "      <td>104825.000000</td>\n",
       "      <td>104825.000000</td>\n",
       "    </tr>\n",
       "    <tr>\n",
       "      <th>mean</th>\n",
       "      <td>1242.496361</td>\n",
       "      <td>366.713701</td>\n",
       "    </tr>\n",
       "    <tr>\n",
       "      <th>std</th>\n",
       "      <td>142.053913</td>\n",
       "      <td>277.170542</td>\n",
       "    </tr>\n",
       "    <tr>\n",
       "      <th>min</th>\n",
       "      <td>1000.000000</td>\n",
       "      <td>0.000000</td>\n",
       "    </tr>\n",
       "    <tr>\n",
       "      <th>25%</th>\n",
       "      <td>1122.000000</td>\n",
       "      <td>136.080000</td>\n",
       "    </tr>\n",
       "    <tr>\n",
       "      <th>50%</th>\n",
       "      <td>1236.000000</td>\n",
       "      <td>343.980000</td>\n",
       "    </tr>\n",
       "    <tr>\n",
       "      <th>75%</th>\n",
       "      <td>1367.000000</td>\n",
       "      <td>554.610000</td>\n",
       "    </tr>\n",
       "    <tr>\n",
       "      <th>max</th>\n",
       "      <td>1499.000000</td>\n",
       "      <td>1693.470000</td>\n",
       "    </tr>\n",
       "  </tbody>\n",
       "</table>\n",
       "</div>"
      ],
      "text/plain": [
       "             user_id        mb_used\n",
       "count  104825.000000  104825.000000\n",
       "mean     1242.496361     366.713701\n",
       "std       142.053913     277.170542\n",
       "min      1000.000000       0.000000\n",
       "25%      1122.000000     136.080000\n",
       "50%      1236.000000     343.980000\n",
       "75%      1367.000000     554.610000\n",
       "max      1499.000000    1693.470000"
      ]
     },
     "execution_count": 26,
     "metadata": {},
     "output_type": "execute_result"
    }
   ],
   "source": [
    "# Imprime la información general/resumida sobre el DataFrame de internet\n",
    "df_internet.info()\n",
    "df_internet.describe()"
   ]
  },
  {
   "cell_type": "code",
   "execution_count": 27,
   "metadata": {
    "id": "9r3x_XLw0q1C"
   },
   "outputs": [
    {
     "data": {
      "text/html": [
       "<div>\n",
       "<style scoped>\n",
       "    .dataframe tbody tr th:only-of-type {\n",
       "        vertical-align: middle;\n",
       "    }\n",
       "\n",
       "    .dataframe tbody tr th {\n",
       "        vertical-align: top;\n",
       "    }\n",
       "\n",
       "    .dataframe thead th {\n",
       "        text-align: right;\n",
       "    }\n",
       "</style>\n",
       "<table border=\"1\" class=\"dataframe\">\n",
       "  <thead>\n",
       "    <tr style=\"text-align: right;\">\n",
       "      <th></th>\n",
       "      <th>id</th>\n",
       "      <th>user_id</th>\n",
       "      <th>session_date</th>\n",
       "      <th>mb_used</th>\n",
       "    </tr>\n",
       "  </thead>\n",
       "  <tbody>\n",
       "    <tr>\n",
       "      <th>103264</th>\n",
       "      <td>1494_146</td>\n",
       "      <td>1494</td>\n",
       "      <td>2018-12-16</td>\n",
       "      <td>0.0</td>\n",
       "    </tr>\n",
       "  </tbody>\n",
       "</table>\n",
       "</div>"
      ],
      "text/plain": [
       "              id  user_id session_date  mb_used\n",
       "103264  1494_146     1494   2018-12-16      0.0"
      ]
     },
     "execution_count": 27,
     "metadata": {},
     "output_type": "execute_result"
    }
   ],
   "source": [
    "# Imprime una muestra de datos para el tráfico de internet\n",
    "df_internet.sample()"
   ]
  },
  {
   "cell_type": "markdown",
   "metadata": {
    "id": "EzOG5ik30q1D"
   },
   "source": [
    "[Describe lo que ves y observas en la información general y en la muestra de datos impresa para el precio de datos anterior. ¿Hay algún problema (tipos de datos no adecuados, datos ausentes, etc.) que pudieran necesitar investigación y cambios adicionales? ¿Cómo se puede arreglar?]\n",
    "\n",
    "Sobre el tipo de datos que muestra cada columna deberiamos cambiar 'user_id' a object y 'session_date' a fecha. No se observan datos ausentes.\n",
    "Podemos crear un dataframe que este agrupado por el user_id, y asi ver cuantos megas ha gastado."
   ]
  },
  {
   "cell_type": "markdown",
   "metadata": {
    "id": "yA0tkPFg0q1D"
   },
   "source": [
    "### Corregir los datos"
   ]
  },
  {
   "cell_type": "markdown",
   "metadata": {
    "id": "zlZMuIEK0q1D"
   },
   "source": [
    "[Corrige los problemas obvios con los datos basándote en las observaciones iniciales.]"
   ]
  },
  {
   "cell_type": "code",
   "execution_count": 28,
   "metadata": {
    "id": "zVeanzdd0q1E"
   },
   "outputs": [
    {
     "name": "stdout",
     "output_type": "stream",
     "text": [
      "<class 'pandas.core.frame.DataFrame'>\n",
      "RangeIndex: 104825 entries, 0 to 104824\n",
      "Data columns (total 4 columns):\n",
      " #   Column        Non-Null Count   Dtype         \n",
      "---  ------        --------------   -----         \n",
      " 0   id            104825 non-null  object        \n",
      " 1   user_id       104825 non-null  object        \n",
      " 2   session_date  104825 non-null  datetime64[ns]\n",
      " 3   mb_used       104825 non-null  float64       \n",
      "dtypes: datetime64[ns](1), float64(1), object(2)\n",
      "memory usage: 3.2+ MB\n"
     ]
    }
   ],
   "source": [
    "df_internet['user_id'] = df_internet['user_id'].astype(str)\n",
    "df_internet['session_date'] = pd.to_datetime(df_internet['session_date'])\n",
    "df_internet.info()"
   ]
  },
  {
   "cell_type": "markdown",
   "metadata": {
    "id": "e8_mLF4a0q1E"
   },
   "source": [
    "### Enriquecer los datos"
   ]
  },
  {
   "cell_type": "markdown",
   "metadata": {
    "id": "xhNdn2tE0q1E"
   },
   "source": [
    "[Agrega factores adicionales a los datos si crees que pudieran ser útiles.]"
   ]
  },
  {
   "cell_type": "code",
   "execution_count": 29,
   "metadata": {},
   "outputs": [
    {
     "data": {
      "text/html": [
       "<div>\n",
       "<style scoped>\n",
       "    .dataframe tbody tr th:only-of-type {\n",
       "        vertical-align: middle;\n",
       "    }\n",
       "\n",
       "    .dataframe tbody tr th {\n",
       "        vertical-align: top;\n",
       "    }\n",
       "\n",
       "    .dataframe thead th {\n",
       "        text-align: right;\n",
       "    }\n",
       "</style>\n",
       "<table border=\"1\" class=\"dataframe\">\n",
       "  <thead>\n",
       "    <tr style=\"text-align: right;\">\n",
       "      <th></th>\n",
       "      <th>user_id</th>\n",
       "      <th>mb_used</th>\n",
       "    </tr>\n",
       "  </thead>\n",
       "  <tbody>\n",
       "    <tr>\n",
       "      <th>0</th>\n",
       "      <td>1000</td>\n",
       "      <td>1901.47</td>\n",
       "    </tr>\n",
       "    <tr>\n",
       "      <th>1</th>\n",
       "      <td>1001</td>\n",
       "      <td>80437.94</td>\n",
       "    </tr>\n",
       "    <tr>\n",
       "      <th>2</th>\n",
       "      <td>1002</td>\n",
       "      <td>40293.33</td>\n",
       "    </tr>\n",
       "    <tr>\n",
       "      <th>3</th>\n",
       "      <td>1003</td>\n",
       "      <td>27044.14</td>\n",
       "    </tr>\n",
       "    <tr>\n",
       "      <th>4</th>\n",
       "      <td>1004</td>\n",
       "      <td>156352.81</td>\n",
       "    </tr>\n",
       "  </tbody>\n",
       "</table>\n",
       "</div>"
      ],
      "text/plain": [
       "  user_id    mb_used\n",
       "0    1000    1901.47\n",
       "1    1001   80437.94\n",
       "2    1002   40293.33\n",
       "3    1003   27044.14\n",
       "4    1004  156352.81"
      ]
     },
     "execution_count": 29,
     "metadata": {},
     "output_type": "execute_result"
    }
   ],
   "source": [
    "megas_per_user = df_internet.groupby(by='user_id')['mb_used'].sum().reset_index()\n",
    "megas_per_user.head()"
   ]
  },
  {
   "cell_type": "markdown",
   "metadata": {
    "id": "3UA2cqIW0q1E"
   },
   "source": [
    "## Estudiar las condiciones de las tarifas"
   ]
  },
  {
   "cell_type": "markdown",
   "metadata": {
    "id": "T86Sqltq0q1F"
   },
   "source": [
    "[Es sumamente importante entender cómo funcionan las tarifas, cómo se les cobra a los usuarios en función de su plan de suscripción. Así que te sugerimos imprimir la información de la tarifa para ver una vez más sus condiciones.]"
   ]
  },
  {
   "cell_type": "code",
   "execution_count": 30,
   "metadata": {
    "id": "i409op8p0q1F"
   },
   "outputs": [
    {
     "data": {
      "text/html": [
       "<div>\n",
       "<style scoped>\n",
       "    .dataframe tbody tr th:only-of-type {\n",
       "        vertical-align: middle;\n",
       "    }\n",
       "\n",
       "    .dataframe tbody tr th {\n",
       "        vertical-align: top;\n",
       "    }\n",
       "\n",
       "    .dataframe thead th {\n",
       "        text-align: right;\n",
       "    }\n",
       "</style>\n",
       "<table border=\"1\" class=\"dataframe\">\n",
       "  <thead>\n",
       "    <tr style=\"text-align: right;\">\n",
       "      <th></th>\n",
       "      <th>messages_included</th>\n",
       "      <th>mb_per_month_included</th>\n",
       "      <th>minutes_included</th>\n",
       "      <th>usd_monthly_pay</th>\n",
       "      <th>usd_per_gb</th>\n",
       "      <th>usd_per_message</th>\n",
       "      <th>usd_per_minute</th>\n",
       "      <th>plan_name</th>\n",
       "      <th>gb_unit</th>\n",
       "    </tr>\n",
       "  </thead>\n",
       "  <tbody>\n",
       "    <tr>\n",
       "      <th>0</th>\n",
       "      <td>50</td>\n",
       "      <td>15360</td>\n",
       "      <td>500</td>\n",
       "      <td>20</td>\n",
       "      <td>10</td>\n",
       "      <td>0.03</td>\n",
       "      <td>0.03</td>\n",
       "      <td>surf</td>\n",
       "      <td>1024</td>\n",
       "    </tr>\n",
       "    <tr>\n",
       "      <th>1</th>\n",
       "      <td>1000</td>\n",
       "      <td>30720</td>\n",
       "      <td>3000</td>\n",
       "      <td>70</td>\n",
       "      <td>7</td>\n",
       "      <td>0.01</td>\n",
       "      <td>0.01</td>\n",
       "      <td>ultimate</td>\n",
       "      <td>1024</td>\n",
       "    </tr>\n",
       "  </tbody>\n",
       "</table>\n",
       "</div>"
      ],
      "text/plain": [
       "   messages_included  mb_per_month_included  minutes_included  \\\n",
       "0                 50                  15360               500   \n",
       "1               1000                  30720              3000   \n",
       "\n",
       "   usd_monthly_pay  usd_per_gb  usd_per_message  usd_per_minute plan_name  \\\n",
       "0               20          10             0.03            0.03      surf   \n",
       "1               70           7             0.01            0.01  ultimate   \n",
       "\n",
       "   gb_unit  \n",
       "0     1024  \n",
       "1     1024  "
      ]
     },
     "execution_count": 30,
     "metadata": {},
     "output_type": "execute_result"
    }
   ],
   "source": [
    "# Imprime las condiciones de la tarifa y asegúrate de que te quedan claras\n",
    "df_plans"
   ]
  },
  {
   "cell_type": "markdown",
   "metadata": {
    "id": "hMR1tP5d0q1F"
   },
   "source": [
    "## Agregar datos por usuario\n",
    "\n",
    "[Ahora que los datos están limpios, agrega los datos por usuario y por periodo para que solo haya un registro por usuario y por periodo. Esto facilitará mucho el análisis posterior.]"
   ]
  },
  {
   "cell_type": "code",
   "execution_count": 31,
   "metadata": {},
   "outputs": [
    {
     "data": {
      "text/html": [
       "<div>\n",
       "<style scoped>\n",
       "    .dataframe tbody tr th:only-of-type {\n",
       "        vertical-align: middle;\n",
       "    }\n",
       "\n",
       "    .dataframe tbody tr th {\n",
       "        vertical-align: top;\n",
       "    }\n",
       "\n",
       "    .dataframe thead th {\n",
       "        text-align: right;\n",
       "    }\n",
       "</style>\n",
       "<table border=\"1\" class=\"dataframe\">\n",
       "  <thead>\n",
       "    <tr style=\"text-align: right;\">\n",
       "      <th></th>\n",
       "      <th>user_id</th>\n",
       "      <th>month</th>\n",
       "      <th>nro_calls</th>\n",
       "    </tr>\n",
       "  </thead>\n",
       "  <tbody>\n",
       "    <tr>\n",
       "      <th>0</th>\n",
       "      <td>1000</td>\n",
       "      <td>12</td>\n",
       "      <td>16</td>\n",
       "    </tr>\n",
       "    <tr>\n",
       "      <th>1</th>\n",
       "      <td>1001</td>\n",
       "      <td>8</td>\n",
       "      <td>27</td>\n",
       "    </tr>\n",
       "    <tr>\n",
       "      <th>2</th>\n",
       "      <td>1001</td>\n",
       "      <td>9</td>\n",
       "      <td>49</td>\n",
       "    </tr>\n",
       "    <tr>\n",
       "      <th>3</th>\n",
       "      <td>1001</td>\n",
       "      <td>10</td>\n",
       "      <td>65</td>\n",
       "    </tr>\n",
       "    <tr>\n",
       "      <th>4</th>\n",
       "      <td>1001</td>\n",
       "      <td>11</td>\n",
       "      <td>64</td>\n",
       "    </tr>\n",
       "  </tbody>\n",
       "</table>\n",
       "</div>"
      ],
      "text/plain": [
       "  user_id  month  nro_calls\n",
       "0    1000     12         16\n",
       "1    1001      8         27\n",
       "2    1001      9         49\n",
       "3    1001     10         65\n",
       "4    1001     11         64"
      ]
     },
     "execution_count": 31,
     "metadata": {},
     "output_type": "execute_result"
    }
   ],
   "source": [
    "# Calcula el número de llamadas hechas por cada usuario al mes. Guarda el resultado.\n",
    "df_calls['month'] = (df_calls['call_date'].dt.month) #crear una columna solo extrayendo el mes \n",
    "nro_user_mes = df_calls.groupby(['user_id','month'])['id'].count().reset_index().rename(columns={\"id\":\"nro_calls\"}) \n",
    "nro_user_mes.head()"
   ]
  },
  {
   "cell_type": "code",
   "execution_count": 32,
   "metadata": {
    "id": "aw2cmuql0q1G"
   },
   "outputs": [
    {
     "data": {
      "text/html": [
       "<div>\n",
       "<style scoped>\n",
       "    .dataframe tbody tr th:only-of-type {\n",
       "        vertical-align: middle;\n",
       "    }\n",
       "\n",
       "    .dataframe tbody tr th {\n",
       "        vertical-align: top;\n",
       "    }\n",
       "\n",
       "    .dataframe thead th {\n",
       "        text-align: right;\n",
       "    }\n",
       "</style>\n",
       "<table border=\"1\" class=\"dataframe\">\n",
       "  <thead>\n",
       "    <tr style=\"text-align: right;\">\n",
       "      <th></th>\n",
       "      <th>user_id</th>\n",
       "      <th>month</th>\n",
       "      <th>used_min</th>\n",
       "    </tr>\n",
       "  </thead>\n",
       "  <tbody>\n",
       "    <tr>\n",
       "      <th>0</th>\n",
       "      <td>1000</td>\n",
       "      <td>12</td>\n",
       "      <td>116.83</td>\n",
       "    </tr>\n",
       "    <tr>\n",
       "      <th>1</th>\n",
       "      <td>1001</td>\n",
       "      <td>8</td>\n",
       "      <td>171.14</td>\n",
       "    </tr>\n",
       "    <tr>\n",
       "      <th>2</th>\n",
       "      <td>1001</td>\n",
       "      <td>9</td>\n",
       "      <td>297.69</td>\n",
       "    </tr>\n",
       "    <tr>\n",
       "      <th>3</th>\n",
       "      <td>1001</td>\n",
       "      <td>10</td>\n",
       "      <td>374.11</td>\n",
       "    </tr>\n",
       "    <tr>\n",
       "      <th>4</th>\n",
       "      <td>1001</td>\n",
       "      <td>11</td>\n",
       "      <td>404.59</td>\n",
       "    </tr>\n",
       "  </tbody>\n",
       "</table>\n",
       "</div>"
      ],
      "text/plain": [
       "  user_id  month  used_min\n",
       "0    1000     12    116.83\n",
       "1    1001      8    171.14\n",
       "2    1001      9    297.69\n",
       "3    1001     10    374.11\n",
       "4    1001     11    404.59"
      ]
     },
     "execution_count": 32,
     "metadata": {},
     "output_type": "execute_result"
    }
   ],
   "source": [
    "# Calcula la cantidad de minutos usados por cada usuario al mes. Guarda el resultado.\n",
    "nro_user_mes_duration = df_calls.groupby(['user_id','month'])['duration'].sum().reset_index().rename(columns={\"duration\":\"used_min\"})\n",
    "nro_user_mes_duration.head()"
   ]
  },
  {
   "cell_type": "code",
   "execution_count": 33,
   "metadata": {
    "id": "H1AqN2eG0q1H"
   },
   "outputs": [
    {
     "data": {
      "text/html": [
       "<div>\n",
       "<style scoped>\n",
       "    .dataframe tbody tr th:only-of-type {\n",
       "        vertical-align: middle;\n",
       "    }\n",
       "\n",
       "    .dataframe tbody tr th {\n",
       "        vertical-align: top;\n",
       "    }\n",
       "\n",
       "    .dataframe thead th {\n",
       "        text-align: right;\n",
       "    }\n",
       "</style>\n",
       "<table border=\"1\" class=\"dataframe\">\n",
       "  <thead>\n",
       "    <tr style=\"text-align: right;\">\n",
       "      <th></th>\n",
       "      <th>user_id</th>\n",
       "      <th>month</th>\n",
       "      <th>nro_messages</th>\n",
       "    </tr>\n",
       "  </thead>\n",
       "  <tbody>\n",
       "    <tr>\n",
       "      <th>0</th>\n",
       "      <td>1000</td>\n",
       "      <td>12</td>\n",
       "      <td>11</td>\n",
       "    </tr>\n",
       "    <tr>\n",
       "      <th>1</th>\n",
       "      <td>1001</td>\n",
       "      <td>8</td>\n",
       "      <td>30</td>\n",
       "    </tr>\n",
       "    <tr>\n",
       "      <th>2</th>\n",
       "      <td>1001</td>\n",
       "      <td>9</td>\n",
       "      <td>44</td>\n",
       "    </tr>\n",
       "    <tr>\n",
       "      <th>3</th>\n",
       "      <td>1001</td>\n",
       "      <td>10</td>\n",
       "      <td>53</td>\n",
       "    </tr>\n",
       "    <tr>\n",
       "      <th>4</th>\n",
       "      <td>1001</td>\n",
       "      <td>11</td>\n",
       "      <td>36</td>\n",
       "    </tr>\n",
       "  </tbody>\n",
       "</table>\n",
       "</div>"
      ],
      "text/plain": [
       "  user_id  month  nro_messages\n",
       "0    1000     12            11\n",
       "1    1001      8            30\n",
       "2    1001      9            44\n",
       "3    1001     10            53\n",
       "4    1001     11            36"
      ]
     },
     "execution_count": 33,
     "metadata": {},
     "output_type": "execute_result"
    }
   ],
   "source": [
    "# Calcula el número de mensajes enviados por cada usuario al mes. Guarda el resultado.\n",
    "df_messages['month'] = (df_messages['message_date'].dt.month) #crear una columna solo extrayendo el mes \n",
    "mens_user_mes = df_messages.groupby(['user_id','month'])['id'].count().reset_index().rename(columns={\"id\":\"nro_messages\"}) \n",
    "mens_user_mes.head()"
   ]
  },
  {
   "cell_type": "code",
   "execution_count": 34,
   "metadata": {},
   "outputs": [
    {
     "data": {
      "text/html": [
       "<div>\n",
       "<style scoped>\n",
       "    .dataframe tbody tr th:only-of-type {\n",
       "        vertical-align: middle;\n",
       "    }\n",
       "\n",
       "    .dataframe tbody tr th {\n",
       "        vertical-align: top;\n",
       "    }\n",
       "\n",
       "    .dataframe thead th {\n",
       "        text-align: right;\n",
       "    }\n",
       "</style>\n",
       "<table border=\"1\" class=\"dataframe\">\n",
       "  <thead>\n",
       "    <tr style=\"text-align: right;\">\n",
       "      <th></th>\n",
       "      <th>user_id</th>\n",
       "      <th>month</th>\n",
       "      <th>mb_used</th>\n",
       "    </tr>\n",
       "  </thead>\n",
       "  <tbody>\n",
       "    <tr>\n",
       "      <th>0</th>\n",
       "      <td>1000</td>\n",
       "      <td>12</td>\n",
       "      <td>1901.47</td>\n",
       "    </tr>\n",
       "    <tr>\n",
       "      <th>1</th>\n",
       "      <td>1001</td>\n",
       "      <td>8</td>\n",
       "      <td>6919.15</td>\n",
       "    </tr>\n",
       "    <tr>\n",
       "      <th>2</th>\n",
       "      <td>1001</td>\n",
       "      <td>9</td>\n",
       "      <td>13314.82</td>\n",
       "    </tr>\n",
       "    <tr>\n",
       "      <th>3</th>\n",
       "      <td>1001</td>\n",
       "      <td>10</td>\n",
       "      <td>22330.49</td>\n",
       "    </tr>\n",
       "    <tr>\n",
       "      <th>4</th>\n",
       "      <td>1001</td>\n",
       "      <td>11</td>\n",
       "      <td>18504.30</td>\n",
       "    </tr>\n",
       "  </tbody>\n",
       "</table>\n",
       "</div>"
      ],
      "text/plain": [
       "  user_id  month   mb_used\n",
       "0    1000     12   1901.47\n",
       "1    1001      8   6919.15\n",
       "2    1001      9  13314.82\n",
       "3    1001     10  22330.49\n",
       "4    1001     11  18504.30"
      ]
     },
     "execution_count": 34,
     "metadata": {},
     "output_type": "execute_result"
    }
   ],
   "source": [
    "# Calcula el volumen del tráfico de Internet usado por cada usuario al mes. Guarda el resultado.\n",
    "df_internet['month'] = (df_internet['session_date'].dt.month) #crear una columna solo extrayendo el mes \n",
    "inter_user_mes = df_internet.groupby(['user_id','month'])['mb_used'].sum().reset_index() \n",
    "inter_user_mes.head()"
   ]
  },
  {
   "cell_type": "markdown",
   "metadata": {
    "id": "VDfYXnj80q1H"
   },
   "source": [
    "[Junta los datos agregados en un DataFrame para que haya un registro que represente lo que consumió un usuario único en un mes determinado.]"
   ]
  },
  {
   "cell_type": "code",
   "execution_count": 35,
   "metadata": {},
   "outputs": [
    {
     "data": {
      "text/html": [
       "<div>\n",
       "<style scoped>\n",
       "    .dataframe tbody tr th:only-of-type {\n",
       "        vertical-align: middle;\n",
       "    }\n",
       "\n",
       "    .dataframe tbody tr th {\n",
       "        vertical-align: top;\n",
       "    }\n",
       "\n",
       "    .dataframe thead th {\n",
       "        text-align: right;\n",
       "    }\n",
       "</style>\n",
       "<table border=\"1\" class=\"dataframe\">\n",
       "  <thead>\n",
       "    <tr style=\"text-align: right;\">\n",
       "      <th></th>\n",
       "      <th>user_id</th>\n",
       "      <th>month</th>\n",
       "      <th>nro_calls</th>\n",
       "      <th>used_min</th>\n",
       "      <th>nro_messages</th>\n",
       "      <th>mb_used</th>\n",
       "    </tr>\n",
       "  </thead>\n",
       "  <tbody>\n",
       "    <tr>\n",
       "      <th>0</th>\n",
       "      <td>1000</td>\n",
       "      <td>12</td>\n",
       "      <td>16</td>\n",
       "      <td>116.83</td>\n",
       "      <td>11</td>\n",
       "      <td>1901.47</td>\n",
       "    </tr>\n",
       "    <tr>\n",
       "      <th>1</th>\n",
       "      <td>1001</td>\n",
       "      <td>8</td>\n",
       "      <td>27</td>\n",
       "      <td>171.14</td>\n",
       "      <td>30</td>\n",
       "      <td>6919.15</td>\n",
       "    </tr>\n",
       "    <tr>\n",
       "      <th>2</th>\n",
       "      <td>1001</td>\n",
       "      <td>9</td>\n",
       "      <td>49</td>\n",
       "      <td>297.69</td>\n",
       "      <td>44</td>\n",
       "      <td>13314.82</td>\n",
       "    </tr>\n",
       "    <tr>\n",
       "      <th>3</th>\n",
       "      <td>1001</td>\n",
       "      <td>10</td>\n",
       "      <td>65</td>\n",
       "      <td>374.11</td>\n",
       "      <td>53</td>\n",
       "      <td>22330.49</td>\n",
       "    </tr>\n",
       "    <tr>\n",
       "      <th>4</th>\n",
       "      <td>1001</td>\n",
       "      <td>11</td>\n",
       "      <td>64</td>\n",
       "      <td>404.59</td>\n",
       "      <td>36</td>\n",
       "      <td>18504.30</td>\n",
       "    </tr>\n",
       "  </tbody>\n",
       "</table>\n",
       "</div>"
      ],
      "text/plain": [
       "  user_id  month  nro_calls  used_min  nro_messages   mb_used\n",
       "0    1000     12         16    116.83            11   1901.47\n",
       "1    1001      8         27    171.14            30   6919.15\n",
       "2    1001      9         49    297.69            44  13314.82\n",
       "3    1001     10         65    374.11            53  22330.49\n",
       "4    1001     11         64    404.59            36  18504.30"
      ]
     },
     "execution_count": 35,
     "metadata": {},
     "output_type": "execute_result"
    }
   ],
   "source": [
    "# Fusiona los datos de llamadas, minutos, mensajes e Internet con base en user_id y month\n",
    "df_merge = pd.merge(nro_user_mes,nro_user_mes_duration, on=['user_id','month'], how='inner')\n",
    "merge_df = pd.merge(mens_user_mes,inter_user_mes, on=['user_id','month'], how='inner')\n",
    "df_merge_final = pd.merge(df_merge,merge_df, on=['user_id','month'], how='inner')\n",
    "df_merge_final.head()"
   ]
  },
  {
   "cell_type": "code",
   "execution_count": 36,
   "metadata": {
    "scrolled": true
   },
   "outputs": [
    {
     "data": {
      "text/html": [
       "<div>\n",
       "<style scoped>\n",
       "    .dataframe tbody tr th:only-of-type {\n",
       "        vertical-align: middle;\n",
       "    }\n",
       "\n",
       "    .dataframe tbody tr th {\n",
       "        vertical-align: top;\n",
       "    }\n",
       "\n",
       "    .dataframe thead th {\n",
       "        text-align: right;\n",
       "    }\n",
       "</style>\n",
       "<table border=\"1\" class=\"dataframe\">\n",
       "  <thead>\n",
       "    <tr style=\"text-align: right;\">\n",
       "      <th></th>\n",
       "      <th>user_id</th>\n",
       "      <th>month</th>\n",
       "      <th>nro_calls</th>\n",
       "      <th>used_min</th>\n",
       "      <th>nro_messages</th>\n",
       "      <th>mb_used</th>\n",
       "      <th>plan_name</th>\n",
       "    </tr>\n",
       "  </thead>\n",
       "  <tbody>\n",
       "    <tr>\n",
       "      <th>0</th>\n",
       "      <td>1000</td>\n",
       "      <td>12</td>\n",
       "      <td>16</td>\n",
       "      <td>116.83</td>\n",
       "      <td>11</td>\n",
       "      <td>1901.47</td>\n",
       "      <td>ultimate</td>\n",
       "    </tr>\n",
       "    <tr>\n",
       "      <th>1</th>\n",
       "      <td>1001</td>\n",
       "      <td>8</td>\n",
       "      <td>27</td>\n",
       "      <td>171.14</td>\n",
       "      <td>30</td>\n",
       "      <td>6919.15</td>\n",
       "      <td>surf</td>\n",
       "    </tr>\n",
       "    <tr>\n",
       "      <th>2</th>\n",
       "      <td>1001</td>\n",
       "      <td>9</td>\n",
       "      <td>49</td>\n",
       "      <td>297.69</td>\n",
       "      <td>44</td>\n",
       "      <td>13314.82</td>\n",
       "      <td>surf</td>\n",
       "    </tr>\n",
       "    <tr>\n",
       "      <th>3</th>\n",
       "      <td>1001</td>\n",
       "      <td>10</td>\n",
       "      <td>65</td>\n",
       "      <td>374.11</td>\n",
       "      <td>53</td>\n",
       "      <td>22330.49</td>\n",
       "      <td>surf</td>\n",
       "    </tr>\n",
       "    <tr>\n",
       "      <th>4</th>\n",
       "      <td>1001</td>\n",
       "      <td>11</td>\n",
       "      <td>64</td>\n",
       "      <td>404.59</td>\n",
       "      <td>36</td>\n",
       "      <td>18504.30</td>\n",
       "      <td>surf</td>\n",
       "    </tr>\n",
       "  </tbody>\n",
       "</table>\n",
       "</div>"
      ],
      "text/plain": [
       "  user_id  month  nro_calls  used_min  nro_messages   mb_used plan_name\n",
       "0    1000     12         16    116.83            11   1901.47  ultimate\n",
       "1    1001      8         27    171.14            30   6919.15      surf\n",
       "2    1001      9         49    297.69            44  13314.82      surf\n",
       "3    1001     10         65    374.11            53  22330.49      surf\n",
       "4    1001     11         64    404.59            36  18504.30      surf"
      ]
     },
     "execution_count": 36,
     "metadata": {},
     "output_type": "execute_result"
    }
   ],
   "source": [
    "# Añade la información de la tarifa\n",
    "nuevas_columnas = ['user_id','plan']\n",
    "user_plan = df_users[nuevas_columnas]\n",
    "user_plan_total = pd.merge(df_merge_final,user_plan, on=['user_id']).rename(columns={\"plan\":\"plan_name\"})\n",
    "user_plan_total.head()"
   ]
  },
  {
   "cell_type": "markdown",
   "metadata": {
    "id": "1IwGo4wg0q1I"
   },
   "source": [
    "[Calcula los ingresos mensuales por usuario (resta el límite del paquete gratuito del número total de llamadas, mensajes de texto y datos; multiplica el resultado por el valor del plan de llamadas; añade la tarifa mensual en función del plan de llamadas). Nota: Dadas las condiciones del plan, ¡esto podría no ser tan trivial como un par de líneas! Así que no pasa nada si dedicas algo de tiempo a ello.]"
   ]
  },
  {
   "cell_type": "code",
   "execution_count": 37,
   "metadata": {
    "id": "5FGCf_c60q1I"
   },
   "outputs": [
    {
     "data": {
      "text/html": [
       "<div>\n",
       "<style scoped>\n",
       "    .dataframe tbody tr th:only-of-type {\n",
       "        vertical-align: middle;\n",
       "    }\n",
       "\n",
       "    .dataframe tbody tr th {\n",
       "        vertical-align: top;\n",
       "    }\n",
       "\n",
       "    .dataframe thead th {\n",
       "        text-align: right;\n",
       "    }\n",
       "</style>\n",
       "<table border=\"1\" class=\"dataframe\">\n",
       "  <thead>\n",
       "    <tr style=\"text-align: right;\">\n",
       "      <th></th>\n",
       "      <th>user_id</th>\n",
       "      <th>month</th>\n",
       "      <th>nro_calls</th>\n",
       "      <th>used_min</th>\n",
       "      <th>nro_messages</th>\n",
       "      <th>mb_used</th>\n",
       "      <th>plan_name</th>\n",
       "      <th>messages_included</th>\n",
       "      <th>mb_per_month_included</th>\n",
       "      <th>minutes_included</th>\n",
       "      <th>usd_monthly_pay</th>\n",
       "      <th>usd_per_gb</th>\n",
       "      <th>usd_per_message</th>\n",
       "      <th>usd_per_minute</th>\n",
       "      <th>gb_unit</th>\n",
       "      <th>excess_mb</th>\n",
       "      <th>excess_gb</th>\n",
       "      <th>extra_charge_gb</th>\n",
       "    </tr>\n",
       "  </thead>\n",
       "  <tbody>\n",
       "    <tr>\n",
       "      <th>914</th>\n",
       "      <td>1141</td>\n",
       "      <td>11</td>\n",
       "      <td>106</td>\n",
       "      <td>762.94</td>\n",
       "      <td>15</td>\n",
       "      <td>17335.74</td>\n",
       "      <td>surf</td>\n",
       "      <td>50</td>\n",
       "      <td>15360</td>\n",
       "      <td>500</td>\n",
       "      <td>20</td>\n",
       "      <td>10</td>\n",
       "      <td>0.03</td>\n",
       "      <td>0.03</td>\n",
       "      <td>1024</td>\n",
       "      <td>1975.74</td>\n",
       "      <td>2</td>\n",
       "      <td>20</td>\n",
       "    </tr>\n",
       "    <tr>\n",
       "      <th>721</th>\n",
       "      <td>1075</td>\n",
       "      <td>11</td>\n",
       "      <td>22</td>\n",
       "      <td>111.28</td>\n",
       "      <td>64</td>\n",
       "      <td>8632.35</td>\n",
       "      <td>surf</td>\n",
       "      <td>50</td>\n",
       "      <td>15360</td>\n",
       "      <td>500</td>\n",
       "      <td>20</td>\n",
       "      <td>10</td>\n",
       "      <td>0.03</td>\n",
       "      <td>0.03</td>\n",
       "      <td>1024</td>\n",
       "      <td>0.00</td>\n",
       "      <td>0</td>\n",
       "      <td>0</td>\n",
       "    </tr>\n",
       "    <tr>\n",
       "      <th>1426</th>\n",
       "      <td>1336</td>\n",
       "      <td>5</td>\n",
       "      <td>92</td>\n",
       "      <td>554.97</td>\n",
       "      <td>88</td>\n",
       "      <td>16958.73</td>\n",
       "      <td>surf</td>\n",
       "      <td>50</td>\n",
       "      <td>15360</td>\n",
       "      <td>500</td>\n",
       "      <td>20</td>\n",
       "      <td>10</td>\n",
       "      <td>0.03</td>\n",
       "      <td>0.03</td>\n",
       "      <td>1024</td>\n",
       "      <td>1598.73</td>\n",
       "      <td>2</td>\n",
       "      <td>20</td>\n",
       "    </tr>\n",
       "    <tr>\n",
       "      <th>650</th>\n",
       "      <td>1052</td>\n",
       "      <td>11</td>\n",
       "      <td>27</td>\n",
       "      <td>197.32</td>\n",
       "      <td>52</td>\n",
       "      <td>4650.40</td>\n",
       "      <td>surf</td>\n",
       "      <td>50</td>\n",
       "      <td>15360</td>\n",
       "      <td>500</td>\n",
       "      <td>20</td>\n",
       "      <td>10</td>\n",
       "      <td>0.03</td>\n",
       "      <td>0.03</td>\n",
       "      <td>1024</td>\n",
       "      <td>0.00</td>\n",
       "      <td>0</td>\n",
       "      <td>0</td>\n",
       "    </tr>\n",
       "    <tr>\n",
       "      <th>1652</th>\n",
       "      <td>1439</td>\n",
       "      <td>5</td>\n",
       "      <td>46</td>\n",
       "      <td>275.12</td>\n",
       "      <td>55</td>\n",
       "      <td>13808.46</td>\n",
       "      <td>surf</td>\n",
       "      <td>50</td>\n",
       "      <td>15360</td>\n",
       "      <td>500</td>\n",
       "      <td>20</td>\n",
       "      <td>10</td>\n",
       "      <td>0.03</td>\n",
       "      <td>0.03</td>\n",
       "      <td>1024</td>\n",
       "      <td>0.00</td>\n",
       "      <td>0</td>\n",
       "      <td>0</td>\n",
       "    </tr>\n",
       "  </tbody>\n",
       "</table>\n",
       "</div>"
      ],
      "text/plain": [
       "     user_id  month  nro_calls  used_min  nro_messages   mb_used plan_name  \\\n",
       "914     1141     11        106    762.94            15  17335.74      surf   \n",
       "721     1075     11         22    111.28            64   8632.35      surf   \n",
       "1426    1336      5         92    554.97            88  16958.73      surf   \n",
       "650     1052     11         27    197.32            52   4650.40      surf   \n",
       "1652    1439      5         46    275.12            55  13808.46      surf   \n",
       "\n",
       "      messages_included  mb_per_month_included  minutes_included  \\\n",
       "914                  50                  15360               500   \n",
       "721                  50                  15360               500   \n",
       "1426                 50                  15360               500   \n",
       "650                  50                  15360               500   \n",
       "1652                 50                  15360               500   \n",
       "\n",
       "      usd_monthly_pay  usd_per_gb  usd_per_message  usd_per_minute  gb_unit  \\\n",
       "914                20          10             0.03            0.03     1024   \n",
       "721                20          10             0.03            0.03     1024   \n",
       "1426               20          10             0.03            0.03     1024   \n",
       "650                20          10             0.03            0.03     1024   \n",
       "1652               20          10             0.03            0.03     1024   \n",
       "\n",
       "      excess_mb  excess_gb  extra_charge_gb  \n",
       "914     1975.74          2               20  \n",
       "721        0.00          0                0  \n",
       "1426    1598.73          2               20  \n",
       "650        0.00          0                0  \n",
       "1652       0.00          0                0  "
      ]
     },
     "execution_count": 37,
     "metadata": {},
     "output_type": "execute_result"
    }
   ],
   "source": [
    "ingreso_mensual = pd.merge(user_plan_total,df_plans, on=['plan_name'])\n",
    "\n",
    "#Hallar el cargo extra de gb para cada ususario\n",
    "def excess(row):\n",
    "    if row['mb_used'] > row['mb_per_month_included']:\n",
    "        return row['mb_used'] - row['mb_per_month_included']\n",
    "    else:\n",
    "        return 0\n",
    "\n",
    "ingreso_mensual['excess_mb'] = ingreso_mensual.apply(excess, axis=1)\n",
    "ingreso_mensual['excess_gb'] = (ingreso_mensual['excess_mb'] / ingreso_mensual['gb_unit']).apply(math.ceil)\n",
    "ingreso_mensual['extra_charge_gb'] = ingreso_mensual['excess_gb'] * ingreso_mensual['usd_per_gb']\n",
    "ingreso_mensual.sample(5)"
   ]
  },
  {
   "cell_type": "code",
   "execution_count": 38,
   "metadata": {
    "scrolled": true
   },
   "outputs": [
    {
     "data": {
      "text/html": [
       "<div>\n",
       "<style scoped>\n",
       "    .dataframe tbody tr th:only-of-type {\n",
       "        vertical-align: middle;\n",
       "    }\n",
       "\n",
       "    .dataframe tbody tr th {\n",
       "        vertical-align: top;\n",
       "    }\n",
       "\n",
       "    .dataframe thead th {\n",
       "        text-align: right;\n",
       "    }\n",
       "</style>\n",
       "<table border=\"1\" class=\"dataframe\">\n",
       "  <thead>\n",
       "    <tr style=\"text-align: right;\">\n",
       "      <th></th>\n",
       "      <th>user_id</th>\n",
       "      <th>month</th>\n",
       "      <th>nro_calls</th>\n",
       "      <th>used_min</th>\n",
       "      <th>nro_messages</th>\n",
       "      <th>mb_used</th>\n",
       "      <th>plan_name</th>\n",
       "      <th>messages_included</th>\n",
       "      <th>mb_per_month_included</th>\n",
       "      <th>minutes_included</th>\n",
       "      <th>usd_monthly_pay</th>\n",
       "      <th>usd_per_gb</th>\n",
       "      <th>usd_per_message</th>\n",
       "      <th>usd_per_minute</th>\n",
       "      <th>gb_unit</th>\n",
       "      <th>excess_mb</th>\n",
       "      <th>excess_gb</th>\n",
       "      <th>extra_charge_gb</th>\n",
       "      <th>excess_min</th>\n",
       "      <th>extra_charge_min</th>\n",
       "    </tr>\n",
       "  </thead>\n",
       "  <tbody>\n",
       "    <tr>\n",
       "      <th>1096</th>\n",
       "      <td>1215</td>\n",
       "      <td>10</td>\n",
       "      <td>123</td>\n",
       "      <td>847.52</td>\n",
       "      <td>96</td>\n",
       "      <td>30940.87</td>\n",
       "      <td>surf</td>\n",
       "      <td>50</td>\n",
       "      <td>15360</td>\n",
       "      <td>500</td>\n",
       "      <td>20</td>\n",
       "      <td>10</td>\n",
       "      <td>0.03</td>\n",
       "      <td>0.03</td>\n",
       "      <td>1024</td>\n",
       "      <td>15580.87</td>\n",
       "      <td>16</td>\n",
       "      <td>160</td>\n",
       "      <td>348</td>\n",
       "      <td>10.44</td>\n",
       "    </tr>\n",
       "    <tr>\n",
       "      <th>1097</th>\n",
       "      <td>1215</td>\n",
       "      <td>11</td>\n",
       "      <td>95</td>\n",
       "      <td>660.73</td>\n",
       "      <td>92</td>\n",
       "      <td>35029.93</td>\n",
       "      <td>surf</td>\n",
       "      <td>50</td>\n",
       "      <td>15360</td>\n",
       "      <td>500</td>\n",
       "      <td>20</td>\n",
       "      <td>10</td>\n",
       "      <td>0.03</td>\n",
       "      <td>0.03</td>\n",
       "      <td>1024</td>\n",
       "      <td>19669.93</td>\n",
       "      <td>20</td>\n",
       "      <td>200</td>\n",
       "      <td>161</td>\n",
       "      <td>4.83</td>\n",
       "    </tr>\n",
       "  </tbody>\n",
       "</table>\n",
       "</div>"
      ],
      "text/plain": [
       "     user_id  month  nro_calls  used_min  nro_messages   mb_used plan_name  \\\n",
       "1096    1215     10        123    847.52            96  30940.87      surf   \n",
       "1097    1215     11         95    660.73            92  35029.93      surf   \n",
       "\n",
       "      messages_included  mb_per_month_included  minutes_included  \\\n",
       "1096                 50                  15360               500   \n",
       "1097                 50                  15360               500   \n",
       "\n",
       "      usd_monthly_pay  usd_per_gb  usd_per_message  usd_per_minute  gb_unit  \\\n",
       "1096               20          10             0.03            0.03     1024   \n",
       "1097               20          10             0.03            0.03     1024   \n",
       "\n",
       "      excess_mb  excess_gb  extra_charge_gb  excess_min  extra_charge_min  \n",
       "1096   15580.87         16              160         348             10.44  \n",
       "1097   19669.93         20              200         161              4.83  "
      ]
     },
     "execution_count": 38,
     "metadata": {},
     "output_type": "execute_result"
    }
   ],
   "source": [
    "#Hallar el cargo extra de llamadas para cada ususario\n",
    "def minutes(row):\n",
    "    if row['used_min'] > row['minutes_included']:\n",
    "        return row['used_min'] - row['minutes_included']\n",
    "    else:\n",
    "        return 0\n",
    "    \n",
    "ingreso_mensual['excess_min'] = ingreso_mensual.apply(minutes, axis=1).apply(math.ceil)\n",
    "ingreso_mensual['extra_charge_min'] = ingreso_mensual['excess_min'] * ingreso_mensual['usd_per_minute']\n",
    "\n",
    "ingreso_mensual.iloc[1096:1098] \n"
   ]
  },
  {
   "cell_type": "code",
   "execution_count": 39,
   "metadata": {
    "scrolled": true
   },
   "outputs": [
    {
     "data": {
      "text/html": [
       "<div>\n",
       "<style scoped>\n",
       "    .dataframe tbody tr th:only-of-type {\n",
       "        vertical-align: middle;\n",
       "    }\n",
       "\n",
       "    .dataframe tbody tr th {\n",
       "        vertical-align: top;\n",
       "    }\n",
       "\n",
       "    .dataframe thead th {\n",
       "        text-align: right;\n",
       "    }\n",
       "</style>\n",
       "<table border=\"1\" class=\"dataframe\">\n",
       "  <thead>\n",
       "    <tr style=\"text-align: right;\">\n",
       "      <th></th>\n",
       "      <th>user_id</th>\n",
       "      <th>month</th>\n",
       "      <th>nro_calls</th>\n",
       "      <th>used_min</th>\n",
       "      <th>nro_messages</th>\n",
       "      <th>mb_used</th>\n",
       "      <th>plan_name</th>\n",
       "      <th>messages_included</th>\n",
       "      <th>mb_per_month_included</th>\n",
       "      <th>minutes_included</th>\n",
       "      <th>...</th>\n",
       "      <th>usd_per_message</th>\n",
       "      <th>usd_per_minute</th>\n",
       "      <th>gb_unit</th>\n",
       "      <th>excess_mb</th>\n",
       "      <th>excess_gb</th>\n",
       "      <th>extra_charge_gb</th>\n",
       "      <th>excess_min</th>\n",
       "      <th>extra_charge_min</th>\n",
       "      <th>excess_messages</th>\n",
       "      <th>extra_charge_messages</th>\n",
       "    </tr>\n",
       "  </thead>\n",
       "  <tbody>\n",
       "    <tr>\n",
       "      <th>1096</th>\n",
       "      <td>1215</td>\n",
       "      <td>10</td>\n",
       "      <td>123</td>\n",
       "      <td>847.52</td>\n",
       "      <td>96</td>\n",
       "      <td>30940.87</td>\n",
       "      <td>surf</td>\n",
       "      <td>50</td>\n",
       "      <td>15360</td>\n",
       "      <td>500</td>\n",
       "      <td>...</td>\n",
       "      <td>0.03</td>\n",
       "      <td>0.03</td>\n",
       "      <td>1024</td>\n",
       "      <td>15580.87</td>\n",
       "      <td>16</td>\n",
       "      <td>160</td>\n",
       "      <td>348</td>\n",
       "      <td>10.44</td>\n",
       "      <td>46</td>\n",
       "      <td>1.38</td>\n",
       "    </tr>\n",
       "    <tr>\n",
       "      <th>1097</th>\n",
       "      <td>1215</td>\n",
       "      <td>11</td>\n",
       "      <td>95</td>\n",
       "      <td>660.73</td>\n",
       "      <td>92</td>\n",
       "      <td>35029.93</td>\n",
       "      <td>surf</td>\n",
       "      <td>50</td>\n",
       "      <td>15360</td>\n",
       "      <td>500</td>\n",
       "      <td>...</td>\n",
       "      <td>0.03</td>\n",
       "      <td>0.03</td>\n",
       "      <td>1024</td>\n",
       "      <td>19669.93</td>\n",
       "      <td>20</td>\n",
       "      <td>200</td>\n",
       "      <td>161</td>\n",
       "      <td>4.83</td>\n",
       "      <td>42</td>\n",
       "      <td>1.26</td>\n",
       "    </tr>\n",
       "  </tbody>\n",
       "</table>\n",
       "<p>2 rows × 22 columns</p>\n",
       "</div>"
      ],
      "text/plain": [
       "     user_id  month  nro_calls  used_min  nro_messages   mb_used plan_name  \\\n",
       "1096    1215     10        123    847.52            96  30940.87      surf   \n",
       "1097    1215     11         95    660.73            92  35029.93      surf   \n",
       "\n",
       "      messages_included  mb_per_month_included  minutes_included  ...  \\\n",
       "1096                 50                  15360               500  ...   \n",
       "1097                 50                  15360               500  ...   \n",
       "\n",
       "      usd_per_message  usd_per_minute  gb_unit  excess_mb  excess_gb  \\\n",
       "1096             0.03            0.03     1024   15580.87         16   \n",
       "1097             0.03            0.03     1024   19669.93         20   \n",
       "\n",
       "      extra_charge_gb  excess_min  extra_charge_min  excess_messages  \\\n",
       "1096              160         348             10.44               46   \n",
       "1097              200         161              4.83               42   \n",
       "\n",
       "      extra_charge_messages  \n",
       "1096                   1.38  \n",
       "1097                   1.26  \n",
       "\n",
       "[2 rows x 22 columns]"
      ]
     },
     "execution_count": 39,
     "metadata": {},
     "output_type": "execute_result"
    }
   ],
   "source": [
    "#Hallar el cargo extra de mensajes para cada ususario\n",
    "def messages(row):\n",
    "    if row['nro_messages'] > row['messages_included']:\n",
    "        return row['nro_messages'] - row['messages_included']\n",
    "    else:\n",
    "        return 0\n",
    "    \n",
    "ingreso_mensual['excess_messages'] = ingreso_mensual.apply(messages, axis=1)\n",
    "ingreso_mensual['extra_charge_messages'] = ingreso_mensual['excess_messages'] * ingreso_mensual['usd_per_message']\n",
    "\n",
    "ingreso_mensual.iloc[1096:1098] \n"
   ]
  },
  {
   "cell_type": "code",
   "execution_count": 40,
   "metadata": {},
   "outputs": [
    {
     "data": {
      "text/html": [
       "<div>\n",
       "<style scoped>\n",
       "    .dataframe tbody tr th:only-of-type {\n",
       "        vertical-align: middle;\n",
       "    }\n",
       "\n",
       "    .dataframe tbody tr th {\n",
       "        vertical-align: top;\n",
       "    }\n",
       "\n",
       "    .dataframe thead th {\n",
       "        text-align: right;\n",
       "    }\n",
       "</style>\n",
       "<table border=\"1\" class=\"dataframe\">\n",
       "  <thead>\n",
       "    <tr style=\"text-align: right;\">\n",
       "      <th></th>\n",
       "      <th>user_id</th>\n",
       "      <th>month</th>\n",
       "      <th>total_charge</th>\n",
       "    </tr>\n",
       "  </thead>\n",
       "  <tbody>\n",
       "    <tr>\n",
       "      <th>0</th>\n",
       "      <td>1000</td>\n",
       "      <td>12</td>\n",
       "      <td>70.0</td>\n",
       "    </tr>\n",
       "    <tr>\n",
       "      <th>1</th>\n",
       "      <td>1006</td>\n",
       "      <td>11</td>\n",
       "      <td>70.0</td>\n",
       "    </tr>\n",
       "    <tr>\n",
       "      <th>2</th>\n",
       "      <td>1006</td>\n",
       "      <td>12</td>\n",
       "      <td>84.0</td>\n",
       "    </tr>\n",
       "    <tr>\n",
       "      <th>3</th>\n",
       "      <td>1008</td>\n",
       "      <td>10</td>\n",
       "      <td>70.0</td>\n",
       "    </tr>\n",
       "    <tr>\n",
       "      <th>4</th>\n",
       "      <td>1008</td>\n",
       "      <td>11</td>\n",
       "      <td>70.0</td>\n",
       "    </tr>\n",
       "    <tr>\n",
       "      <th>...</th>\n",
       "      <td>...</td>\n",
       "      <td>...</td>\n",
       "      <td>...</td>\n",
       "    </tr>\n",
       "    <tr>\n",
       "      <th>1754</th>\n",
       "      <td>1496</td>\n",
       "      <td>8</td>\n",
       "      <td>20.0</td>\n",
       "    </tr>\n",
       "    <tr>\n",
       "      <th>1755</th>\n",
       "      <td>1496</td>\n",
       "      <td>9</td>\n",
       "      <td>40.0</td>\n",
       "    </tr>\n",
       "    <tr>\n",
       "      <th>1756</th>\n",
       "      <td>1496</td>\n",
       "      <td>10</td>\n",
       "      <td>20.0</td>\n",
       "    </tr>\n",
       "    <tr>\n",
       "      <th>1757</th>\n",
       "      <td>1496</td>\n",
       "      <td>11</td>\n",
       "      <td>20.0</td>\n",
       "    </tr>\n",
       "    <tr>\n",
       "      <th>1758</th>\n",
       "      <td>1496</td>\n",
       "      <td>12</td>\n",
       "      <td>40.0</td>\n",
       "    </tr>\n",
       "  </tbody>\n",
       "</table>\n",
       "<p>1759 rows × 3 columns</p>\n",
       "</div>"
      ],
      "text/plain": [
       "     user_id  month  total_charge\n",
       "0       1000     12          70.0\n",
       "1       1006     11          70.0\n",
       "2       1006     12          84.0\n",
       "3       1008     10          70.0\n",
       "4       1008     11          70.0\n",
       "...      ...    ...           ...\n",
       "1754    1496      8          20.0\n",
       "1755    1496      9          40.0\n",
       "1756    1496     10          20.0\n",
       "1757    1496     11          20.0\n",
       "1758    1496     12          40.0\n",
       "\n",
       "[1759 rows x 3 columns]"
      ]
     },
     "execution_count": 40,
     "metadata": {},
     "output_type": "execute_result"
    }
   ],
   "source": [
    "# Calcula el ingreso mensual para cada usuario\n",
    "ingreso_mensual['total_charge'] = ingreso_mensual['extra_charge_gb']+ingreso_mensual['extra_charge_min']+ingreso_mensual['extra_charge_messages']+ingreso_mensual['usd_monthly_pay']\n",
    "nuevas_columnas = ['user_id','month','total_charge']\n",
    "ingreso_mensual_user = ingreso_mensual[nuevas_columnas]\n",
    "ingreso_mensual_user "
   ]
  },
  {
   "cell_type": "markdown",
   "metadata": {
    "id": "-jtyHzJb0q1I"
   },
   "source": [
    "## Estudia el comportamiento de usuario"
   ]
  },
  {
   "cell_type": "markdown",
   "metadata": {
    "id": "AxU3Y0N70q1J"
   },
   "source": [
    "[Calcula algunas estadísticas descriptivas para los datos agregados y fusionados que nos sean útiles y que muestren un panorama general captado por los datos. Dibuja gráficos útiles para facilitar la comprensión. Dado que la tarea principal es comparar las tarifas y decidir cuál es más rentable, las estadísticas y gráficas deben calcularse por tarifa.]\n",
    "\n",
    "[En los comentarios hallarás pistas relevantes para las llamadas, pero no las hay para los mensajes e Internet. Sin embargo, el principio del estudio estadístico que se aplica para ellos es el mismo que para las llamadas.]"
   ]
  },
  {
   "cell_type": "markdown",
   "metadata": {
    "id": "vtW4CJEe0q1J"
   },
   "source": [
    "### Llamadas"
   ]
  },
  {
   "cell_type": "code",
   "execution_count": 41,
   "metadata": {
    "scrolled": true
   },
   "outputs": [
    {
     "data": {
      "text/html": [
       "<div>\n",
       "<style scoped>\n",
       "    .dataframe tbody tr th:only-of-type {\n",
       "        vertical-align: middle;\n",
       "    }\n",
       "\n",
       "    .dataframe tbody tr th {\n",
       "        vertical-align: top;\n",
       "    }\n",
       "\n",
       "    .dataframe thead th {\n",
       "        text-align: right;\n",
       "    }\n",
       "</style>\n",
       "<table border=\"1\" class=\"dataframe\">\n",
       "  <thead>\n",
       "    <tr style=\"text-align: right;\">\n",
       "      <th></th>\n",
       "      <th>month</th>\n",
       "      <th>plan</th>\n",
       "      <th>used_min</th>\n",
       "    </tr>\n",
       "  </thead>\n",
       "  <tbody>\n",
       "    <tr>\n",
       "      <th>0</th>\n",
       "      <td>1</td>\n",
       "      <td>surf</td>\n",
       "      <td>192.840000</td>\n",
       "    </tr>\n",
       "    <tr>\n",
       "      <th>1</th>\n",
       "      <td>1</td>\n",
       "      <td>ultimate</td>\n",
       "      <td>183.162500</td>\n",
       "    </tr>\n",
       "    <tr>\n",
       "      <th>2</th>\n",
       "      <td>2</td>\n",
       "      <td>surf</td>\n",
       "      <td>280.851111</td>\n",
       "    </tr>\n",
       "    <tr>\n",
       "      <th>3</th>\n",
       "      <td>2</td>\n",
       "      <td>ultimate</td>\n",
       "      <td>443.171667</td>\n",
       "    </tr>\n",
       "    <tr>\n",
       "      <th>4</th>\n",
       "      <td>3</td>\n",
       "      <td>surf</td>\n",
       "      <td>310.970000</td>\n",
       "    </tr>\n",
       "    <tr>\n",
       "      <th>5</th>\n",
       "      <td>3</td>\n",
       "      <td>ultimate</td>\n",
       "      <td>285.701667</td>\n",
       "    </tr>\n",
       "    <tr>\n",
       "      <th>6</th>\n",
       "      <td>4</td>\n",
       "      <td>surf</td>\n",
       "      <td>332.380000</td>\n",
       "    </tr>\n",
       "    <tr>\n",
       "      <th>7</th>\n",
       "      <td>4</td>\n",
       "      <td>ultimate</td>\n",
       "      <td>316.508095</td>\n",
       "    </tr>\n",
       "    <tr>\n",
       "      <th>8</th>\n",
       "      <td>5</td>\n",
       "      <td>surf</td>\n",
       "      <td>387.108000</td>\n",
       "    </tr>\n",
       "    <tr>\n",
       "      <th>9</th>\n",
       "      <td>5</td>\n",
       "      <td>ultimate</td>\n",
       "      <td>383.664828</td>\n",
       "    </tr>\n",
       "    <tr>\n",
       "      <th>10</th>\n",
       "      <td>6</td>\n",
       "      <td>surf</td>\n",
       "      <td>411.450625</td>\n",
       "    </tr>\n",
       "    <tr>\n",
       "      <th>11</th>\n",
       "      <td>6</td>\n",
       "      <td>ultimate</td>\n",
       "      <td>365.358222</td>\n",
       "    </tr>\n",
       "    <tr>\n",
       "      <th>12</th>\n",
       "      <td>7</td>\n",
       "      <td>surf</td>\n",
       "      <td>428.060917</td>\n",
       "    </tr>\n",
       "    <tr>\n",
       "      <th>13</th>\n",
       "      <td>7</td>\n",
       "      <td>ultimate</td>\n",
       "      <td>403.767288</td>\n",
       "    </tr>\n",
       "    <tr>\n",
       "      <th>14</th>\n",
       "      <td>8</td>\n",
       "      <td>surf</td>\n",
       "      <td>394.474717</td>\n",
       "    </tr>\n",
       "    <tr>\n",
       "      <th>15</th>\n",
       "      <td>8</td>\n",
       "      <td>ultimate</td>\n",
       "      <td>397.274789</td>\n",
       "    </tr>\n",
       "    <tr>\n",
       "      <th>16</th>\n",
       "      <td>9</td>\n",
       "      <td>surf</td>\n",
       "      <td>397.133298</td>\n",
       "    </tr>\n",
       "    <tr>\n",
       "      <th>17</th>\n",
       "      <td>9</td>\n",
       "      <td>ultimate</td>\n",
       "      <td>413.287326</td>\n",
       "    </tr>\n",
       "    <tr>\n",
       "      <th>18</th>\n",
       "      <td>10</td>\n",
       "      <td>surf</td>\n",
       "      <td>414.435733</td>\n",
       "    </tr>\n",
       "    <tr>\n",
       "      <th>19</th>\n",
       "      <td>10</td>\n",
       "      <td>ultimate</td>\n",
       "      <td>429.217238</td>\n",
       "    </tr>\n",
       "    <tr>\n",
       "      <th>20</th>\n",
       "      <td>11</td>\n",
       "      <td>surf</td>\n",
       "      <td>408.255415</td>\n",
       "    </tr>\n",
       "    <tr>\n",
       "      <th>21</th>\n",
       "      <td>11</td>\n",
       "      <td>ultimate</td>\n",
       "      <td>423.814683</td>\n",
       "    </tr>\n",
       "    <tr>\n",
       "      <th>22</th>\n",
       "      <td>12</td>\n",
       "      <td>surf</td>\n",
       "      <td>457.547074</td>\n",
       "    </tr>\n",
       "    <tr>\n",
       "      <th>23</th>\n",
       "      <td>12</td>\n",
       "      <td>ultimate</td>\n",
       "      <td>438.824832</td>\n",
       "    </tr>\n",
       "  </tbody>\n",
       "</table>\n",
       "</div>"
      ],
      "text/plain": [
       "    month      plan    used_min\n",
       "0       1      surf  192.840000\n",
       "1       1  ultimate  183.162500\n",
       "2       2      surf  280.851111\n",
       "3       2  ultimate  443.171667\n",
       "4       3      surf  310.970000\n",
       "5       3  ultimate  285.701667\n",
       "6       4      surf  332.380000\n",
       "7       4  ultimate  316.508095\n",
       "8       5      surf  387.108000\n",
       "9       5  ultimate  383.664828\n",
       "10      6      surf  411.450625\n",
       "11      6  ultimate  365.358222\n",
       "12      7      surf  428.060917\n",
       "13      7  ultimate  403.767288\n",
       "14      8      surf  394.474717\n",
       "15      8  ultimate  397.274789\n",
       "16      9      surf  397.133298\n",
       "17      9  ultimate  413.287326\n",
       "18     10      surf  414.435733\n",
       "19     10  ultimate  429.217238\n",
       "20     11      surf  408.255415\n",
       "21     11  ultimate  423.814683\n",
       "22     12      surf  457.547074\n",
       "23     12  ultimate  438.824832"
      ]
     },
     "execution_count": 41,
     "metadata": {},
     "output_type": "execute_result"
    }
   ],
   "source": [
    "# Compara la duración promedio de llamadas por cada plan y por cada mes.\n",
    "calls_plan_mes = pd.merge(user_plan,nro_user_mes_duration, on=['user_id'])\n",
    "prom_calls_plan_mes = calls_plan_mes.groupby(['month', 'plan'])['used_min'].mean().reset_index()\n",
    "prom_calls_plan_mes"
   ]
  },
  {
   "cell_type": "code",
   "execution_count": 42,
   "metadata": {
    "scrolled": true
   },
   "outputs": [
    {
     "data": {
      "image/png": "[encoded data removed]",
      "text/plain": [
       "<Figure size 640x480 with 1 Axes>"
      ]
     },
     "metadata": {},
     "output_type": "display_data"
    }
   ],
   "source": [
    "#Traza un gráfico de barras para visualizarla.\n",
    "prom_calls_plan_mes_bar = prom_calls_plan_mes.pivot_table(columns='plan', index='month', values='used_min')\n",
    "prom_calls_plan_mes_bar.plot(kind='bar',\n",
    "                             title='Duracion promedio de llamadas por cada plan y por cada mes',\n",
    "                             xlabel=\"Mes\",\n",
    "                             ylabel=\"Minutos\")\n",
    "plt.show()"
   ]
  },
  {
   "cell_type": "code",
   "execution_count": 43,
   "metadata": {
    "id": "QoLqW1S_0q1J"
   },
   "outputs": [
    {
     "data": {
      "image/png": "[encoded data removed]",
      "text/plain": [
       "<Figure size 640x480 with 1 Axes>"
      ]
     },
     "metadata": {},
     "output_type": "display_data"
    }
   ],
   "source": [
    "# Compara el número de minutos mensuales que necesitan los usuarios de cada plan. \n",
    "#Traza un histograma\n",
    "sns.histplot(calls_plan_mes, x='used_min',hue='plan')\n",
    "plt.title('Minutos mensuales que necesitan los usuarios de cada plan')\n",
    "plt.show()"
   ]
  },
  {
   "cell_type": "markdown",
   "metadata": {
    "id": "bLS9T8OH0q1K"
   },
   "source": [
    "[Calcula la media y la varianza de la duración de las llamadas para averiguar si los usuarios de los distintos planes se comportan de forma diferente al realizar sus llamadas.]\n",
    "\n",
    "La media es el valor central, el cual se muestra por mes y por plan en 'used_min_mean'. \n",
    "La varianza nos indica la dispersion de los datos, medida de distancia en relacion a la media, sin embargo para una mejor interpretacion deberiamos sacar la desviacion estandar.\n",
    "Con la desviacion estandar vemos por jemplo que:\n",
    "- En la fila 0, cada dato se aleja 121 minutos en promedio de la media 192. Al obtener el coeficiente de variacion 192/121 es 0.63.\n",
    "- En la fila 3, cada dato se aleja 220 minutos en promedio de la media 443. Al obtener el coeficiente de variacion 192/121 es 0.49.\n",
    "\n",
    "Si el coeficiente de variacion es cerca a 1 nos indica que los datos estan muy dispersos, siendo heterogeneos.\n",
    "Y si es menor a 1 como 0.5, 0.3 entonces los datos son homogeneos."
   ]
  },
  {
   "cell_type": "code",
   "execution_count": 44,
   "metadata": {
    "id": "oSndbAnt0q1K",
    "scrolled": true
   },
   "outputs": [
    {
     "data": {
      "text/html": [
       "<div>\n",
       "<style scoped>\n",
       "    .dataframe tbody tr th:only-of-type {\n",
       "        vertical-align: middle;\n",
       "    }\n",
       "\n",
       "    .dataframe tbody tr th {\n",
       "        vertical-align: top;\n",
       "    }\n",
       "\n",
       "    .dataframe thead th {\n",
       "        text-align: right;\n",
       "    }\n",
       "</style>\n",
       "<table border=\"1\" class=\"dataframe\">\n",
       "  <thead>\n",
       "    <tr style=\"text-align: right;\">\n",
       "      <th></th>\n",
       "      <th>month</th>\n",
       "      <th>plan</th>\n",
       "      <th>used_min_mean</th>\n",
       "      <th>used_min_var</th>\n",
       "      <th>used_min_std</th>\n",
       "    </tr>\n",
       "  </thead>\n",
       "  <tbody>\n",
       "    <tr>\n",
       "      <th>0</th>\n",
       "      <td>1</td>\n",
       "      <td>surf</td>\n",
       "      <td>192.840000</td>\n",
       "      <td>14795.440200</td>\n",
       "      <td>121.636508</td>\n",
       "    </tr>\n",
       "    <tr>\n",
       "      <th>1</th>\n",
       "      <td>1</td>\n",
       "      <td>ultimate</td>\n",
       "      <td>183.162500</td>\n",
       "      <td>14991.369958</td>\n",
       "      <td>122.439250</td>\n",
       "    </tr>\n",
       "    <tr>\n",
       "      <th>2</th>\n",
       "      <td>2</td>\n",
       "      <td>surf</td>\n",
       "      <td>280.851111</td>\n",
       "      <td>46959.219961</td>\n",
       "      <td>216.700761</td>\n",
       "    </tr>\n",
       "    <tr>\n",
       "      <th>3</th>\n",
       "      <td>2</td>\n",
       "      <td>ultimate</td>\n",
       "      <td>443.171667</td>\n",
       "      <td>48579.581537</td>\n",
       "      <td>220.407762</td>\n",
       "    </tr>\n",
       "    <tr>\n",
       "      <th>4</th>\n",
       "      <td>3</td>\n",
       "      <td>surf</td>\n",
       "      <td>310.970000</td>\n",
       "      <td>31821.317991</td>\n",
       "      <td>178.385308</td>\n",
       "    </tr>\n",
       "  </tbody>\n",
       "</table>\n",
       "</div>"
      ],
      "text/plain": [
       "   month      plan  used_min_mean  used_min_var  used_min_std\n",
       "0      1      surf     192.840000  14795.440200    121.636508\n",
       "1      1  ultimate     183.162500  14991.369958    122.439250\n",
       "2      2      surf     280.851111  46959.219961    216.700761\n",
       "3      2  ultimate     443.171667  48579.581537    220.407762\n",
       "4      3      surf     310.970000  31821.317991    178.385308"
      ]
     },
     "execution_count": 44,
     "metadata": {},
     "output_type": "execute_result"
    }
   ],
   "source": [
    "# Calcula la media y la varianaza de la duración mensual de llamadas.\n",
    "calls_mean = prom_calls_plan_mes.rename(columns={\"used_min\":\"used_min_mean\"})\n",
    "var_calls_plan_mes = calls_plan_mes.groupby(['month', 'plan'])['used_min'].var().reset_index()\n",
    "calls_var = var_calls_plan_mes.rename(columns={\"used_min\":\"used_min_var\"})\n",
    "merge_mean_var = pd.merge(calls_mean, calls_var, on=['month','plan'])\n",
    "var_calls_plan_mes = calls_plan_mes.groupby(['month', 'plan'])['used_min'].std().reset_index()\n",
    "calls_std = var_calls_plan_mes.rename(columns={\"used_min\":\"used_min_std\"})\n",
    "merge_mean_var_std = pd.merge(merge_mean_var, calls_std, on=['month','plan'])\n",
    "merge_mean_var_std.head()"
   ]
  },
  {
   "cell_type": "code",
   "execution_count": 45,
   "metadata": {},
   "outputs": [
    {
     "data": {
      "image/png": "[encoded data removed]",
      "text/plain": [
       "<Figure size 640x480 with 1 Axes>"
      ]
     },
     "metadata": {},
     "output_type": "display_data"
    }
   ],
   "source": [
    "#Traza un diagrama de caja para visualizar la distribución de la duración mensual de llamadas\n",
    "plt.boxplot(nro_user_mes_duration['used_min'])\n",
    "plt.show()"
   ]
  },
  {
   "cell_type": "markdown",
   "metadata": {
    "id": "r627zBO50q1K"
   },
   "source": [
    "[Elabora las conclusiones sobre el comportamiento de los usuarios con respecto a las llamadas. ¿Su comportamiento varía en función del plan?]\n",
    "\n",
    "En el grafico de barras vemos la duracion promedio de llamadas por cada plan y por cada mes.\n",
    "- A inicios del año hasta julio, los usuarios del plan surf suelen usar más minutos, con la unica excepción de febrero, donde el uso de minutos es mucho mayor en el plan ultimate.\n",
    "- A partir de agosto los usuarios del plan ultimate son los que suelen usar mas minutos en comparacion a los del plan surf, con una ligera diferencia.\n",
    "- Vemos que en promedio los clientes del plan surf usan todos sus minutos incluidos (500) y los clientes del plan ultimate usan mucho menos sus minutos incluidos (3000)\n",
    "\n",
    "En el histograma comparamos el número de minutos mensuales que necesitan los usuarios de cada plan. \n",
    "- A simple vista se observa que hay mas usuarios del plan surf que usan sus minutos, comparados al del plan ultimate, que son casi la mitad de la cantidad usuarios del plan surf. \n",
    "- Vemos que en el plan ultimate hay alrededor de 80 usuarios que usan entre 400 y 500 minutos mensuales y 130 usuarios en el plan surf.\n",
    "- En datos generales, se observa que en ambos planes la mayoria de usuarios suele gastar entre 210 y 570 minutos al mes.\n",
    "\n",
    "En el diagrama de caja visualizamos la distribución de la duración mensual de llamadas, donde vemos los  minutos que usan los usuarios en un mes.\n",
    "- Hay un solo usuario que uso unos 1400 minutos.\n",
    "- Los usuarios que usan mas de 1000 son outlayers, un valor atipico.\n",
    "- La media es 400 minutos. \n",
    "\n",
    "¿Su comportamiento varía en función del plan?\n",
    "- No varía, los usuarios mantienen la cantidad de minutos usados dentro de los minutos incluidos en su respectivo plan."
   ]
  },
  {
   "cell_type": "markdown",
   "metadata": {
    "id": "8idKy8Wh0q1L"
   },
   "source": [
    "### Mensajes"
   ]
  },
  {
   "cell_type": "code",
   "execution_count": 46,
   "metadata": {
    "id": "GRI_R7xF0q1L"
   },
   "outputs": [
    {
     "data": {
      "text/html": [
       "<div>\n",
       "<style scoped>\n",
       "    .dataframe tbody tr th:only-of-type {\n",
       "        vertical-align: middle;\n",
       "    }\n",
       "\n",
       "    .dataframe tbody tr th {\n",
       "        vertical-align: top;\n",
       "    }\n",
       "\n",
       "    .dataframe thead th {\n",
       "        text-align: right;\n",
       "    }\n",
       "</style>\n",
       "<table border=\"1\" class=\"dataframe\">\n",
       "  <thead>\n",
       "    <tr style=\"text-align: right;\">\n",
       "      <th></th>\n",
       "      <th>month</th>\n",
       "      <th>plan</th>\n",
       "      <th>nro_messages</th>\n",
       "    </tr>\n",
       "  </thead>\n",
       "  <tbody>\n",
       "    <tr>\n",
       "      <th>0</th>\n",
       "      <td>1</td>\n",
       "      <td>surf</td>\n",
       "      <td>21.000000</td>\n",
       "    </tr>\n",
       "    <tr>\n",
       "      <th>1</th>\n",
       "      <td>1</td>\n",
       "      <td>ultimate</td>\n",
       "      <td>20.666667</td>\n",
       "    </tr>\n",
       "    <tr>\n",
       "      <th>2</th>\n",
       "      <td>2</td>\n",
       "      <td>surf</td>\n",
       "      <td>21.600000</td>\n",
       "    </tr>\n",
       "    <tr>\n",
       "      <th>3</th>\n",
       "      <td>2</td>\n",
       "      <td>ultimate</td>\n",
       "      <td>25.166667</td>\n",
       "    </tr>\n",
       "    <tr>\n",
       "      <th>4</th>\n",
       "      <td>3</td>\n",
       "      <td>surf</td>\n",
       "      <td>21.937500</td>\n",
       "    </tr>\n",
       "  </tbody>\n",
       "</table>\n",
       "</div>"
      ],
      "text/plain": [
       "   month      plan  nro_messages\n",
       "0      1      surf     21.000000\n",
       "1      1  ultimate     20.666667\n",
       "2      2      surf     21.600000\n",
       "3      2  ultimate     25.166667\n",
       "4      3      surf     21.937500"
      ]
     },
     "execution_count": 46,
     "metadata": {},
     "output_type": "execute_result"
    }
   ],
   "source": [
    "# Comprara el número de mensajes que tienden a enviar cada mes los usuarios de cada plan\n",
    "messag_plan_mes = pd.merge(user_plan,mens_user_mes, on=['user_id'])\n",
    "nro_messag_plan_mes = messag_plan_mes.groupby(['month', 'plan'])['nro_messages'].mean().reset_index()\n",
    "nro_messag_plan_mes.head()"
   ]
  },
  {
   "cell_type": "code",
   "execution_count": 47,
   "metadata": {
    "id": "dtFwCGAp0q1M",
    "scrolled": false
   },
   "outputs": [
    {
     "data": {
      "image/png": "[encoded data removed]",
      "text/plain": [
       "<Figure size 640x480 with 1 Axes>"
      ]
     },
     "metadata": {},
     "output_type": "display_data"
    }
   ],
   "source": [
    "#Traza un gráfico de barras para visualizarla.\n",
    "nro_messag_plan_mes_bar = nro_messag_plan_mes.pivot_table(columns='plan', index='month', values='nro_messages')\n",
    "nro_messag_plan_mes_bar.plot(kind='bar',\n",
    "                             title='Número de mensajes que tienden a enviar cada mes los usuarios de cada plan',\n",
    "                             xlabel=\"Mes\",\n",
    "                             ylabel=\"Número de mensajes\")\n",
    "plt.show()"
   ]
  },
  {
   "cell_type": "code",
   "execution_count": 48,
   "metadata": {
    "scrolled": true
   },
   "outputs": [
    {
     "data": {
      "image/png": "[encoded data removed]",
      "text/plain": [
       "<Figure size 640x480 with 1 Axes>"
      ]
     },
     "metadata": {},
     "output_type": "display_data"
    }
   ],
   "source": [
    "# Compara el número de mensajes mensuales que necesitan los usuarios de cada plan. \n",
    "#Traza un histograma\n",
    "sns.histplot(messag_plan_mes, x='nro_messages',hue='plan')\n",
    "plt.title('Mensajes mensuales que necesitan los usuarios de cada plan')\n",
    "plt.show()"
   ]
  },
  {
   "cell_type": "code",
   "execution_count": 49,
   "metadata": {},
   "outputs": [
    {
     "data": {
      "image/png": "[encoded data removed]",
      "text/plain": [
       "<Figure size 640x480 with 1 Axes>"
      ]
     },
     "metadata": {},
     "output_type": "display_data"
    }
   ],
   "source": [
    "#Traza un diagrama de caja para visualizar la distribución mensual de mensajes\n",
    "plt.boxplot(mens_user_mes['nro_messages'])\n",
    "plt.show()"
   ]
  },
  {
   "cell_type": "markdown",
   "metadata": {
    "id": "390SSL480q1M"
   },
   "source": [
    "[Elabora las conclusiones sobre el comportamiento de los usuarios con respecto a los mensajes. ¿Su comportamiento varía en función del plan?]\n",
    "\n",
    "En el grafico de barras vemos el promedio de mensajes que tienden a enviar los usuarios por cada plan y por cada mes.\n",
    "- De forma general vemos que los usuarios del plan ultimate tienden a enviar mas mensajes que los usuarios del plan surf y esta diferencia no es mayor a 10 mensajes.\n",
    "- En los meses de marzo, mayo y agosto es donde la diferencia de mensajes es notoria, en los demas meses la diferencia es tenue.\n",
    "- Solo en el mes de enero los usuarios de surf enviaron mas mensajes que los de ultima, con una minima diferencia.\n",
    "- Los usuarios del plan ultimate usan mensajes muy por debajo de las cantidades incluidas en su plan, y los del plan surf si usan casi todos los mensajes que incluye su plan.\n",
    "\n",
    "En el histograma comparamos el número de mensajes mensuales que necesitan los usuarios de cada plan. \n",
    "- A simple vista se observa que hay mas usuarios del plan surf que usan sus mensajes, comparados al del plan ultimate, que son casi menos de la mitad de la cantidad de usuarios del plan surf. \n",
    "- Vemos que en el plan ultimate hay alrededor de 50 usuarios que usan entre 0 y 50 mensajes mensuales y 120 usuarios en el plan surf que usan entre 0 y 40 mensajes mensuales.\n",
    "- En datos generales, se observa que en ambos planes la mayoria de usuarios suele gastar entre 0 y 50 mensajes al mes.\n",
    "\n",
    "En el diagrama de caja visualizamos la distribución mensual de los mensajes.\n",
    "- Hay un solo usuario que uso mas de 250 mensajes, otro uso 230 y otro 180, siendo los outlayers mas notorios.\n",
    "- Los usuarios que usan mas de 120 mensajes son outlayers, valores atipicos.\n",
    "- Visualmente se aprecia que la media es 35 mensajes. \n",
    "\n",
    "¿Su comportamiento varía en función del plan?\n",
    "- No varía, los usuarios mantienen la cantidad de mensajes usados dentro de la cantidad incluida en su respectivo plan."
   ]
  },
  {
   "cell_type": "markdown",
   "metadata": {
    "id": "42YSypXz0q1M"
   },
   "source": [
    "### Internet"
   ]
  },
  {
   "cell_type": "code",
   "execution_count": 50,
   "metadata": {
    "id": "lSuKPtjh0q1M"
   },
   "outputs": [
    {
     "data": {
      "text/html": [
       "<div>\n",
       "<style scoped>\n",
       "    .dataframe tbody tr th:only-of-type {\n",
       "        vertical-align: middle;\n",
       "    }\n",
       "\n",
       "    .dataframe tbody tr th {\n",
       "        vertical-align: top;\n",
       "    }\n",
       "\n",
       "    .dataframe thead th {\n",
       "        text-align: right;\n",
       "    }\n",
       "</style>\n",
       "<table border=\"1\" class=\"dataframe\">\n",
       "  <thead>\n",
       "    <tr style=\"text-align: right;\">\n",
       "      <th></th>\n",
       "      <th>month</th>\n",
       "      <th>plan</th>\n",
       "      <th>mb_used</th>\n",
       "      <th>gb_used</th>\n",
       "    </tr>\n",
       "  </thead>\n",
       "  <tbody>\n",
       "    <tr>\n",
       "      <th>0</th>\n",
       "      <td>1</td>\n",
       "      <td>surf</td>\n",
       "      <td>4874.860000</td>\n",
       "      <td>4.760605</td>\n",
       "    </tr>\n",
       "    <tr>\n",
       "      <th>1</th>\n",
       "      <td>1</td>\n",
       "      <td>ultimate</td>\n",
       "      <td>6918.092500</td>\n",
       "      <td>6.755950</td>\n",
       "    </tr>\n",
       "    <tr>\n",
       "      <th>2</th>\n",
       "      <td>2</td>\n",
       "      <td>surf</td>\n",
       "      <td>12178.843333</td>\n",
       "      <td>11.893402</td>\n",
       "    </tr>\n",
       "    <tr>\n",
       "      <th>3</th>\n",
       "      <td>2</td>\n",
       "      <td>ultimate</td>\n",
       "      <td>17128.808571</td>\n",
       "      <td>16.727352</td>\n",
       "    </tr>\n",
       "    <tr>\n",
       "      <th>4</th>\n",
       "      <td>3</td>\n",
       "      <td>surf</td>\n",
       "      <td>13345.440000</td>\n",
       "      <td>13.032656</td>\n",
       "    </tr>\n",
       "  </tbody>\n",
       "</table>\n",
       "</div>"
      ],
      "text/plain": [
       "   month      plan       mb_used    gb_used\n",
       "0      1      surf   4874.860000   4.760605\n",
       "1      1  ultimate   6918.092500   6.755950\n",
       "2      2      surf  12178.843333  11.893402\n",
       "3      2  ultimate  17128.808571  16.727352\n",
       "4      3      surf  13345.440000  13.032656"
      ]
     },
     "execution_count": 50,
     "metadata": {},
     "output_type": "execute_result"
    }
   ],
   "source": [
    "# Compara la cantidad de tráfico de Internet consumido por usuarios por plan por mes\n",
    "inter_plan_mes = pd.merge(user_plan,inter_user_mes, on=['user_id'])\n",
    "traf_inter_plan_mes = inter_plan_mes.groupby(['month', 'plan'])['mb_used'].mean().reset_index()\n",
    "traf_inter_plan_mes['gb_used'] = traf_inter_plan_mes['mb_used'] / 1024\n",
    "traf_inter_plan_mes.head()"
   ]
  },
  {
   "cell_type": "code",
   "execution_count": 51,
   "metadata": {
    "id": "wnh8jYXi0q1N",
    "scrolled": true
   },
   "outputs": [
    {
     "data": {
      "image/png": "[encoded data removed]",
      "text/plain": [
       "<Figure size 640x480 with 1 Axes>"
      ]
     },
     "metadata": {},
     "output_type": "display_data"
    }
   ],
   "source": [
    "#Traza un gráfico de barras para visualizarla.\n",
    "traf_inter_plan_mes_bar = traf_inter_plan_mes.pivot_table(columns='plan', index='month', values='gb_used')\n",
    "traf_inter_plan_mes_bar.plot(kind='bar',\n",
    "                             title='Cantidad de tráfico de Internet consumido por usuarios por plan por mes',\n",
    "                             xlabel=\"Mes\",\n",
    "                             ylabel=\"Tráfico de Internet\")\n",
    "plt.show()"
   ]
  },
  {
   "cell_type": "code",
   "execution_count": 52,
   "metadata": {},
   "outputs": [
    {
     "data": {
      "image/png": "[encoded data removed]",
      "text/plain": [
       "<Figure size 640x480 with 1 Axes>"
      ]
     },
     "metadata": {},
     "output_type": "display_data"
    }
   ],
   "source": [
    "# Compara el número de gb mensuales que necesitan los usuarios de cada plan. \n",
    "#Traza un histograma\n",
    "inter_plan_mes['gb_used'] = inter_plan_mes['mb_used'] / 1024\n",
    "sns.histplot(inter_plan_mes, x='gb_used',hue='plan')\n",
    "plt.title('Gbs mensuales que necesitan los usuarios de cada plan')\n",
    "plt.show()"
   ]
  },
  {
   "cell_type": "code",
   "execution_count": 53,
   "metadata": {
    "id": "5VlyJ9ry0q1N"
   },
   "outputs": [
    {
     "data": {
      "image/png": "[encoded data removed]",
      "text/plain": [
       "<Figure size 640x480 with 1 Axes>"
      ]
     },
     "metadata": {},
     "output_type": "display_data"
    }
   ],
   "source": [
    "#Traza un diagrama de caja para visualizar la distribución mensual del tráfico de Internet por Gb\n",
    "inter_user_mes['gb_used'] = inter_user_mes['mb_used'] / 1024\n",
    "plt.boxplot(inter_user_mes['gb_used'])\n",
    "plt.show()"
   ]
  },
  {
   "cell_type": "markdown",
   "metadata": {
    "id": "UN9zwuMP0q1N"
   },
   "source": [
    "[Elabora las conclusiones sobre cómo los usuarios tienden a consumir el tráfico de Internet. ¿Su comportamiento varía en función del plan?]\n",
    "\n",
    "\n",
    "En el grafico de barras vemos el promedio de gbs cosumidos por cada plan y por cada mes.\n",
    "- A inicios del año hasta mayo, los usuarios del plan ultimate usan más gbs que los del plan surf, hubiendo una diferencia entre 2 y 5 gbs.\n",
    "- A partir del mes de junio los usuarios del plan surf tienden a aumentar el consumo de gbs llegando muy cerca a los del plan ultimate, con una ligera diferencia.\n",
    "- Vemos que en promedio los clientes del plan ultimate usan todos sus gbs incluidos (30) y los clientes del plan surf suelen pasarse un poco de su limite de gbs incluidos (15) desde el mes de julio.\n",
    "\n",
    "En el histograma comparamos el número de gbs mensuales que necesitan los usuarios de cada plan. \n",
    "- A simple vista se observa que hay mas usuarios del plan surf que usan sus gbs, comparados al del plan ultimate, que son casi la mitad de la cantidad de usuarios del plan surf. \n",
    "- Vemos que en el plan ultimate hay alrededor de 60 usuarios que usan entre 15 y 18 gb mensuales y 140 usuarios en el plan surf que usan 17gb. Siendo la mayor cantidad de usuarios que usan esa cantidad de gb.\n",
    "- En datos generales, se observa que en ambos planes la mayoria de usuarios suele gastar entre 12 y 23 gb al mes en el plan surf, y entre 15 y 18gb en el plan ultimate.\n",
    "\n",
    "En el diagrama de caja visualizamos la distribución de gbs que usan los usuarios en un mes.\n",
    "- Hay solo dos usuarios que usaron 65 y 70 gbs.\n",
    "- Los usuarios que usan mas de 35gbs son outlayers, un valor atipico.\n",
    "- La media es 15gbs. \n",
    "\n",
    "¿Su comportamiento varía en función del plan?\n",
    "- Los usuarios del plan ultimate si se mantienen en su limite de gbs incluidos, pero los usuarios del plan surf tienden a consumir mas de su limite."
   ]
  },
  {
   "cell_type": "markdown",
   "metadata": {
    "id": "tCijq3260q1N"
   },
   "source": [
    "## Ingreso"
   ]
  },
  {
   "cell_type": "markdown",
   "metadata": {
    "id": "9nq5IAcy0q1O"
   },
   "source": [
    "[Del mismo modo que has estudiado el comportamiento de los usuarios, describe estadísticamente los ingresos de los planes.]"
   ]
  },
  {
   "cell_type": "code",
   "execution_count": 54,
   "metadata": {
    "id": "tz-dq_V00q1O"
   },
   "outputs": [
    {
     "data": {
      "text/html": [
       "<div>\n",
       "<style scoped>\n",
       "    .dataframe tbody tr th:only-of-type {\n",
       "        vertical-align: middle;\n",
       "    }\n",
       "\n",
       "    .dataframe tbody tr th {\n",
       "        vertical-align: top;\n",
       "    }\n",
       "\n",
       "    .dataframe thead th {\n",
       "        text-align: right;\n",
       "    }\n",
       "</style>\n",
       "<table border=\"1\" class=\"dataframe\">\n",
       "  <thead>\n",
       "    <tr style=\"text-align: right;\">\n",
       "      <th></th>\n",
       "      <th>month</th>\n",
       "      <th>plan</th>\n",
       "      <th>total_charge</th>\n",
       "    </tr>\n",
       "  </thead>\n",
       "  <tbody>\n",
       "    <tr>\n",
       "      <th>0</th>\n",
       "      <td>1</td>\n",
       "      <td>surf</td>\n",
       "      <td>20.00</td>\n",
       "    </tr>\n",
       "    <tr>\n",
       "      <th>1</th>\n",
       "      <td>1</td>\n",
       "      <td>ultimate</td>\n",
       "      <td>210.00</td>\n",
       "    </tr>\n",
       "    <tr>\n",
       "      <th>2</th>\n",
       "      <td>2</td>\n",
       "      <td>surf</td>\n",
       "      <td>118.34</td>\n",
       "    </tr>\n",
       "    <tr>\n",
       "      <th>3</th>\n",
       "      <td>2</td>\n",
       "      <td>ultimate</td>\n",
       "      <td>350.00</td>\n",
       "    </tr>\n",
       "    <tr>\n",
       "      <th>4</th>\n",
       "      <td>3</td>\n",
       "      <td>surf</td>\n",
       "      <td>613.23</td>\n",
       "    </tr>\n",
       "  </tbody>\n",
       "</table>\n",
       "</div>"
      ],
      "text/plain": [
       "   month      plan  total_charge\n",
       "0      1      surf         20.00\n",
       "1      1  ultimate        210.00\n",
       "2      2      surf        118.34\n",
       "3      2  ultimate        350.00\n",
       "4      3      surf        613.23"
      ]
     },
     "execution_count": 54,
     "metadata": {},
     "output_type": "execute_result"
    }
   ],
   "source": [
    "# Describe los ingresos de los planes por mes\n",
    "ingreso_plan_mes = pd.merge(user_plan,ingreso_mensual_user, on=['user_id'])\n",
    "ingreso_plan_mes_sum = ingreso_plan_mes.groupby(['month', 'plan'])['total_charge'].sum().reset_index()\n",
    "ingreso_plan_mes_sum.head()"
   ]
  },
  {
   "cell_type": "code",
   "execution_count": 55,
   "metadata": {
    "id": "0Y1v8ZUz0q1P"
   },
   "outputs": [
    {
     "data": {
      "image/png": "[encoded data removed]",
      "text/plain": [
       "<Figure size 640x480 with 1 Axes>"
      ]
     },
     "metadata": {},
     "output_type": "display_data"
    }
   ],
   "source": [
    "#Traza un gráfico de barras para visualizarla.\n",
    "ingreso_plan_mes_sum_bar = ingreso_plan_mes_sum.pivot_table(columns='plan', index='month', values='total_charge')\n",
    "ingreso_plan_mes_sum_bar.plot(kind='bar',\n",
    "                             title='Ingresos de los planes por mes',\n",
    "                             xlabel=\"Mes\",\n",
    "                             ylabel=\"Dolares\")\n",
    "plt.show()"
   ]
  },
  {
   "cell_type": "code",
   "execution_count": 56,
   "metadata": {
    "id": "bYmwxyVh0q1P",
    "scrolled": true
   },
   "outputs": [
    {
     "data": {
      "image/png": "[encoded data removed]",
      "text/plain": [
       "<Figure size 640x480 with 1 Axes>"
      ]
     },
     "metadata": {},
     "output_type": "display_data"
    }
   ],
   "source": [
    "# Compara el número de ingresos mensuales que se recibe los usuarios de cada plan. \n",
    "#Traza un histograma\n",
    "sns.histplot(ingreso_plan_mes, x='total_charge',hue='plan')\n",
    "plt.title('Ingresos mensuales que se recibe los usuarios de cada plan')\n",
    "plt.show()"
   ]
  },
  {
   "cell_type": "code",
   "execution_count": 57,
   "metadata": {},
   "outputs": [
    {
     "data": {
      "image/png": "[encoded data removed]",
      "text/plain": [
       "<Figure size 640x480 with 1 Axes>"
      ]
     },
     "metadata": {},
     "output_type": "display_data"
    }
   ],
   "source": [
    "#Traza un diagrama de caja para visualizar la distribución mensual de los ingresos\n",
    "plt.boxplot(ingreso_mensual_user['total_charge'])\n",
    "plt.show()"
   ]
  },
  {
   "cell_type": "markdown",
   "metadata": {
    "id": "KAFidcXZ0q1P"
   },
   "source": [
    "[Elabora las conclusiones sobre cómo difiere el ingreso entre los planes.]\n",
    "\n",
    "En el grafico de barras vemos el ingreso de los planes por mes.\n",
    "- Solo en enero y febrero hubieron mas ingresos en el plan ultimate.\n",
    "- A partir de marzo los ingresos en el plan surf fueron aumentando cada mes, creando un diferencial de ingresos con el plan ultimate,  habiendo un crecimiento exponencial en cada mes.\n",
    "\n",
    "En el histograma comparamos los ngresos mensuales que se reciben de los usuarios de cada plan.\n",
    "- Se recibe 20 dolares mensuales de 460 usuarios (plan surf).\n",
    "- Se recibe 70 dolares mensuales de 550 usuarios (plan ultimate). \n",
    "- Se reciben otros montos de ingresos en su mayoria del plan surf.\n",
    "\n",
    "En el diagrama de caja visualizamos la distribución mensual de los ingresos.\n",
    "- Se recibe como 600 dolares de un solo usuario, un valor muy atipico.\n",
    "- Los ingresos mayores a 130 dolares por usuario son outlayers, valores atipicos.\n",
    "- La media de ingresos es alrededor de los 80 dolares. "
   ]
  },
  {
   "cell_type": "markdown",
   "metadata": {
    "id": "ajJ7VKeI0q1Q"
   },
   "source": [
    "## Prueba las hipótesis estadísticas"
   ]
  },
  {
   "cell_type": "markdown",
   "metadata": {
    "id": "AdXAZ-yL0q1Q"
   },
   "source": [
    "[Prueba la hipótesis de que son diferentes los ingresos promedio procedentes de los usuarios de los planes de llamada Ultimate y Surf.]"
   ]
  },
  {
   "cell_type": "markdown",
   "metadata": {
    "id": "IQwa_hsh0q1Q"
   },
   "source": [
    "[Elabora las hipótesis nula y alternativa, escoge la prueba estadística, determina el valor alfa.]"
   ]
  },
  {
   "cell_type": "code",
   "execution_count": 67,
   "metadata": {},
   "outputs": [],
   "source": [
    "ingresos_planes = pd.merge(ingreso_mensual_user,df_users, on=['user_id'])\n",
    "resultado_ultimate = ingresos_planes.query('plan == \"ultimate\"')['total_charge']\n",
    "resultado_surf = ingresos_planes.query('plan == \"surf\"')['total_charge']"
   ]
  },
  {
   "cell_type": "code",
   "execution_count": 72,
   "metadata": {},
   "outputs": [
    {
     "data": {
      "text/plain": [
       "0      70.0\n",
       "1      70.0\n",
       "2      84.0\n",
       "3      70.0\n",
       "4      70.0\n",
       "       ... \n",
       "574    70.0\n",
       "575    70.0\n",
       "576    70.0\n",
       "577    70.0\n",
       "578    70.0\n",
       "Name: total_charge, Length: 579, dtype: float64"
      ]
     },
     "execution_count": 72,
     "metadata": {},
     "output_type": "execute_result"
    }
   ],
   "source": [
    "resultado_ultimate"
   ]
  },
  {
   "cell_type": "code",
   "execution_count": 60,
   "metadata": {},
   "outputs": [
    {
     "data": {
      "text/plain": [
       "121.75810818079135"
      ]
     },
     "execution_count": 60,
     "metadata": {},
     "output_type": "execute_result"
    }
   ],
   "source": [
    "#Hallamos las varianzas para determinar equal_var\n",
    "resultado_ultimate.var()"
   ]
  },
  {
   "cell_type": "code",
   "execution_count": 61,
   "metadata": {},
   "outputs": [
    {
     "data": {
      "text/plain": [
       "2855.9467261346877"
      ]
     },
     "execution_count": 61,
     "metadata": {},
     "output_type": "execute_result"
    }
   ],
   "source": [
    "resultado_surf.var()"
   ]
  },
  {
   "cell_type": "code",
   "execution_count": 62,
   "metadata": {
    "scrolled": true
   },
   "outputs": [
    {
     "name": "stdout",
     "output_type": "stream",
     "text": [
      "Rechazamos la hipótesis nula\n"
     ]
    }
   ],
   "source": [
    "# Prueba las hipótesis\n",
    "results_plans = st.ttest_ind(resultado_ultimate,resultado_surf,equal_var=False)\n",
    "results_plans\n",
    "\n",
    "alpha = 0.05, # es el valor estandar x eso se escogio\n",
    "\n",
    "#los ingresos promedios son diferentes. \n",
    "#h. nula = los ingresos son iguales\n",
    "#h. alternativa = los ingresos son diferentes\n",
    "\n",
    "if results_plans.pvalue < alpha:\n",
    "    print(\"Rechazamos la hipótesis nula\")\n",
    "else:\n",
    "    print(\"No podemos rechazar la hipótesis nula\")"
   ]
  },
  {
   "cell_type": "markdown",
   "metadata": {},
   "source": [
    "- Los ingresos promedio procedentes de los usuarios de los planes de llamada Ultimate y Surf son diferentes. "
   ]
  },
  {
   "cell_type": "markdown",
   "metadata": {
    "id": "tCcAruM60q1R"
   },
   "source": [
    "[Prueba la hipótesis de que el ingreso promedio de los usuarios del área NY-NJ es diferente al de los usuarios de otras regiones.]"
   ]
  },
  {
   "cell_type": "markdown",
   "metadata": {
    "id": "LsBgitqj0q1R"
   },
   "source": [
    "[Elabora las hipótesis nula y alternativa, escoge la prueba estadística, determina el valor alfa.]"
   ]
  },
  {
   "cell_type": "code",
   "execution_count": 63,
   "metadata": {},
   "outputs": [],
   "source": [
    "NY_NJ = ingresos_planes[ingresos_planes['state'].str.contains('NJ', 'NY')]\n",
    "resultado_NY_NJ = NY_NJ['total_charge']\n",
    "resultado_others = ingresos_planes[~ingresos_planes['state'].str.contains('NJ', 'NY')]['total_charge']"
   ]
  },
  {
   "cell_type": "code",
   "execution_count": 64,
   "metadata": {},
   "outputs": [
    {
     "data": {
      "text/plain": [
       "1820.7131608935656"
      ]
     },
     "execution_count": 64,
     "metadata": {},
     "output_type": "execute_result"
    }
   ],
   "source": [
    "#Hallamos las varianzas para determinar equal_var\n",
    "resultado_NY_NJ.var()"
   ]
  },
  {
   "cell_type": "code",
   "execution_count": 65,
   "metadata": {},
   "outputs": [
    {
     "data": {
      "text/plain": [
       "2025.9009905850082"
      ]
     },
     "execution_count": 65,
     "metadata": {},
     "output_type": "execute_result"
    }
   ],
   "source": [
    "resultado_others.var()"
   ]
  },
  {
   "cell_type": "code",
   "execution_count": 66,
   "metadata": {},
   "outputs": [
    {
     "name": "stdout",
     "output_type": "stream",
     "text": [
      "No podemos rechazar la hipótesis nula\n"
     ]
    }
   ],
   "source": [
    "# Prueba las hipótesis\n",
    "results_states = st.ttest_ind(resultado_NY_NJ,resultado_others,equal_var=False)\n",
    "results_states\n",
    "\n",
    "alpha = 0.05, # es el valor estandar x eso se escogio\n",
    "\n",
    "#los ingresos promedios son diferentes. \n",
    "#h. nula = los ingresos son iguales\n",
    "#h. alternativa = los ingresos son diferentes\n",
    "\n",
    "if results_states.pvalue < alpha:\n",
    "    print(\"Rechazamos la hipótesis nula\")\n",
    "else:\n",
    "    print(\"No podemos rechazar la hipótesis nula\")"
   ]
  },
  {
   "cell_type": "markdown",
   "metadata": {},
   "source": [
    "- El ingreso promedio de los usuarios del área NY-NJ es igual al de los usuarios de otras regiones."
   ]
  },
  {
   "cell_type": "markdown",
   "metadata": {
    "id": "bbTR8UQO0q1T"
   },
   "source": [
    "## Conclusión general\n",
    "\n",
    "[En esta sección final, enumera tus conclusiones importantes. Asegúrate de que estas abarquen todas las decisiones (suposiciones) importantes que adoptaste y que determinaron la forma elegida para procesar y analizar los datos.]"
   ]
  },
  {
   "cell_type": "markdown",
   "metadata": {},
   "source": [
    "En general el comportamiento de la clientela se caracteriza de la siguiente manera:\n",
    "- En ambos planes respecto a las llamadas, usan solo los minutos incluidos en su paquete.\n",
    "- Los usuarios de ambos planes usan mensajes por debajo de las cantidades incluidas en su plan.\n",
    "- Respecto al trafico de internet, los usuarios del plan ultimate si usan los gbs incluidos en su plan, a veces incluso menos; pero los usuarios del plan surf tienden a gastar mas gbs de los que incluye su plan.\n",
    "\n",
    "Sobre los ingresos en los planes vemos que:\n",
    "- Si solo hablamos del costo fijo de los planes, definitavemente hay mas ingresos por los usuarios del plan ultimate, ya que la cantidad de usuarios es mayor al del plan surf asi como el costo.\n",
    "- Sin embargo, al observar los ingresos por cargos extras, estos se obtienen en su gran mayoria de los usuarios del plan surf.\n",
    "\n",
    "Prueba de hipótesis\n",
    "- El ingreso promedio de los usuarios de las tarifas Ultimate y Surf difiere.\n",
    "- El ingreso promedio de los usuarios en el área de estados Nueva York-Nueva Jersey no es diferente al de los usuarios de otras regiones."
   ]
  }
 ],
 "metadata": {
  "ExecuteTimeLog": [
   {
    "duration": 828,
    "start_time": "2021-11-16T09:21:11.304Z"
   },
   {
    "duration": 893,
    "start_time": "2021-11-16T09:21:17.728Z"
   },
   {
    "duration": 1150,
    "start_time": "2021-11-16T09:21:29.568Z"
   },
   {
    "duration": 3,
    "start_time": "2021-11-16T09:24:14.495Z"
   },
   {
    "duration": 120,
    "start_time": "2021-11-16T09:24:46.630Z"
   },
   {
    "duration": 3,
    "start_time": "2021-11-16T09:28:27.882Z"
   },
   {
    "duration": 4,
    "start_time": "2021-11-16T09:29:54.281Z"
   },
   {
    "duration": 3,
    "start_time": "2021-11-16T09:30:45.936Z"
   },
   {
    "duration": 4,
    "start_time": "2021-11-16T09:31:06.300Z"
   },
   {
    "duration": 113,
    "start_time": "2021-11-16T09:31:37.208Z"
   },
   {
    "duration": 143,
    "start_time": "2021-11-16T09:31:48.656Z"
   },
   {
    "duration": 98,
    "start_time": "2021-11-16T09:31:55.678Z"
   },
   {
    "duration": 3,
    "start_time": "2021-11-16T09:32:08.535Z"
   },
   {
    "duration": 111,
    "start_time": "2021-11-16T09:32:10.120Z"
   },
   {
    "duration": 3,
    "start_time": "2021-11-16T09:32:15.732Z"
   },
   {
    "duration": 4,
    "start_time": "2021-11-16T09:32:29.423Z"
   },
   {
    "duration": 3,
    "start_time": "2021-11-16T10:03:03.074Z"
   },
   {
    "duration": 3,
    "start_time": "2021-11-16T10:10:01.288Z"
   },
   {
    "duration": 3,
    "start_time": "2021-11-16T10:10:46.923Z"
   },
   {
    "duration": 121,
    "start_time": "2021-11-16T10:37:46.494Z"
   },
   {
    "duration": 125,
    "start_time": "2021-11-16T10:38:20.632Z"
   },
   {
    "duration": 112,
    "start_time": "2021-11-16T10:46:53.001Z"
   },
   {
    "duration": 110,
    "start_time": "2021-11-16T10:48:25.775Z"
   },
   {
    "duration": 3,
    "start_time": "2021-11-16T10:50:18.720Z"
   },
   {
    "duration": 4,
    "start_time": "2021-11-16T10:50:37.649Z"
   },
   {
    "duration": 2,
    "start_time": "2021-11-16T10:50:51.884Z"
   },
   {
    "duration": 3,
    "start_time": "2021-11-16T10:51:56.237Z"
   },
   {
    "duration": 101,
    "start_time": "2021-11-16T10:53:13.791Z"
   },
   {
    "duration": 3,
    "start_time": "2021-11-16T10:55:59.186Z"
   },
   {
    "duration": 3,
    "start_time": "2021-11-16T10:56:10.751Z"
   },
   {
    "duration": 3,
    "start_time": "2021-11-16T10:56:49.038Z"
   },
   {
    "duration": 3,
    "start_time": "2021-11-16T10:56:49.174Z"
   },
   {
    "duration": 4,
    "start_time": "2021-11-16T10:56:49.414Z"
   },
   {
    "duration": 3,
    "start_time": "2021-11-16T10:56:49.680Z"
   },
   {
    "duration": 3,
    "start_time": "2021-11-16T10:56:50.370Z"
   },
   {
    "duration": 114,
    "start_time": "2021-11-16T10:59:34.518Z"
   },
   {
    "duration": 3,
    "start_time": "2021-11-16T11:01:41.201Z"
   },
   {
    "duration": 116,
    "start_time": "2021-11-16T11:01:48.754Z"
   },
   {
    "duration": 3,
    "start_time": "2021-11-16T11:02:16.685Z"
   },
   {
    "duration": 3,
    "start_time": "2021-11-16T11:02:19.479Z"
   },
   {
    "duration": 3,
    "start_time": "2021-11-16T11:02:47.067Z"
   },
   {
    "duration": 3,
    "start_time": "2021-11-16T11:02:49.353Z"
   },
   {
    "duration": 3,
    "start_time": "2021-11-16T11:03:07.835Z"
   },
   {
    "duration": 3,
    "start_time": "2021-11-16T11:03:07.953Z"
   },
   {
    "duration": 112,
    "start_time": "2021-11-16T11:07:52.072Z"
   },
   {
    "duration": 187,
    "start_time": "2021-11-16T11:09:23.468Z"
   },
   {
    "duration": 4,
    "start_time": "2021-11-16T11:10:01.455Z"
   },
   {
    "duration": 3,
    "start_time": "2021-11-16T11:10:05.069Z"
   },
   {
    "duration": 4,
    "start_time": "2021-11-16T11:10:13.376Z"
   },
   {
    "duration": 3,
    "start_time": "2021-11-16T11:10:14.434Z"
   },
   {
    "duration": 3,
    "start_time": "2021-11-16T11:10:22.853Z"
   },
   {
    "duration": 4,
    "start_time": "2021-11-16T11:27:29.279Z"
   },
   {
    "duration": 4,
    "start_time": "2021-11-16T11:29:08.919Z"
   },
   {
    "duration": 118,
    "start_time": "2021-11-16T11:29:46.703Z"
   },
   {
    "duration": 437,
    "start_time": "2021-11-16T11:36:02.181Z"
   },
   {
    "duration": 157,
    "start_time": "2021-11-16T11:36:14.388Z"
   },
   {
    "duration": 207,
    "start_time": "2021-11-16T11:47:15.898Z"
   },
   {
    "duration": 3,
    "start_time": "2021-11-16T11:53:52.092Z"
   },
   {
    "duration": 3,
    "start_time": "2021-11-16T11:53:52.236Z"
   },
   {
    "duration": 3,
    "start_time": "2021-11-16T11:59:12.005Z"
   },
   {
    "duration": 112,
    "start_time": "2021-11-16T12:00:33.446Z"
   },
   {
    "duration": 3,
    "start_time": "2021-11-16T12:02:14.453Z"
   },
   {
    "duration": 3,
    "start_time": "2021-11-16T12:02:39.512Z"
   },
   {
    "duration": 106,
    "start_time": "2021-11-16T12:03:03.460Z"
   },
   {
    "duration": 3,
    "start_time": "2021-11-17T20:37:21.139Z"
   },
   {
    "duration": 3,
    "start_time": "2021-11-17T20:37:22.229Z"
   },
   {
    "duration": 3,
    "start_time": "2021-11-17T20:38:38.806Z"
   },
   {
    "duration": 3,
    "start_time": "2021-11-17T20:38:41.958Z"
   },
   {
    "duration": 3,
    "start_time": "2021-11-17T20:43:46.551Z"
   },
   {
    "duration": 4,
    "start_time": "2021-11-17T20:58:21.835Z"
   },
   {
    "duration": 3,
    "start_time": "2021-11-17T20:59:21.872Z"
   },
   {
    "duration": 4,
    "start_time": "2021-11-17T20:59:45.352Z"
   },
   {
    "duration": 4,
    "start_time": "2021-11-17T20:59:49.646Z"
   },
   {
    "duration": 159,
    "start_time": "2021-11-17T21:02:26.949Z"
   },
   {
    "duration": 3,
    "start_time": "2021-11-17T21:03:53.461Z"
   },
   {
    "duration": 3,
    "start_time": "2021-11-17T21:03:53.694Z"
   },
   {
    "duration": 3,
    "start_time": "2021-11-17T21:05:28.145Z"
   },
   {
    "duration": 116,
    "start_time": "2021-11-17T21:05:57.787Z"
   },
   {
    "duration": 3,
    "start_time": "2021-11-17T21:06:37.993Z"
   },
   {
    "duration": 3,
    "start_time": "2021-11-17T21:06:38.261Z"
   },
   {
    "duration": 3,
    "start_time": "2021-11-17T21:11:54.358Z"
   },
   {
    "duration": 3,
    "start_time": "2021-11-17T21:12:43.846Z"
   },
   {
    "duration": 4,
    "start_time": "2021-11-17T21:13:08.773Z"
   },
   {
    "duration": 3,
    "start_time": "2021-11-17T21:14:44.441Z"
   },
   {
    "duration": 3,
    "start_time": "2021-11-17T21:15:42.059Z"
   },
   {
    "duration": 4,
    "start_time": "2021-11-17T21:15:51.995Z"
   },
   {
    "duration": 3,
    "start_time": "2021-11-17T21:15:53.923Z"
   },
   {
    "duration": 3,
    "start_time": "2021-11-17T21:15:55.282Z"
   },
   {
    "duration": 3,
    "start_time": "2021-11-17T21:16:28.492Z"
   },
   {
    "duration": 3,
    "start_time": "2021-11-17T21:16:32.603Z"
   },
   {
    "duration": 3,
    "start_time": "2021-11-17T21:17:06.941Z"
   },
   {
    "duration": 98,
    "start_time": "2021-11-17T21:18:05.733Z"
   },
   {
    "duration": 4,
    "start_time": "2021-11-17T21:21:35.255Z"
   },
   {
    "duration": 3,
    "start_time": "2021-11-17T21:21:37.804Z"
   },
   {
    "duration": 4,
    "start_time": "2021-11-17T21:23:06.071Z"
   },
   {
    "duration": 3,
    "start_time": "2021-11-17T21:23:24.799Z"
   },
   {
    "duration": 3,
    "start_time": "2021-11-17T21:23:32.591Z"
   },
   {
    "duration": 98,
    "start_time": "2021-11-17T21:28:31.559Z"
   },
   {
    "duration": 3,
    "start_time": "2021-11-17T21:28:45.448Z"
   },
   {
    "duration": 3,
    "start_time": "2021-11-17T21:29:17.303Z"
   },
   {
    "duration": 3,
    "start_time": "2021-11-17T21:29:29.617Z"
   },
   {
    "duration": 3,
    "start_time": "2021-11-17T21:29:32.681Z"
   },
   {
    "duration": 3,
    "start_time": "2021-11-17T21:36:11.474Z"
   },
   {
    "duration": 3,
    "start_time": "2021-11-17T21:36:14.791Z"
   },
   {
    "duration": 3,
    "start_time": "2021-11-17T21:36:53.943Z"
   },
   {
    "duration": 3,
    "start_time": "2021-11-17T21:36:56.165Z"
   },
   {
    "duration": 4,
    "start_time": "2021-11-17T21:37:16.590Z"
   },
   {
    "duration": 3,
    "start_time": "2021-11-17T21:37:22.702Z"
   },
   {
    "duration": 4,
    "start_time": "2021-11-17T21:38:03.479Z"
   },
   {
    "duration": 3,
    "start_time": "2021-11-17T21:38:08.601Z"
   },
   {
    "duration": 3,
    "start_time": "2021-11-17T21:38:12.928Z"
   },
   {
    "duration": 3,
    "start_time": "2021-11-17T21:38:48.896Z"
   },
   {
    "duration": 2,
    "start_time": "2021-11-17T21:38:49.171Z"
   },
   {
    "duration": 4,
    "start_time": "2021-11-17T21:39:57.889Z"
   },
   {
    "duration": 3,
    "start_time": "2021-11-17T21:39:58.057Z"
   },
   {
    "duration": 3,
    "start_time": "2021-11-17T21:41:20.108Z"
   },
   {
    "duration": 3,
    "start_time": "2021-11-17T21:41:20.629Z"
   },
   {
    "duration": 3,
    "start_time": "2021-11-17T21:42:49.136Z"
   },
   {
    "duration": 3,
    "start_time": "2021-11-17T21:43:15.137Z"
   },
   {
    "duration": 4,
    "start_time": "2021-11-17T21:43:16.766Z"
   },
   {
    "duration": 4,
    "start_time": "2021-11-17T21:43:31.711Z"
   },
   {
    "duration": 3,
    "start_time": "2021-11-17T21:43:36.312Z"
   },
   {
    "duration": 4,
    "start_time": "2021-11-17T21:45:08.825Z"
   },
   {
    "duration": 4,
    "start_time": "2021-11-17T21:45:10.119Z"
   },
   {
    "duration": 4,
    "start_time": "2021-11-17T21:45:13.748Z"
   },
   {
    "duration": 3,
    "start_time": "2021-11-17T21:45:22.219Z"
   },
   {
    "duration": 3,
    "start_time": "2021-11-17T21:45:33.412Z"
   },
   {
    "duration": 2,
    "start_time": "2021-11-17T21:46:01.885Z"
   },
   {
    "duration": 3,
    "start_time": "2021-11-17T21:46:03.628Z"
   },
   {
    "duration": 107,
    "start_time": "2021-11-17T21:47:32.512Z"
   },
   {
    "duration": 103,
    "start_time": "2021-11-17T21:50:36.243Z"
   },
   {
    "duration": 3,
    "start_time": "2021-11-18T06:28:31.440Z"
   },
   {
    "duration": 3,
    "start_time": "2021-11-18T06:29:00.168Z"
   },
   {
    "duration": 3,
    "start_time": "2021-11-18T06:31:27.008Z"
   },
   {
    "duration": 2,
    "start_time": "2021-11-18T06:35:34.288Z"
   },
   {
    "duration": 2,
    "start_time": "2021-11-18T06:38:04.527Z"
   },
   {
    "duration": 936,
    "start_time": "2024-05-29T15:08:49.954Z"
   },
   {
    "duration": 1077,
    "start_time": "2024-05-29T15:10:49.482Z"
   },
   {
    "duration": 129,
    "start_time": "2024-05-29T15:11:48.767Z"
   },
   {
    "duration": 481,
    "start_time": "2024-05-29T15:12:10.951Z"
   },
   {
    "duration": 272,
    "start_time": "2024-05-29T15:13:16.277Z"
   },
   {
    "duration": 271,
    "start_time": "2024-05-29T15:13:20.487Z"
   },
   {
    "duration": 27,
    "start_time": "2024-05-29T15:15:42.892Z"
   },
   {
    "duration": 24,
    "start_time": "2024-05-29T15:15:52.785Z"
   },
   {
    "duration": 471,
    "start_time": "2024-05-29T15:16:03.574Z"
   },
   {
    "duration": 268,
    "start_time": "2024-05-29T15:16:10.570Z"
   },
   {
    "duration": 307,
    "start_time": "2024-06-03T13:55:30.245Z"
   },
   {
    "duration": 928,
    "start_time": "2024-06-03T13:55:37.969Z"
   },
   {
    "duration": 374,
    "start_time": "2024-06-03T13:55:38.900Z"
   },
   {
    "duration": 57,
    "start_time": "2024-06-03T13:55:39.277Z"
   },
   {
    "duration": 13,
    "start_time": "2024-06-03T13:55:39.338Z"
   },
   {
    "duration": 4,
    "start_time": "2024-06-03T13:55:39.353Z"
   },
   {
    "duration": 3,
    "start_time": "2024-06-03T13:55:39.360Z"
   },
   {
    "duration": 4,
    "start_time": "2024-06-03T13:55:39.366Z"
   },
   {
    "duration": 3,
    "start_time": "2024-06-03T13:55:39.374Z"
   },
   {
    "duration": 3,
    "start_time": "2024-06-03T13:55:39.432Z"
   },
   {
    "duration": 3,
    "start_time": "2024-06-03T13:55:39.441Z"
   },
   {
    "duration": 3,
    "start_time": "2024-06-03T13:55:39.448Z"
   },
   {
    "duration": 4,
    "start_time": "2024-06-03T13:55:39.454Z"
   },
   {
    "duration": 3,
    "start_time": "2024-06-03T13:55:39.461Z"
   },
   {
    "duration": 3,
    "start_time": "2024-06-03T13:55:39.467Z"
   },
   {
    "duration": 4,
    "start_time": "2024-06-03T13:55:39.473Z"
   },
   {
    "duration": 3,
    "start_time": "2024-06-03T13:55:39.532Z"
   },
   {
    "duration": 3,
    "start_time": "2024-06-03T13:55:39.539Z"
   },
   {
    "duration": 3,
    "start_time": "2024-06-03T13:55:39.545Z"
   },
   {
    "duration": 4,
    "start_time": "2024-06-03T13:55:39.551Z"
   },
   {
    "duration": 3,
    "start_time": "2024-06-03T13:55:39.559Z"
   },
   {
    "duration": 3,
    "start_time": "2024-06-03T13:55:39.566Z"
   },
   {
    "duration": 3,
    "start_time": "2024-06-03T13:55:39.573Z"
   },
   {
    "duration": 3,
    "start_time": "2024-06-03T13:55:39.634Z"
   },
   {
    "duration": 4,
    "start_time": "2024-06-03T13:55:39.640Z"
   },
   {
    "duration": 3,
    "start_time": "2024-06-03T13:55:39.646Z"
   },
   {
    "duration": 3,
    "start_time": "2024-06-03T13:55:39.653Z"
   },
   {
    "duration": 3,
    "start_time": "2024-06-03T13:55:39.660Z"
   },
   {
    "duration": 4,
    "start_time": "2024-06-03T13:55:39.670Z"
   },
   {
    "duration": 12,
    "start_time": "2024-06-03T14:03:10.825Z"
   },
   {
    "duration": 900,
    "start_time": "2024-06-03T14:03:20.918Z"
   },
   {
    "duration": 12,
    "start_time": "2024-06-03T14:03:42.789Z"
   },
   {
    "duration": 48,
    "start_time": "2024-06-03T14:06:02.307Z"
   },
   {
    "duration": 46,
    "start_time": "2024-06-03T14:06:06.746Z"
   },
   {
    "duration": 4,
    "start_time": "2024-06-03T14:06:13.019Z"
   },
   {
    "duration": 271,
    "start_time": "2024-06-03T14:06:13.027Z"
   },
   {
    "duration": 50,
    "start_time": "2024-06-03T14:06:13.301Z"
   },
   {
    "duration": 47,
    "start_time": "2024-06-03T14:06:54.777Z"
   },
   {
    "duration": 44,
    "start_time": "2024-06-03T14:07:16.514Z"
   },
   {
    "duration": 48,
    "start_time": "2024-06-03T14:07:46.472Z"
   },
   {
    "duration": 50,
    "start_time": "2024-06-03T14:07:55.154Z"
   },
   {
    "duration": 4,
    "start_time": "2024-06-03T14:08:02.949Z"
   },
   {
    "duration": 287,
    "start_time": "2024-06-03T14:08:02.957Z"
   },
   {
    "duration": 43,
    "start_time": "2024-06-03T14:08:03.247Z"
   },
   {
    "duration": 68,
    "start_time": "2024-06-03T14:08:03.293Z"
   },
   {
    "duration": 0,
    "start_time": "2024-06-03T14:08:03.366Z"
   },
   {
    "duration": 0,
    "start_time": "2024-06-03T14:08:03.369Z"
   },
   {
    "duration": 0,
    "start_time": "2024-06-03T14:08:03.371Z"
   },
   {
    "duration": 0,
    "start_time": "2024-06-03T14:08:03.374Z"
   },
   {
    "duration": 0,
    "start_time": "2024-06-03T14:08:03.375Z"
   },
   {
    "duration": 0,
    "start_time": "2024-06-03T14:08:03.377Z"
   },
   {
    "duration": 0,
    "start_time": "2024-06-03T14:08:03.379Z"
   },
   {
    "duration": 0,
    "start_time": "2024-06-03T14:08:03.380Z"
   },
   {
    "duration": 0,
    "start_time": "2024-06-03T14:08:03.381Z"
   },
   {
    "duration": 0,
    "start_time": "2024-06-03T14:08:03.383Z"
   },
   {
    "duration": 0,
    "start_time": "2024-06-03T14:08:03.385Z"
   },
   {
    "duration": 0,
    "start_time": "2024-06-03T14:08:03.388Z"
   },
   {
    "duration": 0,
    "start_time": "2024-06-03T14:08:03.391Z"
   },
   {
    "duration": 0,
    "start_time": "2024-06-03T14:08:03.433Z"
   },
   {
    "duration": 0,
    "start_time": "2024-06-03T14:08:03.434Z"
   },
   {
    "duration": 0,
    "start_time": "2024-06-03T14:08:03.436Z"
   },
   {
    "duration": 0,
    "start_time": "2024-06-03T14:08:03.438Z"
   },
   {
    "duration": 0,
    "start_time": "2024-06-03T14:08:03.439Z"
   },
   {
    "duration": 0,
    "start_time": "2024-06-03T14:08:03.441Z"
   },
   {
    "duration": 0,
    "start_time": "2024-06-03T14:08:03.443Z"
   },
   {
    "duration": 0,
    "start_time": "2024-06-03T14:08:03.445Z"
   },
   {
    "duration": 1,
    "start_time": "2024-06-03T14:08:03.446Z"
   },
   {
    "duration": 0,
    "start_time": "2024-06-03T14:08:03.450Z"
   },
   {
    "duration": 0,
    "start_time": "2024-06-03T14:08:03.452Z"
   },
   {
    "duration": 13,
    "start_time": "2024-06-03T14:08:26.129Z"
   },
   {
    "duration": 33,
    "start_time": "2024-06-03T14:14:54.536Z"
   },
   {
    "duration": 43,
    "start_time": "2024-06-03T14:14:59.973Z"
   },
   {
    "duration": 45,
    "start_time": "2024-06-03T14:26:19.787Z"
   },
   {
    "duration": 928,
    "start_time": "2024-06-04T17:20:48.086Z"
   },
   {
    "duration": 448,
    "start_time": "2024-06-04T17:20:49.017Z"
   },
   {
    "duration": 74,
    "start_time": "2024-06-04T17:20:49.469Z"
   },
   {
    "duration": 995,
    "start_time": "2024-06-04T17:20:49.550Z"
   },
   {
    "duration": 0,
    "start_time": "2024-06-04T17:20:50.549Z"
   },
   {
    "duration": 0,
    "start_time": "2024-06-04T17:20:50.551Z"
   },
   {
    "duration": 0,
    "start_time": "2024-06-04T17:20:50.554Z"
   },
   {
    "duration": 0,
    "start_time": "2024-06-04T17:20:50.557Z"
   },
   {
    "duration": 0,
    "start_time": "2024-06-04T17:20:50.559Z"
   },
   {
    "duration": 0,
    "start_time": "2024-06-04T17:20:50.562Z"
   },
   {
    "duration": 0,
    "start_time": "2024-06-04T17:20:50.566Z"
   },
   {
    "duration": 0,
    "start_time": "2024-06-04T17:20:50.568Z"
   },
   {
    "duration": 0,
    "start_time": "2024-06-04T17:20:50.570Z"
   },
   {
    "duration": 0,
    "start_time": "2024-06-04T17:20:50.573Z"
   },
   {
    "duration": 0,
    "start_time": "2024-06-04T17:20:50.574Z"
   },
   {
    "duration": 0,
    "start_time": "2024-06-04T17:20:50.577Z"
   },
   {
    "duration": 0,
    "start_time": "2024-06-04T17:20:50.580Z"
   },
   {
    "duration": 0,
    "start_time": "2024-06-04T17:20:50.624Z"
   },
   {
    "duration": 0,
    "start_time": "2024-06-04T17:20:50.626Z"
   },
   {
    "duration": 0,
    "start_time": "2024-06-04T17:20:50.628Z"
   },
   {
    "duration": 1,
    "start_time": "2024-06-04T17:20:50.632Z"
   },
   {
    "duration": 0,
    "start_time": "2024-06-04T17:20:50.635Z"
   },
   {
    "duration": 0,
    "start_time": "2024-06-04T17:20:50.638Z"
   },
   {
    "duration": 0,
    "start_time": "2024-06-04T17:20:50.640Z"
   },
   {
    "duration": 0,
    "start_time": "2024-06-04T17:20:50.643Z"
   },
   {
    "duration": 0,
    "start_time": "2024-06-04T17:20:50.645Z"
   },
   {
    "duration": 0,
    "start_time": "2024-06-04T17:20:50.648Z"
   },
   {
    "duration": 0,
    "start_time": "2024-06-04T17:20:50.650Z"
   },
   {
    "duration": 15,
    "start_time": "2024-06-04T17:23:46.336Z"
   },
   {
    "duration": 323,
    "start_time": "2024-06-05T02:39:35.434Z"
   },
   {
    "duration": 958,
    "start_time": "2024-06-05T02:39:48.683Z"
   },
   {
    "duration": 404,
    "start_time": "2024-06-05T02:39:49.645Z"
   },
   {
    "duration": 62,
    "start_time": "2024-06-05T02:39:50.052Z"
   },
   {
    "duration": 14,
    "start_time": "2024-06-05T02:39:50.118Z"
   },
   {
    "duration": 10,
    "start_time": "2024-06-05T02:39:50.140Z"
   },
   {
    "duration": 4,
    "start_time": "2024-06-05T02:39:50.153Z"
   },
   {
    "duration": 4,
    "start_time": "2024-06-05T02:39:50.160Z"
   },
   {
    "duration": 4,
    "start_time": "2024-06-05T02:39:50.209Z"
   },
   {
    "duration": 5,
    "start_time": "2024-06-05T02:39:50.216Z"
   },
   {
    "duration": 4,
    "start_time": "2024-06-05T02:39:50.227Z"
   },
   {
    "duration": 4,
    "start_time": "2024-06-05T02:39:50.235Z"
   },
   {
    "duration": 10,
    "start_time": "2024-06-05T02:39:50.243Z"
   },
   {
    "duration": 5,
    "start_time": "2024-06-05T02:39:50.257Z"
   },
   {
    "duration": 5,
    "start_time": "2024-06-05T02:39:50.308Z"
   },
   {
    "duration": 5,
    "start_time": "2024-06-05T02:39:50.316Z"
   },
   {
    "duration": 3,
    "start_time": "2024-06-05T02:39:50.324Z"
   },
   {
    "duration": 4,
    "start_time": "2024-06-05T02:39:50.331Z"
   },
   {
    "duration": 6,
    "start_time": "2024-06-05T02:39:50.338Z"
   },
   {
    "duration": 4,
    "start_time": "2024-06-05T02:39:50.348Z"
   },
   {
    "duration": 4,
    "start_time": "2024-06-05T02:39:50.355Z"
   },
   {
    "duration": 3,
    "start_time": "2024-06-05T02:39:50.410Z"
   },
   {
    "duration": 4,
    "start_time": "2024-06-05T02:39:50.416Z"
   },
   {
    "duration": 7,
    "start_time": "2024-06-05T02:39:50.424Z"
   },
   {
    "duration": 3,
    "start_time": "2024-06-05T02:39:50.435Z"
   },
   {
    "duration": 3,
    "start_time": "2024-06-05T02:39:50.441Z"
   },
   {
    "duration": 3,
    "start_time": "2024-06-05T02:39:50.448Z"
   },
   {
    "duration": 3,
    "start_time": "2024-06-05T02:39:50.454Z"
   },
   {
    "duration": 3,
    "start_time": "2024-06-05T02:39:50.508Z"
   },
   {
    "duration": 4,
    "start_time": "2024-06-05T02:39:50.515Z"
   },
   {
    "duration": 9,
    "start_time": "2024-06-05T02:40:03.321Z"
   },
   {
    "duration": 6,
    "start_time": "2024-06-05T02:46:00.172Z"
   },
   {
    "duration": 14,
    "start_time": "2024-06-05T02:46:11.705Z"
   },
   {
    "duration": 8,
    "start_time": "2024-06-05T02:47:08.277Z"
   },
   {
    "duration": 7,
    "start_time": "2024-06-05T03:09:41.317Z"
   },
   {
    "duration": 12,
    "start_time": "2024-06-05T03:09:49.308Z"
   },
   {
    "duration": 4,
    "start_time": "2024-06-05T03:10:08.880Z"
   },
   {
    "duration": 296,
    "start_time": "2024-06-05T03:10:08.890Z"
   },
   {
    "duration": 50,
    "start_time": "2024-06-05T03:10:09.189Z"
   },
   {
    "duration": 14,
    "start_time": "2024-06-05T03:10:09.242Z"
   },
   {
    "duration": 10,
    "start_time": "2024-06-05T03:10:09.262Z"
   },
   {
    "duration": 9,
    "start_time": "2024-06-05T03:10:09.309Z"
   },
   {
    "duration": 310,
    "start_time": "2024-06-05T03:10:09.322Z"
   },
   {
    "duration": 468,
    "start_time": "2024-06-05T03:10:09.636Z"
   },
   {
    "duration": 0,
    "start_time": "2024-06-05T03:10:10.109Z"
   },
   {
    "duration": 0,
    "start_time": "2024-06-05T03:10:10.111Z"
   },
   {
    "duration": 0,
    "start_time": "2024-06-05T03:10:10.112Z"
   },
   {
    "duration": 0,
    "start_time": "2024-06-05T03:10:10.115Z"
   },
   {
    "duration": 0,
    "start_time": "2024-06-05T03:10:10.116Z"
   },
   {
    "duration": 0,
    "start_time": "2024-06-05T03:10:10.119Z"
   },
   {
    "duration": 0,
    "start_time": "2024-06-05T03:10:10.120Z"
   },
   {
    "duration": 0,
    "start_time": "2024-06-05T03:10:10.122Z"
   },
   {
    "duration": 0,
    "start_time": "2024-06-05T03:10:10.124Z"
   },
   {
    "duration": 0,
    "start_time": "2024-06-05T03:10:10.126Z"
   },
   {
    "duration": 0,
    "start_time": "2024-06-05T03:10:10.128Z"
   },
   {
    "duration": 0,
    "start_time": "2024-06-05T03:10:10.129Z"
   },
   {
    "duration": 0,
    "start_time": "2024-06-05T03:10:10.131Z"
   },
   {
    "duration": 0,
    "start_time": "2024-06-05T03:10:10.133Z"
   },
   {
    "duration": 0,
    "start_time": "2024-06-05T03:10:10.135Z"
   },
   {
    "duration": 0,
    "start_time": "2024-06-05T03:10:10.137Z"
   },
   {
    "duration": 0,
    "start_time": "2024-06-05T03:10:10.139Z"
   },
   {
    "duration": 0,
    "start_time": "2024-06-05T03:10:10.141Z"
   },
   {
    "duration": 0,
    "start_time": "2024-06-05T03:10:10.146Z"
   },
   {
    "duration": 0,
    "start_time": "2024-06-05T03:10:10.149Z"
   },
   {
    "duration": 0,
    "start_time": "2024-06-05T03:10:10.209Z"
   },
   {
    "duration": 0,
    "start_time": "2024-06-05T03:10:10.211Z"
   },
   {
    "duration": 0,
    "start_time": "2024-06-05T03:10:10.213Z"
   },
   {
    "duration": 0,
    "start_time": "2024-06-05T03:10:10.215Z"
   },
   {
    "duration": 857,
    "start_time": "2024-06-05T03:22:03.393Z"
   },
   {
    "duration": 917,
    "start_time": "2024-06-05T03:22:51.911Z"
   },
   {
    "duration": 279,
    "start_time": "2024-06-05T03:22:52.831Z"
   },
   {
    "duration": 51,
    "start_time": "2024-06-05T03:22:53.113Z"
   },
   {
    "duration": 13,
    "start_time": "2024-06-05T03:22:53.166Z"
   },
   {
    "duration": 30,
    "start_time": "2024-06-05T03:22:53.185Z"
   },
   {
    "duration": 11,
    "start_time": "2024-06-05T03:22:53.219Z"
   },
   {
    "duration": 1288,
    "start_time": "2024-06-05T03:22:53.234Z"
   },
   {
    "duration": 0,
    "start_time": "2024-06-05T03:22:54.526Z"
   },
   {
    "duration": 0,
    "start_time": "2024-06-05T03:22:54.529Z"
   },
   {
    "duration": 0,
    "start_time": "2024-06-05T03:22:54.531Z"
   },
   {
    "duration": 0,
    "start_time": "2024-06-05T03:22:54.534Z"
   },
   {
    "duration": 0,
    "start_time": "2024-06-05T03:22:54.537Z"
   },
   {
    "duration": 0,
    "start_time": "2024-06-05T03:22:54.538Z"
   },
   {
    "duration": 0,
    "start_time": "2024-06-05T03:22:54.542Z"
   },
   {
    "duration": 0,
    "start_time": "2024-06-05T03:22:54.545Z"
   },
   {
    "duration": 0,
    "start_time": "2024-06-05T03:22:54.547Z"
   },
   {
    "duration": 0,
    "start_time": "2024-06-05T03:22:54.550Z"
   },
   {
    "duration": 0,
    "start_time": "2024-06-05T03:22:54.552Z"
   },
   {
    "duration": 0,
    "start_time": "2024-06-05T03:22:54.554Z"
   },
   {
    "duration": 0,
    "start_time": "2024-06-05T03:22:54.557Z"
   },
   {
    "duration": 0,
    "start_time": "2024-06-05T03:22:54.559Z"
   },
   {
    "duration": 0,
    "start_time": "2024-06-05T03:22:54.562Z"
   },
   {
    "duration": 0,
    "start_time": "2024-06-05T03:22:54.612Z"
   },
   {
    "duration": 0,
    "start_time": "2024-06-05T03:22:54.615Z"
   },
   {
    "duration": 0,
    "start_time": "2024-06-05T03:22:54.618Z"
   },
   {
    "duration": 0,
    "start_time": "2024-06-05T03:22:54.621Z"
   },
   {
    "duration": 1,
    "start_time": "2024-06-05T03:22:54.623Z"
   },
   {
    "duration": 0,
    "start_time": "2024-06-05T03:22:54.626Z"
   },
   {
    "duration": 0,
    "start_time": "2024-06-05T03:22:54.628Z"
   },
   {
    "duration": 0,
    "start_time": "2024-06-05T03:22:54.631Z"
   },
   {
    "duration": 0,
    "start_time": "2024-06-05T03:22:54.634Z"
   },
   {
    "duration": 0,
    "start_time": "2024-06-05T03:22:54.636Z"
   },
   {
    "duration": 114,
    "start_time": "2024-06-05T03:23:52.639Z"
   },
   {
    "duration": 102,
    "start_time": "2024-06-05T03:23:56.252Z"
   },
   {
    "duration": 77,
    "start_time": "2024-06-05T03:25:28.716Z"
   },
   {
    "duration": 86,
    "start_time": "2024-06-05T03:31:10.587Z"
   },
   {
    "duration": 18,
    "start_time": "2024-06-05T03:31:33.540Z"
   },
   {
    "duration": 106,
    "start_time": "2024-06-05T03:31:58.810Z"
   },
   {
    "duration": 19,
    "start_time": "2024-06-05T03:32:11.142Z"
   },
   {
    "duration": 24,
    "start_time": "2024-06-05T03:35:19.895Z"
   },
   {
    "duration": 20,
    "start_time": "2024-06-05T03:44:02.810Z"
   },
   {
    "duration": 31,
    "start_time": "2024-06-05T03:44:22.618Z"
   },
   {
    "duration": 19,
    "start_time": "2024-06-05T03:45:58.045Z"
   },
   {
    "duration": 950,
    "start_time": "2024-06-05T04:04:56.411Z"
   },
   {
    "duration": 341,
    "start_time": "2024-06-05T04:04:57.365Z"
   },
   {
    "duration": 55,
    "start_time": "2024-06-05T04:04:57.709Z"
   },
   {
    "duration": 37,
    "start_time": "2024-06-05T04:04:57.772Z"
   },
   {
    "duration": 11,
    "start_time": "2024-06-05T04:04:57.813Z"
   },
   {
    "duration": 9,
    "start_time": "2024-06-05T04:04:57.828Z"
   },
   {
    "duration": 25,
    "start_time": "2024-06-05T04:04:57.842Z"
   },
   {
    "duration": 59,
    "start_time": "2024-06-05T04:04:57.870Z"
   },
   {
    "duration": 24,
    "start_time": "2024-06-05T04:04:57.933Z"
   },
   {
    "duration": 67,
    "start_time": "2024-06-05T04:04:57.965Z"
   },
   {
    "duration": 15,
    "start_time": "2024-06-05T04:04:58.035Z"
   },
   {
    "duration": 78,
    "start_time": "2024-06-05T04:04:58.053Z"
   },
   {
    "duration": 16,
    "start_time": "2024-06-05T04:04:58.134Z"
   },
   {
    "duration": 63,
    "start_time": "2024-06-05T04:04:58.153Z"
   },
   {
    "duration": 14,
    "start_time": "2024-06-05T04:04:58.219Z"
   },
   {
    "duration": 83,
    "start_time": "2024-06-05T04:04:58.237Z"
   },
   {
    "duration": 19,
    "start_time": "2024-06-05T04:04:58.323Z"
   },
   {
    "duration": 5,
    "start_time": "2024-06-05T04:04:58.345Z"
   },
   {
    "duration": 5,
    "start_time": "2024-06-05T04:04:58.353Z"
   },
   {
    "duration": 5,
    "start_time": "2024-06-05T04:04:58.361Z"
   },
   {
    "duration": 3,
    "start_time": "2024-06-05T04:04:58.409Z"
   },
   {
    "duration": 4,
    "start_time": "2024-06-05T04:04:58.416Z"
   },
   {
    "duration": 3,
    "start_time": "2024-06-05T04:04:58.423Z"
   },
   {
    "duration": 5,
    "start_time": "2024-06-05T04:04:58.429Z"
   },
   {
    "duration": 4,
    "start_time": "2024-06-05T04:04:58.438Z"
   },
   {
    "duration": 10,
    "start_time": "2024-06-05T04:04:58.445Z"
   },
   {
    "duration": 53,
    "start_time": "2024-06-05T04:04:58.459Z"
   },
   {
    "duration": 3,
    "start_time": "2024-06-05T04:04:58.520Z"
   },
   {
    "duration": 5,
    "start_time": "2024-06-05T04:04:58.530Z"
   },
   {
    "duration": 3,
    "start_time": "2024-06-05T04:04:58.542Z"
   },
   {
    "duration": 3,
    "start_time": "2024-06-05T04:04:58.549Z"
   },
   {
    "duration": 2,
    "start_time": "2024-06-05T04:04:58.556Z"
   },
   {
    "duration": 3,
    "start_time": "2024-06-05T04:04:58.562Z"
   },
   {
    "duration": 11,
    "start_time": "2024-06-05T04:08:31.654Z"
   },
   {
    "duration": 895,
    "start_time": "2024-06-05T04:08:41.168Z"
   },
   {
    "duration": 313,
    "start_time": "2024-06-05T04:08:42.067Z"
   },
   {
    "duration": 61,
    "start_time": "2024-06-05T04:08:42.383Z"
   },
   {
    "duration": 15,
    "start_time": "2024-06-05T04:08:42.448Z"
   },
   {
    "duration": 10,
    "start_time": "2024-06-05T04:08:42.467Z"
   },
   {
    "duration": 11,
    "start_time": "2024-06-05T04:08:42.510Z"
   },
   {
    "duration": 1320,
    "start_time": "2024-06-05T04:08:42.525Z"
   },
   {
    "duration": 0,
    "start_time": "2024-06-05T04:08:43.850Z"
   },
   {
    "duration": 0,
    "start_time": "2024-06-05T04:08:43.853Z"
   },
   {
    "duration": 0,
    "start_time": "2024-06-05T04:08:43.856Z"
   },
   {
    "duration": 0,
    "start_time": "2024-06-05T04:08:43.860Z"
   },
   {
    "duration": 0,
    "start_time": "2024-06-05T04:08:43.862Z"
   },
   {
    "duration": 0,
    "start_time": "2024-06-05T04:08:43.865Z"
   },
   {
    "duration": 0,
    "start_time": "2024-06-05T04:08:43.867Z"
   },
   {
    "duration": 0,
    "start_time": "2024-06-05T04:08:43.869Z"
   },
   {
    "duration": 0,
    "start_time": "2024-06-05T04:08:43.871Z"
   },
   {
    "duration": 0,
    "start_time": "2024-06-05T04:08:43.873Z"
   },
   {
    "duration": 0,
    "start_time": "2024-06-05T04:08:43.912Z"
   },
   {
    "duration": 0,
    "start_time": "2024-06-05T04:08:43.913Z"
   },
   {
    "duration": 0,
    "start_time": "2024-06-05T04:08:43.915Z"
   },
   {
    "duration": 0,
    "start_time": "2024-06-05T04:08:43.918Z"
   },
   {
    "duration": 0,
    "start_time": "2024-06-05T04:08:43.920Z"
   },
   {
    "duration": 0,
    "start_time": "2024-06-05T04:08:43.922Z"
   },
   {
    "duration": 0,
    "start_time": "2024-06-05T04:08:43.924Z"
   },
   {
    "duration": 0,
    "start_time": "2024-06-05T04:08:43.926Z"
   },
   {
    "duration": 0,
    "start_time": "2024-06-05T04:08:43.927Z"
   },
   {
    "duration": 0,
    "start_time": "2024-06-05T04:08:43.929Z"
   },
   {
    "duration": 0,
    "start_time": "2024-06-05T04:08:43.930Z"
   },
   {
    "duration": 0,
    "start_time": "2024-06-05T04:08:43.932Z"
   },
   {
    "duration": 1,
    "start_time": "2024-06-05T04:08:43.933Z"
   },
   {
    "duration": 0,
    "start_time": "2024-06-05T04:08:43.936Z"
   },
   {
    "duration": 14,
    "start_time": "2024-06-05T04:19:31.468Z"
   },
   {
    "duration": 39,
    "start_time": "2024-06-05T04:21:01.107Z"
   },
   {
    "duration": 12,
    "start_time": "2024-06-05T04:21:29.635Z"
   },
   {
    "duration": 100,
    "start_time": "2024-06-05T04:23:09.135Z"
   },
   {
    "duration": 7,
    "start_time": "2024-06-05T04:23:32.464Z"
   },
   {
    "duration": 16,
    "start_time": "2024-06-05T04:27:41.414Z"
   },
   {
    "duration": 13,
    "start_time": "2024-06-05T04:27:43.438Z"
   },
   {
    "duration": 13,
    "start_time": "2024-06-05T04:27:44.544Z"
   },
   {
    "duration": 26,
    "start_time": "2024-06-05T04:27:45.305Z"
   },
   {
    "duration": 17,
    "start_time": "2024-06-05T04:27:45.909Z"
   },
   {
    "duration": 13,
    "start_time": "2024-06-05T04:27:46.492Z"
   },
   {
    "duration": 14,
    "start_time": "2024-06-05T04:27:47.129Z"
   },
   {
    "duration": 13,
    "start_time": "2024-06-05T04:27:47.733Z"
   },
   {
    "duration": 31,
    "start_time": "2024-06-05T04:27:48.304Z"
   },
   {
    "duration": 13,
    "start_time": "2024-06-05T04:27:48.945Z"
   },
   {
    "duration": 15,
    "start_time": "2024-06-05T04:30:28.454Z"
   },
   {
    "duration": 13,
    "start_time": "2024-06-05T04:30:31.636Z"
   },
   {
    "duration": 13,
    "start_time": "2024-06-05T04:30:36.127Z"
   },
   {
    "duration": 13,
    "start_time": "2024-06-05T04:37:49.396Z"
   },
   {
    "duration": 13,
    "start_time": "2024-06-05T04:37:52.143Z"
   },
   {
    "duration": 13,
    "start_time": "2024-06-05T04:44:40.550Z"
   },
   {
    "duration": 12,
    "start_time": "2024-06-05T04:44:41.609Z"
   },
   {
    "duration": 13,
    "start_time": "2024-06-05T04:44:42.231Z"
   },
   {
    "duration": 12,
    "start_time": "2024-06-05T04:44:42.975Z"
   },
   {
    "duration": 13,
    "start_time": "2024-06-05T04:44:44.118Z"
   },
   {
    "duration": 13,
    "start_time": "2024-06-05T04:44:44.892Z"
   },
   {
    "duration": 13,
    "start_time": "2024-06-05T04:44:45.966Z"
   },
   {
    "duration": 18,
    "start_time": "2024-06-05T04:44:51.147Z"
   },
   {
    "duration": 12,
    "start_time": "2024-06-05T04:45:04.994Z"
   },
   {
    "duration": 23,
    "start_time": "2024-06-05T04:48:28.313Z"
   },
   {
    "duration": 7,
    "start_time": "2024-06-05T04:50:36.102Z"
   },
   {
    "duration": 7,
    "start_time": "2024-06-05T04:52:08.181Z"
   },
   {
    "duration": 7,
    "start_time": "2024-06-05T04:52:29.344Z"
   },
   {
    "duration": 6,
    "start_time": "2024-06-05T04:52:49.228Z"
   },
   {
    "duration": 6,
    "start_time": "2024-06-05T04:53:00.305Z"
   },
   {
    "duration": 7,
    "start_time": "2024-06-05T04:53:30.378Z"
   },
   {
    "duration": 6,
    "start_time": "2024-06-05T04:54:06.566Z"
   },
   {
    "duration": 6,
    "start_time": "2024-06-05T04:54:14.773Z"
   },
   {
    "duration": 7,
    "start_time": "2024-06-05T04:54:56.125Z"
   },
   {
    "duration": 7,
    "start_time": "2024-06-05T04:55:13.418Z"
   },
   {
    "duration": 6,
    "start_time": "2024-06-05T04:55:22.948Z"
   },
   {
    "duration": 7,
    "start_time": "2024-06-05T05:06:54.247Z"
   },
   {
    "duration": 240,
    "start_time": "2024-06-05T05:07:10.157Z"
   },
   {
    "duration": 7,
    "start_time": "2024-06-05T05:07:24.410Z"
   },
   {
    "duration": 7,
    "start_time": "2024-06-05T05:07:28.158Z"
   },
   {
    "duration": 32,
    "start_time": "2024-06-05T05:07:41.081Z"
   },
   {
    "duration": 21,
    "start_time": "2024-06-05T05:10:05.407Z"
   },
   {
    "duration": 8,
    "start_time": "2024-06-05T05:14:37.545Z"
   },
   {
    "duration": 91,
    "start_time": "2024-06-05T05:14:47.680Z"
   },
   {
    "duration": 253,
    "start_time": "2024-06-05T05:15:23.868Z"
   },
   {
    "duration": 46,
    "start_time": "2024-06-05T05:16:26.612Z"
   },
   {
    "duration": 21,
    "start_time": "2024-06-05T05:18:30.889Z"
   },
   {
    "duration": 48,
    "start_time": "2024-06-05T05:18:50.847Z"
   },
   {
    "duration": 52,
    "start_time": "2024-06-05T05:19:03.722Z"
   },
   {
    "duration": 49,
    "start_time": "2024-06-05T05:19:15.602Z"
   },
   {
    "duration": 49,
    "start_time": "2024-06-05T05:19:34.426Z"
   },
   {
    "duration": 885,
    "start_time": "2024-06-05T05:19:44.279Z"
   },
   {
    "duration": 284,
    "start_time": "2024-06-05T05:19:45.168Z"
   },
   {
    "duration": 66,
    "start_time": "2024-06-05T05:19:45.455Z"
   },
   {
    "duration": 13,
    "start_time": "2024-06-05T05:19:45.525Z"
   },
   {
    "duration": 9,
    "start_time": "2024-06-05T05:19:45.540Z"
   },
   {
    "duration": 8,
    "start_time": "2024-06-05T05:19:45.553Z"
   },
   {
    "duration": 56,
    "start_time": "2024-06-05T05:19:45.565Z"
   },
   {
    "duration": 29,
    "start_time": "2024-06-05T05:19:45.624Z"
   },
   {
    "duration": 13,
    "start_time": "2024-06-05T05:19:45.656Z"
   },
   {
    "duration": 6,
    "start_time": "2024-06-05T05:19:45.711Z"
   },
   {
    "duration": 22,
    "start_time": "2024-06-05T05:19:45.720Z"
   },
   {
    "duration": 6,
    "start_time": "2024-06-05T05:19:45.746Z"
   },
   {
    "duration": 53,
    "start_time": "2024-06-05T05:19:45.756Z"
   },
   {
    "duration": 21,
    "start_time": "2024-06-05T05:19:45.813Z"
   },
   {
    "duration": 76,
    "start_time": "2024-06-05T05:19:45.837Z"
   },
   {
    "duration": 15,
    "start_time": "2024-06-05T05:19:45.916Z"
   },
   {
    "duration": 31,
    "start_time": "2024-06-05T05:19:45.934Z"
   },
   {
    "duration": 48,
    "start_time": "2024-06-05T05:19:45.968Z"
   },
   {
    "duration": 41,
    "start_time": "2024-06-05T05:19:46.019Z"
   },
   {
    "duration": 14,
    "start_time": "2024-06-05T05:19:46.063Z"
   },
   {
    "duration": 4,
    "start_time": "2024-06-05T05:19:46.109Z"
   },
   {
    "duration": 2,
    "start_time": "2024-06-05T05:19:46.117Z"
   },
   {
    "duration": 4,
    "start_time": "2024-06-05T05:19:46.122Z"
   },
   {
    "duration": 3,
    "start_time": "2024-06-05T05:19:46.129Z"
   },
   {
    "duration": 3,
    "start_time": "2024-06-05T05:19:46.136Z"
   },
   {
    "duration": 3,
    "start_time": "2024-06-05T05:19:46.142Z"
   },
   {
    "duration": 4,
    "start_time": "2024-06-05T05:19:46.148Z"
   },
   {
    "duration": 3,
    "start_time": "2024-06-05T05:19:46.214Z"
   },
   {
    "duration": 3,
    "start_time": "2024-06-05T05:19:46.220Z"
   },
   {
    "duration": 3,
    "start_time": "2024-06-05T05:19:46.227Z"
   },
   {
    "duration": 4,
    "start_time": "2024-06-05T05:19:46.233Z"
   },
   {
    "duration": 4,
    "start_time": "2024-06-05T05:19:46.240Z"
   },
   {
    "duration": 2,
    "start_time": "2024-06-05T05:19:46.248Z"
   },
   {
    "duration": 55,
    "start_time": "2024-06-05T05:19:46.254Z"
   },
   {
    "duration": 3,
    "start_time": "2024-06-05T05:19:46.313Z"
   },
   {
    "duration": 4,
    "start_time": "2024-06-05T05:19:46.319Z"
   },
   {
    "duration": 20,
    "start_time": "2024-06-05T05:20:28.038Z"
   },
   {
    "duration": 925,
    "start_time": "2024-06-05T05:20:44.634Z"
   },
   {
    "duration": 269,
    "start_time": "2024-06-05T05:20:45.562Z"
   },
   {
    "duration": 53,
    "start_time": "2024-06-05T05:20:45.834Z"
   },
   {
    "duration": 13,
    "start_time": "2024-06-05T05:20:45.910Z"
   },
   {
    "duration": 10,
    "start_time": "2024-06-05T05:20:45.926Z"
   },
   {
    "duration": 9,
    "start_time": "2024-06-05T05:20:45.941Z"
   },
   {
    "duration": 55,
    "start_time": "2024-06-05T05:20:45.953Z"
   },
   {
    "duration": 30,
    "start_time": "2024-06-05T05:20:46.011Z"
   },
   {
    "duration": 14,
    "start_time": "2024-06-05T05:20:46.043Z"
   },
   {
    "duration": 5,
    "start_time": "2024-06-05T05:20:46.063Z"
   },
   {
    "duration": 21,
    "start_time": "2024-06-05T05:20:46.109Z"
   },
   {
    "duration": 8,
    "start_time": "2024-06-05T05:20:46.133Z"
   },
   {
    "duration": 21,
    "start_time": "2024-06-05T05:20:46.144Z"
   },
   {
    "duration": 57,
    "start_time": "2024-06-05T05:20:46.168Z"
   },
   {
    "duration": 50,
    "start_time": "2024-06-05T05:20:46.228Z"
   },
   {
    "duration": 40,
    "start_time": "2024-06-05T05:20:46.281Z"
   },
   {
    "duration": 30,
    "start_time": "2024-06-05T05:20:46.324Z"
   },
   {
    "duration": 17,
    "start_time": "2024-06-05T05:20:46.357Z"
   },
   {
    "duration": 43,
    "start_time": "2024-06-05T05:20:46.409Z"
   },
   {
    "duration": 15,
    "start_time": "2024-06-05T05:20:46.455Z"
   },
   {
    "duration": 36,
    "start_time": "2024-06-05T05:20:46.472Z"
   },
   {
    "duration": 4,
    "start_time": "2024-06-05T05:20:46.511Z"
   },
   {
    "duration": 4,
    "start_time": "2024-06-05T05:20:46.517Z"
   },
   {
    "duration": 4,
    "start_time": "2024-06-05T05:20:46.524Z"
   },
   {
    "duration": 4,
    "start_time": "2024-06-05T05:20:46.531Z"
   },
   {
    "duration": 3,
    "start_time": "2024-06-05T05:20:46.539Z"
   },
   {
    "duration": 3,
    "start_time": "2024-06-05T05:20:46.546Z"
   },
   {
    "duration": 3,
    "start_time": "2024-06-05T05:20:46.610Z"
   },
   {
    "duration": 3,
    "start_time": "2024-06-05T05:20:46.616Z"
   },
   {
    "duration": 3,
    "start_time": "2024-06-05T05:20:46.622Z"
   },
   {
    "duration": 4,
    "start_time": "2024-06-05T05:20:46.628Z"
   },
   {
    "duration": 3,
    "start_time": "2024-06-05T05:20:46.635Z"
   },
   {
    "duration": 3,
    "start_time": "2024-06-05T05:20:46.642Z"
   },
   {
    "duration": 3,
    "start_time": "2024-06-05T05:20:46.648Z"
   },
   {
    "duration": 3,
    "start_time": "2024-06-05T05:20:46.709Z"
   },
   {
    "duration": 3,
    "start_time": "2024-06-05T05:20:46.716Z"
   },
   {
    "duration": 22,
    "start_time": "2024-06-05T05:28:14.554Z"
   },
   {
    "duration": 647,
    "start_time": "2024-06-05T05:28:41.903Z"
   },
   {
    "duration": 58,
    "start_time": "2024-06-05T05:28:55.197Z"
   },
   {
    "duration": 941,
    "start_time": "2024-06-05T05:29:13.153Z"
   },
   {
    "duration": 267,
    "start_time": "2024-06-05T05:29:14.097Z"
   },
   {
    "duration": 55,
    "start_time": "2024-06-05T05:29:14.366Z"
   },
   {
    "duration": 12,
    "start_time": "2024-06-05T05:29:14.425Z"
   },
   {
    "duration": 9,
    "start_time": "2024-06-05T05:29:14.440Z"
   },
   {
    "duration": 10,
    "start_time": "2024-06-05T05:29:14.452Z"
   },
   {
    "duration": 56,
    "start_time": "2024-06-05T05:29:14.464Z"
   },
   {
    "duration": 29,
    "start_time": "2024-06-05T05:29:14.523Z"
   },
   {
    "duration": 14,
    "start_time": "2024-06-05T05:29:14.555Z"
   },
   {
    "duration": 35,
    "start_time": "2024-06-05T05:29:14.576Z"
   },
   {
    "duration": 25,
    "start_time": "2024-06-05T05:29:14.615Z"
   },
   {
    "duration": 6,
    "start_time": "2024-06-05T05:29:14.643Z"
   },
   {
    "duration": 65,
    "start_time": "2024-06-05T05:29:14.653Z"
   },
   {
    "duration": 24,
    "start_time": "2024-06-05T05:29:14.722Z"
   },
   {
    "duration": 680,
    "start_time": "2024-06-05T05:29:14.748Z"
   },
   {
    "duration": 0,
    "start_time": "2024-06-05T05:29:15.432Z"
   },
   {
    "duration": 0,
    "start_time": "2024-06-05T05:29:15.435Z"
   },
   {
    "duration": 0,
    "start_time": "2024-06-05T05:29:15.437Z"
   },
   {
    "duration": 0,
    "start_time": "2024-06-05T05:29:15.440Z"
   },
   {
    "duration": 0,
    "start_time": "2024-06-05T05:29:15.442Z"
   },
   {
    "duration": 0,
    "start_time": "2024-06-05T05:29:15.444Z"
   },
   {
    "duration": 0,
    "start_time": "2024-06-05T05:29:15.446Z"
   },
   {
    "duration": 0,
    "start_time": "2024-06-05T05:29:15.448Z"
   },
   {
    "duration": 0,
    "start_time": "2024-06-05T05:29:15.450Z"
   },
   {
    "duration": 0,
    "start_time": "2024-06-05T05:29:15.453Z"
   },
   {
    "duration": 0,
    "start_time": "2024-06-05T05:29:15.510Z"
   },
   {
    "duration": 0,
    "start_time": "2024-06-05T05:29:15.513Z"
   },
   {
    "duration": 0,
    "start_time": "2024-06-05T05:29:15.516Z"
   },
   {
    "duration": 0,
    "start_time": "2024-06-05T05:29:15.518Z"
   },
   {
    "duration": 0,
    "start_time": "2024-06-05T05:29:15.521Z"
   },
   {
    "duration": 0,
    "start_time": "2024-06-05T05:29:15.523Z"
   },
   {
    "duration": 0,
    "start_time": "2024-06-05T05:29:15.525Z"
   },
   {
    "duration": 0,
    "start_time": "2024-06-05T05:29:15.527Z"
   },
   {
    "duration": 0,
    "start_time": "2024-06-05T05:29:15.529Z"
   },
   {
    "duration": 0,
    "start_time": "2024-06-05T05:29:15.533Z"
   },
   {
    "duration": 0,
    "start_time": "2024-06-05T05:29:15.536Z"
   },
   {
    "duration": 0,
    "start_time": "2024-06-05T05:29:15.538Z"
   },
   {
    "duration": 30,
    "start_time": "2024-06-05T05:31:18.251Z"
   },
   {
    "duration": 31,
    "start_time": "2024-06-05T05:31:51.427Z"
   },
   {
    "duration": 17,
    "start_time": "2024-06-05T05:32:28.378Z"
   },
   {
    "duration": 20,
    "start_time": "2024-06-05T05:34:03.437Z"
   },
   {
    "duration": 23,
    "start_time": "2024-06-05T05:37:36.047Z"
   },
   {
    "duration": 140,
    "start_time": "2024-06-05T05:37:44.168Z"
   },
   {
    "duration": 32,
    "start_time": "2024-06-05T05:38:08.681Z"
   },
   {
    "duration": 882,
    "start_time": "2024-06-05T05:38:24.989Z"
   },
   {
    "duration": 272,
    "start_time": "2024-06-05T05:38:25.874Z"
   },
   {
    "duration": 64,
    "start_time": "2024-06-05T05:38:26.149Z"
   },
   {
    "duration": 12,
    "start_time": "2024-06-05T05:38:26.218Z"
   },
   {
    "duration": 8,
    "start_time": "2024-06-05T05:38:26.233Z"
   },
   {
    "duration": 10,
    "start_time": "2024-06-05T05:38:26.245Z"
   },
   {
    "duration": 59,
    "start_time": "2024-06-05T05:38:26.258Z"
   },
   {
    "duration": 27,
    "start_time": "2024-06-05T05:38:26.320Z"
   },
   {
    "duration": 13,
    "start_time": "2024-06-05T05:38:26.350Z"
   },
   {
    "duration": 40,
    "start_time": "2024-06-05T05:38:26.370Z"
   },
   {
    "duration": 23,
    "start_time": "2024-06-05T05:38:26.414Z"
   },
   {
    "duration": 7,
    "start_time": "2024-06-05T05:38:26.440Z"
   },
   {
    "duration": 61,
    "start_time": "2024-06-05T05:38:26.450Z"
   },
   {
    "duration": 20,
    "start_time": "2024-06-05T05:38:26.514Z"
   },
   {
    "duration": 573,
    "start_time": "2024-06-05T05:38:26.537Z"
   },
   {
    "duration": 0,
    "start_time": "2024-06-05T05:38:27.114Z"
   },
   {
    "duration": 0,
    "start_time": "2024-06-05T05:38:27.117Z"
   },
   {
    "duration": 0,
    "start_time": "2024-06-05T05:38:27.119Z"
   },
   {
    "duration": 0,
    "start_time": "2024-06-05T05:38:27.121Z"
   },
   {
    "duration": 0,
    "start_time": "2024-06-05T05:38:27.122Z"
   },
   {
    "duration": 0,
    "start_time": "2024-06-05T05:38:27.124Z"
   },
   {
    "duration": 0,
    "start_time": "2024-06-05T05:38:27.126Z"
   },
   {
    "duration": 0,
    "start_time": "2024-06-05T05:38:27.128Z"
   },
   {
    "duration": 0,
    "start_time": "2024-06-05T05:38:27.130Z"
   },
   {
    "duration": 0,
    "start_time": "2024-06-05T05:38:27.133Z"
   },
   {
    "duration": 0,
    "start_time": "2024-06-05T05:38:27.135Z"
   },
   {
    "duration": 1,
    "start_time": "2024-06-05T05:38:27.137Z"
   },
   {
    "duration": 0,
    "start_time": "2024-06-05T05:38:27.141Z"
   },
   {
    "duration": 0,
    "start_time": "2024-06-05T05:38:27.142Z"
   },
   {
    "duration": 0,
    "start_time": "2024-06-05T05:38:27.145Z"
   },
   {
    "duration": 0,
    "start_time": "2024-06-05T05:38:27.148Z"
   },
   {
    "duration": 0,
    "start_time": "2024-06-05T05:38:27.150Z"
   },
   {
    "duration": 0,
    "start_time": "2024-06-05T05:38:27.210Z"
   },
   {
    "duration": 0,
    "start_time": "2024-06-05T05:38:27.212Z"
   },
   {
    "duration": 0,
    "start_time": "2024-06-05T05:38:27.214Z"
   },
   {
    "duration": 0,
    "start_time": "2024-06-05T05:38:27.217Z"
   },
   {
    "duration": 0,
    "start_time": "2024-06-05T05:38:27.219Z"
   },
   {
    "duration": 0,
    "start_time": "2024-06-05T05:38:27.222Z"
   },
   {
    "duration": 0,
    "start_time": "2024-06-05T05:38:27.224Z"
   },
   {
    "duration": 6,
    "start_time": "2024-06-05T05:40:43.051Z"
   },
   {
    "duration": 20,
    "start_time": "2024-06-05T05:40:52.606Z"
   },
   {
    "duration": 889,
    "start_time": "2024-06-05T05:41:03.910Z"
   },
   {
    "duration": 276,
    "start_time": "2024-06-05T05:41:04.803Z"
   },
   {
    "duration": 60,
    "start_time": "2024-06-05T05:41:05.081Z"
   },
   {
    "duration": 12,
    "start_time": "2024-06-05T05:41:05.146Z"
   },
   {
    "duration": 9,
    "start_time": "2024-06-05T05:41:05.161Z"
   },
   {
    "duration": 40,
    "start_time": "2024-06-05T05:41:05.174Z"
   },
   {
    "duration": 16,
    "start_time": "2024-06-05T05:41:05.219Z"
   },
   {
    "duration": 29,
    "start_time": "2024-06-05T05:41:05.238Z"
   },
   {
    "duration": 49,
    "start_time": "2024-06-05T05:41:05.270Z"
   },
   {
    "duration": 8,
    "start_time": "2024-06-05T05:41:05.326Z"
   },
   {
    "duration": 22,
    "start_time": "2024-06-05T05:41:05.337Z"
   },
   {
    "duration": 6,
    "start_time": "2024-06-05T05:41:05.363Z"
   },
   {
    "duration": 20,
    "start_time": "2024-06-05T05:41:05.409Z"
   },
   {
    "duration": 20,
    "start_time": "2024-06-05T05:41:05.433Z"
   },
   {
    "duration": 54,
    "start_time": "2024-06-05T05:41:05.456Z"
   },
   {
    "duration": 20,
    "start_time": "2024-06-05T05:41:05.513Z"
   },
   {
    "duration": 20,
    "start_time": "2024-06-05T05:41:05.536Z"
   },
   {
    "duration": 83,
    "start_time": "2024-06-05T05:41:05.559Z"
   },
   {
    "duration": 15,
    "start_time": "2024-06-05T05:41:05.645Z"
   },
   {
    "duration": 57,
    "start_time": "2024-06-05T05:41:05.663Z"
   },
   {
    "duration": 12,
    "start_time": "2024-06-05T05:41:05.723Z"
   },
   {
    "duration": 71,
    "start_time": "2024-06-05T05:41:05.738Z"
   },
   {
    "duration": 15,
    "start_time": "2024-06-05T05:41:05.811Z"
   },
   {
    "duration": 3,
    "start_time": "2024-06-05T05:41:05.829Z"
   },
   {
    "duration": 4,
    "start_time": "2024-06-05T05:41:05.834Z"
   },
   {
    "duration": 3,
    "start_time": "2024-06-05T05:41:05.841Z"
   },
   {
    "duration": 4,
    "start_time": "2024-06-05T05:41:05.847Z"
   },
   {
    "duration": 3,
    "start_time": "2024-06-05T05:41:05.908Z"
   },
   {
    "duration": 3,
    "start_time": "2024-06-05T05:41:05.918Z"
   },
   {
    "duration": 4,
    "start_time": "2024-06-05T05:41:05.924Z"
   },
   {
    "duration": 3,
    "start_time": "2024-06-05T05:41:05.931Z"
   },
   {
    "duration": 3,
    "start_time": "2024-06-05T05:41:05.938Z"
   },
   {
    "duration": 3,
    "start_time": "2024-06-05T05:41:05.944Z"
   },
   {
    "duration": 3,
    "start_time": "2024-06-05T05:41:05.951Z"
   },
   {
    "duration": 54,
    "start_time": "2024-06-05T05:41:05.956Z"
   },
   {
    "duration": 4,
    "start_time": "2024-06-05T05:41:06.013Z"
   },
   {
    "duration": 3,
    "start_time": "2024-06-05T05:41:06.020Z"
   },
   {
    "duration": 4,
    "start_time": "2024-06-05T05:41:06.026Z"
   },
   {
    "duration": 4,
    "start_time": "2024-06-05T05:41:06.033Z"
   },
   {
    "duration": 810,
    "start_time": "2024-06-05T05:41:50.146Z"
   },
   {
    "duration": 878,
    "start_time": "2024-06-05T05:42:08.166Z"
   },
   {
    "duration": 271,
    "start_time": "2024-06-05T05:42:09.046Z"
   },
   {
    "duration": 52,
    "start_time": "2024-06-05T05:42:09.320Z"
   },
   {
    "duration": 36,
    "start_time": "2024-06-05T05:42:09.375Z"
   },
   {
    "duration": 8,
    "start_time": "2024-06-05T05:42:09.414Z"
   },
   {
    "duration": 9,
    "start_time": "2024-06-05T05:42:09.426Z"
   },
   {
    "duration": 14,
    "start_time": "2024-06-05T05:42:09.437Z"
   },
   {
    "duration": 71,
    "start_time": "2024-06-05T05:42:09.455Z"
   },
   {
    "duration": 12,
    "start_time": "2024-06-05T05:42:09.529Z"
   },
   {
    "duration": 7,
    "start_time": "2024-06-05T05:42:09.549Z"
   },
   {
    "duration": 63,
    "start_time": "2024-06-05T05:42:09.559Z"
   },
   {
    "duration": 8,
    "start_time": "2024-06-05T05:42:09.625Z"
   },
   {
    "duration": 20,
    "start_time": "2024-06-05T05:42:09.638Z"
   },
   {
    "duration": 56,
    "start_time": "2024-06-05T05:42:09.662Z"
   },
   {
    "duration": 20,
    "start_time": "2024-06-05T05:42:09.722Z"
   },
   {
    "duration": 20,
    "start_time": "2024-06-05T05:42:09.745Z"
   },
   {
    "duration": 83,
    "start_time": "2024-06-05T05:42:09.769Z"
   },
   {
    "duration": 15,
    "start_time": "2024-06-05T05:42:09.855Z"
   },
   {
    "duration": 59,
    "start_time": "2024-06-05T05:42:09.873Z"
   },
   {
    "duration": 12,
    "start_time": "2024-06-05T05:42:09.935Z"
   },
   {
    "duration": 76,
    "start_time": "2024-06-05T05:42:09.950Z"
   },
   {
    "duration": 14,
    "start_time": "2024-06-05T05:42:10.029Z"
   },
   {
    "duration": 3,
    "start_time": "2024-06-05T05:42:10.046Z"
   },
   {
    "duration": 3,
    "start_time": "2024-06-05T05:42:10.052Z"
   },
   {
    "duration": 4,
    "start_time": "2024-06-05T05:42:10.058Z"
   },
   {
    "duration": 45,
    "start_time": "2024-06-05T05:42:10.065Z"
   },
   {
    "duration": 8,
    "start_time": "2024-06-05T05:42:10.112Z"
   },
   {
    "duration": 4,
    "start_time": "2024-06-05T05:42:10.126Z"
   },
   {
    "duration": 3,
    "start_time": "2024-06-05T05:42:10.133Z"
   },
   {
    "duration": 3,
    "start_time": "2024-06-05T05:42:10.140Z"
   },
   {
    "duration": 3,
    "start_time": "2024-06-05T05:42:10.147Z"
   },
   {
    "duration": 4,
    "start_time": "2024-06-05T05:42:10.153Z"
   },
   {
    "duration": 3,
    "start_time": "2024-06-05T05:42:10.208Z"
   },
   {
    "duration": 4,
    "start_time": "2024-06-05T05:42:10.214Z"
   },
   {
    "duration": 4,
    "start_time": "2024-06-05T05:42:10.221Z"
   },
   {
    "duration": 4,
    "start_time": "2024-06-05T05:42:10.227Z"
   },
   {
    "duration": 3,
    "start_time": "2024-06-05T05:42:10.234Z"
   },
   {
    "duration": 4,
    "start_time": "2024-06-05T05:42:10.240Z"
   },
   {
    "duration": 20,
    "start_time": "2024-06-05T05:42:52.839Z"
   },
   {
    "duration": 30,
    "start_time": "2024-06-05T05:57:18.504Z"
   },
   {
    "duration": 176,
    "start_time": "2024-06-05T05:59:28.085Z"
   },
   {
    "duration": 48,
    "start_time": "2024-06-05T05:59:41.357Z"
   },
   {
    "duration": 24,
    "start_time": "2024-06-05T06:09:04.669Z"
   },
   {
    "duration": 27,
    "start_time": "2024-06-05T06:09:17.644Z"
   },
   {
    "duration": 210,
    "start_time": "2024-06-05T06:15:39.604Z"
   },
   {
    "duration": 53,
    "start_time": "2024-06-05T06:16:17.843Z"
   },
   {
    "duration": 53,
    "start_time": "2024-06-05T06:16:34.164Z"
   },
   {
    "duration": 53,
    "start_time": "2024-06-05T06:16:42.951Z"
   },
   {
    "duration": 51,
    "start_time": "2024-06-05T06:19:56.580Z"
   },
   {
    "duration": 8,
    "start_time": "2024-06-05T06:23:57.027Z"
   },
   {
    "duration": 1888,
    "start_time": "2024-06-05T06:24:04.983Z"
   },
   {
    "duration": 76,
    "start_time": "2024-06-05T06:25:43.428Z"
   },
   {
    "duration": 86,
    "start_time": "2024-06-05T06:25:52.724Z"
   },
   {
    "duration": 100,
    "start_time": "2024-06-05T06:27:06.943Z"
   },
   {
    "duration": 6,
    "start_time": "2024-06-05T06:29:20.684Z"
   },
   {
    "duration": 7,
    "start_time": "2024-06-05T06:29:35.229Z"
   },
   {
    "duration": 7,
    "start_time": "2024-06-05T06:29:45.810Z"
   },
   {
    "duration": 23,
    "start_time": "2024-06-05T06:29:54.093Z"
   },
   {
    "duration": 8,
    "start_time": "2024-06-05T06:30:02.238Z"
   },
   {
    "duration": 83,
    "start_time": "2024-06-05T06:30:20.987Z"
   },
   {
    "duration": 7,
    "start_time": "2024-06-05T06:30:53.874Z"
   },
   {
    "duration": 7,
    "start_time": "2024-06-05T06:30:58.286Z"
   },
   {
    "duration": 14,
    "start_time": "2024-06-05T06:36:03.357Z"
   },
   {
    "duration": 930,
    "start_time": "2024-06-05T06:36:57.771Z"
   },
   {
    "duration": 84,
    "start_time": "2024-06-05T06:38:02.127Z"
   },
   {
    "duration": 36,
    "start_time": "2024-06-05T06:38:16.610Z"
   },
   {
    "duration": 23,
    "start_time": "2024-06-05T06:39:28.123Z"
   },
   {
    "duration": 96,
    "start_time": "2024-06-05T06:39:40.118Z"
   },
   {
    "duration": 24,
    "start_time": "2024-06-05T06:39:47.289Z"
   },
   {
    "duration": 21,
    "start_time": "2024-06-05T06:40:16.425Z"
   },
   {
    "duration": 13,
    "start_time": "2024-06-05T06:41:22.332Z"
   },
   {
    "duration": 95,
    "start_time": "2024-06-05T06:48:57.380Z"
   },
   {
    "duration": 145,
    "start_time": "2024-06-05T06:49:33.152Z"
   },
   {
    "duration": 21,
    "start_time": "2024-06-05T06:49:53.242Z"
   },
   {
    "duration": 20,
    "start_time": "2024-06-05T06:49:53.461Z"
   },
   {
    "duration": 20,
    "start_time": "2024-06-05T06:51:06.205Z"
   },
   {
    "duration": 24,
    "start_time": "2024-06-06T03:19:20.855Z"
   },
   {
    "duration": 1028,
    "start_time": "2024-06-06T03:19:42.327Z"
   },
   {
    "duration": 418,
    "start_time": "2024-06-06T03:19:43.359Z"
   },
   {
    "duration": 93,
    "start_time": "2024-06-06T03:19:43.780Z"
   },
   {
    "duration": 49,
    "start_time": "2024-06-06T03:19:43.878Z"
   },
   {
    "duration": 10,
    "start_time": "2024-06-06T03:19:43.935Z"
   },
   {
    "duration": 12,
    "start_time": "2024-06-06T03:19:43.950Z"
   },
   {
    "duration": 61,
    "start_time": "2024-06-06T03:19:43.966Z"
   },
   {
    "duration": 36,
    "start_time": "2024-06-06T03:19:44.031Z"
   },
   {
    "duration": 17,
    "start_time": "2024-06-06T03:19:44.070Z"
   },
   {
    "duration": 11,
    "start_time": "2024-06-06T03:19:44.131Z"
   },
   {
    "duration": 26,
    "start_time": "2024-06-06T03:19:44.145Z"
   },
   {
    "duration": 7,
    "start_time": "2024-06-06T03:19:44.174Z"
   },
   {
    "duration": 24,
    "start_time": "2024-06-06T03:19:44.222Z"
   },
   {
    "duration": 29,
    "start_time": "2024-06-06T03:19:44.254Z"
   },
   {
    "duration": 53,
    "start_time": "2024-06-06T03:19:44.288Z"
   },
   {
    "duration": 80,
    "start_time": "2024-06-06T03:19:44.345Z"
   },
   {
    "duration": 16,
    "start_time": "2024-06-06T03:19:44.428Z"
   },
   {
    "duration": 36,
    "start_time": "2024-06-06T03:19:44.448Z"
   },
   {
    "duration": 220,
    "start_time": "2024-06-06T03:19:44.522Z"
   },
   {
    "duration": 57,
    "start_time": "2024-06-06T03:19:44.745Z"
   },
   {
    "duration": 37,
    "start_time": "2024-06-06T03:19:44.824Z"
   },
   {
    "duration": 14,
    "start_time": "2024-06-06T03:19:44.865Z"
   },
   {
    "duration": 57,
    "start_time": "2024-06-06T03:19:44.883Z"
   },
   {
    "duration": 138,
    "start_time": "2024-06-06T03:19:44.944Z"
   },
   {
    "duration": 47,
    "start_time": "2024-06-06T03:19:45.086Z"
   },
   {
    "duration": 89,
    "start_time": "2024-06-06T03:19:45.136Z"
   },
   {
    "duration": 20,
    "start_time": "2024-06-06T03:19:45.229Z"
   },
   {
    "duration": 190,
    "start_time": "2024-06-06T03:19:45.253Z"
   },
   {
    "duration": 26,
    "start_time": "2024-06-06T03:19:45.448Z"
   },
   {
    "duration": 46,
    "start_time": "2024-06-06T03:19:45.478Z"
   },
   {
    "duration": 39,
    "start_time": "2024-06-06T03:19:47.883Z"
   },
   {
    "duration": 23,
    "start_time": "2024-06-06T03:19:51.645Z"
   },
   {
    "duration": 26,
    "start_time": "2024-06-06T03:20:05.599Z"
   },
   {
    "duration": 985,
    "start_time": "2024-06-06T03:27:13.645Z"
   },
   {
    "duration": 4,
    "start_time": "2024-06-06T03:27:33.316Z"
   },
   {
    "duration": 333,
    "start_time": "2024-06-06T03:27:33.326Z"
   },
   {
    "duration": 61,
    "start_time": "2024-06-06T03:27:33.662Z"
   },
   {
    "duration": 14,
    "start_time": "2024-06-06T03:27:33.726Z"
   },
   {
    "duration": 10,
    "start_time": "2024-06-06T03:27:33.745Z"
   },
   {
    "duration": 16,
    "start_time": "2024-06-06T03:27:33.758Z"
   },
   {
    "duration": 53,
    "start_time": "2024-06-06T03:27:33.777Z"
   },
   {
    "duration": 36,
    "start_time": "2024-06-06T03:27:33.833Z"
   },
   {
    "duration": 50,
    "start_time": "2024-06-06T03:27:33.874Z"
   },
   {
    "duration": 7,
    "start_time": "2024-06-06T03:27:33.928Z"
   },
   {
    "duration": 25,
    "start_time": "2024-06-06T03:27:33.939Z"
   },
   {
    "duration": 7,
    "start_time": "2024-06-06T03:27:33.967Z"
   },
   {
    "duration": 20,
    "start_time": "2024-06-06T03:27:34.025Z"
   },
   {
    "duration": 26,
    "start_time": "2024-06-06T03:27:34.054Z"
   },
   {
    "duration": 56,
    "start_time": "2024-06-06T03:27:34.084Z"
   },
   {
    "duration": 52,
    "start_time": "2024-06-06T03:27:34.144Z"
   },
   {
    "duration": 17,
    "start_time": "2024-06-06T03:27:34.224Z"
   },
   {
    "duration": 32,
    "start_time": "2024-06-06T03:27:34.245Z"
   },
   {
    "duration": 251,
    "start_time": "2024-06-06T03:27:34.281Z"
   },
   {
    "duration": 53,
    "start_time": "2024-06-06T03:27:34.535Z"
   },
   {
    "duration": 54,
    "start_time": "2024-06-06T03:27:34.592Z"
   },
   {
    "duration": 15,
    "start_time": "2024-06-06T03:27:34.649Z"
   },
   {
    "duration": 18,
    "start_time": "2024-06-06T03:27:34.667Z"
   },
   {
    "duration": 125,
    "start_time": "2024-06-06T03:27:34.723Z"
   },
   {
    "duration": 22,
    "start_time": "2024-06-06T03:27:34.851Z"
   },
   {
    "duration": 75,
    "start_time": "2024-06-06T03:27:34.877Z"
   },
   {
    "duration": 15,
    "start_time": "2024-06-06T03:27:34.956Z"
   },
   {
    "duration": 179,
    "start_time": "2024-06-06T03:27:34.974Z"
   },
   {
    "duration": 22,
    "start_time": "2024-06-06T03:27:35.156Z"
   },
   {
    "duration": 14,
    "start_time": "2024-06-06T03:27:35.181Z"
   },
   {
    "duration": 80,
    "start_time": "2024-06-06T03:27:54.633Z"
   },
   {
    "duration": 179,
    "start_time": "2024-06-06T03:36:18.355Z"
   },
   {
    "duration": 25,
    "start_time": "2024-06-06T03:36:49.564Z"
   },
   {
    "duration": 26,
    "start_time": "2024-06-06T03:37:09.104Z"
   },
   {
    "duration": 190,
    "start_time": "2024-06-06T03:52:10.844Z"
   },
   {
    "duration": 201,
    "start_time": "2024-06-06T03:52:18.380Z"
   },
   {
    "duration": 282,
    "start_time": "2024-06-06T04:09:01.522Z"
   },
   {
    "duration": 3,
    "start_time": "2024-06-06T04:09:06.591Z"
   },
   {
    "duration": 296,
    "start_time": "2024-06-06T04:09:06.597Z"
   },
   {
    "duration": 47,
    "start_time": "2024-06-06T04:09:06.896Z"
   },
   {
    "duration": 12,
    "start_time": "2024-06-06T04:09:06.948Z"
   },
   {
    "duration": 9,
    "start_time": "2024-06-06T04:09:06.964Z"
   },
   {
    "duration": 9,
    "start_time": "2024-06-06T04:09:06.977Z"
   },
   {
    "duration": 14,
    "start_time": "2024-06-06T04:09:07.025Z"
   },
   {
    "duration": 30,
    "start_time": "2024-06-06T04:09:07.043Z"
   },
   {
    "duration": 54,
    "start_time": "2024-06-06T04:09:07.078Z"
   },
   {
    "duration": 7,
    "start_time": "2024-06-06T04:09:07.136Z"
   },
   {
    "duration": 23,
    "start_time": "2024-06-06T04:09:07.146Z"
   },
   {
    "duration": 50,
    "start_time": "2024-06-06T04:09:07.173Z"
   },
   {
    "duration": 21,
    "start_time": "2024-06-06T04:09:07.226Z"
   },
   {
    "duration": 24,
    "start_time": "2024-06-06T04:09:07.250Z"
   },
   {
    "duration": 61,
    "start_time": "2024-06-06T04:09:07.277Z"
   },
   {
    "duration": 80,
    "start_time": "2024-06-06T04:09:07.342Z"
   },
   {
    "duration": 21,
    "start_time": "2024-06-06T04:09:07.426Z"
   },
   {
    "duration": 37,
    "start_time": "2024-06-06T04:09:07.450Z"
   },
   {
    "duration": 223,
    "start_time": "2024-06-06T04:09:07.491Z"
   },
   {
    "duration": 56,
    "start_time": "2024-06-06T04:09:07.716Z"
   },
   {
    "duration": 59,
    "start_time": "2024-06-06T04:09:07.776Z"
   },
   {
    "duration": 12,
    "start_time": "2024-06-06T04:09:07.839Z"
   },
   {
    "duration": 16,
    "start_time": "2024-06-06T04:09:07.855Z"
   },
   {
    "duration": 150,
    "start_time": "2024-06-06T04:09:07.879Z"
   },
   {
    "duration": 23,
    "start_time": "2024-06-06T04:09:08.033Z"
   },
   {
    "duration": 68,
    "start_time": "2024-06-06T04:09:08.059Z"
   },
   {
    "duration": 15,
    "start_time": "2024-06-06T04:09:08.130Z"
   },
   {
    "duration": 177,
    "start_time": "2024-06-06T04:09:08.148Z"
   },
   {
    "duration": 23,
    "start_time": "2024-06-06T04:09:08.328Z"
   },
   {
    "duration": 13,
    "start_time": "2024-06-06T04:09:08.354Z"
   },
   {
    "duration": 56,
    "start_time": "2024-06-06T04:09:08.370Z"
   },
   {
    "duration": 0,
    "start_time": "2024-06-06T04:09:08.430Z"
   },
   {
    "duration": 0,
    "start_time": "2024-06-06T04:09:08.432Z"
   },
   {
    "duration": 0,
    "start_time": "2024-06-06T04:09:08.434Z"
   },
   {
    "duration": 0,
    "start_time": "2024-06-06T04:09:08.436Z"
   },
   {
    "duration": 0,
    "start_time": "2024-06-06T04:09:08.438Z"
   },
   {
    "duration": 0,
    "start_time": "2024-06-06T04:09:08.440Z"
   },
   {
    "duration": 0,
    "start_time": "2024-06-06T04:09:08.442Z"
   },
   {
    "duration": 73,
    "start_time": "2024-06-06T04:09:11.273Z"
   },
   {
    "duration": 465,
    "start_time": "2024-06-06T04:09:24.601Z"
   },
   {
    "duration": 121,
    "start_time": "2024-06-06T04:10:05.063Z"
   },
   {
    "duration": 4,
    "start_time": "2024-06-06T04:10:08.097Z"
   },
   {
    "duration": 269,
    "start_time": "2024-06-06T04:10:08.104Z"
   },
   {
    "duration": 49,
    "start_time": "2024-06-06T04:10:08.375Z"
   },
   {
    "duration": 15,
    "start_time": "2024-06-06T04:10:08.427Z"
   },
   {
    "duration": 8,
    "start_time": "2024-06-06T04:10:08.447Z"
   },
   {
    "duration": 10,
    "start_time": "2024-06-06T04:10:08.458Z"
   },
   {
    "duration": 54,
    "start_time": "2024-06-06T04:10:08.471Z"
   },
   {
    "duration": 29,
    "start_time": "2024-06-06T04:10:08.528Z"
   },
   {
    "duration": 14,
    "start_time": "2024-06-06T04:10:08.560Z"
   },
   {
    "duration": 6,
    "start_time": "2024-06-06T04:10:08.577Z"
   },
   {
    "duration": 25,
    "start_time": "2024-06-06T04:10:08.624Z"
   },
   {
    "duration": 6,
    "start_time": "2024-06-06T04:10:08.652Z"
   },
   {
    "duration": 21,
    "start_time": "2024-06-06T04:10:08.661Z"
   },
   {
    "duration": 23,
    "start_time": "2024-06-06T04:10:08.730Z"
   },
   {
    "duration": 25,
    "start_time": "2024-06-06T04:10:08.756Z"
   },
   {
    "duration": 84,
    "start_time": "2024-06-06T04:10:08.784Z"
   },
   {
    "duration": 16,
    "start_time": "2024-06-06T04:10:08.871Z"
   },
   {
    "duration": 54,
    "start_time": "2024-06-06T04:10:08.890Z"
   },
   {
    "duration": 212,
    "start_time": "2024-06-06T04:10:08.947Z"
   },
   {
    "duration": 66,
    "start_time": "2024-06-06T04:10:09.162Z"
   },
   {
    "duration": 32,
    "start_time": "2024-06-06T04:10:09.231Z"
   },
   {
    "duration": 14,
    "start_time": "2024-06-06T04:10:09.266Z"
   },
   {
    "duration": 14,
    "start_time": "2024-06-06T04:10:09.322Z"
   },
   {
    "duration": 123,
    "start_time": "2024-06-06T04:10:09.340Z"
   },
   {
    "duration": 24,
    "start_time": "2024-06-06T04:10:09.467Z"
   },
   {
    "duration": 71,
    "start_time": "2024-06-06T04:10:09.494Z"
   },
   {
    "duration": 15,
    "start_time": "2024-06-06T04:10:09.569Z"
   },
   {
    "duration": 172,
    "start_time": "2024-06-06T04:10:09.622Z"
   },
   {
    "duration": 36,
    "start_time": "2024-06-06T04:10:09.797Z"
   },
   {
    "duration": 13,
    "start_time": "2024-06-06T04:10:09.836Z"
   },
   {
    "duration": 25,
    "start_time": "2024-06-06T04:10:09.853Z"
   },
   {
    "duration": 0,
    "start_time": "2024-06-06T04:10:09.882Z"
   },
   {
    "duration": 0,
    "start_time": "2024-06-06T04:10:09.884Z"
   },
   {
    "duration": 0,
    "start_time": "2024-06-06T04:10:09.924Z"
   },
   {
    "duration": 0,
    "start_time": "2024-06-06T04:10:09.926Z"
   },
   {
    "duration": 0,
    "start_time": "2024-06-06T04:10:09.929Z"
   },
   {
    "duration": 0,
    "start_time": "2024-06-06T04:10:09.931Z"
   },
   {
    "duration": 0,
    "start_time": "2024-06-06T04:10:09.933Z"
   },
   {
    "duration": 111,
    "start_time": "2024-06-06T04:10:11.858Z"
   },
   {
    "duration": 55,
    "start_time": "2024-06-06T04:10:34.467Z"
   },
   {
    "duration": 126,
    "start_time": "2024-06-06T04:14:10.902Z"
   },
   {
    "duration": 66,
    "start_time": "2024-06-06T04:16:37.273Z"
   },
   {
    "duration": 63,
    "start_time": "2024-06-06T04:17:22.497Z"
   },
   {
    "duration": 4,
    "start_time": "2024-06-06T04:17:56.356Z"
   },
   {
    "duration": 269,
    "start_time": "2024-06-06T04:17:56.364Z"
   },
   {
    "duration": 48,
    "start_time": "2024-06-06T04:17:56.636Z"
   },
   {
    "duration": 12,
    "start_time": "2024-06-06T04:17:56.687Z"
   },
   {
    "duration": 9,
    "start_time": "2024-06-06T04:17:56.725Z"
   },
   {
    "duration": 9,
    "start_time": "2024-06-06T04:17:56.737Z"
   },
   {
    "duration": 14,
    "start_time": "2024-06-06T04:17:56.749Z"
   },
   {
    "duration": 73,
    "start_time": "2024-06-06T04:17:56.766Z"
   },
   {
    "duration": 15,
    "start_time": "2024-06-06T04:17:56.842Z"
   },
   {
    "duration": 7,
    "start_time": "2024-06-06T04:17:56.860Z"
   },
   {
    "duration": 68,
    "start_time": "2024-06-06T04:17:56.871Z"
   },
   {
    "duration": 7,
    "start_time": "2024-06-06T04:17:56.943Z"
   },
   {
    "duration": 21,
    "start_time": "2024-06-06T04:17:56.954Z"
   },
   {
    "duration": 56,
    "start_time": "2024-06-06T04:17:56.982Z"
   },
   {
    "duration": 24,
    "start_time": "2024-06-06T04:17:57.041Z"
   },
   {
    "duration": 79,
    "start_time": "2024-06-06T04:17:57.068Z"
   },
   {
    "duration": 14,
    "start_time": "2024-06-06T04:17:57.150Z"
   },
   {
    "duration": 56,
    "start_time": "2024-06-06T04:17:57.167Z"
   },
   {
    "duration": 208,
    "start_time": "2024-06-06T04:17:57.226Z"
   },
   {
    "duration": 52,
    "start_time": "2024-06-06T04:17:57.437Z"
   },
   {
    "duration": 51,
    "start_time": "2024-06-06T04:17:57.492Z"
   },
   {
    "duration": 14,
    "start_time": "2024-06-06T04:17:57.546Z"
   },
   {
    "duration": 15,
    "start_time": "2024-06-06T04:17:57.563Z"
   },
   {
    "duration": 151,
    "start_time": "2024-06-06T04:17:57.581Z"
   },
   {
    "duration": 23,
    "start_time": "2024-06-06T04:17:57.735Z"
   },
   {
    "duration": 69,
    "start_time": "2024-06-06T04:17:57.761Z"
   },
   {
    "duration": 15,
    "start_time": "2024-06-06T04:17:57.833Z"
   },
   {
    "duration": 185,
    "start_time": "2024-06-06T04:17:57.851Z"
   },
   {
    "duration": 27,
    "start_time": "2024-06-06T04:17:58.040Z"
   },
   {
    "duration": 15,
    "start_time": "2024-06-06T04:17:58.071Z"
   },
   {
    "duration": 25,
    "start_time": "2024-06-06T04:17:58.122Z"
   },
   {
    "duration": 0,
    "start_time": "2024-06-06T04:17:58.151Z"
   },
   {
    "duration": 0,
    "start_time": "2024-06-06T04:17:58.153Z"
   },
   {
    "duration": 0,
    "start_time": "2024-06-06T04:17:58.155Z"
   },
   {
    "duration": 0,
    "start_time": "2024-06-06T04:17:58.157Z"
   },
   {
    "duration": 0,
    "start_time": "2024-06-06T04:17:58.159Z"
   },
   {
    "duration": 0,
    "start_time": "2024-06-06T04:17:58.160Z"
   },
   {
    "duration": 0,
    "start_time": "2024-06-06T04:17:58.162Z"
   },
   {
    "duration": 68,
    "start_time": "2024-06-06T04:17:59.893Z"
   },
   {
    "duration": 200,
    "start_time": "2024-06-06T04:32:31.334Z"
   },
   {
    "duration": 35,
    "start_time": "2024-06-06T04:32:50.641Z"
   },
   {
    "duration": 52,
    "start_time": "2024-06-06T04:36:13.999Z"
   },
   {
    "duration": 35,
    "start_time": "2024-06-06T04:37:20.454Z"
   },
   {
    "duration": 119,
    "start_time": "2024-06-06T04:37:32.488Z"
   },
   {
    "duration": 26,
    "start_time": "2024-06-06T04:37:41.356Z"
   },
   {
    "duration": 92,
    "start_time": "2024-06-06T04:37:54.661Z"
   },
   {
    "duration": 25,
    "start_time": "2024-06-06T04:38:22.350Z"
   },
   {
    "duration": 25,
    "start_time": "2024-06-06T04:38:31.554Z"
   },
   {
    "duration": 26,
    "start_time": "2024-06-06T04:39:03.325Z"
   },
   {
    "duration": 42,
    "start_time": "2024-06-06T04:39:43.034Z"
   },
   {
    "duration": 27,
    "start_time": "2024-06-06T04:40:12.311Z"
   },
   {
    "duration": 43,
    "start_time": "2024-06-06T04:40:22.561Z"
   },
   {
    "duration": 25,
    "start_time": "2024-06-06T04:42:53.547Z"
   },
   {
    "duration": 28,
    "start_time": "2024-06-06T04:43:50.016Z"
   },
   {
    "duration": 75,
    "start_time": "2024-06-06T04:44:55.536Z"
   },
   {
    "duration": 58,
    "start_time": "2024-06-06T04:45:42.758Z"
   },
   {
    "duration": 72,
    "start_time": "2024-06-06T04:45:54.835Z"
   },
   {
    "duration": 73,
    "start_time": "2024-06-06T04:46:31.337Z"
   },
   {
    "duration": 7,
    "start_time": "2024-06-06T04:47:08.469Z"
   },
   {
    "duration": 29,
    "start_time": "2024-06-06T04:47:27.227Z"
   },
   {
    "duration": 73,
    "start_time": "2024-06-06T04:47:47.130Z"
   },
   {
    "duration": 897,
    "start_time": "2024-06-06T21:06:57.557Z"
   },
   {
    "duration": 355,
    "start_time": "2024-06-06T21:06:58.458Z"
   },
   {
    "duration": 52,
    "start_time": "2024-06-06T21:06:58.815Z"
   },
   {
    "duration": 32,
    "start_time": "2024-06-06T21:06:58.871Z"
   },
   {
    "duration": 12,
    "start_time": "2024-06-06T21:06:58.908Z"
   },
   {
    "duration": 8,
    "start_time": "2024-06-06T21:06:58.923Z"
   },
   {
    "duration": 15,
    "start_time": "2024-06-06T21:06:58.935Z"
   },
   {
    "duration": 70,
    "start_time": "2024-06-06T21:06:58.953Z"
   },
   {
    "duration": 13,
    "start_time": "2024-06-06T21:06:59.025Z"
   },
   {
    "duration": 7,
    "start_time": "2024-06-06T21:06:59.041Z"
   },
   {
    "duration": 60,
    "start_time": "2024-06-06T21:06:59.051Z"
   },
   {
    "duration": 7,
    "start_time": "2024-06-06T21:06:59.114Z"
   },
   {
    "duration": 20,
    "start_time": "2024-06-06T21:06:59.124Z"
   },
   {
    "duration": 59,
    "start_time": "2024-06-06T21:06:59.150Z"
   },
   {
    "duration": 25,
    "start_time": "2024-06-06T21:06:59.212Z"
   },
   {
    "duration": 82,
    "start_time": "2024-06-06T21:06:59.240Z"
   },
   {
    "duration": 15,
    "start_time": "2024-06-06T21:06:59.325Z"
   },
   {
    "duration": 59,
    "start_time": "2024-06-06T21:06:59.343Z"
   },
   {
    "duration": 205,
    "start_time": "2024-06-06T21:06:59.405Z"
   },
   {
    "duration": 50,
    "start_time": "2024-06-06T21:06:59.613Z"
   },
   {
    "duration": 52,
    "start_time": "2024-06-06T21:06:59.666Z"
   },
   {
    "duration": 13,
    "start_time": "2024-06-06T21:06:59.721Z"
   },
   {
    "duration": 17,
    "start_time": "2024-06-06T21:06:59.737Z"
   },
   {
    "duration": 154,
    "start_time": "2024-06-06T21:06:59.757Z"
   },
   {
    "duration": 21,
    "start_time": "2024-06-06T21:06:59.914Z"
   },
   {
    "duration": 68,
    "start_time": "2024-06-06T21:06:59.937Z"
   },
   {
    "duration": 13,
    "start_time": "2024-06-06T21:07:00.008Z"
   },
   {
    "duration": 176,
    "start_time": "2024-06-06T21:07:00.024Z"
   },
   {
    "duration": 21,
    "start_time": "2024-06-06T21:07:00.203Z"
   },
   {
    "duration": 13,
    "start_time": "2024-06-06T21:07:00.227Z"
   },
   {
    "duration": 427,
    "start_time": "2024-06-06T21:07:02.200Z"
   },
   {
    "duration": 176,
    "start_time": "2024-06-06T21:07:11.504Z"
   },
   {
    "duration": 27,
    "start_time": "2024-06-06T21:10:27.055Z"
   },
   {
    "duration": 48,
    "start_time": "2024-06-06T21:11:03.952Z"
   },
   {
    "duration": 49,
    "start_time": "2024-06-06T21:11:12.272Z"
   },
   {
    "duration": 69,
    "start_time": "2024-06-06T21:13:33.980Z"
   },
   {
    "duration": 94,
    "start_time": "2024-06-06T21:14:17.715Z"
   },
   {
    "duration": 72,
    "start_time": "2024-06-06T21:14:25.833Z"
   },
   {
    "duration": 86,
    "start_time": "2024-06-06T21:17:59.631Z"
   },
   {
    "duration": 304,
    "start_time": "2024-06-06T21:22:10.496Z"
   },
   {
    "duration": 95,
    "start_time": "2024-06-06T21:22:59.076Z"
   },
   {
    "duration": 106,
    "start_time": "2024-06-06T21:35:54.089Z"
   },
   {
    "duration": 142,
    "start_time": "2024-06-06T21:36:06.228Z"
   },
   {
    "duration": 140,
    "start_time": "2024-06-06T21:36:17.221Z"
   },
   {
    "duration": 138,
    "start_time": "2024-06-06T21:36:42.781Z"
   },
   {
    "duration": 156,
    "start_time": "2024-06-06T21:36:51.492Z"
   },
   {
    "duration": 18,
    "start_time": "2024-06-06T22:12:15.276Z"
   },
   {
    "duration": 24,
    "start_time": "2024-06-06T22:14:37.244Z"
   },
   {
    "duration": 53,
    "start_time": "2024-06-06T22:18:03.641Z"
   },
   {
    "duration": 77,
    "start_time": "2024-06-06T22:19:42.770Z"
   },
   {
    "duration": 79,
    "start_time": "2024-06-06T22:19:51.154Z"
   },
   {
    "duration": 87,
    "start_time": "2024-06-06T22:22:36.960Z"
   },
   {
    "duration": 9,
    "start_time": "2024-06-06T22:23:01.487Z"
   },
   {
    "duration": 85,
    "start_time": "2024-06-06T22:23:10.792Z"
   },
   {
    "duration": 79,
    "start_time": "2024-06-06T22:27:28.565Z"
   },
   {
    "duration": 84,
    "start_time": "2024-06-06T22:30:22.249Z"
   },
   {
    "duration": 78,
    "start_time": "2024-06-06T22:32:59.803Z"
   },
   {
    "duration": 48,
    "start_time": "2024-06-06T22:33:28.864Z"
   },
   {
    "duration": 50,
    "start_time": "2024-06-06T22:34:22.477Z"
   },
   {
    "duration": 48,
    "start_time": "2024-06-06T22:34:30.028Z"
   },
   {
    "duration": 35,
    "start_time": "2024-06-06T22:36:05.674Z"
   },
   {
    "duration": 33,
    "start_time": "2024-06-06T22:42:39.286Z"
   },
   {
    "duration": 7,
    "start_time": "2024-06-06T22:47:47.614Z"
   },
   {
    "duration": 6,
    "start_time": "2024-06-06T22:47:52.725Z"
   },
   {
    "duration": 38,
    "start_time": "2024-06-06T22:47:57.457Z"
   },
   {
    "duration": 765,
    "start_time": "2024-06-06T23:15:34.590Z"
   },
   {
    "duration": 34,
    "start_time": "2024-06-06T23:15:50.607Z"
   },
   {
    "duration": 24,
    "start_time": "2024-06-06T23:16:06.569Z"
   },
   {
    "duration": 34,
    "start_time": "2024-06-06T23:16:17.651Z"
   },
   {
    "duration": 39,
    "start_time": "2024-06-06T23:18:37.641Z"
   },
   {
    "duration": 28,
    "start_time": "2024-06-06T23:21:02.938Z"
   },
   {
    "duration": 24,
    "start_time": "2024-06-06T23:21:30.167Z"
   },
   {
    "duration": 24,
    "start_time": "2024-06-06T23:21:46.869Z"
   },
   {
    "duration": 28,
    "start_time": "2024-06-06T23:22:05.031Z"
   },
   {
    "duration": 40,
    "start_time": "2024-06-06T23:24:22.751Z"
   },
   {
    "duration": 39,
    "start_time": "2024-06-06T23:26:53.231Z"
   },
   {
    "duration": 26,
    "start_time": "2024-06-06T23:27:30.469Z"
   },
   {
    "duration": 38,
    "start_time": "2024-06-06T23:42:22.085Z"
   },
   {
    "duration": 4,
    "start_time": "2024-06-06T23:42:26.119Z"
   },
   {
    "duration": 338,
    "start_time": "2024-06-06T23:42:26.127Z"
   },
   {
    "duration": 61,
    "start_time": "2024-06-06T23:42:26.468Z"
   },
   {
    "duration": 12,
    "start_time": "2024-06-06T23:42:26.533Z"
   },
   {
    "duration": 9,
    "start_time": "2024-06-06T23:42:26.550Z"
   },
   {
    "duration": 47,
    "start_time": "2024-06-06T23:42:26.562Z"
   },
   {
    "duration": 14,
    "start_time": "2024-06-06T23:42:26.613Z"
   },
   {
    "duration": 27,
    "start_time": "2024-06-06T23:42:26.630Z"
   },
   {
    "duration": 50,
    "start_time": "2024-06-06T23:42:26.660Z"
   },
   {
    "duration": 8,
    "start_time": "2024-06-06T23:42:26.714Z"
   },
   {
    "duration": 22,
    "start_time": "2024-06-06T23:42:26.725Z"
   },
   {
    "duration": 7,
    "start_time": "2024-06-06T23:42:26.750Z"
   },
   {
    "duration": 22,
    "start_time": "2024-06-06T23:42:26.801Z"
   },
   {
    "duration": 25,
    "start_time": "2024-06-06T23:42:26.826Z"
   },
   {
    "duration": 58,
    "start_time": "2024-06-06T23:42:26.853Z"
   },
   {
    "duration": 48,
    "start_time": "2024-06-06T23:42:26.915Z"
   },
   {
    "duration": 45,
    "start_time": "2024-06-06T23:42:26.966Z"
   },
   {
    "duration": 27,
    "start_time": "2024-06-06T23:42:27.014Z"
   },
   {
    "duration": 200,
    "start_time": "2024-06-06T23:42:27.051Z"
   },
   {
    "duration": 67,
    "start_time": "2024-06-06T23:42:27.253Z"
   },
   {
    "duration": 31,
    "start_time": "2024-06-06T23:42:27.323Z"
   },
   {
    "duration": 13,
    "start_time": "2024-06-06T23:42:27.357Z"
   },
   {
    "duration": 16,
    "start_time": "2024-06-06T23:42:27.403Z"
   },
   {
    "duration": 133,
    "start_time": "2024-06-06T23:42:27.422Z"
   },
   {
    "duration": 42,
    "start_time": "2024-06-06T23:42:27.559Z"
   },
   {
    "duration": 41,
    "start_time": "2024-06-06T23:42:27.605Z"
   },
   {
    "duration": 14,
    "start_time": "2024-06-06T23:42:27.649Z"
   },
   {
    "duration": 175,
    "start_time": "2024-06-06T23:42:27.666Z"
   },
   {
    "duration": 20,
    "start_time": "2024-06-06T23:42:27.845Z"
   },
   {
    "duration": 42,
    "start_time": "2024-06-06T23:42:27.868Z"
   },
   {
    "duration": 48,
    "start_time": "2024-06-06T23:42:27.913Z"
   },
   {
    "duration": 55,
    "start_time": "2024-06-06T23:42:27.964Z"
   },
   {
    "duration": 35,
    "start_time": "2024-06-06T23:42:28.022Z"
   },
   {
    "duration": 64,
    "start_time": "2024-06-06T23:42:28.060Z"
   },
   {
    "duration": 39,
    "start_time": "2024-06-06T23:42:28.127Z"
   },
   {
    "duration": 60,
    "start_time": "2024-06-06T23:42:28.168Z"
   },
   {
    "duration": 35,
    "start_time": "2024-06-06T23:42:34.728Z"
   },
   {
    "duration": 36,
    "start_time": "2024-06-06T23:43:00.733Z"
   },
   {
    "duration": 38,
    "start_time": "2024-06-06T23:43:13.032Z"
   },
   {
    "duration": 81,
    "start_time": "2024-06-06T23:48:12.057Z"
   },
   {
    "duration": 95,
    "start_time": "2024-06-06T23:48:23.680Z"
   },
   {
    "duration": 33,
    "start_time": "2024-06-06T23:48:42.899Z"
   },
   {
    "duration": 34,
    "start_time": "2024-06-06T23:51:25.439Z"
   },
   {
    "duration": 34,
    "start_time": "2024-06-06T23:51:54.089Z"
   },
   {
    "duration": 6,
    "start_time": "2024-06-06T23:52:08.088Z"
   },
   {
    "duration": 32,
    "start_time": "2024-06-07T00:22:58.819Z"
   },
   {
    "duration": 5,
    "start_time": "2024-06-07T00:23:35.986Z"
   },
   {
    "duration": 313,
    "start_time": "2024-06-07T00:23:35.997Z"
   },
   {
    "duration": 44,
    "start_time": "2024-06-07T00:23:36.314Z"
   },
   {
    "duration": 13,
    "start_time": "2024-06-07T00:23:36.361Z"
   },
   {
    "duration": 30,
    "start_time": "2024-06-07T00:23:36.378Z"
   },
   {
    "duration": 9,
    "start_time": "2024-06-07T00:23:36.411Z"
   },
   {
    "duration": 15,
    "start_time": "2024-06-07T00:23:36.423Z"
   },
   {
    "duration": 82,
    "start_time": "2024-06-07T00:23:36.441Z"
   },
   {
    "duration": 14,
    "start_time": "2024-06-07T00:23:36.526Z"
   },
   {
    "duration": 8,
    "start_time": "2024-06-07T00:23:36.543Z"
   },
   {
    "duration": 56,
    "start_time": "2024-06-07T00:23:36.554Z"
   },
   {
    "duration": 7,
    "start_time": "2024-06-07T00:23:36.615Z"
   },
   {
    "duration": 21,
    "start_time": "2024-06-07T00:23:36.626Z"
   },
   {
    "duration": 66,
    "start_time": "2024-06-07T00:23:36.654Z"
   },
   {
    "duration": 22,
    "start_time": "2024-06-07T00:23:36.724Z"
   },
   {
    "duration": 81,
    "start_time": "2024-06-07T00:23:36.749Z"
   },
   {
    "duration": 15,
    "start_time": "2024-06-07T00:23:36.834Z"
   },
   {
    "duration": 52,
    "start_time": "2024-06-07T00:23:36.852Z"
   },
   {
    "duration": 210,
    "start_time": "2024-06-07T00:23:36.909Z"
   },
   {
    "duration": 58,
    "start_time": "2024-06-07T00:23:37.122Z"
   },
   {
    "duration": 31,
    "start_time": "2024-06-07T00:23:37.200Z"
   },
   {
    "duration": 12,
    "start_time": "2024-06-07T00:23:37.234Z"
   },
   {
    "duration": 17,
    "start_time": "2024-06-07T00:23:37.249Z"
   },
   {
    "duration": 121,
    "start_time": "2024-06-07T00:23:37.301Z"
   },
   {
    "duration": 22,
    "start_time": "2024-06-07T00:23:37.425Z"
   },
   {
    "duration": 66,
    "start_time": "2024-06-07T00:23:37.450Z"
   },
   {
    "duration": 14,
    "start_time": "2024-06-07T00:23:37.519Z"
   },
   {
    "duration": 173,
    "start_time": "2024-06-07T00:23:37.536Z"
   },
   {
    "duration": 21,
    "start_time": "2024-06-07T00:23:37.713Z"
   },
   {
    "duration": 14,
    "start_time": "2024-06-07T00:23:37.737Z"
   },
   {
    "duration": 78,
    "start_time": "2024-06-07T00:23:37.754Z"
   },
   {
    "duration": 33,
    "start_time": "2024-06-07T00:23:37.835Z"
   },
   {
    "duration": 53,
    "start_time": "2024-06-07T00:23:37.871Z"
   },
   {
    "duration": 37,
    "start_time": "2024-06-07T00:23:37.926Z"
   },
   {
    "duration": 145,
    "start_time": "2024-06-07T00:23:37.966Z"
   },
   {
    "duration": 36,
    "start_time": "2024-06-07T00:23:38.114Z"
   },
   {
    "duration": 31,
    "start_time": "2024-06-07T00:23:45.118Z"
   },
   {
    "duration": 12,
    "start_time": "2024-06-07T00:24:08.655Z"
   },
   {
    "duration": 313,
    "start_time": "2024-06-07T00:24:40.119Z"
   },
   {
    "duration": 884,
    "start_time": "2024-06-07T00:24:47.318Z"
   },
   {
    "duration": 29,
    "start_time": "2024-06-07T00:27:18.211Z"
   },
   {
    "duration": 30,
    "start_time": "2024-06-07T00:30:38.282Z"
   },
   {
    "duration": 45,
    "start_time": "2024-06-07T00:38:26.192Z"
   },
   {
    "duration": 34,
    "start_time": "2024-06-07T00:38:31.259Z"
   },
   {
    "duration": 19,
    "start_time": "2024-06-07T00:41:01.816Z"
   },
   {
    "duration": 550,
    "start_time": "2024-06-07T00:41:59.122Z"
   },
   {
    "duration": 4,
    "start_time": "2024-06-07T00:42:04.582Z"
   },
   {
    "duration": 311,
    "start_time": "2024-06-07T00:42:04.595Z"
   },
   {
    "duration": 45,
    "start_time": "2024-06-07T00:42:04.910Z"
   },
   {
    "duration": 12,
    "start_time": "2024-06-07T00:42:04.959Z"
   },
   {
    "duration": 8,
    "start_time": "2024-06-07T00:42:05.002Z"
   },
   {
    "duration": 8,
    "start_time": "2024-06-07T00:42:05.015Z"
   },
   {
    "duration": 15,
    "start_time": "2024-06-07T00:42:05.027Z"
   },
   {
    "duration": 73,
    "start_time": "2024-06-07T00:42:05.046Z"
   },
   {
    "duration": 14,
    "start_time": "2024-06-07T00:42:05.122Z"
   },
   {
    "duration": 8,
    "start_time": "2024-06-07T00:42:05.139Z"
   },
   {
    "duration": 63,
    "start_time": "2024-06-07T00:42:05.151Z"
   },
   {
    "duration": 8,
    "start_time": "2024-06-07T00:42:05.216Z"
   },
   {
    "duration": 20,
    "start_time": "2024-06-07T00:42:05.227Z"
   },
   {
    "duration": 61,
    "start_time": "2024-06-07T00:42:05.250Z"
   },
   {
    "duration": 21,
    "start_time": "2024-06-07T00:42:05.318Z"
   },
   {
    "duration": 75,
    "start_time": "2024-06-07T00:42:05.345Z"
   },
   {
    "duration": 15,
    "start_time": "2024-06-07T00:42:05.423Z"
   },
   {
    "duration": 26,
    "start_time": "2024-06-07T00:42:05.442Z"
   },
   {
    "duration": 206,
    "start_time": "2024-06-07T00:42:05.471Z"
   },
   {
    "duration": 73,
    "start_time": "2024-06-07T00:42:05.680Z"
   },
   {
    "duration": 56,
    "start_time": "2024-06-07T00:42:05.758Z"
   },
   {
    "duration": 13,
    "start_time": "2024-06-07T00:42:05.818Z"
   },
   {
    "duration": 15,
    "start_time": "2024-06-07T00:42:05.835Z"
   },
   {
    "duration": 153,
    "start_time": "2024-06-07T00:42:05.853Z"
   },
   {
    "duration": 26,
    "start_time": "2024-06-07T00:42:06.009Z"
   },
   {
    "duration": 75,
    "start_time": "2024-06-07T00:42:06.037Z"
   },
   {
    "duration": 14,
    "start_time": "2024-06-07T00:42:06.115Z"
   },
   {
    "duration": 171,
    "start_time": "2024-06-07T00:42:06.132Z"
   },
   {
    "duration": 23,
    "start_time": "2024-06-07T00:42:06.305Z"
   },
   {
    "duration": 13,
    "start_time": "2024-06-07T00:42:06.331Z"
   },
   {
    "duration": 94,
    "start_time": "2024-06-07T00:42:06.348Z"
   },
   {
    "duration": 35,
    "start_time": "2024-06-07T00:42:06.445Z"
   },
   {
    "duration": 51,
    "start_time": "2024-06-07T00:42:06.482Z"
   },
   {
    "duration": 37,
    "start_time": "2024-06-07T00:42:06.536Z"
   },
   {
    "duration": 29,
    "start_time": "2024-06-07T00:42:06.601Z"
   },
   {
    "duration": 19,
    "start_time": "2024-06-07T00:42:06.634Z"
   },
   {
    "duration": 72,
    "start_time": "2024-06-07T00:42:06.656Z"
   },
   {
    "duration": 5,
    "start_time": "2024-06-07T00:42:06.730Z"
   },
   {
    "duration": 4,
    "start_time": "2024-06-07T00:42:06.738Z"
   },
   {
    "duration": 150,
    "start_time": "2024-06-07T00:42:06.746Z"
   },
   {
    "duration": 0,
    "start_time": "2024-06-07T00:42:06.902Z"
   },
   {
    "duration": 0,
    "start_time": "2024-06-07T00:42:06.903Z"
   },
   {
    "duration": 0,
    "start_time": "2024-06-07T00:42:06.907Z"
   },
   {
    "duration": 0,
    "start_time": "2024-06-07T00:42:06.909Z"
   },
   {
    "duration": 0,
    "start_time": "2024-06-07T00:42:06.911Z"
   },
   {
    "duration": 0,
    "start_time": "2024-06-07T00:42:06.913Z"
   },
   {
    "duration": 0,
    "start_time": "2024-06-07T00:42:06.916Z"
   },
   {
    "duration": 17,
    "start_time": "2024-06-07T00:42:39.577Z"
   },
   {
    "duration": 37,
    "start_time": "2024-06-07T00:42:48.641Z"
   },
   {
    "duration": 42,
    "start_time": "2024-06-07T00:43:38.791Z"
   },
   {
    "duration": 34,
    "start_time": "2024-06-07T00:54:57.794Z"
   },
   {
    "duration": 27,
    "start_time": "2024-06-07T00:55:03.998Z"
   },
   {
    "duration": 78,
    "start_time": "2024-06-07T00:55:35.548Z"
   },
   {
    "duration": 31,
    "start_time": "2024-06-07T00:55:48.763Z"
   },
   {
    "duration": 21,
    "start_time": "2024-06-07T00:56:58.551Z"
   },
   {
    "duration": 37,
    "start_time": "2024-06-07T01:06:21.566Z"
   },
   {
    "duration": 28,
    "start_time": "2024-06-07T01:08:07.834Z"
   },
   {
    "duration": 38,
    "start_time": "2024-06-07T01:08:37.156Z"
   },
   {
    "duration": 102,
    "start_time": "2024-06-07T01:08:45.273Z"
   },
   {
    "duration": 27,
    "start_time": "2024-06-07T01:16:16.768Z"
   },
   {
    "duration": 59,
    "start_time": "2024-06-07T01:16:29.751Z"
   },
   {
    "duration": 40,
    "start_time": "2024-06-07T01:17:16.738Z"
   },
   {
    "duration": 31,
    "start_time": "2024-06-07T01:17:25.334Z"
   },
   {
    "duration": 305,
    "start_time": "2024-06-07T05:06:03.908Z"
   },
   {
    "duration": 1003,
    "start_time": "2024-06-07T05:06:09.222Z"
   },
   {
    "duration": 359,
    "start_time": "2024-06-07T05:06:10.234Z"
   },
   {
    "duration": 55,
    "start_time": "2024-06-07T05:06:10.596Z"
   },
   {
    "duration": 13,
    "start_time": "2024-06-07T05:06:10.654Z"
   },
   {
    "duration": 8,
    "start_time": "2024-06-07T05:06:10.673Z"
   },
   {
    "duration": 8,
    "start_time": "2024-06-07T05:06:10.685Z"
   },
   {
    "duration": 14,
    "start_time": "2024-06-07T05:06:10.735Z"
   },
   {
    "duration": 27,
    "start_time": "2024-06-07T05:06:10.753Z"
   },
   {
    "duration": 48,
    "start_time": "2024-06-07T05:06:10.784Z"
   },
   {
    "duration": 7,
    "start_time": "2024-06-07T05:06:10.836Z"
   },
   {
    "duration": 23,
    "start_time": "2024-06-07T05:06:10.846Z"
   },
   {
    "duration": 6,
    "start_time": "2024-06-07T05:06:10.872Z"
   },
   {
    "duration": 60,
    "start_time": "2024-06-07T05:06:10.881Z"
   },
   {
    "duration": 22,
    "start_time": "2024-06-07T05:06:10.948Z"
   },
   {
    "duration": 60,
    "start_time": "2024-06-07T05:06:10.973Z"
   },
   {
    "duration": 52,
    "start_time": "2024-06-07T05:06:11.035Z"
   },
   {
    "duration": 15,
    "start_time": "2024-06-07T05:06:11.090Z"
   },
   {
    "duration": 23,
    "start_time": "2024-06-07T05:06:11.135Z"
   },
   {
    "duration": 231,
    "start_time": "2024-06-07T05:06:11.162Z"
   },
   {
    "duration": 74,
    "start_time": "2024-06-07T05:06:11.396Z"
   },
   {
    "duration": 30,
    "start_time": "2024-06-07T05:06:11.473Z"
   },
   {
    "duration": 36,
    "start_time": "2024-06-07T05:06:11.506Z"
   },
   {
    "duration": 15,
    "start_time": "2024-06-07T05:06:11.545Z"
   },
   {
    "duration": 144,
    "start_time": "2024-06-07T05:06:11.564Z"
   },
   {
    "duration": 37,
    "start_time": "2024-06-07T05:06:11.711Z"
   },
   {
    "duration": 42,
    "start_time": "2024-06-07T05:06:11.751Z"
   },
   {
    "duration": 44,
    "start_time": "2024-06-07T05:06:11.796Z"
   },
   {
    "duration": 156,
    "start_time": "2024-06-07T05:06:11.843Z"
   },
   {
    "duration": 43,
    "start_time": "2024-06-07T05:06:12.002Z"
   },
   {
    "duration": 13,
    "start_time": "2024-06-07T05:06:12.048Z"
   },
   {
    "duration": 75,
    "start_time": "2024-06-07T05:06:12.064Z"
   },
   {
    "duration": 34,
    "start_time": "2024-06-07T05:06:12.143Z"
   },
   {
    "duration": 56,
    "start_time": "2024-06-07T05:06:12.180Z"
   },
   {
    "duration": 35,
    "start_time": "2024-06-07T05:06:12.238Z"
   },
   {
    "duration": 28,
    "start_time": "2024-06-07T05:06:12.276Z"
   },
   {
    "duration": 47,
    "start_time": "2024-06-07T05:06:12.308Z"
   },
   {
    "duration": 29,
    "start_time": "2024-06-07T05:06:12.358Z"
   },
   {
    "duration": 25,
    "start_time": "2024-06-07T05:06:19.789Z"
   },
   {
    "duration": 7,
    "start_time": "2024-06-07T05:06:22.687Z"
   },
   {
    "duration": 20,
    "start_time": "2024-06-07T05:06:37.057Z"
   },
   {
    "duration": 5,
    "start_time": "2024-06-07T05:14:50.535Z"
   },
   {
    "duration": 927,
    "start_time": "2024-06-07T05:23:18.900Z"
   },
   {
    "duration": 110,
    "start_time": "2024-06-07T05:23:58.934Z"
   },
   {
    "duration": 4,
    "start_time": "2024-06-07T05:24:06.454Z"
   },
   {
    "duration": 287,
    "start_time": "2024-06-07T05:24:06.463Z"
   },
   {
    "duration": 42,
    "start_time": "2024-06-07T05:24:06.753Z"
   },
   {
    "duration": 13,
    "start_time": "2024-06-07T05:24:06.798Z"
   },
   {
    "duration": 8,
    "start_time": "2024-06-07T05:24:06.836Z"
   },
   {
    "duration": 9,
    "start_time": "2024-06-07T05:24:06.847Z"
   },
   {
    "duration": 14,
    "start_time": "2024-06-07T05:24:06.859Z"
   },
   {
    "duration": 70,
    "start_time": "2024-06-07T05:24:06.876Z"
   },
   {
    "duration": 13,
    "start_time": "2024-06-07T05:24:06.948Z"
   },
   {
    "duration": 7,
    "start_time": "2024-06-07T05:24:06.964Z"
   },
   {
    "duration": 21,
    "start_time": "2024-06-07T05:24:06.974Z"
   },
   {
    "duration": 6,
    "start_time": "2024-06-07T05:24:07.034Z"
   },
   {
    "duration": 19,
    "start_time": "2024-06-07T05:24:07.044Z"
   },
   {
    "duration": 22,
    "start_time": "2024-06-07T05:24:07.070Z"
   },
   {
    "duration": 65,
    "start_time": "2024-06-07T05:24:07.095Z"
   },
   {
    "duration": 71,
    "start_time": "2024-06-07T05:24:07.163Z"
   },
   {
    "duration": 14,
    "start_time": "2024-06-07T05:24:07.237Z"
   },
   {
    "duration": 29,
    "start_time": "2024-06-07T05:24:07.254Z"
   },
   {
    "duration": 217,
    "start_time": "2024-06-07T05:24:07.287Z"
   },
   {
    "duration": 69,
    "start_time": "2024-06-07T05:24:07.507Z"
   },
   {
    "duration": 30,
    "start_time": "2024-06-07T05:24:07.579Z"
   },
   {
    "duration": 12,
    "start_time": "2024-06-07T05:24:07.632Z"
   },
   {
    "duration": 14,
    "start_time": "2024-06-07T05:24:07.647Z"
   },
   {
    "duration": 133,
    "start_time": "2024-06-07T05:24:07.664Z"
   },
   {
    "duration": 40,
    "start_time": "2024-06-07T05:24:07.800Z"
   },
   {
    "duration": 42,
    "start_time": "2024-06-07T05:24:07.843Z"
   },
   {
    "duration": 47,
    "start_time": "2024-06-07T05:24:07.887Z"
   },
   {
    "duration": 149,
    "start_time": "2024-06-07T05:24:07.937Z"
   },
   {
    "duration": 21,
    "start_time": "2024-06-07T05:24:08.089Z"
   },
   {
    "duration": 13,
    "start_time": "2024-06-07T05:24:08.133Z"
   },
   {
    "duration": 50,
    "start_time": "2024-06-07T05:24:08.149Z"
   },
   {
    "duration": 68,
    "start_time": "2024-06-07T05:24:08.203Z"
   },
   {
    "duration": 36,
    "start_time": "2024-06-07T05:24:08.274Z"
   },
   {
    "duration": 42,
    "start_time": "2024-06-07T05:24:08.334Z"
   },
   {
    "duration": 55,
    "start_time": "2024-06-07T05:24:08.379Z"
   },
   {
    "duration": 23,
    "start_time": "2024-06-07T05:24:08.437Z"
   },
   {
    "duration": 25,
    "start_time": "2024-06-07T05:24:08.463Z"
   },
   {
    "duration": 34,
    "start_time": "2024-06-07T05:24:11.360Z"
   },
   {
    "duration": 30,
    "start_time": "2024-06-07T05:25:28.275Z"
   },
   {
    "duration": 34,
    "start_time": "2024-06-07T05:25:48.492Z"
   },
   {
    "duration": 72,
    "start_time": "2024-06-07T05:26:59.180Z"
   },
   {
    "duration": 90,
    "start_time": "2024-06-07T05:27:52.682Z"
   },
   {
    "duration": 65,
    "start_time": "2024-06-07T05:28:16.345Z"
   },
   {
    "duration": 109,
    "start_time": "2024-06-07T05:31:27.209Z"
   },
   {
    "duration": 72,
    "start_time": "2024-06-07T05:31:44.323Z"
   },
   {
    "duration": 83,
    "start_time": "2024-06-07T05:34:09.422Z"
   },
   {
    "duration": 68,
    "start_time": "2024-06-07T05:34:18.927Z"
   },
   {
    "duration": 80,
    "start_time": "2024-06-07T05:34:51.182Z"
   },
   {
    "duration": 71,
    "start_time": "2024-06-07T05:35:01.901Z"
   },
   {
    "duration": 9,
    "start_time": "2024-06-07T05:37:16.484Z"
   },
   {
    "duration": 4,
    "start_time": "2024-06-07T05:37:43.626Z"
   },
   {
    "duration": 290,
    "start_time": "2024-06-07T05:37:43.634Z"
   },
   {
    "duration": 42,
    "start_time": "2024-06-07T05:37:43.926Z"
   },
   {
    "duration": 13,
    "start_time": "2024-06-07T05:37:43.971Z"
   },
   {
    "duration": 9,
    "start_time": "2024-06-07T05:37:43.989Z"
   },
   {
    "duration": 9,
    "start_time": "2024-06-07T05:37:44.033Z"
   },
   {
    "duration": 14,
    "start_time": "2024-06-07T05:37:44.046Z"
   },
   {
    "duration": 70,
    "start_time": "2024-06-07T05:37:44.064Z"
   },
   {
    "duration": 17,
    "start_time": "2024-06-07T05:37:44.138Z"
   },
   {
    "duration": 8,
    "start_time": "2024-06-07T05:37:44.158Z"
   },
   {
    "duration": 63,
    "start_time": "2024-06-07T05:37:44.170Z"
   },
   {
    "duration": 7,
    "start_time": "2024-06-07T05:37:44.235Z"
   },
   {
    "duration": 19,
    "start_time": "2024-06-07T05:37:44.246Z"
   },
   {
    "duration": 23,
    "start_time": "2024-06-07T05:37:44.271Z"
   },
   {
    "duration": 55,
    "start_time": "2024-06-07T05:37:44.297Z"
   },
   {
    "duration": 79,
    "start_time": "2024-06-07T05:37:44.355Z"
   },
   {
    "duration": 16,
    "start_time": "2024-06-07T05:37:44.437Z"
   },
   {
    "duration": 24,
    "start_time": "2024-06-07T05:37:44.456Z"
   },
   {
    "duration": 214,
    "start_time": "2024-06-07T05:37:44.482Z"
   },
   {
    "duration": 66,
    "start_time": "2024-06-07T05:37:44.699Z"
   },
   {
    "duration": 31,
    "start_time": "2024-06-07T05:37:44.767Z"
   },
   {
    "duration": 41,
    "start_time": "2024-06-07T05:37:44.801Z"
   },
   {
    "duration": 15,
    "start_time": "2024-06-07T05:37:44.845Z"
   },
   {
    "duration": 123,
    "start_time": "2024-06-07T05:37:44.865Z"
   },
   {
    "duration": 42,
    "start_time": "2024-06-07T05:37:44.992Z"
   },
   {
    "duration": 43,
    "start_time": "2024-06-07T05:37:45.037Z"
   },
   {
    "duration": 14,
    "start_time": "2024-06-07T05:37:45.083Z"
   },
   {
    "duration": 180,
    "start_time": "2024-06-07T05:37:45.100Z"
   },
   {
    "duration": 25,
    "start_time": "2024-06-07T05:37:45.284Z"
   },
   {
    "duration": 12,
    "start_time": "2024-06-07T05:37:45.334Z"
   },
   {
    "duration": 47,
    "start_time": "2024-06-07T05:37:45.350Z"
   },
   {
    "duration": 59,
    "start_time": "2024-06-07T05:37:45.400Z"
   },
   {
    "duration": 35,
    "start_time": "2024-06-07T05:37:45.462Z"
   },
   {
    "duration": 60,
    "start_time": "2024-06-07T05:37:45.500Z"
   },
   {
    "duration": 28,
    "start_time": "2024-06-07T05:37:45.563Z"
   },
   {
    "duration": 53,
    "start_time": "2024-06-07T05:37:45.594Z"
   },
   {
    "duration": 8,
    "start_time": "2024-06-07T05:38:01.370Z"
   },
   {
    "duration": 12,
    "start_time": "2024-06-07T05:38:11.633Z"
   },
   {
    "duration": 5,
    "start_time": "2024-06-07T05:38:28.860Z"
   },
   {
    "duration": 275,
    "start_time": "2024-06-07T05:38:28.870Z"
   },
   {
    "duration": 42,
    "start_time": "2024-06-07T05:38:29.148Z"
   },
   {
    "duration": 12,
    "start_time": "2024-06-07T05:38:29.194Z"
   },
   {
    "duration": 8,
    "start_time": "2024-06-07T05:38:29.232Z"
   },
   {
    "duration": 9,
    "start_time": "2024-06-07T05:38:29.243Z"
   },
   {
    "duration": 14,
    "start_time": "2024-06-07T05:38:29.255Z"
   },
   {
    "duration": 68,
    "start_time": "2024-06-07T05:38:29.272Z"
   },
   {
    "duration": 13,
    "start_time": "2024-06-07T05:38:29.343Z"
   },
   {
    "duration": 7,
    "start_time": "2024-06-07T05:38:29.359Z"
   },
   {
    "duration": 24,
    "start_time": "2024-06-07T05:38:29.371Z"
   },
   {
    "duration": 7,
    "start_time": "2024-06-07T05:38:29.434Z"
   },
   {
    "duration": 21,
    "start_time": "2024-06-07T05:38:29.444Z"
   },
   {
    "duration": 22,
    "start_time": "2024-06-07T05:38:29.473Z"
   },
   {
    "duration": 23,
    "start_time": "2024-06-07T05:38:29.534Z"
   },
   {
    "duration": 73,
    "start_time": "2024-06-07T05:38:29.560Z"
   },
   {
    "duration": 14,
    "start_time": "2024-06-07T05:38:29.636Z"
   },
   {
    "duration": 23,
    "start_time": "2024-06-07T05:38:29.653Z"
   },
   {
    "duration": 215,
    "start_time": "2024-06-07T05:38:29.678Z"
   },
   {
    "duration": 81,
    "start_time": "2024-06-07T05:38:29.896Z"
   },
   {
    "duration": 35,
    "start_time": "2024-06-07T05:38:29.980Z"
   },
   {
    "duration": 12,
    "start_time": "2024-06-07T05:38:30.033Z"
   },
   {
    "duration": 14,
    "start_time": "2024-06-07T05:38:30.048Z"
   },
   {
    "duration": 139,
    "start_time": "2024-06-07T05:38:30.066Z"
   },
   {
    "duration": 35,
    "start_time": "2024-06-07T05:38:30.209Z"
   },
   {
    "duration": 42,
    "start_time": "2024-06-07T05:38:30.247Z"
   },
   {
    "duration": 43,
    "start_time": "2024-06-07T05:38:30.291Z"
   },
   {
    "duration": 157,
    "start_time": "2024-06-07T05:38:30.337Z"
   },
   {
    "duration": 37,
    "start_time": "2024-06-07T05:38:30.497Z"
   },
   {
    "duration": 13,
    "start_time": "2024-06-07T05:38:30.537Z"
   },
   {
    "duration": 51,
    "start_time": "2024-06-07T05:38:30.553Z"
   },
   {
    "duration": 34,
    "start_time": "2024-06-07T05:38:30.633Z"
   },
   {
    "duration": 33,
    "start_time": "2024-06-07T05:38:30.670Z"
   },
   {
    "duration": 60,
    "start_time": "2024-06-07T05:38:30.706Z"
   },
   {
    "duration": 29,
    "start_time": "2024-06-07T05:38:30.769Z"
   },
   {
    "duration": 48,
    "start_time": "2024-06-07T05:38:30.801Z"
   },
   {
    "duration": 8,
    "start_time": "2024-06-07T05:38:31.781Z"
   },
   {
    "duration": 85,
    "start_time": "2024-06-07T05:38:50.601Z"
   },
   {
    "duration": 68,
    "start_time": "2024-06-07T05:46:59.315Z"
   },
   {
    "duration": 73,
    "start_time": "2024-06-07T05:47:15.454Z"
   },
   {
    "duration": 70,
    "start_time": "2024-06-07T05:47:55.210Z"
   },
   {
    "duration": 22,
    "start_time": "2024-06-07T05:50:17.049Z"
   },
   {
    "duration": 56,
    "start_time": "2024-06-07T05:52:52.034Z"
   },
   {
    "duration": 62,
    "start_time": "2024-06-07T05:54:08.502Z"
   },
   {
    "duration": 48,
    "start_time": "2024-06-07T05:54:16.279Z"
   },
   {
    "duration": 62,
    "start_time": "2024-06-07T05:54:43.358Z"
   },
   {
    "duration": 59,
    "start_time": "2024-06-07T05:56:56.648Z"
   },
   {
    "duration": 86,
    "start_time": "2024-06-07T05:57:25.506Z"
   },
   {
    "duration": 66,
    "start_time": "2024-06-07T05:57:37.306Z"
   },
   {
    "duration": 70,
    "start_time": "2024-06-07T05:57:56.084Z"
   },
   {
    "duration": 70,
    "start_time": "2024-06-07T05:58:07.418Z"
   },
   {
    "duration": 59,
    "start_time": "2024-06-07T05:58:35.115Z"
   },
   {
    "duration": 63,
    "start_time": "2024-06-07T06:00:50.677Z"
   },
   {
    "duration": 59,
    "start_time": "2024-06-07T06:00:59.761Z"
   },
   {
    "duration": 54,
    "start_time": "2024-06-07T06:01:08.937Z"
   },
   {
    "duration": 57,
    "start_time": "2024-06-07T06:02:16.642Z"
   },
   {
    "duration": 58,
    "start_time": "2024-06-07T06:02:27.066Z"
   },
   {
    "duration": 65,
    "start_time": "2024-06-07T06:03:29.415Z"
   },
   {
    "duration": 63,
    "start_time": "2024-06-07T06:04:33.569Z"
   },
   {
    "duration": 64,
    "start_time": "2024-06-07T06:08:18.265Z"
   },
   {
    "duration": 62,
    "start_time": "2024-06-07T06:11:08.124Z"
   },
   {
    "duration": 64,
    "start_time": "2024-06-07T06:11:28.166Z"
   },
   {
    "duration": 3,
    "start_time": "2024-06-07T06:11:49.490Z"
   },
   {
    "duration": 273,
    "start_time": "2024-06-07T06:11:49.497Z"
   },
   {
    "duration": 60,
    "start_time": "2024-06-07T06:11:49.772Z"
   },
   {
    "duration": 13,
    "start_time": "2024-06-07T06:11:49.836Z"
   },
   {
    "duration": 9,
    "start_time": "2024-06-07T06:11:49.851Z"
   },
   {
    "duration": 8,
    "start_time": "2024-06-07T06:11:49.863Z"
   },
   {
    "duration": 14,
    "start_time": "2024-06-07T06:11:49.874Z"
   },
   {
    "duration": 28,
    "start_time": "2024-06-07T06:11:49.934Z"
   },
   {
    "duration": 13,
    "start_time": "2024-06-07T06:11:49.966Z"
   },
   {
    "duration": 6,
    "start_time": "2024-06-07T06:11:49.983Z"
   },
   {
    "duration": 62,
    "start_time": "2024-06-07T06:11:49.991Z"
   },
   {
    "duration": 7,
    "start_time": "2024-06-07T06:11:50.056Z"
   },
   {
    "duration": 19,
    "start_time": "2024-06-07T06:11:50.067Z"
   },
   {
    "duration": 62,
    "start_time": "2024-06-07T06:11:50.089Z"
   },
   {
    "duration": 23,
    "start_time": "2024-06-07T06:11:50.153Z"
   },
   {
    "duration": 74,
    "start_time": "2024-06-07T06:11:50.180Z"
   },
   {
    "duration": 17,
    "start_time": "2024-06-07T06:11:50.257Z"
   },
   {
    "duration": 27,
    "start_time": "2024-06-07T06:11:50.277Z"
   },
   {
    "duration": 251,
    "start_time": "2024-06-07T06:11:50.336Z"
   },
   {
    "duration": 75,
    "start_time": "2024-06-07T06:11:50.590Z"
   },
   {
    "duration": 33,
    "start_time": "2024-06-07T06:11:50.668Z"
   },
   {
    "duration": 38,
    "start_time": "2024-06-07T06:11:50.705Z"
   },
   {
    "duration": 18,
    "start_time": "2024-06-07T06:11:50.746Z"
   },
   {
    "duration": 165,
    "start_time": "2024-06-07T06:11:50.773Z"
   },
   {
    "duration": 24,
    "start_time": "2024-06-07T06:11:50.942Z"
   },
   {
    "duration": 71,
    "start_time": "2024-06-07T06:11:50.968Z"
   },
   {
    "duration": 15,
    "start_time": "2024-06-07T06:11:51.043Z"
   },
   {
    "duration": 184,
    "start_time": "2024-06-07T06:11:51.061Z"
   },
   {
    "duration": 27,
    "start_time": "2024-06-07T06:11:51.249Z"
   },
   {
    "duration": 15,
    "start_time": "2024-06-07T06:11:51.280Z"
   },
   {
    "duration": 102,
    "start_time": "2024-06-07T06:11:51.301Z"
   },
   {
    "duration": 47,
    "start_time": "2024-06-07T06:11:51.407Z"
   },
   {
    "duration": 77,
    "start_time": "2024-06-07T06:11:51.459Z"
   },
   {
    "duration": 76,
    "start_time": "2024-06-07T06:11:51.541Z"
   },
   {
    "duration": 37,
    "start_time": "2024-06-07T06:11:51.637Z"
   },
   {
    "duration": 24,
    "start_time": "2024-06-07T06:11:51.677Z"
   },
   {
    "duration": 81,
    "start_time": "2024-06-07T06:11:51.739Z"
   },
   {
    "duration": 68,
    "start_time": "2024-06-07T06:11:51.823Z"
   },
   {
    "duration": 63,
    "start_time": "2024-06-07T06:12:28.207Z"
   },
   {
    "duration": 13,
    "start_time": "2024-06-07T06:17:41.858Z"
   },
   {
    "duration": 11,
    "start_time": "2024-06-07T06:17:57.511Z"
   },
   {
    "duration": 5,
    "start_time": "2024-06-07T06:18:19.084Z"
   },
   {
    "duration": 7,
    "start_time": "2024-06-07T06:18:27.710Z"
   },
   {
    "duration": 17,
    "start_time": "2024-06-07T06:20:20.502Z"
   },
   {
    "duration": 17,
    "start_time": "2024-06-07T06:21:02.781Z"
   },
   {
    "duration": 24,
    "start_time": "2024-06-07T06:30:20.894Z"
   },
   {
    "duration": 14,
    "start_time": "2024-06-07T06:30:28.261Z"
   },
   {
    "duration": 11,
    "start_time": "2024-06-07T06:31:43.175Z"
   },
   {
    "duration": 14,
    "start_time": "2024-06-07T06:32:12.127Z"
   },
   {
    "duration": 17,
    "start_time": "2024-06-07T06:34:01.749Z"
   },
   {
    "duration": 17,
    "start_time": "2024-06-07T06:34:22.468Z"
   },
   {
    "duration": 17,
    "start_time": "2024-06-07T06:34:47.558Z"
   },
   {
    "duration": 21,
    "start_time": "2024-06-07T06:37:39.724Z"
   },
   {
    "duration": 14,
    "start_time": "2024-06-07T06:38:14.622Z"
   },
   {
    "duration": 4253,
    "start_time": "2024-06-07T06:40:01.974Z"
   },
   {
    "duration": 536,
    "start_time": "2024-06-07T06:40:28.496Z"
   },
   {
    "duration": 432,
    "start_time": "2024-06-07T06:42:18.814Z"
   },
   {
    "duration": 57,
    "start_time": "2024-06-07T06:43:22.208Z"
   },
   {
    "duration": 301,
    "start_time": "2024-06-07T06:44:17.474Z"
   },
   {
    "duration": 320,
    "start_time": "2024-06-07T06:45:39.398Z"
   },
   {
    "duration": 6,
    "start_time": "2024-06-07T06:46:18.612Z"
   },
   {
    "duration": 376,
    "start_time": "2024-06-07T06:46:24.117Z"
   },
   {
    "duration": 309,
    "start_time": "2024-06-07T06:47:05.457Z"
   },
   {
    "duration": 314,
    "start_time": "2024-06-07T06:47:32.888Z"
   },
   {
    "duration": 343,
    "start_time": "2024-06-07T06:51:19.525Z"
   },
   {
    "duration": 303,
    "start_time": "2024-06-07T06:51:25.982Z"
   },
   {
    "duration": 30,
    "start_time": "2024-06-07T06:53:08.797Z"
   },
   {
    "duration": 29,
    "start_time": "2024-06-07T06:53:39.276Z"
   },
   {
    "duration": 322,
    "start_time": "2024-06-07T06:53:45.794Z"
   },
   {
    "duration": 17,
    "start_time": "2024-06-07T06:53:54.273Z"
   },
   {
    "duration": 433,
    "start_time": "2024-06-07T06:54:22.836Z"
   },
   {
    "duration": 26,
    "start_time": "2024-06-07T06:54:34.831Z"
   },
   {
    "duration": 326,
    "start_time": "2024-06-07T06:54:54.441Z"
   },
   {
    "duration": 9,
    "start_time": "2024-06-07T07:03:15.521Z"
   },
   {
    "duration": 523,
    "start_time": "2024-06-07T07:03:32.143Z"
   },
   {
    "duration": 24,
    "start_time": "2024-06-07T07:19:59.317Z"
   },
   {
    "duration": 12,
    "start_time": "2024-06-07T07:22:29.512Z"
   },
   {
    "duration": 23,
    "start_time": "2024-06-07T07:23:10.887Z"
   },
   {
    "duration": 4,
    "start_time": "2024-06-07T07:26:56.495Z"
   },
   {
    "duration": 290,
    "start_time": "2024-06-07T07:26:56.651Z"
   },
   {
    "duration": 45,
    "start_time": "2024-06-07T07:26:56.945Z"
   },
   {
    "duration": 40,
    "start_time": "2024-06-07T07:26:56.993Z"
   },
   {
    "duration": 8,
    "start_time": "2024-06-07T07:26:57.036Z"
   },
   {
    "duration": 8,
    "start_time": "2024-06-07T07:26:57.049Z"
   },
   {
    "duration": 14,
    "start_time": "2024-06-07T07:26:57.060Z"
   },
   {
    "duration": 76,
    "start_time": "2024-06-07T07:26:57.076Z"
   },
   {
    "duration": 18,
    "start_time": "2024-06-07T07:26:57.155Z"
   },
   {
    "duration": 9,
    "start_time": "2024-06-07T07:26:57.177Z"
   },
   {
    "duration": 48,
    "start_time": "2024-06-07T07:26:57.192Z"
   },
   {
    "duration": 7,
    "start_time": "2024-06-07T07:26:57.243Z"
   },
   {
    "duration": 19,
    "start_time": "2024-06-07T07:26:57.253Z"
   },
   {
    "duration": 59,
    "start_time": "2024-06-07T07:26:57.275Z"
   },
   {
    "duration": 21,
    "start_time": "2024-06-07T07:26:57.342Z"
   },
   {
    "duration": 77,
    "start_time": "2024-06-07T07:26:57.366Z"
   },
   {
    "duration": 14,
    "start_time": "2024-06-07T07:26:57.446Z"
   },
   {
    "duration": 23,
    "start_time": "2024-06-07T07:26:57.463Z"
   },
   {
    "duration": 216,
    "start_time": "2024-06-07T07:26:57.489Z"
   },
   {
    "duration": 64,
    "start_time": "2024-06-07T07:26:57.708Z"
   },
   {
    "duration": 31,
    "start_time": "2024-06-07T07:26:57.775Z"
   },
   {
    "duration": 32,
    "start_time": "2024-06-07T07:26:57.809Z"
   },
   {
    "duration": 14,
    "start_time": "2024-06-07T07:26:57.844Z"
   },
   {
    "duration": 142,
    "start_time": "2024-06-07T07:26:57.861Z"
   },
   {
    "duration": 39,
    "start_time": "2024-06-07T07:26:58.006Z"
   },
   {
    "duration": 42,
    "start_time": "2024-06-07T07:26:58.048Z"
   },
   {
    "duration": 41,
    "start_time": "2024-06-07T07:26:58.093Z"
   },
   {
    "duration": 159,
    "start_time": "2024-06-07T07:26:58.137Z"
   },
   {
    "duration": 38,
    "start_time": "2024-06-07T07:26:58.300Z"
   },
   {
    "duration": 12,
    "start_time": "2024-06-07T07:26:58.342Z"
   },
   {
    "duration": 76,
    "start_time": "2024-06-07T07:26:58.357Z"
   },
   {
    "duration": 35,
    "start_time": "2024-06-07T07:26:58.436Z"
   },
   {
    "duration": 58,
    "start_time": "2024-06-07T07:26:58.474Z"
   },
   {
    "duration": 39,
    "start_time": "2024-06-07T07:26:58.535Z"
   },
   {
    "duration": 28,
    "start_time": "2024-06-07T07:26:58.577Z"
   },
   {
    "duration": 21,
    "start_time": "2024-06-07T07:26:58.633Z"
   },
   {
    "duration": 92,
    "start_time": "2024-06-07T07:26:58.657Z"
   },
   {
    "duration": 80,
    "start_time": "2024-06-07T07:26:58.752Z"
   },
   {
    "duration": 63,
    "start_time": "2024-06-07T07:26:58.835Z"
   },
   {
    "duration": 39,
    "start_time": "2024-06-07T07:26:58.901Z"
   },
   {
    "duration": 25,
    "start_time": "2024-06-07T07:26:58.943Z"
   },
   {
    "duration": 334,
    "start_time": "2024-06-07T07:26:58.975Z"
   },
   {
    "duration": 327,
    "start_time": "2024-06-07T07:26:59.313Z"
   },
   {
    "duration": 12,
    "start_time": "2024-06-07T07:26:59.644Z"
   },
   {
    "duration": 23,
    "start_time": "2024-06-07T07:26:59.659Z"
   },
   {
    "duration": 3,
    "start_time": "2024-06-07T07:26:59.685Z"
   },
   {
    "duration": 3,
    "start_time": "2024-06-07T07:26:59.732Z"
   },
   {
    "duration": 3,
    "start_time": "2024-06-07T07:26:59.739Z"
   },
   {
    "duration": 4,
    "start_time": "2024-06-07T07:26:59.745Z"
   },
   {
    "duration": 3,
    "start_time": "2024-06-07T07:26:59.752Z"
   },
   {
    "duration": 13,
    "start_time": "2024-06-07T07:33:07.864Z"
   },
   {
    "duration": 25,
    "start_time": "2024-06-07T07:33:38.165Z"
   },
   {
    "duration": 6,
    "start_time": "2024-06-07T07:36:03.798Z"
   },
   {
    "duration": 18,
    "start_time": "2024-06-07T07:36:13.346Z"
   },
   {
    "duration": 15,
    "start_time": "2024-06-07T07:37:03.892Z"
   },
   {
    "duration": 24,
    "start_time": "2024-06-07T07:37:29.103Z"
   },
   {
    "duration": 19,
    "start_time": "2024-06-07T07:37:47.467Z"
   },
   {
    "duration": 1390,
    "start_time": "2024-06-07T07:38:47.489Z"
   },
   {
    "duration": 283,
    "start_time": "2024-06-07T07:38:54.643Z"
   },
   {
    "duration": 305,
    "start_time": "2024-06-07T07:41:11.132Z"
   },
   {
    "duration": 4774,
    "start_time": "2024-06-07T17:53:29.123Z"
   },
   {
    "duration": 775,
    "start_time": "2024-06-07T17:53:35.818Z"
   },
   {
    "duration": 407,
    "start_time": "2024-06-07T17:53:36.596Z"
   },
   {
    "duration": 64,
    "start_time": "2024-06-07T17:53:37.007Z"
   },
   {
    "duration": 16,
    "start_time": "2024-06-07T17:53:37.074Z"
   },
   {
    "duration": 13,
    "start_time": "2024-06-07T17:53:37.122Z"
   },
   {
    "duration": 13,
    "start_time": "2024-06-07T17:53:37.139Z"
   },
   {
    "duration": 71,
    "start_time": "2024-06-07T17:53:37.156Z"
   },
   {
    "duration": 52,
    "start_time": "2024-06-07T17:53:37.231Z"
   },
   {
    "duration": 19,
    "start_time": "2024-06-07T17:53:37.323Z"
   },
   {
    "duration": 8,
    "start_time": "2024-06-07T17:53:37.345Z"
   },
   {
    "duration": 38,
    "start_time": "2024-06-07T17:53:37.357Z"
   },
   {
    "duration": 8,
    "start_time": "2024-06-07T17:53:37.424Z"
   },
   {
    "duration": 36,
    "start_time": "2024-06-07T17:53:37.436Z"
   },
   {
    "duration": 59,
    "start_time": "2024-06-07T17:53:37.482Z"
   },
   {
    "duration": 26,
    "start_time": "2024-06-07T17:53:37.545Z"
   },
   {
    "duration": 85,
    "start_time": "2024-06-07T17:53:37.575Z"
   },
   {
    "duration": 15,
    "start_time": "2024-06-07T17:53:37.664Z"
   },
   {
    "duration": 64,
    "start_time": "2024-06-07T17:53:37.682Z"
   },
   {
    "duration": 247,
    "start_time": "2024-06-07T17:53:37.751Z"
   },
   {
    "duration": 62,
    "start_time": "2024-06-07T17:53:38.003Z"
   },
   {
    "duration": 65,
    "start_time": "2024-06-07T17:53:38.069Z"
   },
   {
    "duration": 15,
    "start_time": "2024-06-07T17:53:38.137Z"
   },
   {
    "duration": 16,
    "start_time": "2024-06-07T17:53:38.156Z"
   },
   {
    "duration": 161,
    "start_time": "2024-06-07T17:53:38.175Z"
   },
   {
    "duration": 39,
    "start_time": "2024-06-07T17:53:38.339Z"
   },
   {
    "duration": 67,
    "start_time": "2024-06-07T17:53:38.385Z"
   },
   {
    "duration": 17,
    "start_time": "2024-06-07T17:53:38.455Z"
   },
   {
    "duration": 193,
    "start_time": "2024-06-07T17:53:38.476Z"
   },
   {
    "duration": 54,
    "start_time": "2024-06-07T17:53:38.673Z"
   },
   {
    "duration": 18,
    "start_time": "2024-06-07T17:53:38.730Z"
   },
   {
    "duration": 78,
    "start_time": "2024-06-07T17:53:38.751Z"
   },
   {
    "duration": 38,
    "start_time": "2024-06-07T17:53:38.833Z"
   },
   {
    "duration": 64,
    "start_time": "2024-06-07T17:53:38.875Z"
   },
   {
    "duration": 39,
    "start_time": "2024-06-07T17:53:38.942Z"
   },
   {
    "duration": 56,
    "start_time": "2024-06-07T17:53:38.984Z"
   },
   {
    "duration": 29,
    "start_time": "2024-06-07T17:53:39.043Z"
   },
   {
    "duration": 112,
    "start_time": "2024-06-07T17:53:39.077Z"
   },
   {
    "duration": 77,
    "start_time": "2024-06-07T17:53:39.193Z"
   },
   {
    "duration": 86,
    "start_time": "2024-06-07T17:53:39.274Z"
   },
   {
    "duration": 23,
    "start_time": "2024-06-07T17:53:39.363Z"
   },
   {
    "duration": 61,
    "start_time": "2024-06-07T17:53:39.396Z"
   },
   {
    "duration": 490,
    "start_time": "2024-06-07T17:53:39.463Z"
   },
   {
    "duration": 9,
    "start_time": "2024-06-07T17:53:39.956Z"
   },
   {
    "duration": 0,
    "start_time": "2024-06-07T17:53:39.969Z"
   },
   {
    "duration": 0,
    "start_time": "2024-06-07T17:53:39.973Z"
   },
   {
    "duration": 0,
    "start_time": "2024-06-07T17:53:39.976Z"
   },
   {
    "duration": 1000,
    "start_time": "2024-06-07T17:53:45.542Z"
   },
   {
    "duration": 14,
    "start_time": "2024-06-07T17:53:53.408Z"
   },
   {
    "duration": 27,
    "start_time": "2024-06-07T17:53:55.150Z"
   },
   {
    "duration": 22,
    "start_time": "2024-06-07T17:53:57.803Z"
   },
   {
    "duration": 115,
    "start_time": "2024-06-07T17:54:00.777Z"
   },
   {
    "duration": 86,
    "start_time": "2024-06-07T17:54:33.473Z"
   },
   {
    "duration": 16,
    "start_time": "2024-06-07T17:54:36.780Z"
   },
   {
    "duration": 15,
    "start_time": "2024-06-07T17:54:39.082Z"
   },
   {
    "duration": 157,
    "start_time": "2024-06-07T17:54:53.999Z"
   },
   {
    "duration": 19,
    "start_time": "2024-06-07T17:55:41.103Z"
   },
   {
    "duration": 258,
    "start_time": "2024-06-07T18:09:29.879Z"
   },
   {
    "duration": 33,
    "start_time": "2024-06-07T18:10:32.929Z"
   },
   {
    "duration": 161,
    "start_time": "2024-06-07T18:11:12.566Z"
   },
   {
    "duration": 8,
    "start_time": "2024-06-07T18:28:45.862Z"
   },
   {
    "duration": 7,
    "start_time": "2024-06-07T18:28:46.071Z"
   },
   {
    "duration": 27,
    "start_time": "2024-06-07T18:30:11.422Z"
   },
   {
    "duration": 22,
    "start_time": "2024-06-07T18:30:34.158Z"
   },
   {
    "duration": 1666,
    "start_time": "2024-06-07T18:34:57.724Z"
   },
   {
    "duration": 276,
    "start_time": "2024-06-07T18:36:29.829Z"
   },
   {
    "duration": 239,
    "start_time": "2024-06-07T18:37:54.275Z"
   },
   {
    "duration": 25,
    "start_time": "2024-06-07T18:46:17.521Z"
   },
   {
    "duration": 7843,
    "start_time": "2024-06-07T18:47:33.557Z"
   },
   {
    "duration": 26,
    "start_time": "2024-06-07T18:48:55.933Z"
   },
   {
    "duration": 235,
    "start_time": "2024-06-07T18:49:07.925Z"
   },
   {
    "duration": 28,
    "start_time": "2024-06-07T18:52:29.424Z"
   },
   {
    "duration": 139,
    "start_time": "2024-06-07T18:52:55.984Z"
   },
   {
    "duration": 321,
    "start_time": "2024-06-07T18:52:56.126Z"
   },
   {
    "duration": 55,
    "start_time": "2024-06-07T18:52:56.451Z"
   },
   {
    "duration": 14,
    "start_time": "2024-06-07T18:52:56.524Z"
   },
   {
    "duration": 9,
    "start_time": "2024-06-07T18:52:56.544Z"
   },
   {
    "duration": 10,
    "start_time": "2024-06-07T18:52:56.557Z"
   },
   {
    "duration": 65,
    "start_time": "2024-06-07T18:52:56.570Z"
   },
   {
    "duration": 35,
    "start_time": "2024-06-07T18:52:56.638Z"
   },
   {
    "duration": 46,
    "start_time": "2024-06-07T18:52:56.677Z"
   },
   {
    "duration": 7,
    "start_time": "2024-06-07T18:52:56.727Z"
   },
   {
    "duration": 28,
    "start_time": "2024-06-07T18:52:56.737Z"
   },
   {
    "duration": 8,
    "start_time": "2024-06-07T18:52:56.768Z"
   },
   {
    "duration": 21,
    "start_time": "2024-06-07T18:52:56.823Z"
   },
   {
    "duration": 26,
    "start_time": "2024-06-07T18:52:56.852Z"
   },
   {
    "duration": 59,
    "start_time": "2024-06-07T18:52:56.882Z"
   },
   {
    "duration": 52,
    "start_time": "2024-06-07T18:52:56.944Z"
   },
   {
    "duration": 38,
    "start_time": "2024-06-07T18:52:56.999Z"
   },
   {
    "duration": 32,
    "start_time": "2024-06-07T18:52:57.041Z"
   },
   {
    "duration": 225,
    "start_time": "2024-06-07T18:52:57.077Z"
   },
   {
    "duration": 71,
    "start_time": "2024-06-07T18:52:57.305Z"
   },
   {
    "duration": 55,
    "start_time": "2024-06-07T18:52:57.379Z"
   },
   {
    "duration": 14,
    "start_time": "2024-06-07T18:52:57.437Z"
   },
   {
    "duration": 17,
    "start_time": "2024-06-07T18:52:57.455Z"
   },
   {
    "duration": 156,
    "start_time": "2024-06-07T18:52:57.476Z"
   },
   {
    "duration": 25,
    "start_time": "2024-06-07T18:52:57.636Z"
   },
   {
    "duration": 77,
    "start_time": "2024-06-07T18:52:57.664Z"
   },
   {
    "duration": 17,
    "start_time": "2024-06-07T18:52:57.746Z"
   },
   {
    "duration": 190,
    "start_time": "2024-06-07T18:52:57.766Z"
   },
   {
    "duration": 23,
    "start_time": "2024-06-07T18:52:57.959Z"
   },
   {
    "duration": 38,
    "start_time": "2024-06-07T18:52:57.986Z"
   },
   {
    "duration": 55,
    "start_time": "2024-06-07T18:52:58.028Z"
   },
   {
    "duration": 68,
    "start_time": "2024-06-07T18:52:58.087Z"
   },
   {
    "duration": 36,
    "start_time": "2024-06-07T18:52:58.158Z"
   },
   {
    "duration": 59,
    "start_time": "2024-06-07T18:52:58.197Z"
   },
   {
    "duration": 36,
    "start_time": "2024-06-07T18:52:58.260Z"
   },
   {
    "duration": 46,
    "start_time": "2024-06-07T18:52:58.299Z"
   },
   {
    "duration": 109,
    "start_time": "2024-06-07T18:52:58.348Z"
   },
   {
    "duration": 87,
    "start_time": "2024-06-07T18:52:58.460Z"
   },
   {
    "duration": 98,
    "start_time": "2024-06-07T18:52:58.550Z"
   },
   {
    "duration": 30,
    "start_time": "2024-06-07T18:52:58.651Z"
   },
   {
    "duration": 52,
    "start_time": "2024-06-07T18:52:58.690Z"
   },
   {
    "duration": 338,
    "start_time": "2024-06-07T18:52:58.746Z"
   },
   {
    "duration": 40,
    "start_time": "2024-06-07T18:52:59.088Z"
   },
   {
    "duration": 449,
    "start_time": "2024-06-07T18:53:00.917Z"
   },
   {
    "duration": 462,
    "start_time": "2024-06-07T18:53:29.568Z"
   },
   {
    "duration": 35,
    "start_time": "2024-06-07T19:04:57.276Z"
   },
   {
    "duration": 148,
    "start_time": "2024-06-07T19:09:41.452Z"
   },
   {
    "duration": 51,
    "start_time": "2024-06-07T19:24:09.042Z"
   },
   {
    "duration": 52,
    "start_time": "2024-06-07T19:24:20.619Z"
   },
   {
    "duration": 40,
    "start_time": "2024-06-07T19:24:42.966Z"
   },
   {
    "duration": 315,
    "start_time": "2024-06-08T05:27:36.182Z"
   },
   {
    "duration": 4911,
    "start_time": "2024-06-08T05:27:42.182Z"
   },
   {
    "duration": 368,
    "start_time": "2024-06-08T05:27:47.097Z"
   },
   {
    "duration": 56,
    "start_time": "2024-06-08T05:27:47.467Z"
   },
   {
    "duration": 14,
    "start_time": "2024-06-08T05:27:47.526Z"
   },
   {
    "duration": 117,
    "start_time": "2024-06-08T05:49:55.345Z"
   },
   {
    "duration": 24,
    "start_time": "2024-06-08T05:49:57.933Z"
   },
   {
    "duration": 1290,
    "start_time": "2024-06-08T05:50:05.185Z"
   },
   {
    "duration": 287,
    "start_time": "2024-06-08T05:50:06.480Z"
   },
   {
    "duration": 54,
    "start_time": "2024-06-08T05:50:06.770Z"
   },
   {
    "duration": 14,
    "start_time": "2024-06-08T05:50:06.828Z"
   },
   {
    "duration": 9,
    "start_time": "2024-06-08T05:50:06.845Z"
   },
   {
    "duration": 9,
    "start_time": "2024-06-08T05:50:06.856Z"
   },
   {
    "duration": 57,
    "start_time": "2024-06-08T05:50:06.868Z"
   },
   {
    "duration": 30,
    "start_time": "2024-06-08T05:50:06.928Z"
   },
   {
    "duration": 14,
    "start_time": "2024-06-08T05:50:06.960Z"
   },
   {
    "duration": 42,
    "start_time": "2024-06-08T05:50:06.981Z"
   },
   {
    "duration": 25,
    "start_time": "2024-06-08T05:50:07.026Z"
   },
   {
    "duration": 8,
    "start_time": "2024-06-08T05:50:07.055Z"
   },
   {
    "duration": 60,
    "start_time": "2024-06-08T05:50:07.067Z"
   },
   {
    "duration": 29,
    "start_time": "2024-06-08T05:50:07.130Z"
   },
   {
    "duration": 61,
    "start_time": "2024-06-08T05:50:07.162Z"
   },
   {
    "duration": 50,
    "start_time": "2024-06-08T05:50:07.227Z"
   },
   {
    "duration": 43,
    "start_time": "2024-06-08T05:50:07.281Z"
   },
   {
    "duration": 27,
    "start_time": "2024-06-08T05:50:07.327Z"
   },
   {
    "duration": 218,
    "start_time": "2024-06-08T05:50:07.357Z"
   },
   {
    "duration": 73,
    "start_time": "2024-06-08T05:50:07.579Z"
   },
   {
    "duration": 31,
    "start_time": "2024-06-08T05:50:07.655Z"
   },
   {
    "duration": 37,
    "start_time": "2024-06-08T05:50:07.689Z"
   },
   {
    "duration": 13,
    "start_time": "2024-06-08T05:50:07.729Z"
   },
   {
    "duration": 134,
    "start_time": "2024-06-08T05:50:07.748Z"
   },
   {
    "duration": 39,
    "start_time": "2024-06-08T05:50:07.885Z"
   },
   {
    "duration": 44,
    "start_time": "2024-06-08T05:50:07.927Z"
   },
   {
    "duration": 14,
    "start_time": "2024-06-08T05:50:07.974Z"
   },
   {
    "duration": 152,
    "start_time": "2024-06-08T05:50:08.028Z"
   },
   {
    "duration": 43,
    "start_time": "2024-06-08T05:50:08.184Z"
   },
   {
    "duration": 15,
    "start_time": "2024-06-08T05:50:08.230Z"
   },
   {
    "duration": 86,
    "start_time": "2024-06-08T05:50:08.249Z"
   },
   {
    "duration": 40,
    "start_time": "2024-06-08T05:50:08.342Z"
   },
   {
    "duration": 58,
    "start_time": "2024-06-08T05:50:08.386Z"
   },
   {
    "duration": 39,
    "start_time": "2024-06-08T05:50:08.448Z"
   },
   {
    "duration": 53,
    "start_time": "2024-06-08T05:50:08.490Z"
   },
   {
    "duration": 25,
    "start_time": "2024-06-08T05:50:08.546Z"
   },
   {
    "duration": 107,
    "start_time": "2024-06-08T05:50:08.574Z"
   },
   {
    "duration": 78,
    "start_time": "2024-06-08T05:50:08.684Z"
   },
   {
    "duration": 83,
    "start_time": "2024-06-08T05:50:08.766Z"
   },
   {
    "duration": 19,
    "start_time": "2024-06-08T05:50:08.853Z"
   },
   {
    "duration": 49,
    "start_time": "2024-06-08T05:50:08.875Z"
   },
   {
    "duration": 336,
    "start_time": "2024-06-08T05:50:08.927Z"
   },
   {
    "duration": 23,
    "start_time": "2024-06-08T05:50:09.266Z"
   },
   {
    "duration": 552,
    "start_time": "2024-06-08T05:50:09.294Z"
   },
   {
    "duration": 41,
    "start_time": "2024-06-08T05:50:09.849Z"
   },
   {
    "duration": 196,
    "start_time": "2024-06-08T05:50:09.893Z"
   },
   {
    "duration": 37,
    "start_time": "2024-06-08T05:50:10.092Z"
   },
   {
    "duration": 23,
    "start_time": "2024-06-08T05:50:10.133Z"
   },
   {
    "duration": 3,
    "start_time": "2024-06-08T05:50:10.159Z"
   },
   {
    "duration": 4,
    "start_time": "2024-06-08T05:50:10.166Z"
   },
   {
    "duration": 4,
    "start_time": "2024-06-08T05:50:10.173Z"
   },
   {
    "duration": 729,
    "start_time": "2024-06-08T05:52:53.287Z"
   },
   {
    "duration": 53,
    "start_time": "2024-06-08T05:53:19.491Z"
   },
   {
    "duration": 57,
    "start_time": "2024-06-08T05:53:39.969Z"
   },
   {
    "duration": 6,
    "start_time": "2024-06-08T05:53:46.297Z"
   },
   {
    "duration": 328,
    "start_time": "2024-06-08T05:53:46.309Z"
   },
   {
    "duration": 61,
    "start_time": "2024-06-08T05:53:46.641Z"
   },
   {
    "duration": 25,
    "start_time": "2024-06-08T05:53:46.706Z"
   },
   {
    "duration": 8,
    "start_time": "2024-06-08T05:53:46.736Z"
   },
   {
    "duration": 9,
    "start_time": "2024-06-08T05:53:46.748Z"
   },
   {
    "duration": 16,
    "start_time": "2024-06-08T05:53:46.760Z"
   },
   {
    "duration": 69,
    "start_time": "2024-06-08T05:53:46.779Z"
   },
   {
    "duration": 13,
    "start_time": "2024-06-08T05:53:46.851Z"
   },
   {
    "duration": 6,
    "start_time": "2024-06-08T05:53:46.867Z"
   },
   {
    "duration": 62,
    "start_time": "2024-06-08T05:53:46.879Z"
   },
   {
    "duration": 7,
    "start_time": "2024-06-08T05:53:46.945Z"
   },
   {
    "duration": 21,
    "start_time": "2024-06-08T05:53:46.955Z"
   },
   {
    "duration": 60,
    "start_time": "2024-06-08T05:53:46.979Z"
   },
   {
    "duration": 26,
    "start_time": "2024-06-08T05:53:47.042Z"
   },
   {
    "duration": 77,
    "start_time": "2024-06-08T05:53:47.071Z"
   },
   {
    "duration": 15,
    "start_time": "2024-06-08T05:53:47.151Z"
   },
   {
    "duration": 55,
    "start_time": "2024-06-08T05:53:47.170Z"
   },
   {
    "duration": 215,
    "start_time": "2024-06-08T05:53:47.229Z"
   },
   {
    "duration": 56,
    "start_time": "2024-06-08T05:53:47.448Z"
   },
   {
    "duration": 34,
    "start_time": "2024-06-08T05:53:47.524Z"
   },
   {
    "duration": 13,
    "start_time": "2024-06-08T05:53:47.560Z"
   },
   {
    "duration": 14,
    "start_time": "2024-06-08T05:53:47.576Z"
   },
   {
    "duration": 129,
    "start_time": "2024-06-08T05:53:47.624Z"
   },
   {
    "duration": 22,
    "start_time": "2024-06-08T05:53:47.758Z"
   },
   {
    "duration": 70,
    "start_time": "2024-06-08T05:53:47.784Z"
   },
   {
    "duration": 15,
    "start_time": "2024-06-08T05:53:47.858Z"
   },
   {
    "duration": 183,
    "start_time": "2024-06-08T05:53:47.876Z"
   },
   {
    "duration": 22,
    "start_time": "2024-06-08T05:53:48.067Z"
   },
   {
    "duration": 33,
    "start_time": "2024-06-08T05:53:48.092Z"
   },
   {
    "duration": 52,
    "start_time": "2024-06-08T05:53:48.129Z"
   },
   {
    "duration": 63,
    "start_time": "2024-06-08T05:53:48.184Z"
   },
   {
    "duration": 33,
    "start_time": "2024-06-08T05:53:48.254Z"
   },
   {
    "duration": 56,
    "start_time": "2024-06-08T05:53:48.290Z"
   },
   {
    "duration": 31,
    "start_time": "2024-06-08T05:53:48.349Z"
   },
   {
    "duration": 56,
    "start_time": "2024-06-08T05:53:48.383Z"
   },
   {
    "duration": 90,
    "start_time": "2024-06-08T05:53:48.441Z"
   },
   {
    "duration": 63,
    "start_time": "2024-06-08T05:53:48.534Z"
   },
   {
    "duration": 69,
    "start_time": "2024-06-08T05:53:48.622Z"
   },
   {
    "duration": 39,
    "start_time": "2024-06-08T05:53:48.694Z"
   },
   {
    "duration": 25,
    "start_time": "2024-06-08T05:53:48.735Z"
   },
   {
    "duration": 341,
    "start_time": "2024-06-08T05:53:48.764Z"
   },
   {
    "duration": 29,
    "start_time": "2024-06-08T05:53:49.108Z"
   },
   {
    "duration": 510,
    "start_time": "2024-06-08T05:53:49.140Z"
   },
   {
    "duration": 74,
    "start_time": "2024-06-08T05:53:49.653Z"
   },
   {
    "duration": 174,
    "start_time": "2024-06-08T05:53:49.740Z"
   },
   {
    "duration": 50,
    "start_time": "2024-06-08T05:53:51.306Z"
   },
   {
    "duration": 60,
    "start_time": "2024-06-08T05:54:38.643Z"
   },
   {
    "duration": 20,
    "start_time": "2024-06-08T05:54:44.704Z"
   },
   {
    "duration": 28,
    "start_time": "2024-06-08T05:55:08.692Z"
   },
   {
    "duration": 25,
    "start_time": "2024-06-08T05:55:30.545Z"
   },
   {
    "duration": 29,
    "start_time": "2024-06-08T05:56:31.111Z"
   },
   {
    "duration": 24,
    "start_time": "2024-06-08T05:56:46.479Z"
   },
   {
    "duration": 38,
    "start_time": "2024-06-08T05:56:59.121Z"
   },
   {
    "duration": 515,
    "start_time": "2024-06-08T05:58:06.960Z"
   },
   {
    "duration": 486,
    "start_time": "2024-06-08T05:58:27.485Z"
   },
   {
    "duration": 139,
    "start_time": "2024-06-08T06:00:36.464Z"
   },
   {
    "duration": 24,
    "start_time": "2024-06-08T06:03:33.335Z"
   },
   {
    "duration": 31,
    "start_time": "2024-06-08T06:03:47.826Z"
   },
   {
    "duration": 19,
    "start_time": "2024-06-08T06:03:49.590Z"
   },
   {
    "duration": 32,
    "start_time": "2024-06-08T06:04:19.807Z"
   },
   {
    "duration": 23,
    "start_time": "2024-06-08T06:04:26.393Z"
   },
   {
    "duration": 328,
    "start_time": "2024-06-08T06:06:40.217Z"
   },
   {
    "duration": 4,
    "start_time": "2024-06-08T06:07:53.845Z"
   },
   {
    "duration": 306,
    "start_time": "2024-06-08T06:07:53.854Z"
   },
   {
    "duration": 52,
    "start_time": "2024-06-08T06:07:54.164Z"
   },
   {
    "duration": 14,
    "start_time": "2024-06-08T06:07:54.224Z"
   },
   {
    "duration": 8,
    "start_time": "2024-06-08T06:07:54.241Z"
   },
   {
    "duration": 10,
    "start_time": "2024-06-08T06:07:54.252Z"
   },
   {
    "duration": 58,
    "start_time": "2024-06-08T06:07:54.265Z"
   },
   {
    "duration": 29,
    "start_time": "2024-06-08T06:07:54.326Z"
   },
   {
    "duration": 13,
    "start_time": "2024-06-08T06:07:54.358Z"
   },
   {
    "duration": 46,
    "start_time": "2024-06-08T06:07:54.379Z"
   },
   {
    "duration": 25,
    "start_time": "2024-06-08T06:07:54.429Z"
   },
   {
    "duration": 10,
    "start_time": "2024-06-08T06:07:54.458Z"
   },
   {
    "duration": 57,
    "start_time": "2024-06-08T06:07:54.471Z"
   },
   {
    "duration": 24,
    "start_time": "2024-06-08T06:07:54.534Z"
   },
   {
    "duration": 25,
    "start_time": "2024-06-08T06:07:54.561Z"
   },
   {
    "duration": 50,
    "start_time": "2024-06-08T06:07:54.624Z"
   },
   {
    "duration": 50,
    "start_time": "2024-06-08T06:07:54.677Z"
   },
   {
    "duration": 29,
    "start_time": "2024-06-08T06:07:54.730Z"
   },
   {
    "duration": 213,
    "start_time": "2024-06-08T06:07:54.762Z"
   },
   {
    "duration": 77,
    "start_time": "2024-06-08T06:07:54.978Z"
   },
   {
    "duration": 35,
    "start_time": "2024-06-08T06:07:55.058Z"
   },
   {
    "duration": 34,
    "start_time": "2024-06-08T06:07:55.096Z"
   },
   {
    "duration": 16,
    "start_time": "2024-06-08T06:07:55.134Z"
   },
   {
    "duration": 143,
    "start_time": "2024-06-08T06:07:55.153Z"
   },
   {
    "duration": 31,
    "start_time": "2024-06-08T06:07:55.299Z"
   },
   {
    "duration": 44,
    "start_time": "2024-06-08T06:07:55.333Z"
   },
   {
    "duration": 49,
    "start_time": "2024-06-08T06:07:55.380Z"
   },
   {
    "duration": 160,
    "start_time": "2024-06-08T06:07:55.437Z"
   },
   {
    "duration": 39,
    "start_time": "2024-06-08T06:07:55.600Z"
   },
   {
    "duration": 12,
    "start_time": "2024-06-08T06:07:55.642Z"
   },
   {
    "duration": 79,
    "start_time": "2024-06-08T06:07:55.658Z"
   },
   {
    "duration": 37,
    "start_time": "2024-06-08T06:07:55.741Z"
   },
   {
    "duration": 58,
    "start_time": "2024-06-08T06:07:55.781Z"
   },
   {
    "duration": 38,
    "start_time": "2024-06-08T06:07:55.842Z"
   },
   {
    "duration": 54,
    "start_time": "2024-06-08T06:07:55.884Z"
   },
   {
    "duration": 24,
    "start_time": "2024-06-08T06:07:55.941Z"
   },
   {
    "duration": 97,
    "start_time": "2024-06-08T06:07:55.967Z"
   },
   {
    "duration": 80,
    "start_time": "2024-06-08T06:07:56.067Z"
   },
   {
    "duration": 74,
    "start_time": "2024-06-08T06:07:56.150Z"
   },
   {
    "duration": 19,
    "start_time": "2024-06-08T06:07:56.227Z"
   },
   {
    "duration": 25,
    "start_time": "2024-06-08T06:07:56.249Z"
   },
   {
    "duration": 363,
    "start_time": "2024-06-08T06:07:56.277Z"
   },
   {
    "duration": 19,
    "start_time": "2024-06-08T06:07:56.643Z"
   },
   {
    "duration": 444,
    "start_time": "2024-06-08T06:07:56.665Z"
   },
   {
    "duration": 41,
    "start_time": "2024-06-08T06:07:57.112Z"
   },
   {
    "duration": 183,
    "start_time": "2024-06-08T06:07:57.156Z"
   },
   {
    "duration": 25,
    "start_time": "2024-06-08T06:07:57.342Z"
   },
   {
    "duration": 376,
    "start_time": "2024-06-08T06:07:57.370Z"
   },
   {
    "duration": 152,
    "start_time": "2024-06-08T06:07:57.750Z"
   },
   {
    "duration": 30,
    "start_time": "2024-06-08T06:07:57.905Z"
   },
   {
    "duration": 358,
    "start_time": "2024-06-08T06:07:59.911Z"
   },
   {
    "duration": 17,
    "start_time": "2024-06-08T06:09:58.070Z"
   },
   {
    "duration": 22,
    "start_time": "2024-06-08T06:10:24.597Z"
   },
   {
    "duration": 41,
    "start_time": "2024-06-08T06:31:30.751Z"
   },
   {
    "duration": 31,
    "start_time": "2024-06-08T06:31:42.656Z"
   },
   {
    "duration": 328,
    "start_time": "2024-06-08T06:32:02.981Z"
   },
   {
    "duration": 24,
    "start_time": "2024-06-08T06:33:53.776Z"
   },
   {
    "duration": 332,
    "start_time": "2024-06-08T06:34:00.033Z"
   },
   {
    "duration": 168,
    "start_time": "2024-06-08T06:34:10.869Z"
   },
   {
    "duration": 26,
    "start_time": "2024-06-08T06:34:39.266Z"
   },
   {
    "duration": 340,
    "start_time": "2024-06-08T06:34:44.493Z"
   },
   {
    "duration": 177,
    "start_time": "2024-06-08T06:36:27.037Z"
   },
   {
    "duration": 176,
    "start_time": "2024-06-08T06:36:34.420Z"
   },
   {
    "duration": 23,
    "start_time": "2024-06-08T06:36:39.869Z"
   },
   {
    "duration": 57,
    "start_time": "2024-06-08T06:38:25.758Z"
   },
   {
    "duration": 48,
    "start_time": "2024-06-08T06:38:37.815Z"
   },
   {
    "duration": 25,
    "start_time": "2024-06-08T06:38:48.759Z"
   },
   {
    "duration": 188,
    "start_time": "2024-06-08T06:40:17.315Z"
   },
   {
    "duration": 197,
    "start_time": "2024-06-08T06:41:24.345Z"
   },
   {
    "duration": 15,
    "start_time": "2024-06-08T06:45:48.501Z"
   },
   {
    "duration": 17,
    "start_time": "2024-06-08T06:47:57.588Z"
   },
   {
    "duration": 18,
    "start_time": "2024-06-08T06:48:04.152Z"
   },
   {
    "duration": 23,
    "start_time": "2024-06-08T06:48:24.413Z"
   },
   {
    "duration": 20,
    "start_time": "2024-06-08T06:48:25.657Z"
   },
   {
    "duration": 18,
    "start_time": "2024-06-08T06:48:55.659Z"
   },
   {
    "duration": 25,
    "start_time": "2024-06-08T06:49:12.493Z"
   },
   {
    "duration": 350,
    "start_time": "2024-06-08T06:50:59.516Z"
   },
   {
    "duration": 28,
    "start_time": "2024-06-08T06:53:21.972Z"
   },
   {
    "duration": 13,
    "start_time": "2024-06-08T07:12:05.592Z"
   },
   {
    "duration": 17,
    "start_time": "2024-06-08T07:12:50.788Z"
   },
   {
    "duration": 11,
    "start_time": "2024-06-08T07:13:22.425Z"
   },
   {
    "duration": 13,
    "start_time": "2024-06-08T07:13:33.017Z"
   },
   {
    "duration": 25,
    "start_time": "2024-06-08T07:14:50.131Z"
   },
   {
    "duration": 425,
    "start_time": "2024-06-08T07:16:45.894Z"
   },
   {
    "duration": 471,
    "start_time": "2024-06-08T07:17:56.577Z"
   },
   {
    "duration": 29,
    "start_time": "2024-06-08T07:19:40.781Z"
   },
   {
    "duration": 21,
    "start_time": "2024-06-08T07:20:56.852Z"
   },
   {
    "duration": 515,
    "start_time": "2024-06-08T07:22:18.335Z"
   },
   {
    "duration": 21,
    "start_time": "2024-06-08T07:27:01.513Z"
   },
   {
    "duration": 706,
    "start_time": "2024-06-08T07:27:37.494Z"
   },
   {
    "duration": 17,
    "start_time": "2024-06-08T07:32:07.406Z"
   },
   {
    "duration": 139,
    "start_time": "2024-06-08T07:32:43.088Z"
   },
   {
    "duration": 304,
    "start_time": "2024-06-09T19:10:02.184Z"
   },
   {
    "duration": 4999,
    "start_time": "2024-06-09T19:10:08.198Z"
   },
   {
    "duration": 404,
    "start_time": "2024-06-09T19:10:13.201Z"
   },
   {
    "duration": 50,
    "start_time": "2024-06-09T19:10:13.611Z"
   },
   {
    "duration": 14,
    "start_time": "2024-06-09T19:10:13.664Z"
   },
   {
    "duration": 36,
    "start_time": "2024-06-09T19:10:13.681Z"
   },
   {
    "duration": 15,
    "start_time": "2024-06-09T19:10:13.720Z"
   },
   {
    "duration": 15,
    "start_time": "2024-06-09T19:10:13.740Z"
   },
   {
    "duration": 69,
    "start_time": "2024-06-09T19:10:13.758Z"
   },
   {
    "duration": 14,
    "start_time": "2024-06-09T19:10:13.831Z"
   },
   {
    "duration": 7,
    "start_time": "2024-06-09T19:10:13.852Z"
   },
   {
    "duration": 68,
    "start_time": "2024-06-09T19:10:13.862Z"
   },
   {
    "duration": 8,
    "start_time": "2024-06-09T19:10:13.933Z"
   },
   {
    "duration": 22,
    "start_time": "2024-06-09T19:10:13.944Z"
   },
   {
    "duration": 63,
    "start_time": "2024-06-09T19:10:13.969Z"
   },
   {
    "duration": 24,
    "start_time": "2024-06-09T19:10:14.036Z"
   },
   {
    "duration": 85,
    "start_time": "2024-06-09T19:10:14.064Z"
   },
   {
    "duration": 18,
    "start_time": "2024-06-09T19:10:14.152Z"
   },
   {
    "duration": 57,
    "start_time": "2024-06-09T19:10:14.174Z"
   },
   {
    "duration": 214,
    "start_time": "2024-06-09T19:10:14.234Z"
   },
   {
    "duration": 75,
    "start_time": "2024-06-09T19:10:14.452Z"
   },
   {
    "duration": 43,
    "start_time": "2024-06-09T19:10:14.536Z"
   },
   {
    "duration": 14,
    "start_time": "2024-06-09T19:10:14.582Z"
   },
   {
    "duration": 15,
    "start_time": "2024-06-09T19:10:14.613Z"
   },
   {
    "duration": 124,
    "start_time": "2024-06-09T19:10:14.631Z"
   },
   {
    "duration": 22,
    "start_time": "2024-06-09T19:10:14.758Z"
   },
   {
    "duration": 75,
    "start_time": "2024-06-09T19:10:14.782Z"
   },
   {
    "duration": 16,
    "start_time": "2024-06-09T19:10:14.860Z"
   },
   {
    "duration": 149,
    "start_time": "2024-06-09T19:10:14.914Z"
   },
   {
    "duration": 22,
    "start_time": "2024-06-09T19:10:15.067Z"
   },
   {
    "duration": 29,
    "start_time": "2024-06-09T19:10:15.092Z"
   },
   {
    "duration": 51,
    "start_time": "2024-06-09T19:10:15.125Z"
   },
   {
    "duration": 62,
    "start_time": "2024-06-09T19:10:15.179Z"
   },
   {
    "duration": 34,
    "start_time": "2024-06-09T19:10:15.244Z"
   },
   {
    "duration": 59,
    "start_time": "2024-06-09T19:10:15.280Z"
   },
   {
    "duration": 32,
    "start_time": "2024-06-09T19:10:15.343Z"
   },
   {
    "duration": 50,
    "start_time": "2024-06-09T19:10:15.379Z"
   },
   {
    "duration": 90,
    "start_time": "2024-06-09T19:10:15.432Z"
   },
   {
    "duration": 58,
    "start_time": "2024-06-09T19:10:15.525Z"
   },
   {
    "duration": 89,
    "start_time": "2024-06-09T19:10:15.586Z"
   },
   {
    "duration": 35,
    "start_time": "2024-06-09T19:10:15.678Z"
   },
   {
    "duration": 26,
    "start_time": "2024-06-09T19:10:15.716Z"
   },
   {
    "duration": 368,
    "start_time": "2024-06-09T19:10:15.744Z"
   },
   {
    "duration": 491,
    "start_time": "2024-06-09T19:10:16.115Z"
   },
   {
    "duration": 35,
    "start_time": "2024-06-09T19:10:16.611Z"
   },
   {
    "duration": 169,
    "start_time": "2024-06-09T19:10:16.649Z"
   },
   {
    "duration": 22,
    "start_time": "2024-06-09T19:10:16.821Z"
   },
   {
    "duration": 380,
    "start_time": "2024-06-09T19:10:16.846Z"
   },
   {
    "duration": 448,
    "start_time": "2024-06-09T19:10:17.229Z"
   },
   {
    "duration": 149,
    "start_time": "2024-06-09T19:10:17.680Z"
   },
   {
    "duration": 24,
    "start_time": "2024-06-09T19:10:17.832Z"
   },
   {
    "duration": 384,
    "start_time": "2024-06-09T19:10:17.859Z"
   },
   {
    "duration": 618,
    "start_time": "2024-06-09T19:10:18.246Z"
   },
   {
    "duration": 0,
    "start_time": "2024-06-09T19:10:18.867Z"
   },
   {
    "duration": 0,
    "start_time": "2024-06-09T19:10:18.870Z"
   },
   {
    "duration": 0,
    "start_time": "2024-06-09T19:10:18.872Z"
   },
   {
    "duration": 0,
    "start_time": "2024-06-09T19:10:18.874Z"
   },
   {
    "duration": 0,
    "start_time": "2024-06-09T19:10:18.877Z"
   },
   {
    "duration": 0,
    "start_time": "2024-06-09T19:10:18.879Z"
   },
   {
    "duration": 0,
    "start_time": "2024-06-09T19:10:18.881Z"
   },
   {
    "duration": 0,
    "start_time": "2024-06-09T19:10:18.913Z"
   },
   {
    "duration": 15,
    "start_time": "2024-06-09T19:10:20.663Z"
   },
   {
    "duration": 12,
    "start_time": "2024-06-09T19:12:46.074Z"
   },
   {
    "duration": 42,
    "start_time": "2024-06-09T19:12:54.998Z"
   },
   {
    "duration": 28,
    "start_time": "2024-06-09T19:14:11.850Z"
   },
   {
    "duration": 1143,
    "start_time": "2024-06-09T19:16:38.869Z"
   },
   {
    "duration": 122,
    "start_time": "2024-06-09T19:16:47.290Z"
   },
   {
    "duration": 128,
    "start_time": "2024-06-09T19:16:58.859Z"
   },
   {
    "duration": 9,
    "start_time": "2024-06-09T19:17:17.276Z"
   },
   {
    "duration": 9,
    "start_time": "2024-06-09T19:17:22.274Z"
   },
   {
    "duration": 28,
    "start_time": "2024-06-09T19:19:46.235Z"
   },
   {
    "duration": 4,
    "start_time": "2024-06-09T19:19:55.868Z"
   },
   {
    "duration": 282,
    "start_time": "2024-06-09T19:19:55.877Z"
   },
   {
    "duration": 67,
    "start_time": "2024-06-09T19:19:56.163Z"
   },
   {
    "duration": 13,
    "start_time": "2024-06-09T19:19:56.233Z"
   },
   {
    "duration": 8,
    "start_time": "2024-06-09T19:19:56.251Z"
   },
   {
    "duration": 8,
    "start_time": "2024-06-09T19:19:56.263Z"
   },
   {
    "duration": 14,
    "start_time": "2024-06-09T19:19:56.314Z"
   },
   {
    "duration": 29,
    "start_time": "2024-06-09T19:19:56.332Z"
   },
   {
    "duration": 50,
    "start_time": "2024-06-09T19:19:56.364Z"
   },
   {
    "duration": 12,
    "start_time": "2024-06-09T19:19:56.418Z"
   },
   {
    "duration": 32,
    "start_time": "2024-06-09T19:19:56.433Z"
   },
   {
    "duration": 44,
    "start_time": "2024-06-09T19:19:56.468Z"
   },
   {
    "duration": 20,
    "start_time": "2024-06-09T19:19:56.519Z"
   },
   {
    "duration": 25,
    "start_time": "2024-06-09T19:19:56.542Z"
   },
   {
    "duration": 55,
    "start_time": "2024-06-09T19:19:56.569Z"
   },
   {
    "duration": 52,
    "start_time": "2024-06-09T19:19:56.627Z"
   },
   {
    "duration": 39,
    "start_time": "2024-06-09T19:19:56.682Z"
   },
   {
    "duration": 31,
    "start_time": "2024-06-09T19:19:56.724Z"
   },
   {
    "duration": 207,
    "start_time": "2024-06-09T19:19:56.759Z"
   },
   {
    "duration": 69,
    "start_time": "2024-06-09T19:19:56.969Z"
   },
   {
    "duration": 31,
    "start_time": "2024-06-09T19:19:57.041Z"
   },
   {
    "duration": 40,
    "start_time": "2024-06-09T19:19:57.075Z"
   },
   {
    "duration": 13,
    "start_time": "2024-06-09T19:19:57.118Z"
   },
   {
    "duration": 124,
    "start_time": "2024-06-09T19:19:57.135Z"
   },
   {
    "duration": 21,
    "start_time": "2024-06-09T19:19:57.262Z"
   },
   {
    "duration": 68,
    "start_time": "2024-06-09T19:19:57.287Z"
   },
   {
    "duration": 15,
    "start_time": "2024-06-09T19:19:57.359Z"
   },
   {
    "duration": 187,
    "start_time": "2024-06-09T19:19:57.377Z"
   },
   {
    "duration": 47,
    "start_time": "2024-06-09T19:19:57.567Z"
   },
   {
    "duration": 14,
    "start_time": "2024-06-09T19:19:57.616Z"
   },
   {
    "duration": 49,
    "start_time": "2024-06-09T19:19:57.634Z"
   },
   {
    "duration": 58,
    "start_time": "2024-06-09T19:19:57.686Z"
   },
   {
    "duration": 32,
    "start_time": "2024-06-09T19:19:57.747Z"
   },
   {
    "duration": 35,
    "start_time": "2024-06-09T19:19:57.811Z"
   },
   {
    "duration": 30,
    "start_time": "2024-06-09T19:19:57.849Z"
   },
   {
    "duration": 45,
    "start_time": "2024-06-09T19:19:57.882Z"
   },
   {
    "duration": 92,
    "start_time": "2024-06-09T19:19:57.936Z"
   },
   {
    "duration": 61,
    "start_time": "2024-06-09T19:19:58.031Z"
   },
   {
    "duration": 66,
    "start_time": "2024-06-09T19:19:58.111Z"
   },
   {
    "duration": 39,
    "start_time": "2024-06-09T19:19:58.179Z"
   },
   {
    "duration": 24,
    "start_time": "2024-06-09T19:19:58.221Z"
   },
   {
    "duration": 336,
    "start_time": "2024-06-09T19:19:58.249Z"
   },
   {
    "duration": 443,
    "start_time": "2024-06-09T19:19:58.589Z"
   },
   {
    "duration": 35,
    "start_time": "2024-06-09T19:19:59.035Z"
   },
   {
    "duration": 171,
    "start_time": "2024-06-09T19:19:59.073Z"
   },
   {
    "duration": 22,
    "start_time": "2024-06-09T19:19:59.247Z"
   },
   {
    "duration": 343,
    "start_time": "2024-06-09T19:19:59.272Z"
   },
   {
    "duration": 466,
    "start_time": "2024-06-09T19:19:59.618Z"
   },
   {
    "duration": 148,
    "start_time": "2024-06-09T19:20:00.087Z"
   },
   {
    "duration": 28,
    "start_time": "2024-06-09T19:20:00.238Z"
   },
   {
    "duration": 385,
    "start_time": "2024-06-09T19:20:00.270Z"
   },
   {
    "duration": 95,
    "start_time": "2024-06-09T19:20:00.658Z"
   },
   {
    "duration": 0,
    "start_time": "2024-06-09T19:20:00.756Z"
   },
   {
    "duration": 0,
    "start_time": "2024-06-09T19:20:00.757Z"
   },
   {
    "duration": 0,
    "start_time": "2024-06-09T19:20:00.758Z"
   },
   {
    "duration": 0,
    "start_time": "2024-06-09T19:20:00.759Z"
   },
   {
    "duration": 0,
    "start_time": "2024-06-09T19:20:00.762Z"
   },
   {
    "duration": 0,
    "start_time": "2024-06-09T19:20:00.764Z"
   },
   {
    "duration": 36,
    "start_time": "2024-06-09T19:20:13.813Z"
   },
   {
    "duration": 16,
    "start_time": "2024-06-09T19:20:42.472Z"
   },
   {
    "duration": 18,
    "start_time": "2024-06-09T19:22:11.818Z"
   },
   {
    "duration": 7,
    "start_time": "2024-06-09T19:23:23.513Z"
   },
   {
    "duration": 6,
    "start_time": "2024-06-09T19:23:34.252Z"
   },
   {
    "duration": 5,
    "start_time": "2024-06-09T19:24:25.692Z"
   },
   {
    "duration": 329,
    "start_time": "2024-06-10T06:14:45.422Z"
   },
   {
    "duration": 4911,
    "start_time": "2024-06-10T06:14:48.853Z"
   },
   {
    "duration": 358,
    "start_time": "2024-06-10T06:14:53.768Z"
   },
   {
    "duration": 53,
    "start_time": "2024-06-10T06:14:54.129Z"
   },
   {
    "duration": 15,
    "start_time": "2024-06-10T06:14:54.205Z"
   },
   {
    "duration": 8,
    "start_time": "2024-06-10T06:14:54.224Z"
   },
   {
    "duration": 9,
    "start_time": "2024-06-10T06:14:54.236Z"
   },
   {
    "duration": 14,
    "start_time": "2024-06-10T06:14:54.248Z"
   },
   {
    "duration": 28,
    "start_time": "2024-06-10T06:14:54.308Z"
   },
   {
    "duration": 13,
    "start_time": "2024-06-10T06:14:54.338Z"
   },
   {
    "duration": 6,
    "start_time": "2024-06-10T06:14:54.355Z"
   },
   {
    "duration": 61,
    "start_time": "2024-06-10T06:14:54.365Z"
   },
   {
    "duration": 9,
    "start_time": "2024-06-10T06:14:54.430Z"
   },
   {
    "duration": 20,
    "start_time": "2024-06-10T06:14:54.442Z"
   },
   {
    "duration": 54,
    "start_time": "2024-06-10T06:14:54.469Z"
   },
   {
    "duration": 24,
    "start_time": "2024-06-10T06:14:54.526Z"
   },
   {
    "duration": 90,
    "start_time": "2024-06-10T06:14:54.552Z"
   },
   {
    "duration": 19,
    "start_time": "2024-06-10T06:14:54.645Z"
   },
   {
    "duration": 44,
    "start_time": "2024-06-10T06:14:54.670Z"
   },
   {
    "duration": 217,
    "start_time": "2024-06-10T06:14:54.718Z"
   },
   {
    "duration": 50,
    "start_time": "2024-06-10T06:14:54.938Z"
   },
   {
    "duration": 45,
    "start_time": "2024-06-10T06:14:54.990Z"
   },
   {
    "duration": 13,
    "start_time": "2024-06-10T06:14:55.038Z"
   },
   {
    "duration": 53,
    "start_time": "2024-06-10T06:14:55.054Z"
   },
   {
    "duration": 125,
    "start_time": "2024-06-10T06:14:55.110Z"
   },
   {
    "duration": 24,
    "start_time": "2024-06-10T06:14:55.238Z"
   },
   {
    "duration": 65,
    "start_time": "2024-06-10T06:14:55.265Z"
   },
   {
    "duration": 13,
    "start_time": "2024-06-10T06:14:55.333Z"
   },
   {
    "duration": 182,
    "start_time": "2024-06-10T06:14:55.349Z"
   },
   {
    "duration": 20,
    "start_time": "2024-06-10T06:14:55.535Z"
   },
   {
    "duration": 13,
    "start_time": "2024-06-10T06:14:55.558Z"
   },
   {
    "duration": 77,
    "start_time": "2024-06-10T06:14:55.574Z"
   },
   {
    "duration": 54,
    "start_time": "2024-06-10T06:14:55.653Z"
   },
   {
    "duration": 35,
    "start_time": "2024-06-10T06:14:55.710Z"
   },
   {
    "duration": 59,
    "start_time": "2024-06-10T06:14:55.747Z"
   },
   {
    "duration": 28,
    "start_time": "2024-06-10T06:14:55.809Z"
   },
   {
    "duration": 23,
    "start_time": "2024-06-10T06:14:55.840Z"
   },
   {
    "duration": 107,
    "start_time": "2024-06-10T06:14:55.866Z"
   },
   {
    "duration": 75,
    "start_time": "2024-06-10T06:14:55.976Z"
   },
   {
    "duration": 77,
    "start_time": "2024-06-10T06:14:56.055Z"
   },
   {
    "duration": 19,
    "start_time": "2024-06-10T06:14:56.134Z"
   },
   {
    "duration": 47,
    "start_time": "2024-06-10T06:14:56.162Z"
   },
   {
    "duration": 338,
    "start_time": "2024-06-10T06:14:56.212Z"
   },
   {
    "duration": 487,
    "start_time": "2024-06-10T06:14:56.553Z"
   },
   {
    "duration": 35,
    "start_time": "2024-06-10T06:14:57.043Z"
   },
   {
    "duration": 174,
    "start_time": "2024-06-10T06:14:57.081Z"
   },
   {
    "duration": 22,
    "start_time": "2024-06-10T06:14:57.258Z"
   },
   {
    "duration": 339,
    "start_time": "2024-06-10T06:14:57.283Z"
   },
   {
    "duration": 447,
    "start_time": "2024-06-10T06:14:57.624Z"
   },
   {
    "duration": 157,
    "start_time": "2024-06-10T06:14:58.075Z"
   },
   {
    "duration": 23,
    "start_time": "2024-06-10T06:14:58.237Z"
   },
   {
    "duration": 367,
    "start_time": "2024-06-10T06:14:58.263Z"
   },
   {
    "duration": 635,
    "start_time": "2024-06-10T06:14:58.633Z"
   },
   {
    "duration": 0,
    "start_time": "2024-06-10T06:14:59.271Z"
   },
   {
    "duration": 0,
    "start_time": "2024-06-10T06:14:59.273Z"
   },
   {
    "duration": 0,
    "start_time": "2024-06-10T06:14:59.277Z"
   },
   {
    "duration": 0,
    "start_time": "2024-06-10T06:14:59.281Z"
   },
   {
    "duration": 0,
    "start_time": "2024-06-10T06:14:59.286Z"
   },
   {
    "duration": 0,
    "start_time": "2024-06-10T06:14:59.288Z"
   },
   {
    "duration": 0,
    "start_time": "2024-06-10T06:14:59.291Z"
   },
   {
    "duration": 0,
    "start_time": "2024-06-10T06:14:59.305Z"
   },
   {
    "duration": 0,
    "start_time": "2024-06-10T06:14:59.307Z"
   },
   {
    "duration": 0,
    "start_time": "2024-06-10T06:14:59.309Z"
   },
   {
    "duration": 0,
    "start_time": "2024-06-10T06:14:59.311Z"
   },
   {
    "duration": 82,
    "start_time": "2024-06-10T06:15:45.146Z"
   },
   {
    "duration": 1359,
    "start_time": "2024-06-10T06:16:09.512Z"
   },
   {
    "duration": 285,
    "start_time": "2024-06-10T06:16:10.876Z"
   },
   {
    "duration": 55,
    "start_time": "2024-06-10T06:16:11.164Z"
   },
   {
    "duration": 13,
    "start_time": "2024-06-10T06:16:11.223Z"
   },
   {
    "duration": 9,
    "start_time": "2024-06-10T06:16:11.238Z"
   },
   {
    "duration": 10,
    "start_time": "2024-06-10T06:16:11.250Z"
   },
   {
    "duration": 51,
    "start_time": "2024-06-10T06:16:11.263Z"
   },
   {
    "duration": 29,
    "start_time": "2024-06-10T06:16:11.317Z"
   },
   {
    "duration": 14,
    "start_time": "2024-06-10T06:16:11.348Z"
   },
   {
    "duration": 43,
    "start_time": "2024-06-10T06:16:11.368Z"
   },
   {
    "duration": 23,
    "start_time": "2024-06-10T06:16:11.414Z"
   },
   {
    "duration": 7,
    "start_time": "2024-06-10T06:16:11.439Z"
   },
   {
    "duration": 62,
    "start_time": "2024-06-10T06:16:11.449Z"
   },
   {
    "duration": 23,
    "start_time": "2024-06-10T06:16:11.514Z"
   },
   {
    "duration": 23,
    "start_time": "2024-06-10T06:16:11.540Z"
   },
   {
    "duration": 83,
    "start_time": "2024-06-10T06:16:11.567Z"
   },
   {
    "duration": 16,
    "start_time": "2024-06-10T06:16:11.653Z"
   },
   {
    "duration": 53,
    "start_time": "2024-06-10T06:16:11.672Z"
   },
   {
    "duration": 207,
    "start_time": "2024-06-10T06:16:11.728Z"
   },
   {
    "duration": 51,
    "start_time": "2024-06-10T06:16:11.937Z"
   },
   {
    "duration": 36,
    "start_time": "2024-06-10T06:16:12.007Z"
   },
   {
    "duration": 20,
    "start_time": "2024-06-10T06:16:12.047Z"
   },
   {
    "duration": 45,
    "start_time": "2024-06-10T06:16:12.070Z"
   },
   {
    "duration": 119,
    "start_time": "2024-06-10T06:16:12.118Z"
   },
   {
    "duration": 22,
    "start_time": "2024-06-10T06:16:12.240Z"
   },
   {
    "duration": 70,
    "start_time": "2024-06-10T06:16:12.264Z"
   },
   {
    "duration": 13,
    "start_time": "2024-06-10T06:16:12.337Z"
   },
   {
    "duration": 177,
    "start_time": "2024-06-10T06:16:12.360Z"
   },
   {
    "duration": 21,
    "start_time": "2024-06-10T06:16:12.541Z"
   },
   {
    "duration": 12,
    "start_time": "2024-06-10T06:16:12.565Z"
   },
   {
    "duration": 50,
    "start_time": "2024-06-10T06:16:12.605Z"
   },
   {
    "duration": 55,
    "start_time": "2024-06-10T06:16:12.657Z"
   },
   {
    "duration": 33,
    "start_time": "2024-06-10T06:16:12.715Z"
   },
   {
    "duration": 60,
    "start_time": "2024-06-10T06:16:12.750Z"
   },
   {
    "duration": 30,
    "start_time": "2024-06-10T06:16:12.812Z"
   },
   {
    "duration": 26,
    "start_time": "2024-06-10T06:16:12.845Z"
   },
   {
    "duration": 102,
    "start_time": "2024-06-10T06:16:12.874Z"
   },
   {
    "duration": 71,
    "start_time": "2024-06-10T06:16:12.979Z"
   },
   {
    "duration": 82,
    "start_time": "2024-06-10T06:16:13.053Z"
   },
   {
    "duration": 23,
    "start_time": "2024-06-10T06:16:13.138Z"
   },
   {
    "duration": 49,
    "start_time": "2024-06-10T06:16:13.165Z"
   },
   {
    "duration": 334,
    "start_time": "2024-06-10T06:16:13.217Z"
   },
   {
    "duration": 482,
    "start_time": "2024-06-10T06:16:13.554Z"
   },
   {
    "duration": 36,
    "start_time": "2024-06-10T06:16:14.039Z"
   },
   {
    "duration": 174,
    "start_time": "2024-06-10T06:16:14.078Z"
   },
   {
    "duration": 23,
    "start_time": "2024-06-10T06:16:14.255Z"
   },
   {
    "duration": 346,
    "start_time": "2024-06-10T06:16:14.280Z"
   },
   {
    "duration": 445,
    "start_time": "2024-06-10T06:16:14.629Z"
   },
   {
    "duration": 154,
    "start_time": "2024-06-10T06:16:15.077Z"
   },
   {
    "duration": 30,
    "start_time": "2024-06-10T06:16:15.234Z"
   },
   {
    "duration": 366,
    "start_time": "2024-06-10T06:16:15.267Z"
   },
   {
    "duration": 911,
    "start_time": "2024-06-10T06:16:15.636Z"
   },
   {
    "duration": 0,
    "start_time": "2024-06-10T06:16:16.550Z"
   },
   {
    "duration": 0,
    "start_time": "2024-06-10T06:16:16.553Z"
   },
   {
    "duration": 0,
    "start_time": "2024-06-10T06:16:16.554Z"
   },
   {
    "duration": 0,
    "start_time": "2024-06-10T06:16:16.556Z"
   },
   {
    "duration": 0,
    "start_time": "2024-06-10T06:16:16.558Z"
   },
   {
    "duration": 0,
    "start_time": "2024-06-10T06:16:16.559Z"
   },
   {
    "duration": 0,
    "start_time": "2024-06-10T06:16:16.561Z"
   },
   {
    "duration": 0,
    "start_time": "2024-06-10T06:16:16.563Z"
   },
   {
    "duration": 0,
    "start_time": "2024-06-10T06:16:16.565Z"
   },
   {
    "duration": 0,
    "start_time": "2024-06-10T06:16:16.567Z"
   },
   {
    "duration": 0,
    "start_time": "2024-06-10T06:16:16.568Z"
   },
   {
    "duration": 146,
    "start_time": "2024-06-10T06:16:41.472Z"
   },
   {
    "duration": 81,
    "start_time": "2024-06-10T06:17:15.255Z"
   },
   {
    "duration": 95,
    "start_time": "2024-06-10T06:18:42.057Z"
   },
   {
    "duration": 17,
    "start_time": "2024-06-10T06:18:50.139Z"
   },
   {
    "duration": 17,
    "start_time": "2024-06-10T06:19:29.377Z"
   },
   {
    "duration": 509,
    "start_time": "2024-06-10T06:20:47.528Z"
   },
   {
    "duration": 1449,
    "start_time": "2024-06-10T06:21:04.581Z"
   },
   {
    "duration": 267,
    "start_time": "2024-06-10T06:21:06.033Z"
   },
   {
    "duration": 48,
    "start_time": "2024-06-10T06:21:06.303Z"
   },
   {
    "duration": 13,
    "start_time": "2024-06-10T06:21:06.357Z"
   },
   {
    "duration": 34,
    "start_time": "2024-06-10T06:21:06.374Z"
   },
   {
    "duration": 9,
    "start_time": "2024-06-10T06:21:06.412Z"
   },
   {
    "duration": 13,
    "start_time": "2024-06-10T06:21:06.425Z"
   },
   {
    "duration": 65,
    "start_time": "2024-06-10T06:21:06.442Z"
   },
   {
    "duration": 12,
    "start_time": "2024-06-10T06:21:06.511Z"
   },
   {
    "duration": 7,
    "start_time": "2024-06-10T06:21:06.529Z"
   },
   {
    "duration": 24,
    "start_time": "2024-06-10T06:21:06.538Z"
   },
   {
    "duration": 6,
    "start_time": "2024-06-10T06:21:06.605Z"
   },
   {
    "duration": 20,
    "start_time": "2024-06-10T06:21:06.614Z"
   },
   {
    "duration": 27,
    "start_time": "2024-06-10T06:21:06.638Z"
   },
   {
    "duration": 23,
    "start_time": "2024-06-10T06:21:06.705Z"
   },
   {
    "duration": 49,
    "start_time": "2024-06-10T06:21:06.731Z"
   },
   {
    "duration": 15,
    "start_time": "2024-06-10T06:21:06.807Z"
   },
   {
    "duration": 23,
    "start_time": "2024-06-10T06:21:06.825Z"
   },
   {
    "duration": 229,
    "start_time": "2024-06-10T06:21:06.851Z"
   },
   {
    "duration": 67,
    "start_time": "2024-06-10T06:21:07.084Z"
   },
   {
    "duration": 52,
    "start_time": "2024-06-10T06:21:07.154Z"
   },
   {
    "duration": 12,
    "start_time": "2024-06-10T06:21:07.209Z"
   },
   {
    "duration": 15,
    "start_time": "2024-06-10T06:21:07.224Z"
   },
   {
    "duration": 136,
    "start_time": "2024-06-10T06:21:07.242Z"
   },
   {
    "duration": 37,
    "start_time": "2024-06-10T06:21:07.381Z"
   },
   {
    "duration": 43,
    "start_time": "2024-06-10T06:21:07.421Z"
   },
   {
    "duration": 41,
    "start_time": "2024-06-10T06:21:07.467Z"
   },
   {
    "duration": 152,
    "start_time": "2024-06-10T06:21:07.517Z"
   },
   {
    "duration": 42,
    "start_time": "2024-06-10T06:21:07.672Z"
   },
   {
    "duration": 16,
    "start_time": "2024-06-10T06:21:07.717Z"
   },
   {
    "duration": 82,
    "start_time": "2024-06-10T06:21:07.736Z"
   },
   {
    "duration": 34,
    "start_time": "2024-06-10T06:21:07.822Z"
   },
   {
    "duration": 68,
    "start_time": "2024-06-10T06:21:07.859Z"
   },
   {
    "duration": 37,
    "start_time": "2024-06-10T06:21:07.930Z"
   },
   {
    "duration": 50,
    "start_time": "2024-06-10T06:21:07.970Z"
   },
   {
    "duration": 23,
    "start_time": "2024-06-10T06:21:08.023Z"
   },
   {
    "duration": 103,
    "start_time": "2024-06-10T06:21:08.049Z"
   },
   {
    "duration": 68,
    "start_time": "2024-06-10T06:21:08.155Z"
   },
   {
    "duration": 64,
    "start_time": "2024-06-10T06:21:08.226Z"
   },
   {
    "duration": 37,
    "start_time": "2024-06-10T06:21:08.293Z"
   },
   {
    "duration": 24,
    "start_time": "2024-06-10T06:21:08.333Z"
   },
   {
    "duration": 360,
    "start_time": "2024-06-10T06:21:08.359Z"
   },
   {
    "duration": 488,
    "start_time": "2024-06-10T06:21:08.723Z"
   },
   {
    "duration": 35,
    "start_time": "2024-06-10T06:21:09.214Z"
   },
   {
    "duration": 168,
    "start_time": "2024-06-10T06:21:09.252Z"
   },
   {
    "duration": 23,
    "start_time": "2024-06-10T06:21:09.423Z"
   },
   {
    "duration": 340,
    "start_time": "2024-06-10T06:21:09.449Z"
   },
   {
    "duration": 443,
    "start_time": "2024-06-10T06:21:09.793Z"
   },
   {
    "duration": 150,
    "start_time": "2024-06-10T06:21:10.239Z"
   },
   {
    "duration": 29,
    "start_time": "2024-06-10T06:21:10.392Z"
   },
   {
    "duration": 354,
    "start_time": "2024-06-10T06:21:10.424Z"
   },
   {
    "duration": 524,
    "start_time": "2024-06-10T06:21:10.782Z"
   },
   {
    "duration": 164,
    "start_time": "2024-06-10T06:21:11.309Z"
   },
   {
    "duration": 34,
    "start_time": "2024-06-10T06:21:11.476Z"
   },
   {
    "duration": 415,
    "start_time": "2024-06-10T06:21:11.513Z"
   },
   {
    "duration": 608,
    "start_time": "2024-06-10T06:21:11.931Z"
   },
   {
    "duration": 153,
    "start_time": "2024-06-10T06:21:12.542Z"
   },
   {
    "duration": 25,
    "start_time": "2024-06-10T06:21:12.698Z"
   },
   {
    "duration": 6,
    "start_time": "2024-06-10T06:21:12.726Z"
   },
   {
    "duration": 7,
    "start_time": "2024-06-10T06:21:12.735Z"
   },
   {
    "duration": 8,
    "start_time": "2024-06-10T06:21:12.745Z"
   },
   {
    "duration": 50,
    "start_time": "2024-06-10T06:21:12.756Z"
   },
   {
    "duration": 0,
    "start_time": "2024-06-10T06:21:12.809Z"
   },
   {
    "duration": 7,
    "start_time": "2024-06-10T06:21:40.555Z"
   },
   {
    "duration": 6,
    "start_time": "2024-06-10T06:21:48.498Z"
   },
   {
    "duration": 7,
    "start_time": "2024-06-10T06:22:50.895Z"
   },
   {
    "duration": 44,
    "start_time": "2024-06-10T06:23:43.093Z"
   },
   {
    "duration": 7,
    "start_time": "2024-06-10T06:28:22.093Z"
   },
   {
    "duration": 6,
    "start_time": "2024-06-10T06:28:37.873Z"
   },
   {
    "duration": 6,
    "start_time": "2024-06-10T06:28:48.766Z"
   },
   {
    "duration": 7,
    "start_time": "2024-06-10T06:30:17.543Z"
   },
   {
    "duration": 5,
    "start_time": "2024-06-10T06:31:48.725Z"
   },
   {
    "duration": 7,
    "start_time": "2024-06-10T06:32:34.015Z"
   },
   {
    "duration": 7,
    "start_time": "2024-06-10T06:34:27.499Z"
   },
   {
    "duration": 5,
    "start_time": "2024-06-10T06:35:05.740Z"
   },
   {
    "duration": 6,
    "start_time": "2024-06-10T06:35:24.472Z"
   },
   {
    "duration": 412,
    "start_time": "2024-06-10T06:36:38.900Z"
   },
   {
    "duration": 28,
    "start_time": "2024-06-10T06:36:58.968Z"
   },
   {
    "duration": 32,
    "start_time": "2024-06-10T06:38:14.066Z"
   },
   {
    "duration": 11,
    "start_time": "2024-06-10T06:38:22.183Z"
   },
   {
    "duration": 5,
    "start_time": "2024-06-10T06:39:52.871Z"
   },
   {
    "duration": 7,
    "start_time": "2024-06-10T06:40:09.337Z"
   },
   {
    "duration": 5,
    "start_time": "2024-06-10T06:40:25.353Z"
   },
   {
    "duration": 6,
    "start_time": "2024-06-10T06:40:26.998Z"
   },
   {
    "duration": 18,
    "start_time": "2024-06-10T06:40:52.473Z"
   },
   {
    "duration": 17,
    "start_time": "2024-06-10T06:41:18.492Z"
   },
   {
    "duration": 20,
    "start_time": "2024-06-10T06:41:48.681Z"
   },
   {
    "duration": 15,
    "start_time": "2024-06-10T06:41:55.105Z"
   },
   {
    "duration": 23,
    "start_time": "2024-06-10T06:42:35.949Z"
   },
   {
    "duration": 7,
    "start_time": "2024-06-10T06:42:45.542Z"
   },
   {
    "duration": 14,
    "start_time": "2024-06-10T06:44:54.978Z"
   },
   {
    "duration": 15,
    "start_time": "2024-06-10T06:45:09.491Z"
   },
   {
    "duration": 16,
    "start_time": "2024-06-10T06:53:16.087Z"
   },
   {
    "duration": 6,
    "start_time": "2024-06-10T06:53:24.960Z"
   },
   {
    "duration": 366,
    "start_time": "2024-06-10T06:53:24.971Z"
   },
   {
    "duration": 61,
    "start_time": "2024-06-10T06:53:25.340Z"
   },
   {
    "duration": 15,
    "start_time": "2024-06-10T06:53:25.406Z"
   },
   {
    "duration": 11,
    "start_time": "2024-06-10T06:53:25.426Z"
   },
   {
    "duration": 10,
    "start_time": "2024-06-10T06:53:25.441Z"
   },
   {
    "duration": 55,
    "start_time": "2024-06-10T06:53:25.453Z"
   },
   {
    "duration": 32,
    "start_time": "2024-06-10T06:53:25.511Z"
   },
   {
    "duration": 21,
    "start_time": "2024-06-10T06:53:25.547Z"
   },
   {
    "duration": 39,
    "start_time": "2024-06-10T06:53:25.572Z"
   },
   {
    "duration": 29,
    "start_time": "2024-06-10T06:53:25.614Z"
   },
   {
    "duration": 7,
    "start_time": "2024-06-10T06:53:25.646Z"
   },
   {
    "duration": 56,
    "start_time": "2024-06-10T06:53:25.660Z"
   },
   {
    "duration": 27,
    "start_time": "2024-06-10T06:53:25.720Z"
   },
   {
    "duration": 23,
    "start_time": "2024-06-10T06:53:25.749Z"
   },
   {
    "duration": 76,
    "start_time": "2024-06-10T06:53:25.775Z"
   },
   {
    "duration": 15,
    "start_time": "2024-06-10T06:53:25.854Z"
   },
   {
    "duration": 52,
    "start_time": "2024-06-10T06:53:25.872Z"
   },
   {
    "duration": 206,
    "start_time": "2024-06-10T06:53:25.927Z"
   },
   {
    "duration": 50,
    "start_time": "2024-06-10T06:53:26.136Z"
   },
   {
    "duration": 31,
    "start_time": "2024-06-10T06:53:26.206Z"
   },
   {
    "duration": 12,
    "start_time": "2024-06-10T06:53:26.240Z"
   },
   {
    "duration": 14,
    "start_time": "2024-06-10T06:53:26.255Z"
   },
   {
    "duration": 119,
    "start_time": "2024-06-10T06:53:26.307Z"
   },
   {
    "duration": 23,
    "start_time": "2024-06-10T06:53:26.430Z"
   },
   {
    "duration": 79,
    "start_time": "2024-06-10T06:53:26.456Z"
   },
   {
    "duration": 20,
    "start_time": "2024-06-10T06:53:26.538Z"
   },
   {
    "duration": 223,
    "start_time": "2024-06-10T06:53:26.562Z"
   },
   {
    "duration": 33,
    "start_time": "2024-06-10T06:53:26.790Z"
   },
   {
    "duration": 16,
    "start_time": "2024-06-10T06:53:26.826Z"
   },
   {
    "duration": 89,
    "start_time": "2024-06-10T06:53:26.848Z"
   },
   {
    "duration": 46,
    "start_time": "2024-06-10T06:53:26.940Z"
   },
   {
    "duration": 34,
    "start_time": "2024-06-10T06:53:27.005Z"
   },
   {
    "duration": 37,
    "start_time": "2024-06-10T06:53:27.042Z"
   },
   {
    "duration": 50,
    "start_time": "2024-06-10T06:53:27.082Z"
   },
   {
    "duration": 28,
    "start_time": "2024-06-10T06:53:27.137Z"
   },
   {
    "duration": 101,
    "start_time": "2024-06-10T06:53:27.176Z"
   },
   {
    "duration": 97,
    "start_time": "2024-06-10T06:53:27.280Z"
   },
   {
    "duration": 106,
    "start_time": "2024-06-10T06:53:27.383Z"
   },
   {
    "duration": 27,
    "start_time": "2024-06-10T06:53:27.492Z"
   },
   {
    "duration": 25,
    "start_time": "2024-06-10T06:53:27.525Z"
   },
   {
    "duration": 435,
    "start_time": "2024-06-10T06:53:27.554Z"
   },
   {
    "duration": 655,
    "start_time": "2024-06-10T06:53:27.992Z"
   },
   {
    "duration": 57,
    "start_time": "2024-06-10T06:53:28.655Z"
   },
   {
    "duration": 224,
    "start_time": "2024-06-10T06:53:28.715Z"
   },
   {
    "duration": 33,
    "start_time": "2024-06-10T06:53:28.947Z"
   },
   {
    "duration": 486,
    "start_time": "2024-06-10T06:53:28.988Z"
   },
   {
    "duration": 586,
    "start_time": "2024-06-10T06:53:29.478Z"
   },
   {
    "duration": 176,
    "start_time": "2024-06-10T06:53:30.067Z"
   },
   {
    "duration": 33,
    "start_time": "2024-06-10T06:53:30.247Z"
   },
   {
    "duration": 419,
    "start_time": "2024-06-10T06:53:30.286Z"
   },
   {
    "duration": 719,
    "start_time": "2024-06-10T06:53:30.709Z"
   },
   {
    "duration": 215,
    "start_time": "2024-06-10T06:53:31.435Z"
   },
   {
    "duration": 31,
    "start_time": "2024-06-10T06:53:31.654Z"
   },
   {
    "duration": 556,
    "start_time": "2024-06-10T06:53:31.689Z"
   },
   {
    "duration": 639,
    "start_time": "2024-06-10T06:53:32.250Z"
   },
   {
    "duration": 174,
    "start_time": "2024-06-10T06:53:32.892Z"
   },
   {
    "duration": 45,
    "start_time": "2024-06-10T06:53:33.070Z"
   },
   {
    "duration": 12,
    "start_time": "2024-06-10T06:53:33.118Z"
   },
   {
    "duration": 7,
    "start_time": "2024-06-10T06:53:33.132Z"
   },
   {
    "duration": 11,
    "start_time": "2024-06-10T06:53:33.144Z"
   },
   {
    "duration": 48,
    "start_time": "2024-06-10T06:53:33.158Z"
   },
   {
    "duration": 9,
    "start_time": "2024-06-10T06:53:33.210Z"
   },
   {
    "duration": 8,
    "start_time": "2024-06-10T06:53:33.224Z"
   },
   {
    "duration": 14,
    "start_time": "2024-06-10T06:53:33.236Z"
   },
   {
    "duration": 13,
    "start_time": "2024-06-10T06:53:33.254Z"
   },
   {
    "duration": 22,
    "start_time": "2024-06-10T06:53:47.918Z"
   },
   {
    "duration": 19,
    "start_time": "2024-06-10T06:54:10.028Z"
   },
   {
    "duration": 17,
    "start_time": "2024-06-10T06:54:19.461Z"
   },
   {
    "duration": 15,
    "start_time": "2024-06-10T06:54:38.888Z"
   },
   {
    "duration": 5186,
    "start_time": "2024-06-11T01:19:52.125Z"
   },
   {
    "duration": 374,
    "start_time": "2024-06-11T01:19:57.315Z"
   },
   {
    "duration": 51,
    "start_time": "2024-06-11T01:19:57.692Z"
   },
   {
    "duration": 13,
    "start_time": "2024-06-11T01:19:57.746Z"
   },
   {
    "duration": 8,
    "start_time": "2024-06-11T01:19:57.766Z"
   },
   {
    "duration": 8,
    "start_time": "2024-06-11T01:19:57.806Z"
   },
   {
    "duration": 15,
    "start_time": "2024-06-11T01:19:57.817Z"
   },
   {
    "duration": 29,
    "start_time": "2024-06-11T01:19:57.835Z"
   },
   {
    "duration": 58,
    "start_time": "2024-06-11T01:19:57.867Z"
   },
   {
    "duration": 9,
    "start_time": "2024-06-11T01:19:57.930Z"
   },
   {
    "duration": 26,
    "start_time": "2024-06-11T01:19:57.942Z"
   },
   {
    "duration": 38,
    "start_time": "2024-06-11T01:19:57.971Z"
   },
   {
    "duration": 23,
    "start_time": "2024-06-11T01:19:58.012Z"
   },
   {
    "duration": 23,
    "start_time": "2024-06-11T01:19:58.041Z"
   },
   {
    "duration": 59,
    "start_time": "2024-06-11T01:19:58.068Z"
   },
   {
    "duration": 77,
    "start_time": "2024-06-11T01:19:58.129Z"
   },
   {
    "duration": 20,
    "start_time": "2024-06-11T01:19:58.209Z"
   },
   {
    "duration": 32,
    "start_time": "2024-06-11T01:19:58.233Z"
   },
   {
    "duration": 228,
    "start_time": "2024-06-11T01:19:58.269Z"
   },
   {
    "duration": 58,
    "start_time": "2024-06-11T01:19:58.500Z"
   },
   {
    "duration": 52,
    "start_time": "2024-06-11T01:19:58.560Z"
   },
   {
    "duration": 13,
    "start_time": "2024-06-11T01:19:58.617Z"
   },
   {
    "duration": 14,
    "start_time": "2024-06-11T01:19:58.633Z"
   },
   {
    "duration": 147,
    "start_time": "2024-06-11T01:19:58.650Z"
   },
   {
    "duration": 24,
    "start_time": "2024-06-11T01:19:58.807Z"
   },
   {
    "duration": 44,
    "start_time": "2024-06-11T01:19:58.834Z"
   },
   {
    "duration": 16,
    "start_time": "2024-06-11T01:19:58.907Z"
   },
   {
    "duration": 164,
    "start_time": "2024-06-11T01:19:58.926Z"
   },
   {
    "duration": 33,
    "start_time": "2024-06-11T01:19:59.093Z"
   },
   {
    "duration": 14,
    "start_time": "2024-06-11T01:19:59.129Z"
   },
   {
    "duration": 82,
    "start_time": "2024-06-11T01:19:59.145Z"
   },
   {
    "duration": 35,
    "start_time": "2024-06-11T01:19:59.230Z"
   },
   {
    "duration": 57,
    "start_time": "2024-06-11T01:19:59.268Z"
   },
   {
    "duration": 38,
    "start_time": "2024-06-11T01:19:59.328Z"
   },
   {
    "duration": 59,
    "start_time": "2024-06-11T01:19:59.370Z"
   },
   {
    "duration": 25,
    "start_time": "2024-06-11T01:19:59.432Z"
   },
   {
    "duration": 98,
    "start_time": "2024-06-11T01:19:59.460Z"
   },
   {
    "duration": 70,
    "start_time": "2024-06-11T01:19:59.561Z"
   },
   {
    "duration": 80,
    "start_time": "2024-06-11T01:19:59.634Z"
   },
   {
    "duration": 19,
    "start_time": "2024-06-11T01:19:59.717Z"
   },
   {
    "duration": 24,
    "start_time": "2024-06-11T01:19:59.747Z"
   },
   {
    "duration": 369,
    "start_time": "2024-06-11T01:19:59.774Z"
   },
   {
    "duration": 462,
    "start_time": "2024-06-11T01:20:00.146Z"
   },
   {
    "duration": 36,
    "start_time": "2024-06-11T01:20:00.612Z"
   },
   {
    "duration": 180,
    "start_time": "2024-06-11T01:20:00.652Z"
   },
   {
    "duration": 23,
    "start_time": "2024-06-11T01:20:00.835Z"
   },
   {
    "duration": 339,
    "start_time": "2024-06-11T01:20:00.862Z"
   },
   {
    "duration": 510,
    "start_time": "2024-06-11T01:20:01.207Z"
   },
   {
    "duration": 154,
    "start_time": "2024-06-11T01:20:01.721Z"
   },
   {
    "duration": 39,
    "start_time": "2024-06-11T01:20:01.878Z"
   },
   {
    "duration": 403,
    "start_time": "2024-06-11T01:20:01.920Z"
   },
   {
    "duration": 560,
    "start_time": "2024-06-11T01:20:02.327Z"
   },
   {
    "duration": 168,
    "start_time": "2024-06-11T01:20:02.891Z"
   },
   {
    "duration": 24,
    "start_time": "2024-06-11T01:20:03.063Z"
   },
   {
    "duration": 338,
    "start_time": "2024-06-11T01:20:03.108Z"
   },
   {
    "duration": 605,
    "start_time": "2024-06-11T01:20:03.449Z"
   },
   {
    "duration": 241,
    "start_time": "2024-06-11T01:20:04.057Z"
   },
   {
    "duration": 21,
    "start_time": "2024-06-11T01:20:04.305Z"
   },
   {
    "duration": 7,
    "start_time": "2024-06-11T01:20:04.329Z"
   },
   {
    "duration": 6,
    "start_time": "2024-06-11T01:20:04.339Z"
   },
   {
    "duration": 9,
    "start_time": "2024-06-11T01:20:04.348Z"
   },
   {
    "duration": 33,
    "start_time": "2024-06-11T01:20:06.191Z"
   },
   {
    "duration": 11,
    "start_time": "2024-06-11T01:21:48.413Z"
   },
   {
    "duration": 16,
    "start_time": "2024-06-11T01:21:56.662Z"
   },
   {
    "duration": 17,
    "start_time": "2024-06-11T01:22:11.884Z"
   },
   {
    "duration": 31,
    "start_time": "2024-06-11T01:23:52.419Z"
   },
   {
    "duration": 41,
    "start_time": "2024-06-11T01:24:06.839Z"
   },
   {
    "duration": 41,
    "start_time": "2024-06-11T01:25:14.589Z"
   },
   {
    "duration": 41,
    "start_time": "2024-06-11T01:25:44.591Z"
   },
   {
    "duration": 6,
    "start_time": "2024-06-11T01:25:56.280Z"
   },
   {
    "duration": 1180,
    "start_time": "2024-06-11T01:27:10.317Z"
   },
   {
    "duration": 93,
    "start_time": "2024-06-11T01:27:23.067Z"
   },
   {
    "duration": 80,
    "start_time": "2024-06-11T01:28:24.351Z"
   },
   {
    "duration": 83,
    "start_time": "2024-06-11T01:29:59.454Z"
   },
   {
    "duration": 43,
    "start_time": "2024-06-11T01:30:14.664Z"
   },
   {
    "duration": 87,
    "start_time": "2024-06-11T01:30:50.748Z"
   },
   {
    "duration": 23,
    "start_time": "2024-06-11T01:33:16.432Z"
   },
   {
    "duration": 17,
    "start_time": "2024-06-11T01:33:26.765Z"
   },
   {
    "duration": 41,
    "start_time": "2024-06-11T01:34:19.344Z"
   },
   {
    "duration": 17,
    "start_time": "2024-06-11T01:34:54.097Z"
   },
   {
    "duration": 37,
    "start_time": "2024-06-11T01:35:49.408Z"
   },
   {
    "duration": 17,
    "start_time": "2024-06-11T01:36:35.489Z"
   },
   {
    "duration": 18,
    "start_time": "2024-06-11T01:36:48.860Z"
   },
   {
    "duration": 16,
    "start_time": "2024-06-11T01:37:02.628Z"
   },
   {
    "duration": 29,
    "start_time": "2024-06-11T01:37:11.444Z"
   },
   {
    "duration": 6,
    "start_time": "2024-06-11T01:38:49.402Z"
   },
   {
    "duration": 7,
    "start_time": "2024-06-11T01:39:09.082Z"
   },
   {
    "duration": 8,
    "start_time": "2024-06-11T01:39:47.615Z"
   },
   {
    "duration": 7,
    "start_time": "2024-06-11T01:40:44.310Z"
   },
   {
    "duration": 5387,
    "start_time": "2024-06-11T05:55:10.674Z"
   },
   {
    "duration": 413,
    "start_time": "2024-06-11T05:55:16.065Z"
   },
   {
    "duration": 48,
    "start_time": "2024-06-11T05:55:16.480Z"
   },
   {
    "duration": 36,
    "start_time": "2024-06-11T05:55:16.534Z"
   },
   {
    "duration": 8,
    "start_time": "2024-06-11T05:55:16.575Z"
   },
   {
    "duration": 12,
    "start_time": "2024-06-11T05:55:16.586Z"
   },
   {
    "duration": 52,
    "start_time": "2024-06-11T05:55:16.601Z"
   },
   {
    "duration": 32,
    "start_time": "2024-06-11T05:55:16.655Z"
   },
   {
    "duration": 13,
    "start_time": "2024-06-11T05:55:16.690Z"
   },
   {
    "duration": 7,
    "start_time": "2024-06-11T05:55:16.706Z"
   },
   {
    "duration": 49,
    "start_time": "2024-06-11T05:55:16.716Z"
   },
   {
    "duration": 9,
    "start_time": "2024-06-11T05:55:16.769Z"
   },
   {
    "duration": 20,
    "start_time": "2024-06-11T05:55:16.781Z"
   },
   {
    "duration": 61,
    "start_time": "2024-06-11T05:55:16.809Z"
   },
   {
    "duration": 26,
    "start_time": "2024-06-11T05:55:16.874Z"
   },
   {
    "duration": 80,
    "start_time": "2024-06-11T05:55:16.904Z"
   },
   {
    "duration": 15,
    "start_time": "2024-06-11T05:55:16.987Z"
   },
   {
    "duration": 63,
    "start_time": "2024-06-11T05:55:17.005Z"
   },
   {
    "duration": 222,
    "start_time": "2024-06-11T05:55:17.072Z"
   },
   {
    "duration": 51,
    "start_time": "2024-06-11T05:55:17.297Z"
   },
   {
    "duration": 42,
    "start_time": "2024-06-11T05:55:17.351Z"
   },
   {
    "duration": 12,
    "start_time": "2024-06-11T05:55:17.396Z"
   },
   {
    "duration": 55,
    "start_time": "2024-06-11T05:55:17.411Z"
   },
   {
    "duration": 116,
    "start_time": "2024-06-11T05:55:17.469Z"
   },
   {
    "duration": 23,
    "start_time": "2024-06-11T05:55:17.588Z"
   },
   {
    "duration": 50,
    "start_time": "2024-06-11T05:55:17.636Z"
   },
   {
    "duration": 14,
    "start_time": "2024-06-11T05:55:17.689Z"
   },
   {
    "duration": 189,
    "start_time": "2024-06-11T05:55:17.706Z"
   },
   {
    "duration": 50,
    "start_time": "2024-06-11T05:55:17.899Z"
   },
   {
    "duration": 18,
    "start_time": "2024-06-11T05:55:17.959Z"
   },
   {
    "duration": 75,
    "start_time": "2024-06-11T05:55:17.983Z"
   },
   {
    "duration": 36,
    "start_time": "2024-06-11T05:55:18.061Z"
   },
   {
    "duration": 46,
    "start_time": "2024-06-11T05:55:18.100Z"
   },
   {
    "duration": 44,
    "start_time": "2024-06-11T05:55:18.152Z"
   },
   {
    "duration": 42,
    "start_time": "2024-06-11T05:55:18.199Z"
   },
   {
    "duration": 29,
    "start_time": "2024-06-11T05:55:18.244Z"
   },
   {
    "duration": 105,
    "start_time": "2024-06-11T05:55:18.276Z"
   },
   {
    "duration": 64,
    "start_time": "2024-06-11T05:55:18.384Z"
   },
   {
    "duration": 68,
    "start_time": "2024-06-11T05:55:18.457Z"
   },
   {
    "duration": 50,
    "start_time": "2024-06-11T05:55:18.528Z"
   },
   {
    "duration": 23,
    "start_time": "2024-06-11T05:55:18.587Z"
   },
   {
    "duration": 397,
    "start_time": "2024-06-11T05:55:18.613Z"
   },
   {
    "duration": 471,
    "start_time": "2024-06-11T05:55:19.013Z"
   },
   {
    "duration": 127,
    "start_time": "2024-06-11T05:55:19.487Z"
   },
   {
    "duration": 171,
    "start_time": "2024-06-11T05:55:19.618Z"
   },
   {
    "duration": 22,
    "start_time": "2024-06-11T05:55:19.792Z"
   },
   {
    "duration": 381,
    "start_time": "2024-06-11T05:55:19.816Z"
   },
   {
    "duration": 474,
    "start_time": "2024-06-11T05:55:20.200Z"
   },
   {
    "duration": 187,
    "start_time": "2024-06-11T05:55:20.676Z"
   },
   {
    "duration": 23,
    "start_time": "2024-06-11T05:55:20.867Z"
   },
   {
    "duration": 376,
    "start_time": "2024-06-11T05:55:20.893Z"
   },
   {
    "duration": 550,
    "start_time": "2024-06-11T05:55:21.271Z"
   },
   {
    "duration": 172,
    "start_time": "2024-06-11T05:55:21.824Z"
   },
   {
    "duration": 22,
    "start_time": "2024-06-11T05:55:21.998Z"
   },
   {
    "duration": 343,
    "start_time": "2024-06-11T05:55:22.035Z"
   },
   {
    "duration": 725,
    "start_time": "2024-06-11T05:55:22.381Z"
   },
   {
    "duration": 180,
    "start_time": "2024-06-11T05:55:23.108Z"
   },
   {
    "duration": 27,
    "start_time": "2024-06-11T05:55:23.292Z"
   },
   {
    "duration": 34,
    "start_time": "2024-06-11T05:55:23.323Z"
   },
   {
    "duration": 8,
    "start_time": "2024-06-11T05:55:23.375Z"
   },
   {
    "duration": 8,
    "start_time": "2024-06-11T05:55:23.389Z"
   },
   {
    "duration": 11,
    "start_time": "2024-06-11T05:55:23.404Z"
   },
   {
    "duration": 18,
    "start_time": "2024-06-11T05:55:23.417Z"
   },
   {
    "duration": 7,
    "start_time": "2024-06-11T05:55:23.438Z"
   },
   {
    "duration": 13,
    "start_time": "2024-06-11T05:55:23.452Z"
   },
   {
    "duration": 325,
    "start_time": "2024-06-12T14:47:19.434Z"
   },
   {
    "duration": 4812,
    "start_time": "2024-06-12T14:47:23.765Z"
   },
   {
    "duration": 378,
    "start_time": "2024-06-12T14:47:28.582Z"
   },
   {
    "duration": 53,
    "start_time": "2024-06-12T14:47:28.963Z"
   },
   {
    "duration": 13,
    "start_time": "2024-06-12T14:47:29.019Z"
   },
   {
    "duration": 9,
    "start_time": "2024-06-12T14:47:29.037Z"
   },
   {
    "duration": 9,
    "start_time": "2024-06-12T14:47:29.048Z"
   },
   {
    "duration": 51,
    "start_time": "2024-06-12T14:47:29.060Z"
   },
   {
    "duration": 28,
    "start_time": "2024-06-12T14:47:29.113Z"
   },
   {
    "duration": 13,
    "start_time": "2024-06-12T14:47:29.144Z"
   },
   {
    "duration": 47,
    "start_time": "2024-06-12T14:47:29.160Z"
   },
   {
    "duration": 125,
    "start_time": "2024-06-12T14:47:30.880Z"
   },
   {
    "duration": 8,
    "start_time": "2024-06-12T14:47:50.675Z"
   },
   {
    "duration": 7,
    "start_time": "2024-06-12T14:48:06.104Z"
   },
   {
    "duration": 27,
    "start_time": "2024-06-12T14:48:13.238Z"
   },
   {
    "duration": 20,
    "start_time": "2024-08-22T21:58:51.259Z"
   },
   {
    "duration": 20,
    "start_time": "2024-08-22T21:58:53.871Z"
   },
   {
    "duration": 23,
    "start_time": "2024-08-22T21:58:57.059Z"
   },
   {
    "duration": 22,
    "start_time": "2024-08-22T21:59:06.385Z"
   },
   {
    "duration": 1267,
    "start_time": "2024-08-22T21:59:11.050Z"
   },
   {
    "duration": 344,
    "start_time": "2024-08-22T21:59:12.321Z"
   },
   {
    "duration": 67,
    "start_time": "2024-08-22T21:59:12.668Z"
   },
   {
    "duration": 17,
    "start_time": "2024-08-22T21:59:12.740Z"
   },
   {
    "duration": 14,
    "start_time": "2024-08-22T21:59:12.760Z"
   },
   {
    "duration": 37,
    "start_time": "2024-08-22T21:59:12.777Z"
   },
   {
    "duration": 14,
    "start_time": "2024-08-22T21:59:12.818Z"
   },
   {
    "duration": 28,
    "start_time": "2024-08-22T21:59:12.835Z"
   },
   {
    "duration": 50,
    "start_time": "2024-08-22T21:59:12.866Z"
   },
   {
    "duration": 10,
    "start_time": "2024-08-22T21:59:12.921Z"
   },
   {
    "duration": 23,
    "start_time": "2024-08-22T21:59:12.933Z"
   },
   {
    "duration": 6,
    "start_time": "2024-08-22T21:59:12.959Z"
   },
   {
    "duration": 56,
    "start_time": "2024-08-22T21:59:12.969Z"
   },
   {
    "duration": 23,
    "start_time": "2024-08-22T21:59:13.027Z"
   },
   {
    "duration": 57,
    "start_time": "2024-08-22T21:59:13.053Z"
   },
   {
    "duration": 48,
    "start_time": "2024-08-22T21:59:13.113Z"
   },
   {
    "duration": 14,
    "start_time": "2024-08-22T21:59:13.164Z"
   },
   {
    "duration": 23,
    "start_time": "2024-08-22T21:59:13.210Z"
   },
   {
    "duration": 218,
    "start_time": "2024-08-22T21:59:13.236Z"
   },
   {
    "duration": 71,
    "start_time": "2024-08-22T21:59:13.457Z"
   },
   {
    "duration": 32,
    "start_time": "2024-08-22T21:59:13.530Z"
   },
   {
    "duration": 13,
    "start_time": "2024-08-22T21:59:13.564Z"
   },
   {
    "duration": 44,
    "start_time": "2024-08-22T21:59:13.579Z"
   },
   {
    "duration": 129,
    "start_time": "2024-08-22T21:59:13.626Z"
   },
   {
    "duration": 21,
    "start_time": "2024-08-22T21:59:13.758Z"
   },
   {
    "duration": 67,
    "start_time": "2024-08-22T21:59:13.782Z"
   },
   {
    "duration": 15,
    "start_time": "2024-08-22T21:59:13.851Z"
   },
   {
    "duration": 192,
    "start_time": "2024-08-22T21:59:13.876Z"
   },
   {
    "duration": 37,
    "start_time": "2024-08-22T21:59:14.071Z"
   },
   {
    "duration": 12,
    "start_time": "2024-08-22T21:59:14.111Z"
   },
   {
    "duration": 50,
    "start_time": "2024-08-22T21:59:14.127Z"
   },
   {
    "duration": 58,
    "start_time": "2024-08-22T21:59:14.180Z"
   },
   {
    "duration": 32,
    "start_time": "2024-08-22T21:59:14.244Z"
   },
   {
    "duration": 60,
    "start_time": "2024-08-22T21:59:14.279Z"
   },
   {
    "duration": 29,
    "start_time": "2024-08-22T21:59:14.342Z"
   },
   {
    "duration": 54,
    "start_time": "2024-08-22T21:59:14.374Z"
   },
   {
    "duration": 93,
    "start_time": "2024-08-22T21:59:14.431Z"
   },
   {
    "duration": 83,
    "start_time": "2024-08-22T21:59:14.527Z"
   },
   {
    "duration": 68,
    "start_time": "2024-08-22T21:59:14.613Z"
   },
   {
    "duration": 37,
    "start_time": "2024-08-22T21:59:14.683Z"
   },
   {
    "duration": 25,
    "start_time": "2024-08-22T21:59:14.725Z"
   },
   {
    "duration": 360,
    "start_time": "2024-08-22T21:59:14.753Z"
   },
   {
    "duration": 493,
    "start_time": "2024-08-22T21:59:15.118Z"
   },
   {
    "duration": 34,
    "start_time": "2024-08-22T21:59:15.617Z"
   },
   {
    "duration": 169,
    "start_time": "2024-08-22T21:59:15.654Z"
   },
   {
    "duration": 21,
    "start_time": "2024-08-22T21:59:15.826Z"
   },
   {
    "duration": 344,
    "start_time": "2024-08-22T21:59:15.849Z"
   },
   {
    "duration": 444,
    "start_time": "2024-08-22T21:59:16.195Z"
   },
   {
    "duration": 152,
    "start_time": "2024-08-22T21:59:16.642Z"
   },
   {
    "duration": 29,
    "start_time": "2024-08-22T21:59:16.796Z"
   },
   {
    "duration": 351,
    "start_time": "2024-08-22T21:59:16.828Z"
   },
   {
    "duration": 547,
    "start_time": "2024-08-22T21:59:17.182Z"
   },
   {
    "duration": 155,
    "start_time": "2024-08-22T21:59:17.732Z"
   },
   {
    "duration": 30,
    "start_time": "2024-08-22T21:59:17.890Z"
   },
   {
    "duration": 421,
    "start_time": "2024-08-22T21:59:17.926Z"
   },
   {
    "duration": 612,
    "start_time": "2024-08-22T21:59:18.350Z"
   },
   {
    "duration": 152,
    "start_time": "2024-08-22T21:59:18.966Z"
   },
   {
    "duration": 22,
    "start_time": "2024-08-22T21:59:19.121Z"
   },
   {
    "duration": 32,
    "start_time": "2024-08-22T21:59:19.146Z"
   },
   {
    "duration": 6,
    "start_time": "2024-08-22T21:59:19.208Z"
   },
   {
    "duration": 6,
    "start_time": "2024-08-22T21:59:19.218Z"
   },
   {
    "duration": 6,
    "start_time": "2024-08-22T21:59:19.227Z"
   },
   {
    "duration": 12,
    "start_time": "2024-08-22T21:59:19.236Z"
   },
   {
    "duration": 21,
    "start_time": "2024-08-22T21:59:19.251Z"
   },
   {
    "duration": 6,
    "start_time": "2024-08-22T21:59:19.310Z"
   },
   {
    "duration": 10,
    "start_time": "2024-08-22T21:59:19.320Z"
   },
   {
    "duration": 21,
    "start_time": "2024-08-22T21:59:41.515Z"
   },
   {
    "duration": 7,
    "start_time": "2024-08-22T21:59:46.511Z"
   },
   {
    "duration": 6,
    "start_time": "2024-08-22T22:00:18.128Z"
   },
   {
    "duration": 24,
    "start_time": "2024-08-22T22:08:45.204Z"
   },
   {
    "duration": 26,
    "start_time": "2024-08-22T22:08:59.724Z"
   },
   {
    "duration": 9,
    "start_time": "2024-08-22T22:14:24.380Z"
   }
  ],
  "colab": {
   "provenance": []
  },
  "kernelspec": {
   "display_name": "Python 3 (ipykernel)",
   "language": "python",
   "name": "python3"
  },
  "language_info": {
   "codemirror_mode": {
    "name": "ipython",
    "version": 3
   },
   "file_extension": ".py",
   "mimetype": "text/x-python",
   "name": "python",
   "nbconvert_exporter": "python",
   "pygments_lexer": "ipython3",
   "version": "3.9.19"
  },
  "toc": {
   "base_numbering": 1,
   "nav_menu": {},
   "number_sections": true,
   "sideBar": true,
   "skip_h1_title": false,
   "title_cell": "Table of Contents",
   "title_sidebar": "Contents",
   "toc_cell": false,
   "toc_position": {
    "height": "calc(100% - 180px)",
    "left": "10px",
    "top": "150px",
    "width": "165px"
   },
   "toc_section_display": true,
   "toc_window_display": true
  }
 },
 "nbformat": 4,
 "nbformat_minor": 1
}
